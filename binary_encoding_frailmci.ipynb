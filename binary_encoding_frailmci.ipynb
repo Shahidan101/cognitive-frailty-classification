{
 "cells": [
  {
   "cell_type": "code",
   "execution_count": 34,
   "metadata": {},
   "outputs": [],
   "source": [
    "# Import packages\n",
    "import pandas as pd\n",
    "import numpy as np\n",
    "from sklearn.model_selection import train_test_split\n",
    "from sklearn import neighbors\n",
    "from sklearn import svm\n",
    "from sklearn import metrics\n",
    "from sklearn.metrics import accuracy_score\n",
    "from parse import preprocess"
   ]
  },
  {
   "cell_type": "code",
   "execution_count": 35,
   "metadata": {},
   "outputs": [
    {
     "name": "stdout",
     "output_type": "stream",
     "text": [
      "\n",
      "####################################################################\n",
      "Number of Rows of Dataframe:\n",
      "1123\n",
      "Number of Columns of Dataframe:\n",
      "59\n",
      "\n",
      "####################################################################\n",
      "Threshold for number of NULLs in a column: 0.1095\n",
      "Number of Columns before Parsing for Too Many NULLs in a column:\n",
      "59\n",
      "Number of Columns after Parsing for Too Many NULLs in a column:\n",
      "51\n",
      "\n",
      "Columns Removed:\n",
      "B1_b5\n",
      "B4_a1\n",
      "B4_a3\n",
      "B4_a4\n",
      "B4_a6\n",
      "B4_b1\n",
      "B4_b3\n",
      "B5_a1\n",
      "\n",
      "####################################################################\n",
      "Number of Rows before Parsing NULLs in data:\n",
      "1123\n",
      "Number of Rows after Parsing NULLs in data:\n",
      "1007\n"
     ]
    }
   ],
   "source": [
    "# Load dataset, preprocess rawfile\n",
    "df = preprocess(\"rawfile_blood.csv\")"
   ]
  },
  {
   "cell_type": "code",
   "execution_count": 36,
   "metadata": {},
   "outputs": [],
   "source": [
    "# Initialise counters for each condition\n",
    "frail = 0\n",
    "frail_mci = 0\n",
    "mci = 0\n",
    "prefrail_mci = 0\n",
    "prefrail = 0\n",
    "robust = 0"
   ]
  },
  {
   "cell_type": "code",
   "execution_count": 37,
   "metadata": {},
   "outputs": [
    {
     "name": "stdout",
     "output_type": "stream",
     "text": [
      "\n",
      "####################################################################\n",
      "Labels with frequencies:\n",
      "Frail: 7\n",
      "Frail + MCI: 76\n",
      "MCI: 133\n",
      "Prefrail + MCI: 231\n",
      "Prefrail: 221\n",
      "Robust: 339\n"
     ]
    }
   ],
   "source": [
    "# Count rows of data for each condition\n",
    "for i in range(0, len(df)):\n",
    "\tif df.at[i, 'condition'] == 'frail':\n",
    "\t\tfrail += 1\n",
    "\telif df.at[i, 'condition'] == 'frail_mci':\n",
    "\t\tfrail_mci += 1\n",
    "\telif df.at[i, 'condition'] == 'mci':\n",
    "\t\tmci += 1\n",
    "\telif df.at[i, 'condition'] == 'prefrail_mci':\n",
    "\t\tprefrail_mci += 1\n",
    "\telif df.at[i, 'condition'] == 'prefrail':\n",
    "\t\tprefrail += 1\n",
    "\telif df.at[i, 'condition'] == 'robust':\n",
    "\t\trobust += 1\n",
    "        \n",
    "# Display number of rows (frequency) for each condition (label)\n",
    "print(\"\\n####################################################################\")\n",
    "print(\"Labels with frequencies:\")\n",
    "print(\"Frail:\", frail)\n",
    "print(\"Frail + MCI:\", frail_mci)\n",
    "print(\"MCI:\", mci)\n",
    "print(\"Prefrail + MCI:\", prefrail_mci)\n",
    "print(\"Prefrail:\", prefrail)\n",
    "print(\"Robust:\", robust)"
   ]
  },
  {
   "cell_type": "code",
   "execution_count": 38,
   "metadata": {},
   "outputs": [
    {
     "name": "stdout",
     "output_type": "stream",
     "text": [
      "        mtag  condition  A1_1  A2_1  A3_1  B1_a  B1_a1  B1_a2  B1_a3  B1_a4  \\\n",
      "0    ME01378  frail_mci   241    20  33.5   150   5.25   0.46     87     29   \n",
      "1    ME02832  frail_mci   444    16  87.0   134   4.65   0.40     85     28   \n",
      "2    ME02909  frail_mci  1476    16  57.0   119   3.80   0.36     94     31   \n",
      "3    ME02998  frail_mci   339    18  63.8   135   4.89   0.42     86     28   \n",
      "4    ME03061  frail_mci   287    20  95.5   146   5.18   0.44     85     28   \n",
      "..       ...        ...   ...   ...   ...   ...    ...    ...    ...    ...   \n",
      "147  MV00373     robust   272    16  50.8   133   4.81   0.41     85     28   \n",
      "148  ME01650     robust   237    14  33.8   125   5.07   0.47     92     30   \n",
      "149  MV00024     robust   442    21  57.3   145   4.63   0.43     92     31   \n",
      "150  MV00510     robust   371    24  55.9   127   4.41   0.40     90     29   \n",
      "151  ME05432     robust   352    18  75.0   149   5.08   0.46     90     29   \n",
      "\n",
      "     ...  B2_d6  B2_d7  B2_d8  B2_d9    B3  B4_a2  B4_a5  B5_a2  B5_a3   B6  \n",
      "0    ...     10     21     22     17   1.3    7.0  1.010   0.69    4.7  5.9  \n",
      "1    ...     10     14     20     15  13.4    6.0  1.005   1.29    4.5  5.8  \n",
      "2    ...     18     17     35     21   0.2    7.5  1.012   1.90    4.1  5.8  \n",
      "3    ...     13     16     25     13  16.8    5.0  1.017   1.32    4.0  6.0  \n",
      "4    ...     18     22     25     24   1.4    7.5  1.006   2.94    4.6  6.1  \n",
      "..   ...    ...    ...    ...    ...   ...    ...    ...    ...    ...  ...  \n",
      "147  ...      9     26     20     16   7.8    5.5  1.009   4.88    5.4  6.1  \n",
      "148  ...     10     29     27     24   9.2    6.0  1.016   1.94    4.5  5.5  \n",
      "149  ...     24     24     24     27   0.4    6.5  1.018   0.89    5.0  5.3  \n",
      "150  ...     13     14     16     12   7.5    8.0  1.017   2.45    4.5  6.2  \n",
      "151  ...     12     37     27     27   0.6    7.0  1.017   3.28    5.2  5.6  \n",
      "\n",
      "[152 rows x 47 columns]\n"
     ]
    }
   ],
   "source": [
    "# There are 76 Frail+MCI\n",
    "\n",
    "# Collect data that is Frail+MCI\n",
    "df1 = df[df.condition == 'frail_mci']\n",
    "# Collect data that is Robust\n",
    "df2 = df[df.condition == 'robust']\n",
    "\n",
    "# Random sample 76 from Robust\n",
    "df2 = df2.sample(n=76)\n",
    "\n",
    "# Append 76 Frail+MCI to 76 Robust\n",
    "df = df1.append(df2, ignore_index=True)\n",
    "\n",
    "# Display Dataframe\n",
    "print(df)"
   ]
  },
  {
   "cell_type": "code",
   "execution_count": 39,
   "metadata": {},
   "outputs": [
    {
     "name": "stdout",
     "output_type": "stream",
     "text": [
      "     A1_1  A2_1  A3_1  B1_a  B1_a1  B1_a2  B1_a3  B1_a4  B1_a5  B1_a6  ...  \\\n",
      "0     241    20  33.5   150   5.25   0.46     87     29    328   12.8  ...   \n",
      "1     444    16  87.0   134   4.65   0.40     85     28    329   15.2  ...   \n",
      "2    1476    16  57.0   119   3.80   0.36     94     31    333   12.8  ...   \n",
      "3     339    18  63.8   135   4.89   0.42     86     28    321   12.4  ...   \n",
      "4     287    20  95.5   146   5.18   0.44     85     28    332   15.8  ...   \n",
      "..    ...   ...   ...   ...    ...    ...    ...    ...    ...    ...  ...   \n",
      "147   272    16  50.8   133   4.81   0.41     85     28    325   15.2  ...   \n",
      "148   237    14  33.8   125   5.07   0.47     92     30    328   13.3  ...   \n",
      "149   442    21  57.3   145   4.63   0.43     92     31    340   14.3  ...   \n",
      "150   371    24  55.9   127   4.41   0.40     90     29    320   13.8  ...   \n",
      "151   352    18  75.0   149   5.08   0.46     90     29    326   13.9  ...   \n",
      "\n",
      "     B2_d6  B2_d7  B2_d8  B2_d9    B3  B4_a2  B4_a5  B5_a2  B5_a3   B6  \n",
      "0       10     21     22     17   1.3    7.0  1.010   0.69    4.7  5.9  \n",
      "1       10     14     20     15  13.4    6.0  1.005   1.29    4.5  5.8  \n",
      "2       18     17     35     21   0.2    7.5  1.012   1.90    4.1  5.8  \n",
      "3       13     16     25     13  16.8    5.0  1.017   1.32    4.0  6.0  \n",
      "4       18     22     25     24   1.4    7.5  1.006   2.94    4.6  6.1  \n",
      "..     ...    ...    ...    ...   ...    ...    ...    ...    ...  ...  \n",
      "147      9     26     20     16   7.8    5.5  1.009   4.88    5.4  6.1  \n",
      "148     10     29     27     24   9.2    6.0  1.016   1.94    4.5  5.5  \n",
      "149     24     24     24     27   0.4    6.5  1.018   0.89    5.0  5.3  \n",
      "150     13     14     16     12   7.5    8.0  1.017   2.45    4.5  6.2  \n",
      "151     12     37     27     27   0.6    7.0  1.017   3.28    5.2  5.6  \n",
      "\n",
      "[152 rows x 45 columns] 0      frail_mci\n",
      "1      frail_mci\n",
      "2      frail_mci\n",
      "3      frail_mci\n",
      "4      frail_mci\n",
      "         ...    \n",
      "147       robust\n",
      "148       robust\n",
      "149       robust\n",
      "150       robust\n",
      "151       robust\n",
      "Name: condition, Length: 152, dtype: object\n",
      "\n",
      "Shape of Features:\n",
      "(152, 45)\n",
      "\n",
      "Shape of Labels:\n",
      "(152,)\n"
     ]
    }
   ],
   "source": [
    "# Specify features and labels\n",
    "y = df['condition']\n",
    "x = df.drop(['mtag', 'condition'], axis=1)\n",
    "\n",
    "# Display features and labels\n",
    "print(x, y)\n",
    "\n",
    "# Display shape of features and labels\n",
    "print(\"\\nShape of Features:\")\n",
    "print(x.shape)\n",
    "print(\"\\nShape of Labels:\")\n",
    "print(y.shape)"
   ]
  },
  {
   "cell_type": "code",
   "execution_count": 40,
   "metadata": {},
   "outputs": [
    {
     "name": "stdout",
     "output_type": "stream",
     "text": [
      "0      0\n",
      "1      0\n",
      "2      0\n",
      "3      0\n",
      "4      0\n",
      "      ..\n",
      "147    1\n",
      "148    1\n",
      "149    1\n",
      "150    1\n",
      "151    1\n",
      "Name: condition, Length: 152, dtype: int64\n",
      "(152,)\n"
     ]
    }
   ],
   "source": [
    "# Data Dictionary:\n",
    "# frail_mci -> 0\n",
    "# robust -> 1\n",
    "\n",
    "# Conduct label mapping for conditions\n",
    "label_mapping = {\n",
    "    'frail_mci' : 0,\n",
    "    'robust' : 1\n",
    "}\n",
    "\n",
    "y = y.map(label_mapping)\n",
    "\n",
    "# Display label\n",
    "print(y)\n",
    "\n",
    "# Display shape of label\n",
    "print(y.shape)"
   ]
  },
  {
   "cell_type": "code",
   "execution_count": 41,
   "metadata": {},
   "outputs": [
    {
     "name": "stdout",
     "output_type": "stream",
     "text": [
      "\n",
      "X Train:\n",
      "     A1_1  A2_1  A3_1  B1_a  B1_a1  B1_a2  B1_a3  B1_a4  B1_a5  B1_a6  ...  \\\n",
      "53    519    26  44.8   131   4.42   0.39     87     29    330   12.5  ...   \n",
      "41    796    15  42.7   143   4.97   0.42     85     26    310   14.0  ...   \n",
      "107   342    28  39.8   113   6.05   0.56     92     32    345   13.0  ...   \n",
      "121   274    18  41.8   134   4.60   0.41     88     29    331   14.5  ...   \n",
      "2    1476    16  57.0   119   3.80   0.36     94     31    333   12.8  ...   \n",
      "..    ...   ...   ...   ...    ...    ...    ...    ...    ...    ...  ...   \n",
      "30    288    16  52.2   135   4.47   0.42     93     30    325   12.8  ...   \n",
      "130   297    15  57.0   126   5.09   0.45     88     28    324   14.6  ...   \n",
      "34    348    19  58.5   135   4.44   0.39     87     30    347   12.7  ...   \n",
      "5     237    28  28.2   117   5.55   0.38     69     21    305   15.8  ...   \n",
      "131   344    15  60.4   142   4.76   0.43     90     30    332   13.5  ...   \n",
      "\n",
      "     B2_d6  B2_d7  B2_d8  B2_d9   B3  B4_a2  B4_a5  B5_a2  B5_a3   B6  \n",
      "53       8     16     25     22  0.2    6.0  1.009   2.25    4.8  6.0  \n",
      "41      13     15     20     13  0.5    5.5  1.020   1.63    4.8  5.7  \n",
      "107     11     75     24     31  2.0    5.5  1.017   0.69    5.3  5.4  \n",
      "121      9     24     23     24  0.8    6.5  1.017   1.40    4.7  5.6  \n",
      "2       18     17     35     21  0.2    7.5  1.012   1.90    4.1  5.8  \n",
      "..     ...    ...    ...    ...  ...    ...    ...    ...    ...  ...  \n",
      "30       9     26     22     28  0.1    6.0  1.019   1.62    5.6  5.4  \n",
      "130      8     46     23     26  0.3    7.0  1.011   1.37    4.3  6.9  \n",
      "34      10     41     20      7  0.3    6.0  1.018   6.42    5.2  6.5  \n",
      "5       13     11     17     12  0.4    5.5  1.005   2.30    4.3  5.7  \n",
      "131      9     35     16     16  1.1    6.0  1.020   1.75    5.3  5.8  \n",
      "\n",
      "[121 rows x 45 columns]\n",
      "\n",
      "X Test:\n",
      "     A1_1  A2_1  A3_1  B1_a  B1_a1  B1_a2  B1_a3  B1_a4  B1_a5  B1_a6  ...  \\\n",
      "44    245    32  28.4   126   4.19   0.39     92     30    327   12.7  ...   \n",
      "24   1476    13  33.7   133   4.58   0.38     83     26    316   15.0  ...   \n",
      "73    524    37  57.2    90   2.86   0.28     98     31    321   18.4  ...   \n",
      "138   303    16  58.3   136   5.15   0.46     89     30    336   13.8  ...   \n",
      "54    263    26  10.3   109   4.22   0.35     83     26    311   14.8  ...   \n",
      "31    609    11  42.3   155   4.32   0.38     87     28    324   12.7  ...   \n",
      "26    239    16  21.0   151   4.42   0.40     91     29    323   13.5  ...   \n",
      "84    304    22  61.2   150   5.81   0.47     81     26    318   13.4  ...   \n",
      "68    474    22  71.0   119   4.52   0.38     83     28    333   13.0  ...   \n",
      "94    676    14  46.0   133   4.71   0.41     87     28    324   14.0  ...   \n",
      "119   343    14  37.6   132   4.78   0.42     87     28    327   12.9  ...   \n",
      "12    253    25  36.0   129   5.31   0.46     86     29    337   13.1  ...   \n",
      "1     444    16  87.0   134   4.65   0.40     85     28    329   15.2  ...   \n",
      "14    306    18  28.8   140   5.12   0.41     80     27    341   14.7  ...   \n",
      "65    322    20  30.6   129   4.65   0.41     87     28    319   13.2  ...   \n",
      "58    353    27  46.5   158   4.70   0.39     82     26    319   14.3  ...   \n",
      "15    398    17  20.5   126   4.26   0.38     89     30    332   13.8  ...   \n",
      "137   398    12  53.0   142   4.68   0.44     94     30    323   13.6  ...   \n",
      "0     241    20  33.5   150   5.25   0.46     87     29    328   12.8  ...   \n",
      "108   499    12  40.2   135   4.93   0.43     87     27    315   14.9  ...   \n",
      "149   442    21  57.3   145   4.63   0.43     92     31    340   14.3  ...   \n",
      "114   216    31  82.6   142   4.53   0.41     91     30    328   13.5  ...   \n",
      "55    180    39  53.0   116   3.93   0.35     90     30    328   12.8  ...   \n",
      "3     339    18  63.8   135   4.89   0.42     86     28    321   12.4  ...   \n",
      "71    386    30  27.0   125   4.36   0.39     89     29    322   15.5  ...   \n",
      "128   669    18  65.4   155   5.27   0.47     89     29    330   14.0  ...   \n",
      "88    383     9  69.5   148   4.90   0.45     91     31    343   12.9  ...   \n",
      "72    211    23  59.7   152   4.89   0.47     95     31    327   13.6  ...   \n",
      "127   298    17  58.0   103   5.39   0.34     63     19    303   15.9  ...   \n",
      "6     246    15  53.7   119   3.88   0.34     88     30    346   12.8  ...   \n",
      "104   275    15  68.1   134   6.22   0.40     65     21    317   15.9  ...   \n",
      "\n",
      "     B2_d6  B2_d7  B2_d8  B2_d9     B3  B4_a2  B4_a5  B5_a2  B5_a3    B6  \n",
      "44       6     25     16     11   3.70    6.0  1.003   1.98    4.3   5.7  \n",
      "24       8     15     18     10   4.10    7.5  1.011   6.87    3.8   6.1  \n",
      "73      10     24     46     21   8.80    7.5  1.009   2.65    3.5   5.4  \n",
      "138      5     23     16     14   5.20    5.5  1.009   1.33    5.0  10.0  \n",
      "54       9      7     15      5   1.80    5.5  1.016   0.88    4.6   5.9  \n",
      "31      10     30     23     26   1.30    6.0  1.020   1.71    4.9   5.7  \n",
      "26      12     69     20     24   5.40    6.0  1.007   3.56    4.5   8.1  \n",
      "84      12     47     22     30   0.30    6.0  1.026   0.56    4.7   5.9  \n",
      "68       8     24     21     16  17.80    5.5  1.009   2.94    4.2   6.4  \n",
      "94      12     21     19     16   0.20    6.5  1.013   1.40    4.5   5.3  \n",
      "119     17     17     23     34   0.80    5.0  1.019   1.13    5.2   7.5  \n",
      "12      12     13     16     12   0.10    7.0  1.008   3.84    4.1   5.5  \n",
      "1       10     14     20     15  13.40    6.0  1.005   1.29    4.5   5.8  \n",
      "14      10     12     14     12   3.10    5.5  1.012   1.42    4.4   6.0  \n",
      "65      11     19     27     18   2.10    5.0  1.018   0.18    5.9   6.0  \n",
      "58      11     18     20     14   0.80    5.0  1.021   0.81    5.0   5.5  \n",
      "15      21     38     51     47   9.90    6.0  1.007   2.42    4.9   6.7  \n",
      "137      9     15     37     39   0.10    6.5  1.002   3.52    5.2   5.5  \n",
      "0       10     21     22     17   1.30    7.0  1.010   0.69    4.7   5.9  \n",
      "108     17     14     19     15   1.90    6.0  1.015   1.42    4.8   5.4  \n",
      "149     24     24     24     27   0.40    6.5  1.018   0.89    5.0   5.3  \n",
      "114     18     15     19     16   0.05    7.0  1.002   2.52    4.4   6.2  \n",
      "55       7     10     17     12   0.60    5.0  1.016   1.16    4.1   6.2  \n",
      "3       13     16     25     13  16.80    5.0  1.017   1.32    4.0   6.0  \n",
      "71       7     73     14     17  29.40    6.5  1.015   0.56    2.7   6.7  \n",
      "128     14     13     27     10   1.10    6.0  1.023   1.52    4.0   5.8  \n",
      "88      10     26     16     19   3.30    5.5  1.044   0.73    3.2  14.0  \n",
      "72      12     30     18     22   6.70    6.0  1.019   1.27    3.7   8.6  \n",
      "127     15    374     46     68   3.70    6.0  1.016   1.03    4.1   9.3  \n",
      "6       10     19     22     17   1.40    5.5  1.017   6.78    4.0   6.2  \n",
      "104     17     15     17     17   1.10    6.0  1.020   3.03    4.2   5.5  \n",
      "\n",
      "[31 rows x 45 columns]\n",
      "\n",
      "Y Train:\n",
      "53     0\n",
      "41     0\n",
      "107    1\n",
      "121    1\n",
      "2      0\n",
      "      ..\n",
      "30     0\n",
      "130    1\n",
      "34     0\n",
      "5      0\n",
      "131    1\n",
      "Name: condition, Length: 121, dtype: int64\n",
      "\n",
      "Y Test:\n",
      "44     0\n",
      "24     0\n",
      "73     0\n",
      "138    1\n",
      "54     0\n",
      "31     0\n",
      "26     0\n",
      "84     1\n",
      "68     0\n",
      "94     1\n",
      "119    1\n",
      "12     0\n",
      "1      0\n",
      "14     0\n",
      "65     0\n",
      "58     0\n",
      "15     0\n",
      "137    1\n",
      "0      0\n",
      "108    1\n",
      "149    1\n",
      "114    1\n",
      "55     0\n",
      "3      0\n",
      "71     0\n",
      "128    1\n",
      "88     1\n",
      "72     0\n",
      "127    1\n",
      "6      0\n",
      "104    1\n",
      "Name: condition, dtype: int64\n",
      "\n",
      "Shape of X Train:\n",
      "(121, 45)\n",
      "\n",
      "Shape of X Test:\n",
      "(31, 45)\n",
      "\n",
      "Shape of Y Train:\n",
      "(121,)\n",
      "\n",
      "Shape of Y Test:\n",
      "(31,)\n"
     ]
    }
   ],
   "source": [
    "# Conduct train-test split on dataset\n",
    "x_train, x_test, y_train, y_test = train_test_split(x, y, test_size=0.2)\n",
    "\n",
    "# Display x_train, x_test, y_train, y_test\n",
    "print(\"\\nX Train:\")\n",
    "print(x_train)\n",
    "print(\"\\nX Test:\")\n",
    "print(x_test)\n",
    "print(\"\\nY Train:\")\n",
    "print(y_train)\n",
    "print(\"\\nY Test:\")\n",
    "print(y_test)\n",
    "\n",
    "# Display shape of train and test sets\n",
    "print(\"\\nShape of X Train:\")\n",
    "print(x_train.shape)\n",
    "print(\"\\nShape of X Test:\")\n",
    "print(x_test.shape)\n",
    "print(\"\\nShape of Y Train:\")\n",
    "print(y_train.shape)\n",
    "print(\"\\nShape of Y Test:\")\n",
    "print(y_test.shape)"
   ]
  },
  {
   "cell_type": "code",
   "execution_count": 42,
   "metadata": {},
   "outputs": [],
   "source": [
    "# Create kNN model\n",
    "knn = neighbors.KNeighborsClassifier(n_neighbors=5, weights='uniform')"
   ]
  },
  {
   "cell_type": "code",
   "execution_count": 43,
   "metadata": {},
   "outputs": [
    {
     "data": {
      "text/plain": [
       "KNeighborsClassifier()"
      ]
     },
     "execution_count": 43,
     "metadata": {},
     "output_type": "execute_result"
    }
   ],
   "source": [
    "# Train the model\n",
    "knn.fit(x_train, y_train)"
   ]
  },
  {
   "cell_type": "code",
   "execution_count": 44,
   "metadata": {},
   "outputs": [],
   "source": [
    "# Make prediction\n",
    "prediction = knn.predict(x_test)"
   ]
  },
  {
   "cell_type": "code",
   "execution_count": 45,
   "metadata": {},
   "outputs": [
    {
     "name": "stdout",
     "output_type": "stream",
     "text": [
      "Predictions: [1 0 0 1 0 1 1 1 1 0 1 0 1 1 1 1 1 1 1 1 1 0 0 1 0 1 1 1 1 1 1]\n",
      "Actual: [0 0 0 1 0 0 0 1 0 1 1 0 0 0 0 0 0 1 0 1 1 1 0 0 0 1 1 0 1 0 1]\n",
      "Accuracy: 0.5161290322580645\n"
     ]
    }
   ],
   "source": [
    "# Measure accuracy\n",
    "accuracy = metrics.accuracy_score(y_test, prediction)\n",
    "\n",
    "# Display predictions and Accuracy\n",
    "print(\"Predictions:\", prediction)\n",
    "print(\"Actual:\", np.array(y_test))\n",
    "print(\"Accuracy:\", accuracy)"
   ]
  },
  {
   "cell_type": "code",
   "execution_count": 46,
   "metadata": {},
   "outputs": [],
   "source": [
    "# Create kNN model\n",
    "knn = neighbors.KNeighborsClassifier(n_neighbors=10, weights='uniform')"
   ]
  },
  {
   "cell_type": "code",
   "execution_count": 47,
   "metadata": {},
   "outputs": [
    {
     "data": {
      "text/plain": [
       "KNeighborsClassifier(n_neighbors=10)"
      ]
     },
     "execution_count": 47,
     "metadata": {},
     "output_type": "execute_result"
    }
   ],
   "source": [
    "# Train the model\n",
    "knn.fit(x_train, y_train)"
   ]
  },
  {
   "cell_type": "code",
   "execution_count": 48,
   "metadata": {},
   "outputs": [],
   "source": [
    "# Make prediction\n",
    "prediction = knn.predict(x_test)"
   ]
  },
  {
   "cell_type": "code",
   "execution_count": 49,
   "metadata": {},
   "outputs": [
    {
     "name": "stdout",
     "output_type": "stream",
     "text": [
      "Predictions: [0 0 0 1 0 1 1 1 0 0 1 0 1 0 0 1 1 1 0 1 1 0 0 1 0 1 1 1 0 1 1]\n",
      "Actual: [0 0 0 1 0 0 0 1 0 1 1 0 0 0 0 0 0 1 0 1 1 1 0 0 0 1 1 0 1 0 1]\n",
      "Accuracy: 0.6451612903225806\n"
     ]
    }
   ],
   "source": [
    "# Measure accuracy\n",
    "accuracy = metrics.accuracy_score(y_test, prediction)\n",
    "\n",
    "# Display predictions and Accuracy\n",
    "print(\"Predictions:\", prediction)\n",
    "print(\"Actual:\", np.array(y_test))\n",
    "print(\"Accuracy:\", accuracy)"
   ]
  },
  {
   "cell_type": "code",
   "execution_count": 50,
   "metadata": {},
   "outputs": [
    {
     "name": "stdout",
     "output_type": "stream",
     "text": [
      "Predictions: [0 0 0 1 0 1 1 1 0 1 1 0 0 1 0 0 0 1 1 1 1 1 0 0 1 1 1 0 0 0 1]\n",
      "Actual: [0 0 0 1 0 0 0 1 0 1 1 0 0 0 0 0 0 1 0 1 1 1 0 0 0 1 1 0 1 0 1]\n",
      "Accuracy: 0.8064516129032258\n"
     ]
    }
   ],
   "source": [
    "# Create linear SVM model\n",
    "model = svm.SVC(kernel='linear')\n",
    "\n",
    "# Train the model\n",
    "model.fit(x_train, y_train)\n",
    "\n",
    "# Make predictions\n",
    "predictions = model.predict(x_test)\n",
    "\n",
    "# Measure accuracy\n",
    "acc = accuracy_score(y_test, predictions)\n",
    "\n",
    "# Print predictions, actual, and accuracy score\n",
    "print(\"Predictions:\", predictions)\n",
    "print(\"Actual:\", np.array(y_test))\n",
    "print(\"Accuracy:\", acc)"
   ]
  },
  {
   "cell_type": "code",
   "execution_count": 54,
   "metadata": {},
   "outputs": [
    {
     "name": "stdout",
     "output_type": "stream",
     "text": [
      "Predictions: [1 0 1 1 1 1 1 1 1 1 1 1 1 1 1 1 1 1 1 1 1 1 1 1 1 1 1 1 1 1 1]\n",
      "Actual: [0 0 0 1 0 0 0 1 0 1 1 0 0 0 0 0 0 1 0 1 1 1 0 0 0 1 1 0 1 0 1]\n",
      "Accuracy: 0.41935483870967744\n"
     ]
    }
   ],
   "source": [
    "# Create RBF SVM model\n",
    "model = svm.SVC(kernel='rbf')\n",
    "\n",
    "# Train the model\n",
    "model.fit(x_train, y_train)\n",
    "\n",
    "# Make predictions\n",
    "predictions = model.predict(x_test)\n",
    "\n",
    "# Measure accuracy\n",
    "acc = accuracy_score(y_test, predictions)\n",
    "\n",
    "# Print predictions, actual, and accuracy score\n",
    "print(\"Predictions:\", predictions)\n",
    "print(\"Actual:\", np.array(y_test))\n",
    "print(\"Accuracy:\", acc)"
   ]
  },
  {
   "cell_type": "code",
   "execution_count": 55,
   "metadata": {},
   "outputs": [
    {
     "name": "stdout",
     "output_type": "stream",
     "text": [
      "Predictions: [1 1 1 1 1 1 1 1 1 1 1 1 1 1 1 1 1 1 1 1 1 1 1 1 1 1 1 1 1 1 1]\n",
      "Actual: [0 0 0 1 0 0 0 1 0 1 1 0 0 0 0 0 0 1 0 1 1 1 0 0 0 1 1 0 1 0 1]\n",
      "Accuracy: 0.3870967741935484\n"
     ]
    }
   ],
   "source": [
    "# Create Sigmoid SVM model\n",
    "model = svm.SVC(kernel='sigmoid')\n",
    "\n",
    "# Train the model\n",
    "model.fit(x_train, y_train)\n",
    "\n",
    "# Make predictions\n",
    "predictions = model.predict(x_test)\n",
    "\n",
    "# Measure accuracy\n",
    "acc = accuracy_score(y_test, predictions)\n",
    "\n",
    "# Print predictions, actual, and accuracy score\n",
    "print(\"Predictions:\", predictions)\n",
    "print(\"Actual:\", np.array(y_test))\n",
    "print(\"Accuracy:\", acc)"
   ]
  },
  {
   "cell_type": "code",
   "execution_count": 56,
   "metadata": {},
   "outputs": [
    {
     "name": "stdout",
     "output_type": "stream",
     "text": [
      "Predictions: [1 0 1 1 1 1 1 1 1 1 1 1 1 1 1 1 1 1 1 1 1 1 1 1 0 1 1 1 1 1 1]\n",
      "Actual: [0 0 0 1 0 0 0 1 0 1 1 0 0 0 0 0 0 1 0 1 1 1 0 0 0 1 1 0 1 0 1]\n",
      "Accuracy: 0.45161290322580644\n"
     ]
    }
   ],
   "source": [
    "# Create Polynomial SVM model\n",
    "model = svm.SVC(kernel='poly')\n",
    "\n",
    "# Train the model\n",
    "model.fit(x_train, y_train)\n",
    "\n",
    "# Make predictions\n",
    "predictions = model.predict(x_test)\n",
    "\n",
    "# Measure accuracy\n",
    "acc = accuracy_score(y_test, predictions)\n",
    "\n",
    "# Print predictions, actual, and accuracy score\n",
    "print(\"Predictions:\", predictions)\n",
    "print(\"Actual:\", np.array(y_test))\n",
    "print(\"Accuracy:\", acc)"
   ]
  },
  {
   "cell_type": "code",
   "execution_count": null,
   "metadata": {},
   "outputs": [],
   "source": []
  }
 ],
 "metadata": {
  "kernelspec": {
   "display_name": "Python 3",
   "language": "python",
   "name": "python3"
  },
  "language_info": {
   "codemirror_mode": {
    "name": "ipython",
    "version": 3
   },
   "file_extension": ".py",
   "mimetype": "text/x-python",
   "name": "python",
   "nbconvert_exporter": "python",
   "pygments_lexer": "ipython3",
   "version": "3.8.3"
  }
 },
 "nbformat": 4,
 "nbformat_minor": 4
}
