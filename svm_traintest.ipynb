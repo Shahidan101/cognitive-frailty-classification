{
 "cells": [
  {
   "cell_type": "code",
   "execution_count": 2,
   "metadata": {},
   "outputs": [],
   "source": [
    "# Import packages\n",
    "import pandas as pd \n",
    "import numpy as np \n",
    "from sklearn.model_selection import train_test_split\n",
    "from sklearn import svm\n",
    "from sklearn.metrics import accuracy_score\n",
    "from sklearn.metrics import confusion_matrix\n",
    "from sklearn.metrics import f1_score\n",
    "from parse import preprocess"
   ]
  },
  {
   "cell_type": "code",
   "execution_count": 3,
   "metadata": {},
   "outputs": [
    {
     "name": "stdout",
     "output_type": "stream",
     "text": [
      "\n",
      "####################################################################\n",
      "Number of Rows of Dataframe:\n",
      "1123\n",
      "Number of Columns of Dataframe:\n",
      "59\n",
      "\n",
      "####################################################################\n",
      "Threshold for number of NULLs in a column: 0.1095\n",
      "Number of Columns before Parsing for Too Many NULLs in a column:\n",
      "59\n",
      "Number of Columns after Parsing for Too Many NULLs in a column:\n",
      "51\n",
      "\n",
      "Columns Removed:\n",
      "B1_b5\n",
      "B4_a1\n",
      "B4_a3\n",
      "B4_a4\n",
      "B4_a6\n",
      "B4_b1\n",
      "B4_b3\n",
      "B5_a1\n",
      "\n",
      "####################################################################\n",
      "Number of Rows before Parsing NULLs in data:\n",
      "1123\n",
      "Number of Rows after Parsing NULLs in data:\n",
      "1007\n",
      "\n",
      "####################################################################\n",
      "Number of Columns after dropping A1_2, B1_b4, B2_c3, B4_b2 for inconsistent data types:\n",
      "47\n"
     ]
    }
   ],
   "source": [
    "df = preprocess(\"rawfile_blood.csv\")"
   ]
  },
  {
   "cell_type": "code",
   "execution_count": 4,
   "metadata": {},
   "outputs": [],
   "source": [
    "# Initialise counters for each condition\n",
    "frail = 0\n",
    "frail_mci = 0\n",
    "mci = 0\n",
    "prefrail_mci = 0\n",
    "prefrail = 0\n",
    "robust = 0"
   ]
  },
  {
   "cell_type": "code",
   "execution_count": 5,
   "metadata": {},
   "outputs": [
    {
     "name": "stdout",
     "output_type": "stream",
     "text": [
      "\n",
      "####################################################################\n",
      "Labels with frequencies:\n",
      "Frail: 7\n",
      "Frail + MCI: 76\n",
      "MCI: 133\n",
      "Prefrail + MCI: 231\n",
      "Prefrail: 221\n",
      "Robust: 339\n"
     ]
    }
   ],
   "source": [
    "# Count rows of data for each condition\n",
    "for i in range(0, len(df)):\n",
    "\tif df.at[i, 'condition'] == 'frail':\n",
    "\t\tfrail += 1\n",
    "\telif df.at[i, 'condition'] == 'frail_mci':\n",
    "\t\tfrail_mci += 1\n",
    "\telif df.at[i, 'condition'] == 'mci':\n",
    "\t\tmci += 1\n",
    "\telif df.at[i, 'condition'] == 'prefrail_mci':\n",
    "\t\tprefrail_mci += 1\n",
    "\telif df.at[i, 'condition'] == 'prefrail':\n",
    "\t\tprefrail += 1\n",
    "\telif df.at[i, 'condition'] == 'robust':\n",
    "\t\trobust += 1\n",
    "        \n",
    "# Display number of rows (frequency) for each condition (label)\n",
    "print(\"\\n####################################################################\")\n",
    "print(\"Labels with frequencies:\")\n",
    "print(\"Frail:\", frail)\n",
    "print(\"Frail + MCI:\", frail_mci)\n",
    "print(\"MCI:\", mci)\n",
    "print(\"Prefrail + MCI:\", prefrail_mci)\n",
    "print(\"Prefrail:\", prefrail)\n",
    "print(\"Robust:\", robust)"
   ]
  },
  {
   "cell_type": "code",
   "execution_count": 7,
   "metadata": {},
   "outputs": [
    {
     "name": "stdout",
     "output_type": "stream",
     "text": [
      "      A1_1  A2_1  A3_1  B1_a  B1_a1  B1_a2  B1_a3  B1_a4  B1_a5  B1_a6  ...  \\\n",
      "0      196    24  46.5   121   3.93   0.37     95     31    324   13.3  ...   \n",
      "1      200    23  55.6   142   4.82   0.42     87     30    346   12.8  ...   \n",
      "2      441    20  76.8   105   4.54   0.41     90     30    330   14.0  ...   \n",
      "3      265    16  47.2   122   4.53   0.39     86     27    313   14.9  ...   \n",
      "4      425    14  31.3   124   4.44   0.38     85     28    329   12.6  ...   \n",
      "...    ...   ...   ...   ...    ...    ...    ...    ...    ...    ...  ...   \n",
      "1002   220    19  67.5   138   4.66   0.42     91     30    325   14.1  ...   \n",
      "1003   334    18  51.0   139   4.63   0.42     91     30    330   15.6  ...   \n",
      "1004   418    17  61.0   122   4.18   0.38     90     29    324   13.5  ...   \n",
      "1005   393    18  43.1   136   4.57   0.43     94     30    316   12.5  ...   \n",
      "1006   371    24  55.9   127   4.41   0.40     90     29    320   13.8  ...   \n",
      "\n",
      "      B2_d6  B2_d7  B2_d8  B2_d9   B3  B4_a2  B4_a5  B5_a2  B5_a3   B6  \n",
      "0         7     12     13      6  0.2    6.0  1.011   1.14    4.1  5.9  \n",
      "1         7     20     17     26  3.1    5.0  1.011   3.25    4.6  8.5  \n",
      "2         5     16     19     15  1.4    7.0  1.023   2.14    4.0  6.4  \n",
      "3         8     24     19     21  2.1    5.5  1.012   1.06    4.7  6.1  \n",
      "4         6     20     23     23  6.0    5.5  1.013   1.95    3.8  5.8  \n",
      "...     ...    ...    ...    ...  ...    ...    ...    ...    ...  ...  \n",
      "1002     20     10     17      8  6.6    7.0  1.015   1.29    4.5  6.2  \n",
      "1003     16     22     35     40  1.0    6.0  1.015   1.88    3.9  5.6  \n",
      "1004     19     20     23     15  0.4    6.5  1.005   3.58    4.0  5.6  \n",
      "1005     13     11     22     23  0.7    7.0  1.009   0.92    4.1  6.0  \n",
      "1006     13     14     16     12  7.5    8.0  1.017   2.45    4.5  6.2  \n",
      "\n",
      "[1007 rows x 45 columns] 0        frail\n",
      "1        frail\n",
      "2        frail\n",
      "3        frail\n",
      "4        frail\n",
      "         ...  \n",
      "1002    robust\n",
      "1003    robust\n",
      "1004    robust\n",
      "1005    robust\n",
      "1006    robust\n",
      "Name: condition, Length: 1007, dtype: object\n",
      "\n",
      "Shape of Features:\n",
      "(1007, 45)\n",
      "\n",
      "Shape of Labels:\n",
      "(1007,)\n"
     ]
    },
    {
     "data": {
      "text/plain": [
       "0        frail\n",
       "1        frail\n",
       "2        frail\n",
       "3        frail\n",
       "4        frail\n",
       "         ...  \n",
       "1002    robust\n",
       "1003    robust\n",
       "1004    robust\n",
       "1005    robust\n",
       "1006    robust\n",
       "Name: condition, Length: 1007, dtype: object"
      ]
     },
     "execution_count": 7,
     "metadata": {},
     "output_type": "execute_result"
    }
   ],
   "source": [
    "# Specify features and labels\n",
    "y = df['condition']\n",
    "x = df.drop(['mtag', 'condition'], axis=1)\n",
    "\n",
    "# Display features and labels\n",
    "print(x, y)\n",
    "\n",
    "# Display shape of features and labels\n",
    "print(\"\\nShape of Features:\")\n",
    "print(x.shape)\n",
    "print(\"\\nShape of Labels:\")\n",
    "print(y.shape)"
   ]
  },
  {
   "cell_type": "code",
   "execution_count": 1,
   "metadata": {},
   "outputs": [
    {
     "ename": "NameError",
     "evalue": "name 'y' is not defined",
     "output_type": "error",
     "traceback": [
      "\u001b[1;31m---------------------------------------------------------------------------\u001b[0m",
      "\u001b[1;31mNameError\u001b[0m                                 Traceback (most recent call last)",
      "\u001b[1;32m<ipython-input-1-018747a5c02b>\u001b[0m in \u001b[0;36m<module>\u001b[1;34m\u001b[0m\n\u001b[0;32m     17\u001b[0m }\n\u001b[0;32m     18\u001b[0m \u001b[1;33m\u001b[0m\u001b[0m\n\u001b[1;32m---> 19\u001b[1;33m \u001b[0my\u001b[0m \u001b[1;33m=\u001b[0m \u001b[0my\u001b[0m\u001b[1;33m.\u001b[0m\u001b[0mmap\u001b[0m\u001b[1;33m(\u001b[0m\u001b[0mlabel_mapping\u001b[0m\u001b[1;33m)\u001b[0m\u001b[1;33m\u001b[0m\u001b[1;33m\u001b[0m\u001b[0m\n\u001b[0m\u001b[0;32m     20\u001b[0m \u001b[0my\u001b[0m \u001b[1;33m=\u001b[0m \u001b[0mnp\u001b[0m\u001b[1;33m.\u001b[0m\u001b[0marray\u001b[0m\u001b[1;33m(\u001b[0m\u001b[0my\u001b[0m\u001b[1;33m)\u001b[0m\u001b[1;33m\u001b[0m\u001b[1;33m\u001b[0m\u001b[0m\n\u001b[0;32m     21\u001b[0m \u001b[1;33m\u001b[0m\u001b[0m\n",
      "\u001b[1;31mNameError\u001b[0m: name 'y' is not defined"
     ]
    }
   ],
   "source": [
    "# Data Dictionary:\n",
    "# frail -> 0\n",
    "# frail_mci -> 1\n",
    "# mci -> 2\n",
    "# prefrail_mci -> 3\n",
    "# prefrail -> 4\n",
    "# robust -> 5\n",
    "\n",
    "# Conduct label mapping for conditions\n",
    "label_mapping = {\n",
    "    'frail' : 0,\n",
    "    'frail_mci' : 1,\n",
    "    'mci' : 2,\n",
    "    'prefrail_mci' : 3,\n",
    "    'prefrail' : 4,\n",
    "    'robust' : 5\n",
    "}\n",
    "\n",
    "y = y.map(label_mapping)\n",
    "y = np.array(y)\n",
    "\n",
    "# Display label\n",
    "print(y)\n",
    "\n",
    "# Display shape of label\n",
    "print(y.shape)"
   ]
  },
  {
   "cell_type": "code",
   "execution_count": null,
   "metadata": {},
   "outputs": [],
   "source": [
    "# Conduct train-test split on dataset\n",
    "x_train, x_test, y_train, y_test = train_test_split(x, y, test_size=0.2)\n",
    "\n",
    "# Display x_train, x_test, y_train, y_test\n",
    "print(\"\\nX Train:\")\n",
    "print(x_train)\n",
    "print(\"\\nX Test:\")\n",
    "print(x_test)\n",
    "print(\"\\nY Train:\")\n",
    "print(y_train)\n",
    "print(\"\\nY Test:\")\n",
    "print(y_test)\n",
    "\n",
    "# Display shape of train and test sets\n",
    "print(\"\\nShape of X Train:\")\n",
    "print(x_train.shape)\n",
    "print(\"\\nShape of X Test:\")\n",
    "print(x_test.shape)\n",
    "print(\"\\nShape of Y Train:\")\n",
    "print(y_train.shape)\n",
    "print(\"\\nShape of Y Test:\")\n",
    "print(y_test.shape)"
   ]
  },
  {
   "cell_type": "code",
   "execution_count": null,
   "metadata": {},
   "outputs": [],
   "source": [
    "# Create linear SVM model\n",
    "model = svm.SVC(kernel='linear')\n",
    "\n",
    "# Train the model\n",
    "model.fit(x_train, y_train)\n",
    "\n",
    "# Make predictions\n",
    "predictions = model.predict(x_test)\n",
    "\n",
    "# Measure accuracy\n",
    "acc = accuracy_score(y_test, predictions)\n",
    "\n",
    "# Print predictions, actual, and accuracy score\n",
    "print(\"Predictions:\", predictions)\n",
    "print(\"Actual:\", y_test)\n",
    "print(\"Accuracy:\", acc)"
   ]
  },
  {
   "cell_type": "code",
   "execution_count": null,
   "metadata": {},
   "outputs": [],
   "source": [
    "# Show confusion matrix\n",
    "print(confusion_matrix(y_test, predictions))"
   ]
  },
  {
   "cell_type": "code",
   "execution_count": null,
   "metadata": {},
   "outputs": [],
   "source": [
    "# Create RBF SVM model\n",
    "model = svm.SVC(kernel='rbf')\n",
    "\n",
    "# Train the model\n",
    "model.fit(x_train, y_train)\n",
    "\n",
    "# Make predictions\n",
    "predictions = model.predict(x_test)\n",
    "\n",
    "# Measure accuracy\n",
    "acc = accuracy_score(y_test, predictions)\n",
    "\n",
    "# Print predictions, actual, and accuracy score\n",
    "print(\"Predictions:\", predictions)\n",
    "print(\"Actual:\", y_test)\n",
    "print(\"Accuracy:\", acc)"
   ]
  },
  {
   "cell_type": "code",
   "execution_count": null,
   "metadata": {},
   "outputs": [],
   "source": [
    "# Create Sigmoid SVM model\n",
    "model = svm.SVC(kernel='sigmoid')\n",
    "\n",
    "# Train the model\n",
    "model.fit(x_train, y_train)\n",
    "\n",
    "# Make predictions\n",
    "predictions = model.predict(x_test)\n",
    "\n",
    "# Measure accuracy\n",
    "acc = accuracy_score(y_test, predictions)\n",
    "\n",
    "# Print predictions, actual, and accuracy score\n",
    "print(\"Predictions:\", predictions)\n",
    "print(\"Actual:\", y_test)\n",
    "print(\"Accuracy:\", acc)"
   ]
  },
  {
   "cell_type": "code",
   "execution_count": null,
   "metadata": {},
   "outputs": [],
   "source": [
    "# Create Polynomial SVM model\n",
    "model = svm.SVC(kernel='poly')\n",
    "\n",
    "# Train the model\n",
    "model.fit(x_train, y_train)\n",
    "\n",
    "# Make predictions\n",
    "predictions = model.predict(x_test)\n",
    "\n",
    "# Measure accuracy\n",
    "acc = accuracy_score(y_test, predictions)\n",
    "\n",
    "# Print predictions, actual, and accuracy score\n",
    "print(\"Predictions:\", predictions)\n",
    "print(\"Actual:\", y_test)\n",
    "print(\"Accuracy:\", acc)"
   ]
  },
  {
   "cell_type": "code",
   "execution_count": null,
   "metadata": {},
   "outputs": [],
   "source": []
  }
 ],
 "metadata": {
  "kernelspec": {
   "display_name": "Python 3",
   "language": "python",
   "name": "python3"
  },
  "language_info": {
   "codemirror_mode": {
    "name": "ipython",
    "version": 3
   },
   "file_extension": ".py",
   "mimetype": "text/x-python",
   "name": "python",
   "nbconvert_exporter": "python",
   "pygments_lexer": "ipython3",
   "version": "3.7.9"
  }
 },
 "nbformat": 4,
 "nbformat_minor": 4
}
