{
 "cells": [
  {
   "cell_type": "code",
   "execution_count": 231,
   "id": "coastal-baghdad",
   "metadata": {},
   "outputs": [],
   "source": [
    "# Import packages\n",
    "import numpy as np \n",
    "import pandas as pd\n",
    "import matplotlib.pyplot as plt\n",
    "from sklearn.model_selection import train_test_split\n",
    "from sklearn.model_selection import cross_val_score\n",
    "from sklearn.model_selection import StratifiedKFold\n",
    "from sklearn.model_selection import KFold\n",
    "from sklearn.naive_bayes import GaussianNB\n",
    "from sklearn.discriminant_analysis import LinearDiscriminantAnalysis\n",
    "from sklearn.metrics import confusion_matrix\n",
    "from sklearn.metrics import classification_report\n",
    "from sklearn.metrics import accuracy_score\n",
    "from sklearn.metrics import make_scorer\n",
    "from sklearn.inspection import permutation_importance\n",
    "from sklearn.preprocessing import StandardScaler\n",
    "from sklearn.preprocessing import MinMaxScaler\n",
    "from sklearn.linear_model import LinearRegression\n",
    "from sklearn.linear_model import LogisticRegression\n",
    "from sklearn.tree import DecisionTreeClassifier\n",
    "from sklearn.neighbors import KNeighborsClassifier\n",
    "from sklearn.svm import SVC\n",
    "from sklearn.ensemble import RandomForestClassifier\n",
    "from sklearn.neural_network import MLPClassifier\n",
    "from imblearn.under_sampling import RandomUnderSampler\n",
    "from imblearn.over_sampling import SMOTE\n",
    "from sklearn import decomposition\n",
    "from collections import Counter\n",
    "from parse import preprocess"
   ]
  },
  {
   "cell_type": "code",
   "execution_count": 232,
   "id": "prescribed-onion",
   "metadata": {},
   "outputs": [],
   "source": [
    "# Function to show classification report for Cross Validation\n",
    "def classification_report_with_accuracy_score(y_true, y_pred):\n",
    "    print(classification_report(y_true, y_pred)) # print classification report\n",
    "    return accuracy_score(y_true, y_pred) # return accuracy score"
   ]
  },
  {
   "cell_type": "code",
   "execution_count": 233,
   "id": "aware-president",
   "metadata": {},
   "outputs": [],
   "source": [
    "# Pre-parse the dataset\n",
    "# data = preprocess(\"rawfile_blood.csv\")\n",
    "data = pd.read_csv(\"rawfile_blood_parsed_encoded.csv\")"
   ]
  },
  {
   "cell_type": "code",
   "execution_count": 234,
   "id": "running-burlington",
   "metadata": {},
   "outputs": [
    {
     "data": {
      "text/plain": [
       "Index(['mtag', 'condition', 'A1_1', 'A2_1', 'A3_1', 'B1_a', 'B1_a1', 'B1_a2',\n",
       "       'B1_a3', 'B1_a4', 'B1_a5', 'B1_a6', 'B1_b', 'B1_b1', 'B1_b2', 'B1_b3',\n",
       "       'B1_c', 'B1_d', 'B2_a1', 'B2_a2', 'B2_a3', 'B2_a4', 'B2_a5', 'B2_b1',\n",
       "       'B2_b2', 'B2_b3', 'B2_c1', 'B2_c2', 'B2_c4', 'B2_c5', 'B2_c6', 'B2_c7',\n",
       "       'B2_d1', 'B2_d2', 'B2_d3', 'B2_d4', 'B2_d5', 'B2_d6', 'B2_d7', 'B2_d8',\n",
       "       'B2_d9', 'B3', 'B4_a2', 'B4_a5', 'B5_a2', 'B5_a3', 'B6'],\n",
       "      dtype='object')"
      ]
     },
     "execution_count": 234,
     "metadata": {},
     "output_type": "execute_result"
    }
   ],
   "source": [
    "data.columns"
   ]
  },
  {
   "cell_type": "code",
   "execution_count": 235,
   "id": "precise-iceland",
   "metadata": {},
   "outputs": [
    {
     "data": {
      "text/plain": [
       "robust          343\n",
       "prefrail_mci    233\n",
       "prefrail        223\n",
       "mci             133\n",
       "frail_mci        76\n",
       "frail             7\n",
       "Name: condition, dtype: int64"
      ]
     },
     "execution_count": 235,
     "metadata": {},
     "output_type": "execute_result"
    }
   ],
   "source": [
    "c = data['condition'].value_counts()\n",
    "condition = c.index\n",
    "c"
   ]
  },
  {
   "cell_type": "code",
   "execution_count": 236,
   "id": "entitled-husband",
   "metadata": {},
   "outputs": [
    {
     "data": {
      "text/plain": [
       "robust    343\n",
       "frail      83\n",
       "Name: condition, dtype: int64"
      ]
     },
     "execution_count": 236,
     "metadata": {},
     "output_type": "execute_result"
    }
   ],
   "source": [
    "# for i in range(0, len(data)):\n",
    "# \tif data.at[i, 'condition'] == 'frail':\n",
    "# \t\tdata.at[i, 'condition'] = 'non-robust'\n",
    "# \telif data.at[i, 'condition'] == 'frail_mci':\n",
    "# \t\tdata.at[i, 'condition'] = 'non-robust'\n",
    "# \telif data.at[i, 'condition'] == 'mci':\n",
    "# \t\tdata.at[i, 'condition'] = 'non-robust'\n",
    "# \telif data.at[i, 'condition'] == 'prefrail_mci':\n",
    "# \t\tdata.at[i, 'condition'] = 'non-robust'\n",
    "# \telif data.at[i, 'condition'] == 'prefrail':\n",
    "# \t\tdata.at[i, 'condition'] = 'non-robust'\n",
    "# \telif data.at[i, 'condition'] == 'robust':\n",
    "# \t\tdata.at[i, 'condition'] = 'robust'\n",
    "\n",
    "# df1 = data[data.condition != 'frail']\n",
    "# df1 = df1.reset_index(drop=True)\n",
    "\n",
    "# df2 = data[data.condition == 'robust']\n",
    "# df2 = df2.reset_index(drop=True)\n",
    "\n",
    "# df = data\n",
    "\n",
    "for i in range(0, len(data)):\n",
    "\tif data.at[i, 'condition'] == 'frail_mci':\n",
    "\t\tdata.at[i, 'condition'] = 'frail'\n",
    "\n",
    "df1 = data[data.condition == 'robust']\n",
    "df1 = df1.reset_index(drop=True)\n",
    "\n",
    "df2 = data[data.condition == 'frail']\n",
    "df2 = df2.reset_index(drop=True)\n",
    "\n",
    "data = pd.concat([df1, df2], ignore_index=True)\n",
    "\n",
    "df = data\n",
    "\n",
    "c = df['condition'].value_counts()\n",
    "condition = c.index\n",
    "c\n",
    "\n",
    "# data = pd.concat([df1, df2], ignore_index=True)"
   ]
  },
  {
   "cell_type": "code",
   "execution_count": 237,
   "id": "collectible-jacob",
   "metadata": {},
   "outputs": [],
   "source": [
    "for i in range(len(condition)):\n",
    "    df['condition'].replace(condition[i], i, inplace = True)"
   ]
  },
  {
   "cell_type": "code",
   "execution_count": 238,
   "id": "subsequent-trout",
   "metadata": {},
   "outputs": [
    {
     "data": {
      "text/plain": [
       "0      0\n",
       "1      0\n",
       "2      0\n",
       "3      0\n",
       "4      0\n",
       "      ..\n",
       "421    1\n",
       "422    1\n",
       "423    1\n",
       "424    1\n",
       "425    1\n",
       "Name: condition, Length: 426, dtype: int64"
      ]
     },
     "execution_count": 238,
     "metadata": {},
     "output_type": "execute_result"
    }
   ],
   "source": [
    "y = df['condition']\n",
    "\n",
    "# features = ['A1_1', 'A2_1', 'A3_1', 'B1_a', 'B1_a1', 'B1_a2',\n",
    "#        'B1_a3', 'B1_a4', 'B1_a5', 'B1_a6', 'B1_b', 'B1_b1', 'B1_b2', 'B1_b3',\n",
    "#        'B1_c', 'B1_d', 'B2_a1', 'B2_a2', 'B2_a3', 'B2_a4', 'B2_a5', 'B2_b1',\n",
    "#        'B2_b2', 'B2_b3', 'B2_c1', 'B2_c2', 'B2_c4', 'B2_c5', 'B2_c6', 'B2_c7',\n",
    "#        'B2_d1', 'B2_d2', 'B2_d3', 'B2_d4', 'B2_d5', 'B2_d6', 'B2_d7', 'B2_d8',\n",
    "#        'B2_d9', 'B3', 'B4_a2', 'B4_a5', 'B5_a2', 'B5_a3', 'B6']\n",
    "\n",
    "# features = ['A1_1', 'A2_1', 'A3_1', 'B1_a', 'B1_a1', 'B1_a2',\n",
    "#        'B1_a3', 'B1_a4', 'B1_a5', 'B1_a6', 'B1_b', 'B1_b1', 'B1_b2', 'B1_b3',\n",
    "#        'B1_c', 'B1_d', 'B2_a1', 'B2_a2', 'B2_a3', 'B2_a4', 'B2_a5', 'B2_b1',\n",
    "#        'B2_b2', 'B2_b3', 'B2_c1', 'B2_c2', 'B2_c4', 'B2_c5', 'B2_c6', 'B2_c7',\n",
    "#        'B2_d1', 'B2_d2', 'B2_d3', 'B2_d4', 'B2_d5', 'B2_d6', 'B2_d7', 'B2_d8',\n",
    "#        'B2_d9', 'B3', 'B5_a2', 'B5_a3', 'B6']\n",
    "\n",
    "features = ['B6']\n",
    "\n",
    "X = df[features]\n",
    "\n",
    "y"
   ]
  },
  {
   "cell_type": "code",
   "execution_count": 239,
   "id": "searching-college",
   "metadata": {},
   "outputs": [
    {
     "data": {
      "text/html": [
       "<div>\n",
       "<style scoped>\n",
       "    .dataframe tbody tr th:only-of-type {\n",
       "        vertical-align: middle;\n",
       "    }\n",
       "\n",
       "    .dataframe tbody tr th {\n",
       "        vertical-align: top;\n",
       "    }\n",
       "\n",
       "    .dataframe thead th {\n",
       "        text-align: right;\n",
       "    }\n",
       "</style>\n",
       "<table border=\"1\" class=\"dataframe\">\n",
       "  <thead>\n",
       "    <tr style=\"text-align: right;\">\n",
       "      <th></th>\n",
       "      <th>B6</th>\n",
       "    </tr>\n",
       "  </thead>\n",
       "  <tbody>\n",
       "    <tr>\n",
       "      <th>0</th>\n",
       "      <td>3</td>\n",
       "    </tr>\n",
       "    <tr>\n",
       "      <th>1</th>\n",
       "      <td>3</td>\n",
       "    </tr>\n",
       "    <tr>\n",
       "      <th>2</th>\n",
       "      <td>3</td>\n",
       "    </tr>\n",
       "    <tr>\n",
       "      <th>3</th>\n",
       "      <td>3</td>\n",
       "    </tr>\n",
       "    <tr>\n",
       "      <th>4</th>\n",
       "      <td>3</td>\n",
       "    </tr>\n",
       "    <tr>\n",
       "      <th>...</th>\n",
       "      <td>...</td>\n",
       "    </tr>\n",
       "    <tr>\n",
       "      <th>421</th>\n",
       "      <td>1</td>\n",
       "    </tr>\n",
       "    <tr>\n",
       "      <th>422</th>\n",
       "      <td>0</td>\n",
       "    </tr>\n",
       "    <tr>\n",
       "      <th>423</th>\n",
       "      <td>3</td>\n",
       "    </tr>\n",
       "    <tr>\n",
       "      <th>424</th>\n",
       "      <td>3</td>\n",
       "    </tr>\n",
       "    <tr>\n",
       "      <th>425</th>\n",
       "      <td>0</td>\n",
       "    </tr>\n",
       "  </tbody>\n",
       "</table>\n",
       "<p>426 rows × 1 columns</p>\n",
       "</div>"
      ],
      "text/plain": [
       "     B6\n",
       "0     3\n",
       "1     3\n",
       "2     3\n",
       "3     3\n",
       "4     3\n",
       "..   ..\n",
       "421   1\n",
       "422   0\n",
       "423   3\n",
       "424   3\n",
       "425   0\n",
       "\n",
       "[426 rows x 1 columns]"
      ]
     },
     "execution_count": 239,
     "metadata": {},
     "output_type": "execute_result"
    }
   ],
   "source": [
    "X"
   ]
  },
  {
   "cell_type": "code",
   "execution_count": 240,
   "id": "gothic-export",
   "metadata": {},
   "outputs": [
    {
     "data": {
      "image/png": "[encoded data removed]",
      "text/plain": [
       "<Figure size 432x288 with 1 Axes>"
      ]
     },
     "metadata": {
      "needs_background": "light"
     },
     "output_type": "display_data"
    }
   ],
   "source": [
    "X = df[features]\n",
    "\n",
    "# Create Random Forest Classifier Model\n",
    "rfc_model = RandomForestClassifier(random_state=1)\n",
    "\n",
    "# Build the model\n",
    "rfc_model.fit(X, y)\n",
    "\n",
    "features = X.columns\n",
    "importances = rfc_model.feature_importances_\n",
    "indices = np.argsort(importances)[-9:]  # top 10 features\n",
    "\n",
    "plt.title('Feature Importances')\n",
    "plt.barh(range(len(indices)), importances[indices], color='b', align='center')\n",
    "plt.yticks(range(len(indices)), [features[i] for i in indices])\n",
    "plt.xlabel('Relative Importance')\n",
    "plt.show()"
   ]
  },
  {
   "cell_type": "code",
   "execution_count": 241,
   "id": "celtic-minnesota",
   "metadata": {
    "scrolled": true
   },
   "outputs": [
    {
     "name": "stdout",
     "output_type": "stream",
     "text": [
      "B6 --> HbA1c\n"
     ]
    }
   ],
   "source": [
    "# Conduct mapping for Feature Names\n",
    "featureName_mapping = {\n",
    "    \"A1_1\" : \"Vitamin B12 (pmol/L)\",\n",
    "    \"A1_2\" : \"Serum Folate (nmol/L)\",\n",
    "    \"A2_1\" : \"Serum Homocysteine (µmol/L)\",\n",
    "    \"A3_1\" : \"25-hydroxy Vitamin D (nmol/L)\",\n",
    "    \"B1_a\" : \"Haemoglobin (g/L)\",\n",
    "    \"B1_a1\" : \"RBC (/L)\",\n",
    "    \"B1_a2\" : \"PCV (L/L)\",\n",
    "    \"B1_a3\" : \"MCV (fL)\",\n",
    "    \"B1_a4\" : \"MCH (pg)\",\n",
    "    \"B1_a5\" : \"MCHC (g/L)\",\n",
    "    \"B1_a6\" : \"RDW (%)\",\n",
    "    \"B1_b\" : \"White Cell Count (/L)\",\n",
    "    \"B1_b1\" : \"Neutrophils (/L)\",\n",
    "    \"B1_b2\" : \"Lymphocytes (/L)\",\n",
    "    \"B1_b3\" : \"Monocytes (/L)\",\n",
    "    \"B1_b4\" : \"Eosinophils (/L)\",\n",
    "    \"B1_b5\" : \"Basophils (/L)\",\n",
    "    \"B1_c\" : \"Platelets (/L)\",\n",
    "    \"B1_d\" : \"Glucose (mmol/L)\",\n",
    "    \"B2_a1\" : \"Total Cholesterol (mmol/L)\",\n",
    "    \"B2_a2\" : \"Triglyceride (mmol/L)\",\n",
    "    \"B2_a3\" : \"HDL Cholesterol (mmol/L)\",\n",
    "    \"B2_a4\" : \"LDL Cholesterol (mmol/L)\",\n",
    "    \"B2_a5\" : \"Total Cholesterol/HDL Ratio\",\n",
    "    \"B2_b1\" : \"Sodium (mmol/L)\",\n",
    "    \"B2_b2\" : \"Potassium (mmol/L)\",\n",
    "    \"B2_b3\" : \"Chloride (mmol/L)\",\n",
    "    \"B2_c1\" : 'Urea (mmol/L)',\n",
    "    \"B2_c2\" : \"Creatinine (umol/L)\",\n",
    "    \"B2_c3\" : \"eGFR (mL/min/1.73m2)\",\n",
    "    \"B2_c4\" : \"Uric Acid (mmol/L)\",\n",
    "    \"B2_c5\" : \"Calcium (mmol/L)\",\n",
    "    \"B2_c6\" : \"Corrected Calcium (mmol/L)\",\n",
    "    \"B2_c7\" : \"Phosphate (mmol/L)\",\n",
    "    \"B2_d1\" : \"Total Protein (g/L)\",\n",
    "    \"B2_d2\" : \"Albumin (g/L)\",\n",
    "    \"B2_d3\" : \"Globulin (g/L)\",\n",
    "    \"B2_d4\" : \"Albumin/Globulin ratio\",\n",
    "    \"B2_d5\" : \"Alkaline Phosphatase (U/L)\",\n",
    "    \"B2_d6\" : \"Total Bilirubin (µmol/L)\",\n",
    "    \"B2_d7\" : \"GGT\",\n",
    "    \"B2_d8\" : \"AST\",\n",
    "    \"B2_d9\" : \"ALT\",\n",
    "    \"B3\" : \"C-Reactive Protein\",\n",
    "    \"B4_a1\" : \"Protein\",\n",
    "    \"B4_a2\" : \"pH\",\n",
    "    \"B4_a3\" : \"Glucose\",\n",
    "    \"B4_a4\" : \"Ketones\",\n",
    "    \"B4_a5\" : \"S.G.\",\n",
    "    \"B4_a6\" : \"Blood\",\n",
    "    \"B4_b1\" : \"Leucocytes (/L)\",\n",
    "    \"B4_b2\" : \"Erythrocytes (/L)\",\n",
    "    \"B4_b3\" : \"Epithelial Cells\",\n",
    "    \"B5_a1\" : \"Free Thyroxine (FT4) (pmol/L)\",\n",
    "    \"B5_a2\" : \"Thyroid Stimulating Hormone (mIU/L)\",\n",
    "    \"B5_a3\" : \"Free Tri-iodothyronine (FT3) (pmol/L)\",\n",
    "    \"B6\" : \"HbA1c\"\n",
    "}\n",
    "\n",
    "df_dummy = pd.Series(features)\n",
    "df_dummy = df_dummy.map(featureName_mapping)\n",
    "\n",
    "listing = []\n",
    "\n",
    "for items in indices:\n",
    "    listing.append(items)\n",
    "    \n",
    "listing.reverse()\n",
    "newfeatures = []\n",
    "\n",
    "for i in listing:\n",
    "    print(features[i], \"-->\", df_dummy[i])\n",
    "    newfeatures.append(features[i])\n",
    "\n",
    "X = df[newfeatures]"
   ]
  },
  {
   "cell_type": "code",
   "execution_count": 242,
   "id": "broke-token",
   "metadata": {},
   "outputs": [],
   "source": [
    "# pca = decomposition.PCA(n_components=3)\n",
    "# pca.fit(X)\n",
    "# X = pca.transform(X)\n",
    "\n",
    "# X = pd.DataFrame(X)\n",
    "\n",
    "# # Create Random Forest Classifier Model\n",
    "# rfc_model = RandomForestClassifier(random_state=1)\n",
    "\n",
    "# # Build the model\n",
    "# rfc_model.fit(X, y)\n",
    "\n",
    "# features = X.columns\n",
    "# importances = rfc_model.feature_importances_\n",
    "# indices = np.argsort(importances)[-9:]  # top 10 features\n",
    "\n",
    "# plt.title('Feature Importances')\n",
    "# plt.barh(range(len(indices)), importances[indices], color='b', align='center')\n",
    "# plt.yticks(range(len(indices)), [features[i] for i in indices])\n",
    "# plt.xlabel('Relative Importance')\n",
    "# plt.show()"
   ]
  },
  {
   "cell_type": "code",
   "execution_count": 243,
   "id": "limiting-february",
   "metadata": {},
   "outputs": [],
   "source": [
    "# X = StandardScaler().fit_transform(X)\n",
    "X = MinMaxScaler().fit_transform(X)"
   ]
  },
  {
   "cell_type": "code",
   "execution_count": 244,
   "id": "nutritional-there",
   "metadata": {},
   "outputs": [
    {
     "name": "stdout",
     "output_type": "stream",
     "text": [
      "Counter({0: 343, 1: 83})\n"
     ]
    }
   ],
   "source": [
    "# Summarise the new class distribution\n",
    "counter = Counter(y)\n",
    "print(counter)"
   ]
  },
  {
   "cell_type": "code",
   "execution_count": 245,
   "id": "grateful-headline",
   "metadata": {},
   "outputs": [
    {
     "name": "stdout",
     "output_type": "stream",
     "text": [
      "Counter({0: 83, 1: 83})\n"
     ]
    }
   ],
   "source": [
    "# Undersample the majority class\n",
    "# Define undersample strategy\n",
    "\n",
    "# 75% of majority class\n",
    "# sampling_strategy = {0: 254, 1: 231, 2: 221, 3: 133, 4: 76, 5: 7}\n",
    "\n",
    "# 50% of majority class\n",
    "# sampling_strategy = {0: 170, 1: 170, 2: 170, 3: 133, 4: 76, 5: 7}\n",
    "\n",
    "# 25% of majority class\n",
    "# sampling_strategy = {0: 85, 1: 85, 2: 85, 3: 85, 4: 76, 5: 7}\n",
    "\n",
    "# sampling_strategy = {'robust': 223, 'prefrail_mci': 223, 'prefrail': 223, 'mci': 133, 'frail_mci': 76}\n",
    "# sampling_strategy = {0: 254, 1: 233, 2: 223, 3: 133, 4: 76, 5: 7}\n",
    "# undersample = RandomUnderSampler(sampling_strategy=sampling_strategy)\n",
    "\n",
    "sampling_strategy = {0: 83, 1: 83}\n",
    "undersample = RandomUnderSampler(sampling_strategy=sampling_strategy)\n",
    "\n",
    "# 50% of majority class\n",
    "# undersample = RandomUnderSampler(sampling_strategy=0.0413)\n",
    "\n",
    "# 25% of majority class\n",
    "# undersample = RandomUnderSampler(sampling_strategy=0.0826)\n",
    "\n",
    "X, y = undersample.fit_resample(X, y)\n",
    "\n",
    "# Summarise the new class distribution\n",
    "counter = Counter(y)\n",
    "print(counter)"
   ]
  },
  {
   "cell_type": "code",
   "execution_count": 246,
   "id": "indirect-retro",
   "metadata": {},
   "outputs": [],
   "source": [
    "# # Transform the dataset using SMOTE\n",
    "# oversample = SMOTE()\n",
    "# X, y = oversample.fit_resample(X, y)\n",
    "\n",
    "# # Summarise the new class distribution\n",
    "# counter = Counter(y)\n",
    "# print(counter)"
   ]
  },
  {
   "cell_type": "code",
   "execution_count": 247,
   "id": "liked-stomach",
   "metadata": {
    "scrolled": true
   },
   "outputs": [
    {
     "name": "stdout",
     "output_type": "stream",
     "text": [
      "Logistic Regression: 0.507\n",
      "Linear Discriminant Analysis: 0.507\n",
      "K-Nearest Neigbors: 0.507\n",
      "Classification and Regression Tree: 0.507\n",
      "Gaussian Naive Bayes: 0.507\n",
      "Support Vector Machines: 0.478\n",
      "Random Forest Classifier: 0.507\n"
     ]
    }
   ],
   "source": [
    "X_train, X_test, y_train, y_test = train_test_split(X, y, test_size = 0.4, random_state = 1)\n",
    "\n",
    "from sklearn.linear_model import LinearRegression\n",
    "from sklearn.linear_model import LogisticRegression\n",
    "from sklearn.tree import DecisionTreeClassifier\n",
    "from sklearn.neighbors import KNeighborsClassifier\n",
    "from sklearn.svm import SVC\n",
    "from sklearn.ensemble import RandomForestClassifier\n",
    "from sklearn.discriminant_analysis import LinearDiscriminantAnalysis\n",
    "from sklearn.naive_bayes import GaussianNB\n",
    "\n",
    "# Logistic Regression\n",
    "log_model = LogisticRegression()\n",
    "log_model.fit(X_train, y_train)\n",
    "print(\"Logistic Regression:\", log_model.score(X_test, y_test).round(3))\n",
    "\n",
    "# Linear Discriminant Analysis\n",
    "lda_model = LinearDiscriminantAnalysis()\n",
    "lda_model.fit(X_train, y_train)\n",
    "print(\"Linear Discriminant Analysis:\", lda_model.score(X_test, y_test).round(3))\n",
    "\n",
    "# K-Nearest Neigbors\n",
    "knn_model = KNeighborsClassifier()\n",
    "knn_model.fit(X_train, y_train)\n",
    "print(\"K-Nearest Neigbors:\", knn_model.score(X_test, y_test).round(3))\n",
    "\n",
    "# Classification and Regression Tree\n",
    "cart_model = DecisionTreeClassifier()\n",
    "cart_model.fit(X_train, y_train)\n",
    "print(\"Classification and Regression Tree:\", cart_model.score(X_test, y_test).round(3))\n",
    "\n",
    "# Gaussian Naive Bayes\n",
    "gnb_model = GaussianNB()\n",
    "gnb_model.fit(X_train, y_train)\n",
    "print(\"Gaussian Naive Bayes:\", gnb_model.score(X_test, y_test).round(3))\n",
    "\n",
    "# Support Vector Machines\n",
    "svm_model = SVC(gamma='auto')\n",
    "svm_model.fit(X_train, y_train)\n",
    "print(\"Support Vector Machines:\", svm_model.score(X_test, y_test).round(3))\n",
    "\n",
    "# Random Forest Classifier\n",
    "rfc_model = RandomForestClassifier(random_state=1)\n",
    "rfc_model.fit(X_train, y_train)\n",
    "print(\"Random Forest Classifier:\", rfc_model.score(X_test, y_test).round(3))"
   ]
  },
  {
   "cell_type": "code",
   "execution_count": 248,
   "id": "aggressive-remainder",
   "metadata": {},
   "outputs": [
    {
     "name": "stdout",
     "output_type": "stream",
     "text": [
      "Performance Metrics for KNN:\n",
      "\n",
      "0.50746 \n",
      "\n",
      "[[19 16]\n",
      " [17 15]] \n",
      "\n",
      "              precision    recall  f1-score   support\n",
      "\n",
      "           0       0.53      0.54      0.54        35\n",
      "           1       0.48      0.47      0.48        32\n",
      "\n",
      "    accuracy                           0.51        67\n",
      "   macro avg       0.51      0.51      0.51        67\n",
      "weighted avg       0.51      0.51      0.51        67\n",
      "\n",
      "Performance Metrics for RFC:\n",
      "\n",
      "0.50746 \n",
      "\n",
      "[[19 16]\n",
      " [17 15]] \n",
      "\n",
      "              precision    recall  f1-score   support\n",
      "\n",
      "           0       0.53      0.54      0.54        35\n",
      "           1       0.48      0.47      0.48        32\n",
      "\n",
      "    accuracy                           0.51        67\n",
      "   macro avg       0.51      0.51      0.51        67\n",
      "weighted avg       0.51      0.51      0.51        67\n",
      "\n"
     ]
    }
   ],
   "source": [
    "# Calculating for KNN\n",
    "knn_pred = knn_model.predict(X_test)\n",
    "\n",
    "print('Performance Metrics for KNN:\\n')\n",
    "print(accuracy_score(y_test, knn_pred).round(5), '\\n')\n",
    "print(confusion_matrix(y_test, knn_pred), '\\n')\n",
    "print(classification_report(y_test, knn_pred))\n",
    "\n",
    "# Calculating for RFC\n",
    "rfc_pred = rfc_model.predict(X_test)\n",
    "\n",
    "print('Performance Metrics for RFC:\\n')\n",
    "print(accuracy_score(y_test, rfc_pred).round(5), '\\n')\n",
    "print(confusion_matrix(y_test, rfc_pred), '\\n')\n",
    "print(classification_report(y_test, rfc_pred))"
   ]
  },
  {
   "cell_type": "code",
   "execution_count": 249,
   "id": "circular-bibliography",
   "metadata": {},
   "outputs": [
    {
     "name": "stdout",
     "output_type": "stream",
     "text": [
      "K-Nearest Neighbors: 0.48 accuracy with a standard deviation of 0.04\n",
      "Random Forest Classifier: 0.48 accuracy with a standard deviation of 0.04\n"
     ]
    }
   ],
   "source": [
    "# K-Nearest Neigbors\n",
    "\n",
    "knn_model = KNeighborsClassifier()\n",
    "knn_model.fit(X, y)\n",
    "scores = cross_val_score(knn_model, X, y, cv=5)\n",
    "print(\"K-Nearest Neighbors: %0.2f accuracy with a standard deviation of %0.2f\" % (scores.mean(), scores.std()))\n",
    "\n",
    "# Random Forest Classifier\n",
    "\n",
    "rfc_model = RandomForestClassifier()\n",
    "rfc_model.fit(X, y)\n",
    "scores = cross_val_score(rfc_model, X, y, cv=5)\n",
    "print(\"Random Forest Classifier: %0.2f accuracy with a standard deviation of %0.2f\" % (scores.mean(), scores.std()))"
   ]
  },
  {
   "cell_type": "code",
   "execution_count": null,
   "id": "european-nation",
   "metadata": {},
   "outputs": [],
   "source": []
  }
 ],
 "metadata": {
  "kernelspec": {
   "display_name": "Python 3",
   "language": "python",
   "name": "python3"
  },
  "language_info": {
   "codemirror_mode": {
    "name": "ipython",
    "version": 3
   },
   "file_extension": ".py",
   "mimetype": "text/x-python",
   "name": "python",
   "nbconvert_exporter": "python",
   "pygments_lexer": "ipython3",
   "version": "3.7.9"
  }
 },
 "nbformat": 4,
 "nbformat_minor": 5
}
