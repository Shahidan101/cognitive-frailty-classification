{
 "cells": [
  {
   "cell_type": "code",
   "execution_count": 1,
   "id": "divided-basement",
   "metadata": {},
   "outputs": [],
   "source": [
    "# Import packages\n",
    "import numpy as np # linear algebra\n",
    "import pandas as pd # data processing, CSV file I/O (e.g. pd.read_csv)\n",
    "from sklearn.model_selection import train_test_split\n",
    "from sklearn.model_selection import cross_val_score\n",
    "from sklearn.model_selection import StratifiedKFold\n",
    "from sklearn.model_selection import KFold\n",
    "from sklearn.naive_bayes import GaussianNB\n",
    "from sklearn.discriminant_analysis import LinearDiscriminantAnalysis\n",
    "from sklearn.metrics import confusion_matrix\n",
    "from sklearn.metrics import classification_report\n",
    "from sklearn.metrics import accuracy_score\n",
    "from sklearn.metrics import make_scorer\n",
    "from sklearn.preprocessing import StandardScaler\n",
    "from sklearn.preprocessing import MinMaxScaler\n",
    "from sklearn.linear_model import LinearRegression\n",
    "from sklearn.linear_model import LogisticRegression\n",
    "from sklearn.tree import DecisionTreeClassifier\n",
    "from sklearn.neighbors import KNeighborsClassifier\n",
    "from sklearn.svm import SVC\n",
    "from sklearn.ensemble import RandomForestClassifier\n",
    "from imblearn.under_sampling import RandomUnderSampler\n",
    "from imblearn.over_sampling import SMOTE\n",
    "from collections import Counter\n",
    "from parse import preprocess"
   ]
  },
  {
   "cell_type": "code",
   "execution_count": 2,
   "id": "forced-anthony",
   "metadata": {},
   "outputs": [],
   "source": [
    "# Function to show classification report for Cross Validation\n",
    "def classification_report_with_accuracy_score(y_true, y_pred):\n",
    "    print(classification_report(y_true, y_pred)) # print classification report\n",
    "    return accuracy_score(y_true, y_pred) # return accuracy score"
   ]
  },
  {
   "cell_type": "code",
   "execution_count": 3,
   "id": "popular-angel",
   "metadata": {
    "scrolled": true
   },
   "outputs": [
    {
     "name": "stdout",
     "output_type": "stream",
     "text": [
      "robust          368\n",
      "prefrail_mci    268\n",
      "prefrail        250\n",
      "mci             142\n",
      "frail_mci        86\n",
      "Name: condition, dtype: int64\n",
      "\n",
      "####################################################################\n",
      "Number of Rows of Dataframe:\n",
      "1114\n",
      "Number of Columns of Dataframe:\n",
      "59\n",
      "\n",
      "####################################################################\n",
      "Threshold for number of NULLs in a column: 0.1095\n",
      "Number of Columns before Parsing for Too Many NULLs in a column:\n",
      "59\n",
      "Number of Columns after Parsing for Too Many NULLs in a column:\n",
      "51\n",
      "\n",
      "Columns Removed:\n",
      "B1_b5\n",
      "B4_a1\n",
      "B4_a3\n",
      "B4_a4\n",
      "B4_a6\n",
      "B4_b1\n",
      "B4_b3\n",
      "B5_a1\n",
      "\n",
      "####################################################################\n",
      "Number of Rows before Parsing NULLs in data:\n",
      "1114\n",
      "Number of Rows after Parsing NULLs in data:\n",
      "1000\n",
      "\n",
      "####################################################################\n",
      "Number of Columns after dropping A1_2, B1_b4, B2_c3, B4_b2 for inconsistent data types:\n",
      "47\n"
     ]
    }
   ],
   "source": [
    "# Pre-parse the dataset\n",
    "data = preprocess(\"rawfile_blood.csv\")"
   ]
  },
  {
   "cell_type": "code",
   "execution_count": 4,
   "id": "compliant-palace",
   "metadata": {},
   "outputs": [],
   "source": [
    "# # Initialise counters for each condition\n",
    "# frail = 0\n",
    "# frail_mci = 0\n",
    "# mci = 0\n",
    "# prefrail_mci = 0\n",
    "# prefrail = 0\n",
    "# robust = 0\n",
    "\n",
    "# # Count rows of data for each condition\n",
    "# for i in range(0, len(data)):\n",
    "# \tif data.at[i, 'condition'] == 'frail':\n",
    "# \t\tfrail += 1\n",
    "# \tif data.at[i, 'condition'] == 'frail_mci':\n",
    "# \t\tfrail_mci += 1\n",
    "# \telif data.at[i, 'condition'] == 'mci':\n",
    "# \t\tmci += 1\n",
    "# \telif data.at[i, 'condition'] == 'prefrail_mci':\n",
    "# \t\tprefrail_mci += 1\n",
    "# \telif data.at[i, 'condition'] == 'prefrail':\n",
    "# \t\tprefrail += 1\n",
    "# \telif data.at[i, 'condition'] == 'robust':\n",
    "# \t\trobust += 1\n",
    "        \n",
    "# # Display number of rows (frequency) for each condition (label)\n",
    "# print(\"\\n####################################################################\")\n",
    "# print(\"Labels with frequencies:\")\n",
    "# # print(\"Frail:\", frail)\n",
    "# print(\"Frail + MCI:\", frail_mci)\n",
    "# print(\"MCI:\", mci)\n",
    "# print(\"Prefrail + MCI:\", prefrail_mci)\n",
    "# print(\"Prefrail:\", prefrail)\n",
    "# print(\"Robust:\", robust)"
   ]
  },
  {
   "cell_type": "code",
   "execution_count": 5,
   "id": "matched-landscape",
   "metadata": {},
   "outputs": [],
   "source": [
    "# indexNames = data[data.condition == 'mci'].index\n",
    "# data.drop(indexNames, inplace=True)\n",
    "\n",
    "# indexNames = data[data.condition == 'prefrail_mci'].index\n",
    "# data.drop(indexNames, inplace=True)\n",
    "\n",
    "# indexNames = data[data.condition == 'prefrail'].index\n",
    "# data.drop(indexNames, inplace=True)\n",
    "    \n",
    "# print()\n",
    "# print(data['condition'].value_counts())"
   ]
  },
  {
   "cell_type": "code",
   "execution_count": 6,
   "id": "retired-museum",
   "metadata": {},
   "outputs": [
    {
     "data": {
      "text/html": [
       "<div>\n",
       "<style scoped>\n",
       "    .dataframe tbody tr th:only-of-type {\n",
       "        vertical-align: middle;\n",
       "    }\n",
       "\n",
       "    .dataframe tbody tr th {\n",
       "        vertical-align: top;\n",
       "    }\n",
       "\n",
       "    .dataframe thead th {\n",
       "        text-align: right;\n",
       "    }\n",
       "</style>\n",
       "<table border=\"1\" class=\"dataframe\">\n",
       "  <thead>\n",
       "    <tr style=\"text-align: right;\">\n",
       "      <th></th>\n",
       "      <th>mtag</th>\n",
       "      <th>condition</th>\n",
       "      <th>A1_1</th>\n",
       "      <th>A2_1</th>\n",
       "      <th>A3_1</th>\n",
       "      <th>B1_a</th>\n",
       "      <th>B1_a1</th>\n",
       "      <th>B1_a2</th>\n",
       "      <th>B1_a3</th>\n",
       "      <th>B1_a4</th>\n",
       "      <th>...</th>\n",
       "      <th>B2_d6</th>\n",
       "      <th>B2_d7</th>\n",
       "      <th>B2_d8</th>\n",
       "      <th>B2_d9</th>\n",
       "      <th>B3</th>\n",
       "      <th>B4_a2</th>\n",
       "      <th>B4_a5</th>\n",
       "      <th>B5_a2</th>\n",
       "      <th>B5_a3</th>\n",
       "      <th>B6</th>\n",
       "    </tr>\n",
       "  </thead>\n",
       "  <tbody>\n",
       "    <tr>\n",
       "      <th>0</th>\n",
       "      <td>ME01378</td>\n",
       "      <td>frail_mci</td>\n",
       "      <td>241</td>\n",
       "      <td>20</td>\n",
       "      <td>33.5</td>\n",
       "      <td>150</td>\n",
       "      <td>5.25</td>\n",
       "      <td>0.46</td>\n",
       "      <td>87</td>\n",
       "      <td>29</td>\n",
       "      <td>...</td>\n",
       "      <td>10</td>\n",
       "      <td>21</td>\n",
       "      <td>22</td>\n",
       "      <td>17</td>\n",
       "      <td>1.3</td>\n",
       "      <td>7.0</td>\n",
       "      <td>1.010</td>\n",
       "      <td>0.69</td>\n",
       "      <td>4.7</td>\n",
       "      <td>5.9</td>\n",
       "    </tr>\n",
       "    <tr>\n",
       "      <th>1</th>\n",
       "      <td>ME02832</td>\n",
       "      <td>frail_mci</td>\n",
       "      <td>444</td>\n",
       "      <td>16</td>\n",
       "      <td>87.0</td>\n",
       "      <td>134</td>\n",
       "      <td>4.65</td>\n",
       "      <td>0.40</td>\n",
       "      <td>85</td>\n",
       "      <td>28</td>\n",
       "      <td>...</td>\n",
       "      <td>10</td>\n",
       "      <td>14</td>\n",
       "      <td>20</td>\n",
       "      <td>15</td>\n",
       "      <td>13.4</td>\n",
       "      <td>6.0</td>\n",
       "      <td>1.005</td>\n",
       "      <td>1.29</td>\n",
       "      <td>4.5</td>\n",
       "      <td>5.8</td>\n",
       "    </tr>\n",
       "    <tr>\n",
       "      <th>2</th>\n",
       "      <td>ME02909</td>\n",
       "      <td>frail_mci</td>\n",
       "      <td>1476</td>\n",
       "      <td>16</td>\n",
       "      <td>57.0</td>\n",
       "      <td>119</td>\n",
       "      <td>3.80</td>\n",
       "      <td>0.36</td>\n",
       "      <td>94</td>\n",
       "      <td>31</td>\n",
       "      <td>...</td>\n",
       "      <td>18</td>\n",
       "      <td>17</td>\n",
       "      <td>35</td>\n",
       "      <td>21</td>\n",
       "      <td>0.2</td>\n",
       "      <td>7.5</td>\n",
       "      <td>1.012</td>\n",
       "      <td>1.90</td>\n",
       "      <td>4.1</td>\n",
       "      <td>5.8</td>\n",
       "    </tr>\n",
       "    <tr>\n",
       "      <th>3</th>\n",
       "      <td>ME02998</td>\n",
       "      <td>frail_mci</td>\n",
       "      <td>339</td>\n",
       "      <td>18</td>\n",
       "      <td>63.8</td>\n",
       "      <td>135</td>\n",
       "      <td>4.89</td>\n",
       "      <td>0.42</td>\n",
       "      <td>86</td>\n",
       "      <td>28</td>\n",
       "      <td>...</td>\n",
       "      <td>13</td>\n",
       "      <td>16</td>\n",
       "      <td>25</td>\n",
       "      <td>13</td>\n",
       "      <td>16.8</td>\n",
       "      <td>5.0</td>\n",
       "      <td>1.017</td>\n",
       "      <td>1.32</td>\n",
       "      <td>4.0</td>\n",
       "      <td>6.0</td>\n",
       "    </tr>\n",
       "    <tr>\n",
       "      <th>4</th>\n",
       "      <td>ME03061</td>\n",
       "      <td>frail_mci</td>\n",
       "      <td>287</td>\n",
       "      <td>20</td>\n",
       "      <td>95.5</td>\n",
       "      <td>146</td>\n",
       "      <td>5.18</td>\n",
       "      <td>0.44</td>\n",
       "      <td>85</td>\n",
       "      <td>28</td>\n",
       "      <td>...</td>\n",
       "      <td>18</td>\n",
       "      <td>22</td>\n",
       "      <td>25</td>\n",
       "      <td>24</td>\n",
       "      <td>1.4</td>\n",
       "      <td>7.5</td>\n",
       "      <td>1.006</td>\n",
       "      <td>2.94</td>\n",
       "      <td>4.6</td>\n",
       "      <td>6.1</td>\n",
       "    </tr>\n",
       "  </tbody>\n",
       "</table>\n",
       "<p>5 rows × 47 columns</p>\n",
       "</div>"
      ],
      "text/plain": [
       "      mtag  condition  A1_1  A2_1  A3_1  B1_a  B1_a1  B1_a2  B1_a3  B1_a4  \\\n",
       "0  ME01378  frail_mci   241    20  33.5   150   5.25   0.46     87     29   \n",
       "1  ME02832  frail_mci   444    16  87.0   134   4.65   0.40     85     28   \n",
       "2  ME02909  frail_mci  1476    16  57.0   119   3.80   0.36     94     31   \n",
       "3  ME02998  frail_mci   339    18  63.8   135   4.89   0.42     86     28   \n",
       "4  ME03061  frail_mci   287    20  95.5   146   5.18   0.44     85     28   \n",
       "\n",
       "   ...  B2_d6  B2_d7  B2_d8  B2_d9    B3  B4_a2  B4_a5  B5_a2  B5_a3   B6  \n",
       "0  ...     10     21     22     17   1.3    7.0  1.010   0.69    4.7  5.9  \n",
       "1  ...     10     14     20     15  13.4    6.0  1.005   1.29    4.5  5.8  \n",
       "2  ...     18     17     35     21   0.2    7.5  1.012   1.90    4.1  5.8  \n",
       "3  ...     13     16     25     13  16.8    5.0  1.017   1.32    4.0  6.0  \n",
       "4  ...     18     22     25     24   1.4    7.5  1.006   2.94    4.6  6.1  \n",
       "\n",
       "[5 rows x 47 columns]"
      ]
     },
     "execution_count": 6,
     "metadata": {},
     "output_type": "execute_result"
    }
   ],
   "source": [
    "data.head()"
   ]
  },
  {
   "cell_type": "code",
   "execution_count": 7,
   "id": "conceptual-longitude",
   "metadata": {},
   "outputs": [
    {
     "data": {
      "text/plain": [
       "Index(['mtag', 'condition', 'A1_1', 'A2_1', 'A3_1', 'B1_a', 'B1_a1', 'B1_a2',\n",
       "       'B1_a3', 'B1_a4', 'B1_a5', 'B1_a6', 'B1_b', 'B1_b1', 'B1_b2', 'B1_b3',\n",
       "       'B1_c', 'B1_d', 'B2_a1', 'B2_a2', 'B2_a3', 'B2_a4', 'B2_a5', 'B2_b1',\n",
       "       'B2_b2', 'B2_b3', 'B2_c1', 'B2_c2', 'B2_c4', 'B2_c5', 'B2_c6', 'B2_c7',\n",
       "       'B2_d1', 'B2_d2', 'B2_d3', 'B2_d4', 'B2_d5', 'B2_d6', 'B2_d7', 'B2_d8',\n",
       "       'B2_d9', 'B3', 'B4_a2', 'B4_a5', 'B5_a2', 'B5_a3', 'B6'],\n",
       "      dtype='object')"
      ]
     },
     "execution_count": 7,
     "metadata": {},
     "output_type": "execute_result"
    }
   ],
   "source": [
    "data.columns"
   ]
  },
  {
   "cell_type": "code",
   "execution_count": 8,
   "id": "plain-simulation",
   "metadata": {},
   "outputs": [
    {
     "data": {
      "text/plain": [
       "robust          339\n",
       "prefrail_mci    231\n",
       "prefrail        221\n",
       "mci             133\n",
       "frail_mci        76\n",
       "Name: condition, dtype: int64"
      ]
     },
     "execution_count": 8,
     "metadata": {},
     "output_type": "execute_result"
    }
   ],
   "source": [
    "c = data['condition'].value_counts()\n",
    "condition = c.index\n",
    "c"
   ]
  },
  {
   "cell_type": "code",
   "execution_count": 9,
   "id": "charged-support",
   "metadata": {},
   "outputs": [
    {
     "data": {
      "text/html": [
       "<div>\n",
       "<style scoped>\n",
       "    .dataframe tbody tr th:only-of-type {\n",
       "        vertical-align: middle;\n",
       "    }\n",
       "\n",
       "    .dataframe tbody tr th {\n",
       "        vertical-align: top;\n",
       "    }\n",
       "\n",
       "    .dataframe thead th {\n",
       "        text-align: right;\n",
       "    }\n",
       "</style>\n",
       "<table border=\"1\" class=\"dataframe\">\n",
       "  <thead>\n",
       "    <tr style=\"text-align: right;\">\n",
       "      <th></th>\n",
       "      <th>mtag</th>\n",
       "      <th>condition</th>\n",
       "      <th>A1_1</th>\n",
       "      <th>A2_1</th>\n",
       "      <th>A3_1</th>\n",
       "      <th>B1_a</th>\n",
       "      <th>B1_a1</th>\n",
       "      <th>B1_a2</th>\n",
       "      <th>B1_a3</th>\n",
       "      <th>B1_a4</th>\n",
       "      <th>...</th>\n",
       "      <th>B2_d6</th>\n",
       "      <th>B2_d7</th>\n",
       "      <th>B2_d8</th>\n",
       "      <th>B2_d9</th>\n",
       "      <th>B3</th>\n",
       "      <th>B4_a2</th>\n",
       "      <th>B4_a5</th>\n",
       "      <th>B5_a2</th>\n",
       "      <th>B5_a3</th>\n",
       "      <th>B6</th>\n",
       "    </tr>\n",
       "  </thead>\n",
       "  <tbody>\n",
       "    <tr>\n",
       "      <th>0</th>\n",
       "      <td>ME01378</td>\n",
       "      <td>4</td>\n",
       "      <td>241</td>\n",
       "      <td>20</td>\n",
       "      <td>33.5</td>\n",
       "      <td>150</td>\n",
       "      <td>5.25</td>\n",
       "      <td>0.46</td>\n",
       "      <td>87</td>\n",
       "      <td>29</td>\n",
       "      <td>...</td>\n",
       "      <td>10</td>\n",
       "      <td>21</td>\n",
       "      <td>22</td>\n",
       "      <td>17</td>\n",
       "      <td>1.3</td>\n",
       "      <td>7.0</td>\n",
       "      <td>1.010</td>\n",
       "      <td>0.69</td>\n",
       "      <td>4.7</td>\n",
       "      <td>5.9</td>\n",
       "    </tr>\n",
       "    <tr>\n",
       "      <th>1</th>\n",
       "      <td>ME02832</td>\n",
       "      <td>4</td>\n",
       "      <td>444</td>\n",
       "      <td>16</td>\n",
       "      <td>87.0</td>\n",
       "      <td>134</td>\n",
       "      <td>4.65</td>\n",
       "      <td>0.40</td>\n",
       "      <td>85</td>\n",
       "      <td>28</td>\n",
       "      <td>...</td>\n",
       "      <td>10</td>\n",
       "      <td>14</td>\n",
       "      <td>20</td>\n",
       "      <td>15</td>\n",
       "      <td>13.4</td>\n",
       "      <td>6.0</td>\n",
       "      <td>1.005</td>\n",
       "      <td>1.29</td>\n",
       "      <td>4.5</td>\n",
       "      <td>5.8</td>\n",
       "    </tr>\n",
       "    <tr>\n",
       "      <th>2</th>\n",
       "      <td>ME02909</td>\n",
       "      <td>4</td>\n",
       "      <td>1476</td>\n",
       "      <td>16</td>\n",
       "      <td>57.0</td>\n",
       "      <td>119</td>\n",
       "      <td>3.80</td>\n",
       "      <td>0.36</td>\n",
       "      <td>94</td>\n",
       "      <td>31</td>\n",
       "      <td>...</td>\n",
       "      <td>18</td>\n",
       "      <td>17</td>\n",
       "      <td>35</td>\n",
       "      <td>21</td>\n",
       "      <td>0.2</td>\n",
       "      <td>7.5</td>\n",
       "      <td>1.012</td>\n",
       "      <td>1.90</td>\n",
       "      <td>4.1</td>\n",
       "      <td>5.8</td>\n",
       "    </tr>\n",
       "  </tbody>\n",
       "</table>\n",
       "<p>3 rows × 47 columns</p>\n",
       "</div>"
      ],
      "text/plain": [
       "      mtag  condition  A1_1  A2_1  A3_1  B1_a  B1_a1  B1_a2  B1_a3  B1_a4  \\\n",
       "0  ME01378          4   241    20  33.5   150   5.25   0.46     87     29   \n",
       "1  ME02832          4   444    16  87.0   134   4.65   0.40     85     28   \n",
       "2  ME02909          4  1476    16  57.0   119   3.80   0.36     94     31   \n",
       "\n",
       "   ...  B2_d6  B2_d7  B2_d8  B2_d9    B3  B4_a2  B4_a5  B5_a2  B5_a3   B6  \n",
       "0  ...     10     21     22     17   1.3    7.0  1.010   0.69    4.7  5.9  \n",
       "1  ...     10     14     20     15  13.4    6.0  1.005   1.29    4.5  5.8  \n",
       "2  ...     18     17     35     21   0.2    7.5  1.012   1.90    4.1  5.8  \n",
       "\n",
       "[3 rows x 47 columns]"
      ]
     },
     "execution_count": 9,
     "metadata": {},
     "output_type": "execute_result"
    }
   ],
   "source": [
    "for i in range(len(condition)):\n",
    "    data['condition'].replace(condition[i], i, inplace = True)\n",
    "\n",
    "data.head(3)"
   ]
  },
  {
   "cell_type": "code",
   "execution_count": 10,
   "id": "synthetic-bones",
   "metadata": {},
   "outputs": [
    {
     "data": {
      "text/html": [
       "<div>\n",
       "<style scoped>\n",
       "    .dataframe tbody tr th:only-of-type {\n",
       "        vertical-align: middle;\n",
       "    }\n",
       "\n",
       "    .dataframe tbody tr th {\n",
       "        vertical-align: top;\n",
       "    }\n",
       "\n",
       "    .dataframe thead th {\n",
       "        text-align: right;\n",
       "    }\n",
       "</style>\n",
       "<table border=\"1\" class=\"dataframe\">\n",
       "  <thead>\n",
       "    <tr style=\"text-align: right;\">\n",
       "      <th></th>\n",
       "      <th>mtag</th>\n",
       "      <th>condition</th>\n",
       "      <th>A1_1</th>\n",
       "      <th>A2_1</th>\n",
       "      <th>A3_1</th>\n",
       "      <th>B1_a</th>\n",
       "      <th>B1_a1</th>\n",
       "      <th>B1_a2</th>\n",
       "      <th>B1_a3</th>\n",
       "      <th>B1_a4</th>\n",
       "      <th>...</th>\n",
       "      <th>B2_d6</th>\n",
       "      <th>B2_d7</th>\n",
       "      <th>B2_d8</th>\n",
       "      <th>B2_d9</th>\n",
       "      <th>B3</th>\n",
       "      <th>B4_a2</th>\n",
       "      <th>B4_a5</th>\n",
       "      <th>B5_a2</th>\n",
       "      <th>B5_a3</th>\n",
       "      <th>B6</th>\n",
       "    </tr>\n",
       "  </thead>\n",
       "  <tbody>\n",
       "    <tr>\n",
       "      <th>995</th>\n",
       "      <td>MV00454</td>\n",
       "      <td>0</td>\n",
       "      <td>220</td>\n",
       "      <td>19</td>\n",
       "      <td>67.5</td>\n",
       "      <td>138</td>\n",
       "      <td>4.66</td>\n",
       "      <td>0.42</td>\n",
       "      <td>91</td>\n",
       "      <td>30</td>\n",
       "      <td>...</td>\n",
       "      <td>20</td>\n",
       "      <td>10</td>\n",
       "      <td>17</td>\n",
       "      <td>8</td>\n",
       "      <td>6.6</td>\n",
       "      <td>7.0</td>\n",
       "      <td>1.015</td>\n",
       "      <td>1.29</td>\n",
       "      <td>4.5</td>\n",
       "      <td>6.2</td>\n",
       "    </tr>\n",
       "    <tr>\n",
       "      <th>996</th>\n",
       "      <td>MV00456</td>\n",
       "      <td>0</td>\n",
       "      <td>334</td>\n",
       "      <td>18</td>\n",
       "      <td>51.0</td>\n",
       "      <td>139</td>\n",
       "      <td>4.63</td>\n",
       "      <td>0.42</td>\n",
       "      <td>91</td>\n",
       "      <td>30</td>\n",
       "      <td>...</td>\n",
       "      <td>16</td>\n",
       "      <td>22</td>\n",
       "      <td>35</td>\n",
       "      <td>40</td>\n",
       "      <td>1.0</td>\n",
       "      <td>6.0</td>\n",
       "      <td>1.015</td>\n",
       "      <td>1.88</td>\n",
       "      <td>3.9</td>\n",
       "      <td>5.6</td>\n",
       "    </tr>\n",
       "    <tr>\n",
       "      <th>997</th>\n",
       "      <td>MV00460</td>\n",
       "      <td>0</td>\n",
       "      <td>418</td>\n",
       "      <td>17</td>\n",
       "      <td>61.0</td>\n",
       "      <td>122</td>\n",
       "      <td>4.18</td>\n",
       "      <td>0.38</td>\n",
       "      <td>90</td>\n",
       "      <td>29</td>\n",
       "      <td>...</td>\n",
       "      <td>19</td>\n",
       "      <td>20</td>\n",
       "      <td>23</td>\n",
       "      <td>15</td>\n",
       "      <td>0.4</td>\n",
       "      <td>6.5</td>\n",
       "      <td>1.005</td>\n",
       "      <td>3.58</td>\n",
       "      <td>4.0</td>\n",
       "      <td>5.6</td>\n",
       "    </tr>\n",
       "    <tr>\n",
       "      <th>998</th>\n",
       "      <td>MV00502</td>\n",
       "      <td>0</td>\n",
       "      <td>393</td>\n",
       "      <td>18</td>\n",
       "      <td>43.1</td>\n",
       "      <td>136</td>\n",
       "      <td>4.57</td>\n",
       "      <td>0.43</td>\n",
       "      <td>94</td>\n",
       "      <td>30</td>\n",
       "      <td>...</td>\n",
       "      <td>13</td>\n",
       "      <td>11</td>\n",
       "      <td>22</td>\n",
       "      <td>23</td>\n",
       "      <td>0.7</td>\n",
       "      <td>7.0</td>\n",
       "      <td>1.009</td>\n",
       "      <td>0.92</td>\n",
       "      <td>4.1</td>\n",
       "      <td>6.0</td>\n",
       "    </tr>\n",
       "    <tr>\n",
       "      <th>999</th>\n",
       "      <td>MV00510</td>\n",
       "      <td>0</td>\n",
       "      <td>371</td>\n",
       "      <td>24</td>\n",
       "      <td>55.9</td>\n",
       "      <td>127</td>\n",
       "      <td>4.41</td>\n",
       "      <td>0.40</td>\n",
       "      <td>90</td>\n",
       "      <td>29</td>\n",
       "      <td>...</td>\n",
       "      <td>13</td>\n",
       "      <td>14</td>\n",
       "      <td>16</td>\n",
       "      <td>12</td>\n",
       "      <td>7.5</td>\n",
       "      <td>8.0</td>\n",
       "      <td>1.017</td>\n",
       "      <td>2.45</td>\n",
       "      <td>4.5</td>\n",
       "      <td>6.2</td>\n",
       "    </tr>\n",
       "  </tbody>\n",
       "</table>\n",
       "<p>5 rows × 47 columns</p>\n",
       "</div>"
      ],
      "text/plain": [
       "        mtag  condition  A1_1  A2_1  A3_1  B1_a  B1_a1  B1_a2  B1_a3  B1_a4  \\\n",
       "995  MV00454          0   220    19  67.5   138   4.66   0.42     91     30   \n",
       "996  MV00456          0   334    18  51.0   139   4.63   0.42     91     30   \n",
       "997  MV00460          0   418    17  61.0   122   4.18   0.38     90     29   \n",
       "998  MV00502          0   393    18  43.1   136   4.57   0.43     94     30   \n",
       "999  MV00510          0   371    24  55.9   127   4.41   0.40     90     29   \n",
       "\n",
       "     ...  B2_d6  B2_d7  B2_d8  B2_d9   B3  B4_a2  B4_a5  B5_a2  B5_a3   B6  \n",
       "995  ...     20     10     17      8  6.6    7.0  1.015   1.29    4.5  6.2  \n",
       "996  ...     16     22     35     40  1.0    6.0  1.015   1.88    3.9  5.6  \n",
       "997  ...     19     20     23     15  0.4    6.5  1.005   3.58    4.0  5.6  \n",
       "998  ...     13     11     22     23  0.7    7.0  1.009   0.92    4.1  6.0  \n",
       "999  ...     13     14     16     12  7.5    8.0  1.017   2.45    4.5  6.2  \n",
       "\n",
       "[5 rows x 47 columns]"
      ]
     },
     "execution_count": 10,
     "metadata": {},
     "output_type": "execute_result"
    }
   ],
   "source": [
    "data.tail()"
   ]
  },
  {
   "cell_type": "code",
   "execution_count": 11,
   "id": "worse-italy",
   "metadata": {},
   "outputs": [
    {
     "data": {
      "text/plain": [
       "Index(['mtag', 'condition', 'A1_1', 'A2_1', 'A3_1', 'B1_a', 'B1_a1', 'B1_a2',\n",
       "       'B1_a3', 'B1_a4', 'B1_a5', 'B1_a6', 'B1_b', 'B1_b1', 'B1_b2', 'B1_b3',\n",
       "       'B1_c', 'B1_d', 'B2_a1', 'B2_a2', 'B2_a3', 'B2_a4', 'B2_a5', 'B2_b1',\n",
       "       'B2_b2', 'B2_b3', 'B2_c1', 'B2_c2', 'B2_c4', 'B2_c5', 'B2_c6', 'B2_c7',\n",
       "       'B2_d1', 'B2_d2', 'B2_d3', 'B2_d4', 'B2_d5', 'B2_d6', 'B2_d7', 'B2_d8',\n",
       "       'B2_d9', 'B3', 'B4_a2', 'B4_a5', 'B5_a2', 'B5_a3', 'B6'],\n",
       "      dtype='object')"
      ]
     },
     "execution_count": 11,
     "metadata": {},
     "output_type": "execute_result"
    }
   ],
   "source": [
    "data.columns"
   ]
  },
  {
   "cell_type": "code",
   "execution_count": 12,
   "id": "heavy-element",
   "metadata": {},
   "outputs": [],
   "source": [
    "y = data['condition']\n",
    "\n",
    "features = ['A1_1', 'A2_1', 'A3_1', 'B1_a', 'B1_a1', 'B1_a2',\n",
    "       'B1_a3', 'B1_a4', 'B1_a5', 'B1_a6', 'B1_b', 'B1_b1', 'B1_b2', 'B1_b3',\n",
    "       'B1_c', 'B1_d', 'B2_a1', 'B2_a2', 'B2_a3', 'B2_a4', 'B2_a5', 'B2_b1',\n",
    "       'B2_b2', 'B2_b3', 'B2_c1', 'B2_c2', 'B2_c4', 'B2_c5', 'B2_c6', 'B2_c7',\n",
    "       'B2_d1', 'B2_d2', 'B2_d3', 'B2_d4', 'B2_d5', 'B2_d6', 'B2_d7', 'B2_d8',\n",
    "       'B2_d9', 'B3', 'B4_a2', 'B4_a5', 'B5_a2', 'B5_a3', 'B6']\n",
    "X_old = data[features]"
   ]
  },
  {
   "cell_type": "code",
   "execution_count": 13,
   "id": "single-disney",
   "metadata": {},
   "outputs": [],
   "source": [
    "X = X_old\n",
    "# X = StandardScaler().fit_transform(X_old)\n",
    "# X = MinMaxScaler().fit_transform(X_old)"
   ]
  },
  {
   "cell_type": "code",
   "execution_count": 14,
   "id": "british-roman",
   "metadata": {},
   "outputs": [
    {
     "name": "stdout",
     "output_type": "stream",
     "text": [
      "Counter({0: 339, 1: 231, 2: 221, 3: 133, 4: 76})\n"
     ]
    }
   ],
   "source": [
    "# Summarise the new class distribution\n",
    "counter = Counter(y)\n",
    "print(counter)"
   ]
  },
  {
   "cell_type": "code",
   "execution_count": 15,
   "id": "statistical-piece",
   "metadata": {},
   "outputs": [],
   "source": [
    "# Transform the dataset using SMOTE\n",
    "oversample = SMOTE()\n",
    "X, y = oversample.fit_resample(X, y)"
   ]
  },
  {
   "cell_type": "code",
   "execution_count": 16,
   "id": "filled-powder",
   "metadata": {},
   "outputs": [
    {
     "name": "stdout",
     "output_type": "stream",
     "text": [
      "Counter({4: 339, 3: 339, 1: 339, 2: 339, 0: 339})\n"
     ]
    }
   ],
   "source": [
    "# Summarise the new class distribution\n",
    "counter = Counter(y)\n",
    "print(counter)"
   ]
  },
  {
   "cell_type": "code",
   "execution_count": 17,
   "id": "scheduled-technical",
   "metadata": {},
   "outputs": [
    {
     "data": {
      "text/plain": [
       "(1695,)"
      ]
     },
     "execution_count": 17,
     "metadata": {},
     "output_type": "execute_result"
    }
   ],
   "source": [
    "y.shape"
   ]
  },
  {
   "cell_type": "code",
   "execution_count": 18,
   "id": "liquid-motel",
   "metadata": {},
   "outputs": [
    {
     "data": {
      "text/plain": [
       "(1695, 45)"
      ]
     },
     "execution_count": 18,
     "metadata": {},
     "output_type": "execute_result"
    }
   ],
   "source": [
    "X.shape"
   ]
  },
  {
   "cell_type": "code",
   "execution_count": 19,
   "id": "controlling-seating",
   "metadata": {},
   "outputs": [],
   "source": [
    "X_train, X_test, y_train, y_test = train_test_split(X, y, test_size = 0.2, random_state = 1)"
   ]
  },
  {
   "cell_type": "code",
   "execution_count": 20,
   "id": "explicit-chaos",
   "metadata": {},
   "outputs": [],
   "source": [
    "# y_train.value_counts()"
   ]
  },
  {
   "cell_type": "code",
   "execution_count": 21,
   "id": "attached-driving",
   "metadata": {},
   "outputs": [],
   "source": [
    "# oversample = SMOTE(k_neighbors=2)\n",
    "# X_train, y_train = oversample.fit_resample(X_train, y_train)"
   ]
  },
  {
   "cell_type": "code",
   "execution_count": 22,
   "id": "promising-battle",
   "metadata": {},
   "outputs": [],
   "source": [
    "# y_train.value_counts()"
   ]
  },
  {
   "cell_type": "code",
   "execution_count": 23,
   "id": "little-chambers",
   "metadata": {},
   "outputs": [
    {
     "name": "stdout",
     "output_type": "stream",
     "text": [
      "Random Forest Classifier: 0.67\n"
     ]
    }
   ],
   "source": [
    "rfc_model = RandomForestClassifier()\n",
    "rfc_model.fit(X_train, y_train)\n",
    "print(\"Random Forest Classifier:\", rfc_model.score(X_test, y_test).round(3))"
   ]
  },
  {
   "cell_type": "code",
   "execution_count": 24,
   "id": "alternative-melbourne",
   "metadata": {},
   "outputs": [],
   "source": [
    "# oversample = SMOTE()\n",
    "# X, y = oversample.fit_resample(X, y)"
   ]
  },
  {
   "cell_type": "code",
   "execution_count": 25,
   "id": "smart-smoke",
   "metadata": {},
   "outputs": [
    {
     "data": {
      "text/plain": [
       "(1695, 45)"
      ]
     },
     "execution_count": 25,
     "metadata": {},
     "output_type": "execute_result"
    }
   ],
   "source": [
    "X.shape"
   ]
  },
  {
   "cell_type": "code",
   "execution_count": 26,
   "id": "charitable-raise",
   "metadata": {},
   "outputs": [
    {
     "data": {
      "text/plain": [
       "(1695,)"
      ]
     },
     "execution_count": 26,
     "metadata": {},
     "output_type": "execute_result"
    }
   ],
   "source": [
    "y.shape"
   ]
  },
  {
   "cell_type": "code",
   "execution_count": 27,
   "id": "young-consciousness",
   "metadata": {},
   "outputs": [
    {
     "data": {
      "text/plain": [
       "0    339\n",
       "1    339\n",
       "2    339\n",
       "3    339\n",
       "4    339\n",
       "Name: condition, dtype: int64"
      ]
     },
     "execution_count": 27,
     "metadata": {},
     "output_type": "execute_result"
    }
   ],
   "source": [
    "y.value_counts()"
   ]
  },
  {
   "cell_type": "code",
   "execution_count": 28,
   "id": "forty-venezuela",
   "metadata": {},
   "outputs": [
    {
     "name": "stdout",
     "output_type": "stream",
     "text": [
      "Random Forest Classifier: 0.70 accuracy with a standard deviation of 0.08\n"
     ]
    }
   ],
   "source": [
    "scores = cross_val_score(rfc_model, X, y, cv=10)\n",
    "# scores = cross_val_score(rfc_model, X, y, cv=7)\n",
    "print(\"Random Forest Classifier: %0.2f accuracy with a standard deviation of %0.2f\" % (scores.mean(), scores.std()))"
   ]
  },
  {
   "cell_type": "code",
   "execution_count": 29,
   "id": "wrapped-region",
   "metadata": {},
   "outputs": [
    {
     "name": "stdout",
     "output_type": "stream",
     "text": [
      "              precision    recall  f1-score   support\n",
      "\n",
      "           0       0.45      0.71      0.55        34\n",
      "           1       0.70      0.56      0.62        34\n",
      "           2       0.52      0.41      0.46        34\n",
      "           3       0.79      0.76      0.78        34\n",
      "           4       0.97      0.85      0.91        34\n",
      "\n",
      "    accuracy                           0.66       170\n",
      "   macro avg       0.69      0.66      0.66       170\n",
      "weighted avg       0.69      0.66      0.66       170\n",
      "\n",
      "              precision    recall  f1-score   support\n",
      "\n",
      "           0       0.50      0.56      0.53        34\n",
      "           1       0.69      0.71      0.70        34\n",
      "           2       0.55      0.47      0.51        34\n",
      "           3       0.69      0.59      0.63        34\n",
      "           4       0.82      0.94      0.88        34\n",
      "\n",
      "    accuracy                           0.65       170\n",
      "   macro avg       0.65      0.65      0.65       170\n",
      "weighted avg       0.65      0.65      0.65       170\n",
      "\n",
      "              precision    recall  f1-score   support\n",
      "\n",
      "           0       0.49      0.59      0.53        34\n",
      "           1       0.54      0.62      0.58        34\n",
      "           2       0.48      0.29      0.36        34\n",
      "           3       0.83      0.71      0.76        34\n",
      "           4       0.85      1.00      0.92        34\n",
      "\n",
      "    accuracy                           0.64       170\n",
      "   macro avg       0.64      0.64      0.63       170\n",
      "weighted avg       0.64      0.64      0.63       170\n",
      "\n",
      "              precision    recall  f1-score   support\n",
      "\n",
      "           0       0.38      0.38      0.38        34\n",
      "           1       0.50      0.50      0.50        34\n",
      "           2       0.53      0.47      0.50        34\n",
      "           3       0.49      0.53      0.51        34\n",
      "           4       0.89      0.91      0.90        34\n",
      "\n",
      "    accuracy                           0.56       170\n",
      "   macro avg       0.56      0.56      0.56       170\n",
      "weighted avg       0.56      0.56      0.56       170\n",
      "\n",
      "              precision    recall  f1-score   support\n",
      "\n",
      "           0       0.44      0.41      0.42        34\n",
      "           1       0.47      0.41      0.44        34\n",
      "           2       0.70      0.41      0.52        34\n",
      "           3       0.74      0.94      0.83        34\n",
      "           4       0.76      1.00      0.86        34\n",
      "\n",
      "    accuracy                           0.64       170\n",
      "   macro avg       0.62      0.64      0.61       170\n",
      "weighted avg       0.62      0.64      0.61       170\n",
      "\n",
      "              precision    recall  f1-score   support\n",
      "\n",
      "           0       0.44      0.45      0.45        33\n",
      "           1       0.59      0.59      0.59        34\n",
      "           2       0.64      0.53      0.58        34\n",
      "           3       0.81      0.88      0.85        34\n",
      "           4       0.92      0.97      0.94        34\n",
      "\n",
      "    accuracy                           0.69       169\n",
      "   macro avg       0.68      0.69      0.68       169\n",
      "weighted avg       0.68      0.69      0.68       169\n",
      "\n",
      "              precision    recall  f1-score   support\n",
      "\n",
      "           0       0.59      0.47      0.52        34\n",
      "           1       0.60      0.53      0.56        34\n",
      "           2       0.62      0.70      0.66        33\n",
      "           3       0.85      1.00      0.92        34\n",
      "           4       0.94      0.97      0.96        34\n",
      "\n",
      "    accuracy                           0.73       169\n",
      "   macro avg       0.72      0.73      0.72       169\n",
      "weighted avg       0.72      0.73      0.72       169\n",
      "\n",
      "              precision    recall  f1-score   support\n",
      "\n",
      "           0       0.95      0.62      0.75        34\n",
      "           1       0.86      0.97      0.91        33\n",
      "           2       0.79      0.97      0.87        34\n",
      "           3       0.92      0.97      0.94        34\n",
      "           4       1.00      0.94      0.97        34\n",
      "\n",
      "    accuracy                           0.89       169\n",
      "   macro avg       0.90      0.89      0.89       169\n",
      "weighted avg       0.90      0.89      0.89       169\n",
      "\n",
      "              precision    recall  f1-score   support\n",
      "\n",
      "           0       0.78      0.41      0.54        34\n",
      "           1       0.75      0.88      0.81        34\n",
      "           2       0.73      0.88      0.80        34\n",
      "           3       0.85      0.88      0.87        33\n",
      "           4       0.89      0.94      0.91        34\n",
      "\n",
      "    accuracy                           0.80       169\n",
      "   macro avg       0.80      0.80      0.79       169\n",
      "weighted avg       0.80      0.80      0.79       169\n",
      "\n",
      "              precision    recall  f1-score   support\n",
      "\n",
      "           0       0.89      0.50      0.64        34\n",
      "           1       0.71      0.85      0.77        34\n",
      "           2       0.84      0.79      0.82        34\n",
      "           3       0.77      0.97      0.86        34\n",
      "           4       0.91      0.94      0.93        33\n",
      "\n",
      "    accuracy                           0.81       169\n",
      "   macro avg       0.83      0.81      0.80       169\n",
      "weighted avg       0.82      0.81      0.80       169\n",
      "\n",
      "[0.65882353 0.65294118 0.64117647 0.55882353 0.63529412 0.68639053\n",
      " 0.73372781 0.89349112 0.79881657 0.81065089]\n"
     ]
    }
   ],
   "source": [
    "# Random Forest Classifier\n",
    "scoresExtra = cross_val_score(rfc_model, X, y, cv=10, scoring=make_scorer(classification_report_with_accuracy_score))\n",
    "# scoresExtra = cross_val_score(rfc_model, X, y, cv=7, scoring=make_scorer(classification_report_with_accuracy_score))\n",
    "print(scoresExtra)"
   ]
  },
  {
   "cell_type": "code",
   "execution_count": 30,
   "id": "short-fundamentals",
   "metadata": {},
   "outputs": [
    {
     "name": "stdout",
     "output_type": "stream",
     "text": [
      "Accuracy Metrics for RFC:\n",
      "\n",
      "0.66962 \n",
      "\n",
      "[[27 15 16  4  2]\n",
      " [13 42  8  3  8]\n",
      " [17  5 41  3  1]\n",
      " [10  2  2 56  0]\n",
      " [ 2  0  1  0 61]] \n",
      "\n",
      "              precision    recall  f1-score   support\n",
      "\n",
      "           0       0.39      0.42      0.41        64\n",
      "           1       0.66      0.57      0.61        74\n",
      "           2       0.60      0.61      0.61        67\n",
      "           3       0.85      0.80      0.82        70\n",
      "           4       0.85      0.95      0.90        64\n",
      "\n",
      "    accuracy                           0.67       339\n",
      "   macro avg       0.67      0.67      0.67       339\n",
      "weighted avg       0.67      0.67      0.67       339\n",
      "\n"
     ]
    }
   ],
   "source": [
    "# Calculating accuracy metrics for RFC\n",
    "rfc_pred = rfc_model.predict(X_test)\n",
    "\n",
    "print('Accuracy Metrics for RFC:\\n')\n",
    "print(accuracy_score(y_test, rfc_pred).round(5), '\\n')\n",
    "print(confusion_matrix(y_test, rfc_pred), '\\n')\n",
    "print(classification_report(y_test, rfc_pred))"
   ]
  }
 ],
 "metadata": {
  "kernelspec": {
   "display_name": "Python 3",
   "language": "python",
   "name": "python3"
  },
  "language_info": {
   "codemirror_mode": {
    "name": "ipython",
    "version": 3
   },
   "file_extension": ".py",
   "mimetype": "text/x-python",
   "name": "python",
   "nbconvert_exporter": "python",
   "pygments_lexer": "ipython3",
   "version": "3.7.9"
  }
 },
 "nbformat": 4,
 "nbformat_minor": 5
}
