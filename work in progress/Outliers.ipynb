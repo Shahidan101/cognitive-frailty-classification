{
 "cells": [
  {
   "cell_type": "code",
   "execution_count": 407,
   "id": "reduced-subdivision",
   "metadata": {},
   "outputs": [],
   "source": [
    "# Import packages\n",
    "import numpy as np \n",
    "import pandas as pd\n",
    "import matplotlib.pyplot as plt\n",
    "import seaborn as sns\n",
    "from logitboost import LogitBoost\n",
    "from sklearn.model_selection import train_test_split\n",
    "from sklearn.model_selection import cross_val_score\n",
    "from sklearn.model_selection import StratifiedKFold\n",
    "from sklearn.model_selection import KFold\n",
    "from sklearn.naive_bayes import GaussianNB\n",
    "from sklearn.discriminant_analysis import LinearDiscriminantAnalysis\n",
    "from sklearn.metrics import confusion_matrix\n",
    "from sklearn.metrics import classification_report\n",
    "from sklearn.metrics import accuracy_score\n",
    "from sklearn.metrics import make_scorer\n",
    "from sklearn.inspection import permutation_importance\n",
    "from sklearn.preprocessing import StandardScaler\n",
    "from sklearn.preprocessing import MinMaxScaler\n",
    "from sklearn.linear_model import LinearRegression\n",
    "from sklearn.linear_model import LogisticRegression\n",
    "from sklearn.tree import DecisionTreeClassifier\n",
    "from sklearn.neighbors import KNeighborsClassifier\n",
    "from sklearn.svm import SVC\n",
    "from sklearn.multiclass import OneVsOneClassifier\n",
    "from sklearn.ensemble import RandomForestClassifier\n",
    "from sklearn.neural_network import MLPClassifier\n",
    "from imblearn.under_sampling import RandomUnderSampler\n",
    "from imblearn.over_sampling import SMOTE\n",
    "from collections import Counter\n",
    "from parse import preprocess"
   ]
  },
  {
   "cell_type": "code",
   "execution_count": 408,
   "id": "neural-dietary",
   "metadata": {},
   "outputs": [],
   "source": [
    "# Function to show classification report for Cross Validation\n",
    "def classification_report_with_accuracy_score(y_true, y_pred):\n",
    "    print(classification_report(y_true, y_pred)) # print classification report\n",
    "    return accuracy_score(y_true, y_pred) # return accuracy score"
   ]
  },
  {
   "cell_type": "code",
   "execution_count": 409,
   "id": "broke-roommate",
   "metadata": {},
   "outputs": [
    {
     "name": "stdout",
     "output_type": "stream",
     "text": [
      "robust          368\n",
      "prefrail_mci    268\n",
      "prefrail        250\n",
      "mci             142\n",
      "frail_mci        86\n",
      "frail             9\n",
      "Name: condition, dtype: int64\n",
      "\n",
      "####################################################################\n",
      "Number of Rows of Dataframe:\n",
      "1123\n",
      "Number of Columns of Dataframe:\n",
      "59\n",
      "\n",
      "####################################################################\n",
      "Threshold for number of NULLs in a column: 0.1095\n",
      "Number of Columns before Parsing for Too Many NULLs in a column:\n",
      "59\n",
      "Number of Columns after Parsing for Too Many NULLs in a column:\n",
      "51\n",
      "\n",
      "Columns Removed:\n",
      "B1_b5\n",
      "B4_a1\n",
      "B4_a3\n",
      "B4_a4\n",
      "B4_a6\n",
      "B4_b1\n",
      "B4_b3\n",
      "B5_a1\n",
      "\n",
      "####################################################################\n",
      "Number of Columns after dropping A1_2, B1_b4, B2_c3, B4_b2 for inconsistent data types:\n",
      "47\n",
      "\n",
      "####################################################################\n",
      "Number of Rows before Parsing NULLs in data:\n",
      "1123\n",
      "Number of Rows after Parsing NULLs in data:\n",
      "1015\n"
     ]
    }
   ],
   "source": [
    "# Pre-parse the dataset\n",
    "data = preprocess(\"rawfile_blood.csv\")"
   ]
  },
  {
   "cell_type": "code",
   "execution_count": 410,
   "id": "spanish-connecticut",
   "metadata": {},
   "outputs": [
    {
     "data": {
      "text/plain": [
       "Index(['mtag', 'condition', 'A1_1', 'A2_1', 'A3_1', 'B1_a', 'B1_a1', 'B1_a2',\n",
       "       'B1_a3', 'B1_a4', 'B1_a5', 'B1_a6', 'B1_b', 'B1_b1', 'B1_b2', 'B1_b3',\n",
       "       'B1_c', 'B1_d', 'B2_a1', 'B2_a2', 'B2_a3', 'B2_a4', 'B2_a5', 'B2_b1',\n",
       "       'B2_b2', 'B2_b3', 'B2_c1', 'B2_c2', 'B2_c4', 'B2_c5', 'B2_c6', 'B2_c7',\n",
       "       'B2_d1', 'B2_d2', 'B2_d3', 'B2_d4', 'B2_d5', 'B2_d6', 'B2_d7', 'B2_d8',\n",
       "       'B2_d9', 'B3', 'B4_a2', 'B4_a5', 'B5_a2', 'B5_a3', 'B6'],\n",
       "      dtype='object')"
      ]
     },
     "execution_count": 410,
     "metadata": {},
     "output_type": "execute_result"
    }
   ],
   "source": [
    "data.columns"
   ]
  },
  {
   "cell_type": "code",
   "execution_count": 411,
   "id": "accredited-studio",
   "metadata": {},
   "outputs": [],
   "source": [
    "y = data['condition']\n",
    "\n",
    "features = ['A1_1', 'A2_1', 'A3_1', 'B1_a', 'B1_a1', 'B1_a2',\n",
    "       'B1_a3', 'B1_a4', 'B1_a5', 'B1_a6', 'B1_b', 'B1_b1', 'B1_b2', 'B1_b3',\n",
    "       'B1_c', 'B1_d', 'B2_a1', 'B2_a2', 'B2_a3', 'B2_a4', 'B2_a5', 'B2_b1',\n",
    "       'B2_b2', 'B2_b3', 'B2_c1', 'B2_c2', 'B2_c4', 'B2_c5', 'B2_c6', 'B2_c7',\n",
    "       'B2_d1', 'B2_d2', 'B2_d3', 'B2_d4', 'B2_d5', 'B2_d6', 'B2_d7', 'B2_d8',\n",
    "       'B2_d9', 'B3', 'B4_a2', 'B4_a5', 'B5_a2', 'B5_a3', 'B6']\n",
    "\n",
    "X = data[features]"
   ]
  },
  {
   "cell_type": "code",
   "execution_count": 412,
   "id": "hundred-storm",
   "metadata": {},
   "outputs": [],
   "source": [
    "# X = MinMaxScaler().fit_transform(X)"
   ]
  },
  {
   "cell_type": "code",
   "execution_count": 413,
   "id": "blocked-declaration",
   "metadata": {},
   "outputs": [
    {
     "data": {
      "text/plain": [
       "<AxesSubplot:xlabel='B1_b1'>"
      ]
     },
     "execution_count": 413,
     "metadata": {},
     "output_type": "execute_result"
    },
    {
     "data": {
      "image/png": "[encoded data removed]",
      "text/plain": [
       "<Figure size 432x288 with 1 Axes>"
      ]
     },
     "metadata": {
      "needs_background": "light"
     },
     "output_type": "display_data"
    }
   ],
   "source": [
    "dummy_df = pd.DataFrame(X)\n",
    "\n",
    "dummy_df.columns = features\n",
    "\n",
    "# Use top features from RFC Feature Importance\n",
    "\n",
    "best_features = ['B1_b1', 'B1_a', 'A3_1', 'A1_1', 'B5_a2', 'B1_a1', 'B2_a4', 'B2_a3', 'B2_d5']\n",
    "\n",
    "sns.boxplot(x=dummy_df[best_features[0]])"
   ]
  },
  {
   "cell_type": "code",
   "execution_count": 414,
   "id": "biological-treatment",
   "metadata": {},
   "outputs": [
    {
     "data": {
      "text/plain": [
       "<AxesSubplot:xlabel='B1_a'>"
      ]
     },
     "execution_count": 414,
     "metadata": {},
     "output_type": "execute_result"
    },
    {
     "data": {
      "image/png": "[encoded data removed]",
      "text/plain": [
       "<Figure size 432x288 with 1 Axes>"
      ]
     },
     "metadata": {
      "needs_background": "light"
     },
     "output_type": "display_data"
    }
   ],
   "source": [
    "sns.boxplot(x=dummy_df[best_features[1]])"
   ]
  },
  {
   "cell_type": "code",
   "execution_count": 415,
   "id": "prompt-allen",
   "metadata": {},
   "outputs": [
    {
     "data": {
      "text/plain": [
       "<AxesSubplot:xlabel='A3_1'>"
      ]
     },
     "execution_count": 415,
     "metadata": {},
     "output_type": "execute_result"
    },
    {
     "data": {
      "image/png": "[encoded data removed]",
      "text/plain": [
       "<Figure size 432x288 with 1 Axes>"
      ]
     },
     "metadata": {
      "needs_background": "light"
     },
     "output_type": "display_data"
    }
   ],
   "source": [
    "sns.boxplot(x=dummy_df[best_features[2]])"
   ]
  },
  {
   "cell_type": "code",
   "execution_count": 416,
   "id": "committed-macedonia",
   "metadata": {},
   "outputs": [
    {
     "data": {
      "text/plain": [
       "<AxesSubplot:xlabel='A1_1'>"
      ]
     },
     "execution_count": 416,
     "metadata": {},
     "output_type": "execute_result"
    },
    {
     "data": {
      "image/png": "[encoded data removed]",
      "text/plain": [
       "<Figure size 432x288 with 1 Axes>"
      ]
     },
     "metadata": {
      "needs_background": "light"
     },
     "output_type": "display_data"
    }
   ],
   "source": [
    "sns.boxplot(x=dummy_df[best_features[3]])"
   ]
  },
  {
   "cell_type": "code",
   "execution_count": 417,
   "id": "textile-hypothetical",
   "metadata": {},
   "outputs": [
    {
     "data": {
      "text/plain": [
       "<AxesSubplot:xlabel='B5_a2'>"
      ]
     },
     "execution_count": 417,
     "metadata": {},
     "output_type": "execute_result"
    },
    {
     "data": {
      "image/png": "[encoded data removed]",
      "text/plain": [
       "<Figure size 432x288 with 1 Axes>"
      ]
     },
     "metadata": {
      "needs_background": "light"
     },
     "output_type": "display_data"
    }
   ],
   "source": [
    "sns.boxplot(x=dummy_df[best_features[4]])"
   ]
  },
  {
   "cell_type": "code",
   "execution_count": 418,
   "id": "floppy-longer",
   "metadata": {},
   "outputs": [
    {
     "data": {
      "text/plain": [
       "<AxesSubplot:xlabel='B1_a1'>"
      ]
     },
     "execution_count": 418,
     "metadata": {},
     "output_type": "execute_result"
    },
    {
     "data": {
      "image/png": "[encoded data removed]",
      "text/plain": [
       "<Figure size 432x288 with 1 Axes>"
      ]
     },
     "metadata": {
      "needs_background": "light"
     },
     "output_type": "display_data"
    }
   ],
   "source": [
    "sns.boxplot(x=dummy_df[best_features[5]])"
   ]
  },
  {
   "cell_type": "code",
   "execution_count": 419,
   "id": "mighty-satin",
   "metadata": {},
   "outputs": [
    {
     "data": {
      "text/plain": [
       "<AxesSubplot:xlabel='B2_a4'>"
      ]
     },
     "execution_count": 419,
     "metadata": {},
     "output_type": "execute_result"
    },
    {
     "data": {
      "image/png": "[encoded data removed]",
      "text/plain": [
       "<Figure size 432x288 with 1 Axes>"
      ]
     },
     "metadata": {
      "needs_background": "light"
     },
     "output_type": "display_data"
    }
   ],
   "source": [
    "sns.boxplot(x=dummy_df[best_features[6]])"
   ]
  },
  {
   "cell_type": "code",
   "execution_count": 420,
   "id": "black-trash",
   "metadata": {},
   "outputs": [
    {
     "data": {
      "text/plain": [
       "<AxesSubplot:xlabel='B2_a3'>"
      ]
     },
     "execution_count": 420,
     "metadata": {},
     "output_type": "execute_result"
    },
    {
     "data": {
      "image/png": "[encoded data removed]",
      "text/plain": [
       "<Figure size 432x288 with 1 Axes>"
      ]
     },
     "metadata": {
      "needs_background": "light"
     },
     "output_type": "display_data"
    }
   ],
   "source": [
    "sns.boxplot(x=dummy_df[best_features[7]])"
   ]
  },
  {
   "cell_type": "code",
   "execution_count": 421,
   "id": "fatal-sally",
   "metadata": {},
   "outputs": [
    {
     "data": {
      "text/plain": [
       "<AxesSubplot:xlabel='B2_d5'>"
      ]
     },
     "execution_count": 421,
     "metadata": {},
     "output_type": "execute_result"
    },
    {
     "data": {
      "image/png": "[encoded data removed]",
      "text/plain": [
       "<Figure size 432x288 with 1 Axes>"
      ]
     },
     "metadata": {
      "needs_background": "light"
     },
     "output_type": "display_data"
    }
   ],
   "source": [
    "sns.boxplot(x=dummy_df[best_features[8]])"
   ]
  },
  {
   "cell_type": "code",
   "execution_count": 422,
   "id": "decimal-longitude",
   "metadata": {
    "scrolled": true
   },
   "outputs": [
    {
     "name": "stdout",
     "output_type": "stream",
     "text": [
      "A1_1     194.500\n",
      "A2_1       6.000\n",
      "A3_1      24.350\n",
      "B1_a      18.000\n",
      "B1_a1      0.610\n",
      "B1_a2      0.050\n",
      "B1_a3      6.000\n",
      "B1_a4      3.000\n",
      "B1_a5     16.000\n",
      "B1_a6      1.200\n",
      "B1_b       2.400\n",
      "B1_b1      1.600\n",
      "B1_b2      0.900\n",
      "B1_b3      0.200\n",
      "B1_c      71.500\n",
      "B1_d       1.200\n",
      "B2_a1      1.500\n",
      "B2_a2      0.715\n",
      "B2_a3      0.520\n",
      "B2_a4      1.270\n",
      "B2_a5      1.300\n",
      "B2_b1      2.000\n",
      "B2_b2      0.500\n",
      "B2_b3      3.000\n",
      "B2_c1      1.950\n",
      "B2_c2     31.000\n",
      "B2_c4      0.120\n",
      "B2_c5      0.120\n",
      "B2_c6      0.100\n",
      "B2_c7      0.200\n",
      "B2_d1      5.000\n",
      "B2_d2      3.000\n",
      "B2_d3      5.000\n",
      "B2_d4      0.200\n",
      "B2_d5     25.000\n",
      "B2_d6      6.000\n",
      "B2_d7     16.000\n",
      "B2_d8      7.000\n",
      "B2_d9     11.000\n",
      "B3         3.700\n",
      "B4_a2      1.000\n",
      "B4_a5      0.010\n",
      "B5_a2      1.285\n",
      "B5_a3      0.600\n",
      "B6         0.800\n",
      "dtype: float64\n"
     ]
    }
   ],
   "source": [
    "Q1 = dummy_df.quantile(0.25)\n",
    "Q3 = dummy_df.quantile(0.75)\n",
    "IQR = Q3 - Q1\n",
    "print(IQR)"
   ]
  },
  {
   "cell_type": "code",
   "execution_count": 423,
   "id": "pacific-classroom",
   "metadata": {},
   "outputs": [
    {
     "name": "stdout",
     "output_type": "stream",
     "text": [
      "       A1_1   A2_1   A3_1   B1_a  B1_a1  B1_a2  B1_a3  B1_a4  B1_a5  B1_a6  \\\n",
      "0     False  False  False  False  False  False  False  False  False  False   \n",
      "1     False  False  False  False  False  False  False  False  False  False   \n",
      "2     False  False  False  False  False  False  False  False  False  False   \n",
      "3     False  False  False  False  False  False  False  False  False  False   \n",
      "4     False  False  False  False  False  False  False  False  False  False   \n",
      "...     ...    ...    ...    ...    ...    ...    ...    ...    ...    ...   \n",
      "1010  False  False  False  False  False  False  False  False  False  False   \n",
      "1011  False  False  False  False  False  False  False  False  False  False   \n",
      "1012  False  False  False  False  False  False  False  False  False  False   \n",
      "1013  False  False  False  False  False  False  False  False  False  False   \n",
      "1014  False  False  False  False  False  False  False  False  False  False   \n",
      "\n",
      "      ...  B2_d6  B2_d7  B2_d8  B2_d9     B3  B4_a2  B4_a5  B5_a2  B5_a3  \\\n",
      "0     ...  False  False  False  False  False  False  False  False  False   \n",
      "1     ...  False  False  False  False  False  False  False  False  False   \n",
      "2     ...  False  False  False  False  False  False  False  False  False   \n",
      "3     ...  False  False  False  False  False  False  False  False  False   \n",
      "4     ...  False  False  False  False  False  False  False  False  False   \n",
      "...   ...    ...    ...    ...    ...    ...    ...    ...    ...    ...   \n",
      "1010  ...  False  False  False  False  False  False  False  False  False   \n",
      "1011  ...  False  False  False  False  False  False  False  False  False   \n",
      "1012  ...  False  False  False  False  False  False  False  False  False   \n",
      "1013  ...  False  False  False  False  False  False  False  False  False   \n",
      "1014  ...  False  False  False  False  False  False  False  False  False   \n",
      "\n",
      "         B6  \n",
      "0     False  \n",
      "1      True  \n",
      "2     False  \n",
      "3     False  \n",
      "4     False  \n",
      "...     ...  \n",
      "1010  False  \n",
      "1011  False  \n",
      "1012  False  \n",
      "1013  False  \n",
      "1014  False  \n",
      "\n",
      "[1015 rows x 45 columns]\n"
     ]
    }
   ],
   "source": [
    "print((dummy_df < (Q1 - 1.5 * IQR)) |(dummy_df > (Q3 + 1.5 * IQR)))"
   ]
  },
  {
   "cell_type": "code",
   "execution_count": 424,
   "id": "single-voltage",
   "metadata": {},
   "outputs": [
    {
     "data": {
      "text/plain": [
       "(350, 45)"
      ]
     },
     "execution_count": 424,
     "metadata": {},
     "output_type": "execute_result"
    }
   ],
   "source": [
    "dummy_df_out = dummy_df[~((dummy_df < (Q1 - 1.5 * IQR)) |(dummy_df > (Q3 + 1.5 * IQR))).any(axis=1)]\n",
    "dummy_df_out.shape"
   ]
  },
  {
   "cell_type": "code",
   "execution_count": 425,
   "id": "native-sculpture",
   "metadata": {},
   "outputs": [
    {
     "data": {
      "text/html": [
       "<div>\n",
       "<style scoped>\n",
       "    .dataframe tbody tr th:only-of-type {\n",
       "        vertical-align: middle;\n",
       "    }\n",
       "\n",
       "    .dataframe tbody tr th {\n",
       "        vertical-align: top;\n",
       "    }\n",
       "\n",
       "    .dataframe thead th {\n",
       "        text-align: right;\n",
       "    }\n",
       "</style>\n",
       "<table border=\"1\" class=\"dataframe\">\n",
       "  <thead>\n",
       "    <tr style=\"text-align: right;\">\n",
       "      <th></th>\n",
       "      <th>A1_1</th>\n",
       "      <th>A2_1</th>\n",
       "      <th>A3_1</th>\n",
       "      <th>B1_a</th>\n",
       "      <th>B1_a1</th>\n",
       "      <th>B1_a2</th>\n",
       "      <th>B1_a3</th>\n",
       "      <th>B1_a4</th>\n",
       "      <th>B1_a5</th>\n",
       "      <th>B1_a6</th>\n",
       "      <th>...</th>\n",
       "      <th>B2_d6</th>\n",
       "      <th>B2_d7</th>\n",
       "      <th>B2_d8</th>\n",
       "      <th>B2_d9</th>\n",
       "      <th>B3</th>\n",
       "      <th>B4_a2</th>\n",
       "      <th>B4_a5</th>\n",
       "      <th>B5_a2</th>\n",
       "      <th>B5_a3</th>\n",
       "      <th>B6</th>\n",
       "    </tr>\n",
       "  </thead>\n",
       "  <tbody>\n",
       "    <tr>\n",
       "      <th>0</th>\n",
       "      <td>196</td>\n",
       "      <td>24</td>\n",
       "      <td>46.5</td>\n",
       "      <td>121</td>\n",
       "      <td>3.93</td>\n",
       "      <td>0.37</td>\n",
       "      <td>95</td>\n",
       "      <td>31</td>\n",
       "      <td>324</td>\n",
       "      <td>13.3</td>\n",
       "      <td>...</td>\n",
       "      <td>7</td>\n",
       "      <td>12</td>\n",
       "      <td>13</td>\n",
       "      <td>6</td>\n",
       "      <td>0.2</td>\n",
       "      <td>6.0</td>\n",
       "      <td>1.011</td>\n",
       "      <td>1.14</td>\n",
       "      <td>4.1</td>\n",
       "      <td>5.9</td>\n",
       "    </tr>\n",
       "    <tr>\n",
       "      <th>2</th>\n",
       "      <td>441</td>\n",
       "      <td>20</td>\n",
       "      <td>76.8</td>\n",
       "      <td>105</td>\n",
       "      <td>4.54</td>\n",
       "      <td>0.41</td>\n",
       "      <td>90</td>\n",
       "      <td>30</td>\n",
       "      <td>330</td>\n",
       "      <td>14.0</td>\n",
       "      <td>...</td>\n",
       "      <td>5</td>\n",
       "      <td>16</td>\n",
       "      <td>19</td>\n",
       "      <td>15</td>\n",
       "      <td>1.4</td>\n",
       "      <td>7.0</td>\n",
       "      <td>1.023</td>\n",
       "      <td>2.14</td>\n",
       "      <td>4.0</td>\n",
       "      <td>6.4</td>\n",
       "    </tr>\n",
       "    <tr>\n",
       "      <th>3</th>\n",
       "      <td>265</td>\n",
       "      <td>16</td>\n",
       "      <td>47.2</td>\n",
       "      <td>122</td>\n",
       "      <td>4.53</td>\n",
       "      <td>0.39</td>\n",
       "      <td>86</td>\n",
       "      <td>27</td>\n",
       "      <td>313</td>\n",
       "      <td>14.9</td>\n",
       "      <td>...</td>\n",
       "      <td>8</td>\n",
       "      <td>24</td>\n",
       "      <td>19</td>\n",
       "      <td>21</td>\n",
       "      <td>2.1</td>\n",
       "      <td>5.5</td>\n",
       "      <td>1.012</td>\n",
       "      <td>1.06</td>\n",
       "      <td>4.7</td>\n",
       "      <td>6.1</td>\n",
       "    </tr>\n",
       "    <tr>\n",
       "      <th>7</th>\n",
       "      <td>241</td>\n",
       "      <td>20</td>\n",
       "      <td>33.5</td>\n",
       "      <td>150</td>\n",
       "      <td>5.25</td>\n",
       "      <td>0.46</td>\n",
       "      <td>87</td>\n",
       "      <td>29</td>\n",
       "      <td>328</td>\n",
       "      <td>12.8</td>\n",
       "      <td>...</td>\n",
       "      <td>10</td>\n",
       "      <td>21</td>\n",
       "      <td>22</td>\n",
       "      <td>17</td>\n",
       "      <td>1.3</td>\n",
       "      <td>7.0</td>\n",
       "      <td>1.010</td>\n",
       "      <td>0.69</td>\n",
       "      <td>4.7</td>\n",
       "      <td>5.9</td>\n",
       "    </tr>\n",
       "    <tr>\n",
       "      <th>15</th>\n",
       "      <td>268</td>\n",
       "      <td>16</td>\n",
       "      <td>18.5</td>\n",
       "      <td>116</td>\n",
       "      <td>4.27</td>\n",
       "      <td>0.35</td>\n",
       "      <td>82</td>\n",
       "      <td>27</td>\n",
       "      <td>331</td>\n",
       "      <td>14.6</td>\n",
       "      <td>...</td>\n",
       "      <td>8</td>\n",
       "      <td>51</td>\n",
       "      <td>20</td>\n",
       "      <td>15</td>\n",
       "      <td>0.4</td>\n",
       "      <td>6.5</td>\n",
       "      <td>1.006</td>\n",
       "      <td>1.74</td>\n",
       "      <td>3.8</td>\n",
       "      <td>6.8</td>\n",
       "    </tr>\n",
       "    <tr>\n",
       "      <th>...</th>\n",
       "      <td>...</td>\n",
       "      <td>...</td>\n",
       "      <td>...</td>\n",
       "      <td>...</td>\n",
       "      <td>...</td>\n",
       "      <td>...</td>\n",
       "      <td>...</td>\n",
       "      <td>...</td>\n",
       "      <td>...</td>\n",
       "      <td>...</td>\n",
       "      <td>...</td>\n",
       "      <td>...</td>\n",
       "      <td>...</td>\n",
       "      <td>...</td>\n",
       "      <td>...</td>\n",
       "      <td>...</td>\n",
       "      <td>...</td>\n",
       "      <td>...</td>\n",
       "      <td>...</td>\n",
       "      <td>...</td>\n",
       "      <td>...</td>\n",
       "    </tr>\n",
       "    <tr>\n",
       "      <th>1008</th>\n",
       "      <td>365</td>\n",
       "      <td>28</td>\n",
       "      <td>63.0</td>\n",
       "      <td>144</td>\n",
       "      <td>5.01</td>\n",
       "      <td>0.43</td>\n",
       "      <td>86</td>\n",
       "      <td>29</td>\n",
       "      <td>334</td>\n",
       "      <td>13.6</td>\n",
       "      <td>...</td>\n",
       "      <td>13</td>\n",
       "      <td>52</td>\n",
       "      <td>18</td>\n",
       "      <td>20</td>\n",
       "      <td>1.0</td>\n",
       "      <td>6.0</td>\n",
       "      <td>1.011</td>\n",
       "      <td>1.10</td>\n",
       "      <td>5.1</td>\n",
       "      <td>5.6</td>\n",
       "    </tr>\n",
       "    <tr>\n",
       "      <th>1010</th>\n",
       "      <td>220</td>\n",
       "      <td>19</td>\n",
       "      <td>67.5</td>\n",
       "      <td>138</td>\n",
       "      <td>4.66</td>\n",
       "      <td>0.42</td>\n",
       "      <td>91</td>\n",
       "      <td>30</td>\n",
       "      <td>325</td>\n",
       "      <td>14.1</td>\n",
       "      <td>...</td>\n",
       "      <td>20</td>\n",
       "      <td>10</td>\n",
       "      <td>17</td>\n",
       "      <td>8</td>\n",
       "      <td>6.6</td>\n",
       "      <td>7.0</td>\n",
       "      <td>1.015</td>\n",
       "      <td>1.29</td>\n",
       "      <td>4.5</td>\n",
       "      <td>6.2</td>\n",
       "    </tr>\n",
       "    <tr>\n",
       "      <th>1011</th>\n",
       "      <td>334</td>\n",
       "      <td>18</td>\n",
       "      <td>51.0</td>\n",
       "      <td>139</td>\n",
       "      <td>4.63</td>\n",
       "      <td>0.42</td>\n",
       "      <td>91</td>\n",
       "      <td>30</td>\n",
       "      <td>330</td>\n",
       "      <td>15.6</td>\n",
       "      <td>...</td>\n",
       "      <td>16</td>\n",
       "      <td>22</td>\n",
       "      <td>35</td>\n",
       "      <td>40</td>\n",
       "      <td>1.0</td>\n",
       "      <td>6.0</td>\n",
       "      <td>1.015</td>\n",
       "      <td>1.88</td>\n",
       "      <td>3.9</td>\n",
       "      <td>5.6</td>\n",
       "    </tr>\n",
       "    <tr>\n",
       "      <th>1013</th>\n",
       "      <td>393</td>\n",
       "      <td>18</td>\n",
       "      <td>43.1</td>\n",
       "      <td>136</td>\n",
       "      <td>4.57</td>\n",
       "      <td>0.43</td>\n",
       "      <td>94</td>\n",
       "      <td>30</td>\n",
       "      <td>316</td>\n",
       "      <td>12.5</td>\n",
       "      <td>...</td>\n",
       "      <td>13</td>\n",
       "      <td>11</td>\n",
       "      <td>22</td>\n",
       "      <td>23</td>\n",
       "      <td>0.7</td>\n",
       "      <td>7.0</td>\n",
       "      <td>1.009</td>\n",
       "      <td>0.92</td>\n",
       "      <td>4.1</td>\n",
       "      <td>6.0</td>\n",
       "    </tr>\n",
       "    <tr>\n",
       "      <th>1014</th>\n",
       "      <td>371</td>\n",
       "      <td>24</td>\n",
       "      <td>55.9</td>\n",
       "      <td>127</td>\n",
       "      <td>4.41</td>\n",
       "      <td>0.40</td>\n",
       "      <td>90</td>\n",
       "      <td>29</td>\n",
       "      <td>320</td>\n",
       "      <td>13.8</td>\n",
       "      <td>...</td>\n",
       "      <td>13</td>\n",
       "      <td>14</td>\n",
       "      <td>16</td>\n",
       "      <td>12</td>\n",
       "      <td>7.5</td>\n",
       "      <td>8.0</td>\n",
       "      <td>1.017</td>\n",
       "      <td>2.45</td>\n",
       "      <td>4.5</td>\n",
       "      <td>6.2</td>\n",
       "    </tr>\n",
       "  </tbody>\n",
       "</table>\n",
       "<p>350 rows × 45 columns</p>\n",
       "</div>"
      ],
      "text/plain": [
       "      A1_1  A2_1  A3_1  B1_a  B1_a1  B1_a2  B1_a3  B1_a4  B1_a5  B1_a6  ...  \\\n",
       "0      196    24  46.5   121   3.93   0.37     95     31    324   13.3  ...   \n",
       "2      441    20  76.8   105   4.54   0.41     90     30    330   14.0  ...   \n",
       "3      265    16  47.2   122   4.53   0.39     86     27    313   14.9  ...   \n",
       "7      241    20  33.5   150   5.25   0.46     87     29    328   12.8  ...   \n",
       "15     268    16  18.5   116   4.27   0.35     82     27    331   14.6  ...   \n",
       "...    ...   ...   ...   ...    ...    ...    ...    ...    ...    ...  ...   \n",
       "1008   365    28  63.0   144   5.01   0.43     86     29    334   13.6  ...   \n",
       "1010   220    19  67.5   138   4.66   0.42     91     30    325   14.1  ...   \n",
       "1011   334    18  51.0   139   4.63   0.42     91     30    330   15.6  ...   \n",
       "1013   393    18  43.1   136   4.57   0.43     94     30    316   12.5  ...   \n",
       "1014   371    24  55.9   127   4.41   0.40     90     29    320   13.8  ...   \n",
       "\n",
       "      B2_d6  B2_d7  B2_d8  B2_d9   B3  B4_a2  B4_a5  B5_a2  B5_a3   B6  \n",
       "0         7     12     13      6  0.2    6.0  1.011   1.14    4.1  5.9  \n",
       "2         5     16     19     15  1.4    7.0  1.023   2.14    4.0  6.4  \n",
       "3         8     24     19     21  2.1    5.5  1.012   1.06    4.7  6.1  \n",
       "7        10     21     22     17  1.3    7.0  1.010   0.69    4.7  5.9  \n",
       "15        8     51     20     15  0.4    6.5  1.006   1.74    3.8  6.8  \n",
       "...     ...    ...    ...    ...  ...    ...    ...    ...    ...  ...  \n",
       "1008     13     52     18     20  1.0    6.0  1.011   1.10    5.1  5.6  \n",
       "1010     20     10     17      8  6.6    7.0  1.015   1.29    4.5  6.2  \n",
       "1011     16     22     35     40  1.0    6.0  1.015   1.88    3.9  5.6  \n",
       "1013     13     11     22     23  0.7    7.0  1.009   0.92    4.1  6.0  \n",
       "1014     13     14     16     12  7.5    8.0  1.017   2.45    4.5  6.2  \n",
       "\n",
       "[350 rows x 45 columns]"
      ]
     },
     "execution_count": 425,
     "metadata": {},
     "output_type": "execute_result"
    }
   ],
   "source": [
    "dummy_df_out"
   ]
  },
  {
   "cell_type": "code",
   "execution_count": 426,
   "id": "hourly-census",
   "metadata": {},
   "outputs": [
    {
     "data": {
      "text/plain": [
       "0        frail\n",
       "1        frail\n",
       "2        frail\n",
       "3        frail\n",
       "4        frail\n",
       "         ...  \n",
       "1010    robust\n",
       "1011    robust\n",
       "1012    robust\n",
       "1013    robust\n",
       "1014    robust\n",
       "Name: condition, Length: 1015, dtype: object"
      ]
     },
     "execution_count": 426,
     "metadata": {},
     "output_type": "execute_result"
    }
   ],
   "source": [
    "y"
   ]
  },
  {
   "cell_type": "code",
   "execution_count": 427,
   "id": "suffering-supplier",
   "metadata": {},
   "outputs": [],
   "source": [
    "df_test = dummy_df_out.join(y)\n",
    "\n",
    "df_test = df_test[df_test.condition != 'frail']\n",
    "df_test = df_test.reset_index(drop=True)\n",
    "\n",
    "y = df_test['condition']\n",
    "\n",
    "features = ['A1_1', 'A2_1', 'A3_1', 'B1_a', 'B1_a1', 'B1_a2',\n",
    "       'B1_a3', 'B1_a4', 'B1_a5', 'B1_a6', 'B1_b', 'B1_b1', 'B1_b2', 'B1_b3',\n",
    "       'B1_c', 'B1_d', 'B2_a1', 'B2_a2', 'B2_a3', 'B2_a4', 'B2_a5', 'B2_b1',\n",
    "       'B2_b2', 'B2_b3', 'B2_c1', 'B2_c2', 'B2_c4', 'B2_c5', 'B2_c6', 'B2_c7',\n",
    "       'B2_d1', 'B2_d2', 'B2_d3', 'B2_d4', 'B2_d5', 'B2_d6', 'B2_d7', 'B2_d8',\n",
    "       'B2_d9', 'B3', 'B4_a2', 'B4_a5', 'B5_a2', 'B5_a3', 'B6']\n",
    "\n",
    "X = df_test[features]\n",
    "\n",
    "# X = StandardScaler().fit_transform(X)"
   ]
  },
  {
   "cell_type": "code",
   "execution_count": 428,
   "id": "foreign-beaver",
   "metadata": {},
   "outputs": [
    {
     "name": "stdout",
     "output_type": "stream",
     "text": [
      "Counter({'robust': 140, 'prefrail_mci': 80, 'prefrail': 77, 'mci': 40, 'frail_mci': 10})\n"
     ]
    }
   ],
   "source": [
    "# Summarise the new class distribution\n",
    "counter = Counter(y)\n",
    "print(counter)"
   ]
  },
  {
   "cell_type": "code",
   "execution_count": 429,
   "id": "disabled-allowance",
   "metadata": {},
   "outputs": [],
   "source": [
    "# Transform the dataset using SMOTE\n",
    "# oversample = SMOTE(k_neighbors=2)\n",
    "# X, y = oversample.fit_resample(X, y)\n",
    "\n",
    "# Summarise the new class distribution\n",
    "# counter = Counter(y)\n",
    "# print(counter)"
   ]
  },
  {
   "cell_type": "code",
   "execution_count": 430,
   "id": "included-discharge",
   "metadata": {},
   "outputs": [
    {
     "name": "stdout",
     "output_type": "stream",
     "text": [
      "K-Nearest Neigbors: 0.295\n",
      "Random Forest Classifier: 0.424\n",
      "LogitBoost Classifier: 0.388\n"
     ]
    }
   ],
   "source": [
    "X_train, X_test, y_train, y_test = train_test_split(X, y, test_size = 0.4, random_state = 1)\n",
    "\n",
    "# K-Nearest Neigbors\n",
    "\n",
    "knn_model = KNeighborsClassifier()\n",
    "knn_model.fit(X_train, y_train)\n",
    "print(\"K-Nearest Neigbors:\", knn_model.score(X_test, y_test).round(3))\n",
    "\n",
    "# Random Forest Classifier\n",
    "\n",
    "rfc_model = RandomForestClassifier(random_state=1)\n",
    "rfc_model.fit(X_train, y_train)\n",
    "print(\"Random Forest Classifier:\", rfc_model.score(X_test, y_test).round(3))"
   ]
  },
  {
   "cell_type": "code",
   "execution_count": 381,
   "id": "transsexual-nomination",
   "metadata": {},
   "outputs": [
    {
     "name": "stdout",
     "output_type": "stream",
     "text": [
      "Performance Metrics for KNN:\n",
      "\n",
      "0.29496 \n",
      "\n",
      "[[ 0  1  0  1  3]\n",
      " [ 0  2  3  6  4]\n",
      " [ 0  9  5  6 11]\n",
      " [ 1  3  2  9 18]\n",
      " [ 3  4  8 15 25]] \n",
      "\n",
      "              precision    recall  f1-score   support\n",
      "\n",
      "   frail_mci       0.00      0.00      0.00         5\n",
      "         mci       0.11      0.13      0.12        15\n",
      "    prefrail       0.28      0.16      0.20        31\n",
      "prefrail_mci       0.24      0.27      0.26        33\n",
      "      robust       0.41      0.45      0.43        55\n",
      "\n",
      "    accuracy                           0.29       139\n",
      "   macro avg       0.21      0.20      0.20       139\n",
      "weighted avg       0.29      0.29      0.29       139\n",
      "\n",
      "Performance Metrics for RFC:\n",
      "\n",
      "0.42446 \n",
      "\n",
      "[[ 0  0  0  1  4]\n",
      " [ 0  1  1  1 12]\n",
      " [ 0  0  5  3 23]\n",
      " [ 0  0  6 10 17]\n",
      " [ 0  0  7  5 43]] \n",
      "\n",
      "              precision    recall  f1-score   support\n",
      "\n",
      "   frail_mci       0.00      0.00      0.00         5\n",
      "         mci       1.00      0.07      0.12        15\n",
      "    prefrail       0.26      0.16      0.20        31\n",
      "prefrail_mci       0.50      0.30      0.38        33\n",
      "      robust       0.43      0.78      0.56        55\n",
      "\n",
      "    accuracy                           0.42       139\n",
      "   macro avg       0.44      0.26      0.25       139\n",
      "weighted avg       0.46      0.42      0.37       139\n",
      "\n"
     ]
    },
    {
     "name": "stderr",
     "output_type": "stream",
     "text": [
      "C:\\Users\\shahi\\anaconda3\\envs\\FYP\\lib\\site-packages\\sklearn\\metrics\\_classification.py:1245: UndefinedMetricWarning: Precision and F-score are ill-defined and being set to 0.0 in labels with no predicted samples. Use `zero_division` parameter to control this behavior.\n",
      "  _warn_prf(average, modifier, msg_start, len(result))\n",
      "C:\\Users\\shahi\\anaconda3\\envs\\FYP\\lib\\site-packages\\sklearn\\metrics\\_classification.py:1245: UndefinedMetricWarning: Precision and F-score are ill-defined and being set to 0.0 in labels with no predicted samples. Use `zero_division` parameter to control this behavior.\n",
      "  _warn_prf(average, modifier, msg_start, len(result))\n",
      "C:\\Users\\shahi\\anaconda3\\envs\\FYP\\lib\\site-packages\\sklearn\\metrics\\_classification.py:1245: UndefinedMetricWarning: Precision and F-score are ill-defined and being set to 0.0 in labels with no predicted samples. Use `zero_division` parameter to control this behavior.\n",
      "  _warn_prf(average, modifier, msg_start, len(result))\n"
     ]
    }
   ],
   "source": [
    "# Calculating for KNN\n",
    "knn_pred = knn_model.predict(X_test)\n",
    "\n",
    "print('Performance Metrics for KNN:\\n')\n",
    "print(accuracy_score(y_test, knn_pred).round(5), '\\n')\n",
    "print(confusion_matrix(y_test, knn_pred), '\\n')\n",
    "print(classification_report(y_test, knn_pred))\n",
    "\n",
    "# Calculating for RFC\n",
    "rfc_pred = rfc_model.predict(X_test)\n",
    "\n",
    "print('Performance Metrics for RFC:\\n')\n",
    "print(accuracy_score(y_test, rfc_pred).round(5), '\\n')\n",
    "print(confusion_matrix(y_test, rfc_pred), '\\n')\n",
    "print(classification_report(y_test, rfc_pred))"
   ]
  },
  {
   "cell_type": "code",
   "execution_count": 382,
   "id": "reported-transportation",
   "metadata": {},
   "outputs": [
    {
     "name": "stdout",
     "output_type": "stream",
     "text": [
      "K-Nearest Neighbors: 0.33 accuracy with a standard deviation of 0.06\n",
      "Random Forest Classifier: 0.40 accuracy with a standard deviation of 0.06\n"
     ]
    }
   ],
   "source": [
    "# K-Nearest Neigbors\n",
    "\n",
    "knn_model = KNeighborsClassifier()\n",
    "knn_model.fit(X, y)\n",
    "scores = cross_val_score(knn_model, X, y, cv=5)\n",
    "print(\"K-Nearest Neighbors: %0.2f accuracy with a standard deviation of %0.2f\" % (scores.mean(), scores.std()))\n",
    "\n",
    "# Random Forest Classifier\n",
    "\n",
    "rfc_model = RandomForestClassifier()\n",
    "rfc_model.fit(X, y)\n",
    "scores = cross_val_score(rfc_model, X, y, cv=5)\n",
    "print(\"Random Forest Classifier: %0.2f accuracy with a standard deviation of %0.2f\" % (scores.mean(), scores.std()))"
   ]
  }
 ],
 "metadata": {
  "kernelspec": {
   "display_name": "Python 3",
   "language": "python",
   "name": "python3"
  },
  "language_info": {
   "codemirror_mode": {
    "name": "ipython",
    "version": 3
   },
   "file_extension": ".py",
   "mimetype": "text/x-python",
   "name": "python",
   "nbconvert_exporter": "python",
   "pygments_lexer": "ipython3",
   "version": "3.7.9"
  }
 },
 "nbformat": 4,
 "nbformat_minor": 5
}
