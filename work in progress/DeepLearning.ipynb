{
 "cells": [
  {
   "cell_type": "code",
   "execution_count": 171,
   "id": "aboriginal-genetics",
   "metadata": {},
   "outputs": [],
   "source": [
    "# Import packages\n",
    "import numpy as np # linear algebra\n",
    "import pandas as pd # data processing, CSV file I/O (e.g. pd.read_csv)\n",
    "import matplotlib\n",
    "import matplotlib.pyplot as plt\n",
    "from sklearn.model_selection import train_test_split\n",
    "from sklearn.model_selection import cross_val_score\n",
    "from sklearn.model_selection import StratifiedKFold\n",
    "from sklearn.model_selection import KFold\n",
    "from sklearn.naive_bayes import GaussianNB\n",
    "from sklearn.discriminant_analysis import LinearDiscriminantAnalysis\n",
    "from sklearn.metrics import confusion_matrix\n",
    "from sklearn.metrics import classification_report\n",
    "from sklearn.metrics import accuracy_score\n",
    "from sklearn.metrics import make_scorer\n",
    "from sklearn.preprocessing import StandardScaler\n",
    "from sklearn.preprocessing import MinMaxScaler\n",
    "from sklearn.preprocessing import normalize\n",
    "from sklearn.linear_model import LinearRegression\n",
    "from sklearn.linear_model import LogisticRegression\n",
    "from sklearn.tree import DecisionTreeClassifier\n",
    "from sklearn.neighbors import KNeighborsClassifier\n",
    "from sklearn.svm import SVC\n",
    "from sklearn.ensemble import RandomForestClassifier\n",
    "from imblearn.under_sampling import RandomUnderSampler\n",
    "from imblearn.over_sampling import SMOTE\n",
    "from collections import Counter\n",
    "from parse import preprocess\n",
    "import tensorflow as tf\n",
    "from tensorflow import keras\n",
    "from tensorflow.keras.models import Sequential\n",
    "from tensorflow.keras.layers import Dense\n",
    "from tensorflow.keras.layers import Dropout\n",
    "from tensorflow.keras import backend\n",
    "from tensorflow.keras.optimizers import Adam\n",
    "from tensorflow.keras.optimizers import SGD\n",
    "from tensorflow.keras.utils import to_categorical\n",
    "from tensorflow.keras import metrics\n",
    "from tensorflow.keras import regularizers"
   ]
  },
  {
   "cell_type": "code",
   "execution_count": 172,
   "id": "scenic-statistics",
   "metadata": {},
   "outputs": [],
   "source": [
    "# Function to show classification report for Cross Validation\n",
    "def classification_report_with_accuracy_score(y_true, y_pred):\n",
    "    print(classification_report(y_true, y_pred)) # print classification report\n",
    "    return accuracy_score(y_true, y_pred) # return accuracy score"
   ]
  },
  {
   "cell_type": "code",
   "execution_count": 173,
   "id": "functioning-middle",
   "metadata": {},
   "outputs": [],
   "source": [
    "# Pre-parse the dataset\n",
    "# data = preprocess(\"rawfile_blood.csv\")\n",
    "\n",
    "data = pd.read_csv(\"rawfile_blood_parsed_encoded.csv\")"
   ]
  },
  {
   "cell_type": "code",
   "execution_count": 174,
   "id": "professional-professor",
   "metadata": {},
   "outputs": [
    {
     "name": "stdout",
     "output_type": "stream",
     "text": [
      "\n",
      "####################################################################\n",
      "Labels with frequencies:\n",
      "Frail: 7\n",
      "Frail + MCI: 76\n",
      "MCI: 133\n",
      "Prefrail + MCI: 233\n",
      "Prefrail: 223\n",
      "Robust: 343\n"
     ]
    }
   ],
   "source": [
    "# Initialise counters for each condition\n",
    "frail = 0\n",
    "frail_mci = 0\n",
    "mci = 0\n",
    "prefrail_mci = 0\n",
    "prefrail = 0\n",
    "robust = 0\n",
    "\n",
    "# Count rows of data for each condition\n",
    "for i in range(0, len(data)):\n",
    "\tif data.at[i, 'condition'] == 'frail':\n",
    "\t\tfrail += 1\n",
    "\telif data.at[i, 'condition'] == 'frail_mci':\n",
    "\t\tfrail_mci += 1\n",
    "\telif data.at[i, 'condition'] == 'mci':\n",
    "\t\tmci += 1\n",
    "\telif data.at[i, 'condition'] == 'prefrail_mci':\n",
    "\t\tprefrail_mci += 1\n",
    "\telif data.at[i, 'condition'] == 'prefrail':\n",
    "\t\tprefrail += 1\n",
    "\telif data.at[i, 'condition'] == 'robust':\n",
    "\t\trobust += 1\n",
    "        \n",
    "# Display number of rows (frequency) for each condition (label)\n",
    "print(\"\\n####################################################################\")\n",
    "print(\"Labels with frequencies:\")\n",
    "print(\"Frail:\", frail)\n",
    "print(\"Frail + MCI:\", frail_mci)\n",
    "print(\"MCI:\", mci)\n",
    "print(\"Prefrail + MCI:\", prefrail_mci)\n",
    "print(\"Prefrail:\", prefrail)\n",
    "print(\"Robust:\", robust)"
   ]
  },
  {
   "cell_type": "code",
   "execution_count": 175,
   "id": "difficult-tuning",
   "metadata": {},
   "outputs": [
    {
     "data": {
      "text/plain": [
       "<bound method NDFrame.head of          mtag condition  A1_1  A2_1  A3_1  B1_a  B1_a1  B1_a2  B1_a3  B1_a4  \\\n",
       "0     ME02646     frail     2     0     0     0      0      0      1      1   \n",
       "1     ME03109     frail     2     0     0     1      1      1      1      1   \n",
       "2     ME06997     frail     2     1     1     0      1      1      1      1   \n",
       "3     ME07149     frail     2     1     0     0      1      0      1      1   \n",
       "4     ME07700     frail     2     1     0     0      0      0      1      1   \n",
       "...       ...       ...   ...   ...   ...   ...    ...    ...    ...    ...   \n",
       "1010  MV00454    robust     2     1     1     1      1      1      1      1   \n",
       "1011  MV00456    robust     2     1     0     1      1      1      1      1   \n",
       "1012  MV00460    robust     2     1     1     0      0      0      1      1   \n",
       "1013  MV00502    robust     2     1     0     1      1      1      1      1   \n",
       "1014  MV00510    robust     2     0     0     0      0      1      1      1   \n",
       "\n",
       "      ...  B2_d6  B2_d7  B2_d8  B2_d9  B3  B4_a2  B4_a5  B5_a2  B5_a3  B6  \n",
       "0     ...      1      1      1      1   3    NaN    NaN      1      1   3  \n",
       "1     ...      1      1      1      1   3    NaN    NaN      1      1   0  \n",
       "2     ...      1      1      1      1   3    NaN    NaN      1      1   2  \n",
       "3     ...      1      1      1      1   3    NaN    NaN      1      1   3  \n",
       "4     ...      1      1      1      1   3    NaN    NaN      1      1   3  \n",
       "...   ...    ...    ...    ...    ...  ..    ...    ...    ...    ...  ..  \n",
       "1010  ...      1      1      1      1   3    NaN    NaN      1      1   2  \n",
       "1011  ...      1      1      1      1   3    NaN    NaN      1      1   3  \n",
       "1012  ...      1      1      1      1   3    NaN    NaN      1      1   3  \n",
       "1013  ...      1      1      1      1   3    NaN    NaN      1      1   3  \n",
       "1014  ...      1      1      1      1   3    NaN    NaN      1      1   2  \n",
       "\n",
       "[1015 rows x 47 columns]>"
      ]
     },
     "execution_count": 175,
     "metadata": {},
     "output_type": "execute_result"
    }
   ],
   "source": [
    "data.head"
   ]
  },
  {
   "cell_type": "code",
   "execution_count": 176,
   "id": "unique-companion",
   "metadata": {},
   "outputs": [
    {
     "data": {
      "text/plain": [
       "Index(['mtag', 'condition', 'A1_1', 'A2_1', 'A3_1', 'B1_a', 'B1_a1', 'B1_a2',\n",
       "       'B1_a3', 'B1_a4', 'B1_a5', 'B1_a6', 'B1_b', 'B1_b1', 'B1_b2', 'B1_b3',\n",
       "       'B1_c', 'B1_d', 'B2_a1', 'B2_a2', 'B2_a3', 'B2_a4', 'B2_a5', 'B2_b1',\n",
       "       'B2_b2', 'B2_b3', 'B2_c1', 'B2_c2', 'B2_c4', 'B2_c5', 'B2_c6', 'B2_c7',\n",
       "       'B2_d1', 'B2_d2', 'B2_d3', 'B2_d4', 'B2_d5', 'B2_d6', 'B2_d7', 'B2_d8',\n",
       "       'B2_d9', 'B3', 'B4_a2', 'B4_a5', 'B5_a2', 'B5_a3', 'B6'],\n",
       "      dtype='object')"
      ]
     },
     "execution_count": 176,
     "metadata": {},
     "output_type": "execute_result"
    }
   ],
   "source": [
    "data.columns"
   ]
  },
  {
   "cell_type": "code",
   "execution_count": 177,
   "id": "integrated-soundtrack",
   "metadata": {},
   "outputs": [
    {
     "data": {
      "text/plain": [
       "robust          343\n",
       "prefrail_mci    233\n",
       "prefrail        223\n",
       "mci             133\n",
       "frail_mci        76\n",
       "frail             7\n",
       "Name: condition, dtype: int64"
      ]
     },
     "execution_count": 177,
     "metadata": {},
     "output_type": "execute_result"
    }
   ],
   "source": [
    "c = data['condition'].value_counts()\n",
    "condition = c.index\n",
    "c"
   ]
  },
  {
   "cell_type": "code",
   "execution_count": 178,
   "id": "obvious-transport",
   "metadata": {},
   "outputs": [],
   "source": [
    "# df1 = data[data['condition'] == 'robust']\n",
    "# df2 = data[data['condition'] == 'frail_mci']\n",
    "\n",
    "# df_final = pd.concat([df1, df2], ignore_index=True)\n",
    "\n",
    "# df_final"
   ]
  },
  {
   "cell_type": "code",
   "execution_count": 179,
   "id": "authorized-headline",
   "metadata": {},
   "outputs": [],
   "source": [
    "# d = df_final['condition'].value_counts()\n",
    "# condition = d.index\n",
    "# d"
   ]
  },
  {
   "cell_type": "code",
   "execution_count": 180,
   "id": "metropolitan-experience",
   "metadata": {},
   "outputs": [],
   "source": [
    "# data = df_final"
   ]
  },
  {
   "cell_type": "code",
   "execution_count": 181,
   "id": "positive-pitch",
   "metadata": {},
   "outputs": [
    {
     "data": {
      "text/plain": [
       "<bound method NDFrame.head of          mtag  condition  A1_1  A2_1  A3_1  B1_a  B1_a1  B1_a2  B1_a3  B1_a4  \\\n",
       "0     ME02646          5     2     0     0     0      0      0      1      1   \n",
       "1     ME03109          5     2     0     0     1      1      1      1      1   \n",
       "2     ME06997          5     2     1     1     0      1      1      1      1   \n",
       "3     ME07149          5     2     1     0     0      1      0      1      1   \n",
       "4     ME07700          5     2     1     0     0      0      0      1      1   \n",
       "...       ...        ...   ...   ...   ...   ...    ...    ...    ...    ...   \n",
       "1010  MV00454          0     2     1     1     1      1      1      1      1   \n",
       "1011  MV00456          0     2     1     0     1      1      1      1      1   \n",
       "1012  MV00460          0     2     1     1     0      0      0      1      1   \n",
       "1013  MV00502          0     2     1     0     1      1      1      1      1   \n",
       "1014  MV00510          0     2     0     0     0      0      1      1      1   \n",
       "\n",
       "      ...  B2_d6  B2_d7  B2_d8  B2_d9  B3  B4_a2  B4_a5  B5_a2  B5_a3  B6  \n",
       "0     ...      1      1      1      1   3    NaN    NaN      1      1   3  \n",
       "1     ...      1      1      1      1   3    NaN    NaN      1      1   0  \n",
       "2     ...      1      1      1      1   3    NaN    NaN      1      1   2  \n",
       "3     ...      1      1      1      1   3    NaN    NaN      1      1   3  \n",
       "4     ...      1      1      1      1   3    NaN    NaN      1      1   3  \n",
       "...   ...    ...    ...    ...    ...  ..    ...    ...    ...    ...  ..  \n",
       "1010  ...      1      1      1      1   3    NaN    NaN      1      1   2  \n",
       "1011  ...      1      1      1      1   3    NaN    NaN      1      1   3  \n",
       "1012  ...      1      1      1      1   3    NaN    NaN      1      1   3  \n",
       "1013  ...      1      1      1      1   3    NaN    NaN      1      1   3  \n",
       "1014  ...      1      1      1      1   3    NaN    NaN      1      1   2  \n",
       "\n",
       "[1015 rows x 47 columns]>"
      ]
     },
     "execution_count": 181,
     "metadata": {},
     "output_type": "execute_result"
    }
   ],
   "source": [
    "for i in range(len(condition)):\n",
    "    data['condition'].replace(condition[i], i, inplace = True)\n",
    "\n",
    "data.head"
   ]
  },
  {
   "cell_type": "code",
   "execution_count": 182,
   "id": "smoking-journey",
   "metadata": {},
   "outputs": [
    {
     "data": {
      "text/plain": [
       "<bound method NDFrame.tail of          mtag  condition  A1_1  A2_1  A3_1  B1_a  B1_a1  B1_a2  B1_a3  B1_a4  \\\n",
       "0     ME02646          5     2     0     0     0      0      0      1      1   \n",
       "1     ME03109          5     2     0     0     1      1      1      1      1   \n",
       "2     ME06997          5     2     1     1     0      1      1      1      1   \n",
       "3     ME07149          5     2     1     0     0      1      0      1      1   \n",
       "4     ME07700          5     2     1     0     0      0      0      1      1   \n",
       "...       ...        ...   ...   ...   ...   ...    ...    ...    ...    ...   \n",
       "1010  MV00454          0     2     1     1     1      1      1      1      1   \n",
       "1011  MV00456          0     2     1     0     1      1      1      1      1   \n",
       "1012  MV00460          0     2     1     1     0      0      0      1      1   \n",
       "1013  MV00502          0     2     1     0     1      1      1      1      1   \n",
       "1014  MV00510          0     2     0     0     0      0      1      1      1   \n",
       "\n",
       "      ...  B2_d6  B2_d7  B2_d8  B2_d9  B3  B4_a2  B4_a5  B5_a2  B5_a3  B6  \n",
       "0     ...      1      1      1      1   3    NaN    NaN      1      1   3  \n",
       "1     ...      1      1      1      1   3    NaN    NaN      1      1   0  \n",
       "2     ...      1      1      1      1   3    NaN    NaN      1      1   2  \n",
       "3     ...      1      1      1      1   3    NaN    NaN      1      1   3  \n",
       "4     ...      1      1      1      1   3    NaN    NaN      1      1   3  \n",
       "...   ...    ...    ...    ...    ...  ..    ...    ...    ...    ...  ..  \n",
       "1010  ...      1      1      1      1   3    NaN    NaN      1      1   2  \n",
       "1011  ...      1      1      1      1   3    NaN    NaN      1      1   3  \n",
       "1012  ...      1      1      1      1   3    NaN    NaN      1      1   3  \n",
       "1013  ...      1      1      1      1   3    NaN    NaN      1      1   3  \n",
       "1014  ...      1      1      1      1   3    NaN    NaN      1      1   2  \n",
       "\n",
       "[1015 rows x 47 columns]>"
      ]
     },
     "execution_count": 182,
     "metadata": {},
     "output_type": "execute_result"
    }
   ],
   "source": [
    "data.tail"
   ]
  },
  {
   "cell_type": "code",
   "execution_count": 183,
   "id": "substantial-jesus",
   "metadata": {},
   "outputs": [
    {
     "data": {
      "text/plain": [
       "Index(['mtag', 'condition', 'A1_1', 'A2_1', 'A3_1', 'B1_a', 'B1_a1', 'B1_a2',\n",
       "       'B1_a3', 'B1_a4', 'B1_a5', 'B1_a6', 'B1_b', 'B1_b1', 'B1_b2', 'B1_b3',\n",
       "       'B1_c', 'B1_d', 'B2_a1', 'B2_a2', 'B2_a3', 'B2_a4', 'B2_a5', 'B2_b1',\n",
       "       'B2_b2', 'B2_b3', 'B2_c1', 'B2_c2', 'B2_c4', 'B2_c5', 'B2_c6', 'B2_c7',\n",
       "       'B2_d1', 'B2_d2', 'B2_d3', 'B2_d4', 'B2_d5', 'B2_d6', 'B2_d7', 'B2_d8',\n",
       "       'B2_d9', 'B3', 'B4_a2', 'B4_a5', 'B5_a2', 'B5_a3', 'B6'],\n",
       "      dtype='object')"
      ]
     },
     "execution_count": 183,
     "metadata": {},
     "output_type": "execute_result"
    }
   ],
   "source": [
    "data.columns"
   ]
  },
  {
   "cell_type": "code",
   "execution_count": 184,
   "id": "chubby-fault",
   "metadata": {
    "scrolled": true
   },
   "outputs": [],
   "source": [
    "y = data['condition']\n",
    "\n",
    "# y = np.array(y)\n",
    "\n",
    "# features = ['A1_1', 'A2_1', 'A3_1', 'B1_a', 'B1_a1', 'B1_a2',\n",
    "#        'B1_a3', 'B1_a4', 'B1_a5', 'B1_a6', 'B1_b', 'B1_b1', 'B1_b2', 'B1_b3',\n",
    "#        'B1_c', 'B1_d', 'B2_a1', 'B2_a2', 'B2_a3', 'B2_a4', 'B2_a5', 'B2_b1',\n",
    "#        'B2_b2', 'B2_b3', 'B2_c1', 'B2_c2', 'B2_c4', 'B2_c5', 'B2_c6', 'B2_c7',\n",
    "#        'B2_d1', 'B2_d2', 'B2_d3', 'B2_d4', 'B2_d5', 'B2_d6', 'B2_d7', 'B2_d8',\n",
    "#        'B2_d9', 'B3', 'B4_a2', 'B4_a5', 'B5_a2', 'B5_a3', 'B6']\n",
    "\n",
    "features = ['A1_1', 'A2_1', 'A3_1', 'B1_a', 'B1_a1', 'B1_a2',\n",
    "       'B1_a3', 'B1_a4', 'B1_a5', 'B1_a6', 'B1_b', 'B1_b1', 'B1_b2', 'B1_b3',\n",
    "       'B1_c', 'B1_d', 'B2_a1', 'B2_a2', 'B2_a3', 'B2_a4', 'B2_a5', 'B2_b1',\n",
    "       'B2_b2', 'B2_b3', 'B2_c1', 'B2_c2', 'B2_c4', 'B2_c5', 'B2_c6', 'B2_c7',\n",
    "       'B2_d1', 'B2_d2', 'B2_d3', 'B2_d4', 'B2_d5', 'B2_d6', 'B2_d7', 'B2_d8',\n",
    "       'B2_d9', 'B3', 'B5_a2', 'B5_a3', 'B6']\n",
    "\n",
    "X = data[features]"
   ]
  },
  {
   "cell_type": "code",
   "execution_count": 185,
   "id": "enclosed-diversity",
   "metadata": {},
   "outputs": [],
   "source": [
    "# Transform the dataset using SMOTE\n",
    "oversample = SMOTE()\n",
    "X, y = oversample.fit_resample(X, y)"
   ]
  },
  {
   "cell_type": "code",
   "execution_count": 186,
   "id": "central-bible",
   "metadata": {},
   "outputs": [
    {
     "data": {
      "text/plain": [
       "array([[0.75592895, 0.        , 0.        , ..., 0.75592895, 0.76764947,\n",
       "        0.89642146],\n",
       "       [0.8       , 0.        , 0.        , ..., 0.8       , 0.81240384,\n",
       "        0.        ],\n",
       "       [0.76980036, 0.82775913, 0.86066297, ..., 0.76980036, 0.78173596,\n",
       "        0.60858062],\n",
       "       ...,\n",
       "       [0.80812204, 0.        , 0.        , ..., 0.80812204, 0.82065181,\n",
       "        0.63887656],\n",
       "       [0.76980036, 0.        , 0.        , ..., 0.76980036, 0.78173596,\n",
       "        0.91287093],\n",
       "       [0.76980036, 0.        , 0.        , ..., 0.76980036, 0.78173596,\n",
       "        0.91287093]])"
      ]
     },
     "execution_count": 186,
     "metadata": {},
     "output_type": "execute_result"
    }
   ],
   "source": [
    "X = normalize(X)\n",
    "\n",
    "# X = StandardScaler().fit_transform(X)\n",
    "X = MinMaxScaler(feature_range=(0, 1)).fit_transform(X)\n",
    "# X = X.apply(lambda X: (X-np.mean(X))/(np.std(X)+1e-10))\n",
    "\n",
    "# X = np.array(X)\n",
    "\n",
    "X"
   ]
  },
  {
   "cell_type": "code",
   "execution_count": 187,
   "id": "sound-nebraska",
   "metadata": {
    "scrolled": true
   },
   "outputs": [
    {
     "data": {
      "text/plain": [
       "0       5\n",
       "1       5\n",
       "2       5\n",
       "3       5\n",
       "4       5\n",
       "       ..\n",
       "2053    5\n",
       "2054    5\n",
       "2055    5\n",
       "2056    5\n",
       "2057    5\n",
       "Name: condition, Length: 2058, dtype: int64"
      ]
     },
     "execution_count": 187,
     "metadata": {},
     "output_type": "execute_result"
    }
   ],
   "source": [
    "y"
   ]
  },
  {
   "cell_type": "code",
   "execution_count": 188,
   "id": "piano-relative",
   "metadata": {},
   "outputs": [
    {
     "name": "stdout",
     "output_type": "stream",
     "text": [
      "Counter({5: 343, 4: 343, 3: 343, 1: 343, 2: 343, 0: 343})\n"
     ]
    }
   ],
   "source": [
    "# Summarise the new class distribution\n",
    "counter = Counter(y)\n",
    "print(counter)"
   ]
  },
  {
   "cell_type": "code",
   "execution_count": 189,
   "id": "functioning-crest",
   "metadata": {
    "scrolled": true
   },
   "outputs": [
    {
     "data": {
      "text/plain": [
       "(2058,)"
      ]
     },
     "execution_count": 189,
     "metadata": {},
     "output_type": "execute_result"
    }
   ],
   "source": [
    "y.shape"
   ]
  },
  {
   "cell_type": "code",
   "execution_count": 190,
   "id": "after-socket",
   "metadata": {},
   "outputs": [
    {
     "data": {
      "text/plain": [
       "0       5\n",
       "1       5\n",
       "2       5\n",
       "3       5\n",
       "4       5\n",
       "       ..\n",
       "2053    5\n",
       "2054    5\n",
       "2055    5\n",
       "2056    5\n",
       "2057    5\n",
       "Name: condition, Length: 2058, dtype: int64"
      ]
     },
     "execution_count": 190,
     "metadata": {},
     "output_type": "execute_result"
    }
   ],
   "source": [
    "y"
   ]
  },
  {
   "cell_type": "code",
   "execution_count": 191,
   "id": "employed-explanation",
   "metadata": {},
   "outputs": [],
   "source": [
    "# one hot encode output variable\n",
    "y = to_categorical(y)"
   ]
  },
  {
   "cell_type": "code",
   "execution_count": 192,
   "id": "partial-metallic",
   "metadata": {},
   "outputs": [
    {
     "data": {
      "text/plain": [
       "(2058, 6)"
      ]
     },
     "execution_count": 192,
     "metadata": {},
     "output_type": "execute_result"
    }
   ],
   "source": [
    "y.shape"
   ]
  },
  {
   "cell_type": "code",
   "execution_count": 193,
   "id": "advisory-citation",
   "metadata": {},
   "outputs": [
    {
     "data": {
      "text/plain": [
       "array([[0., 0., 0., 0., 0., 1.],\n",
       "       [0., 0., 0., 0., 0., 1.],\n",
       "       [0., 0., 0., 0., 0., 1.],\n",
       "       ...,\n",
       "       [0., 0., 0., 0., 0., 1.],\n",
       "       [0., 0., 0., 0., 0., 1.],\n",
       "       [0., 0., 0., 0., 0., 1.]], dtype=float32)"
      ]
     },
     "execution_count": 193,
     "metadata": {},
     "output_type": "execute_result"
    }
   ],
   "source": [
    "y"
   ]
  },
  {
   "cell_type": "code",
   "execution_count": 194,
   "id": "foreign-drama",
   "metadata": {},
   "outputs": [
    {
     "data": {
      "text/plain": [
       "(2058, 43)"
      ]
     },
     "execution_count": 194,
     "metadata": {},
     "output_type": "execute_result"
    }
   ],
   "source": [
    "n_samples, n_features = X.shape\n",
    "X.shape"
   ]
  },
  {
   "cell_type": "code",
   "execution_count": 195,
   "id": "proprietary-flash",
   "metadata": {},
   "outputs": [],
   "source": [
    "class MyThresholdCallback(tf.keras.callbacks.Callback):\n",
    "    def __init__(self, threshold):\n",
    "        super(MyThresholdCallback, self).__init__()\n",
    "        self.threshold = threshold\n",
    "\n",
    "    def on_epoch_end(self, epoch, logs=None): \n",
    "        val_auc_ = logs[\"val_auc\"]\n",
    "        if val_auc_ >= self.threshold:\n",
    "            self.model.stop_training = True\n",
    "\n",
    "callback = MyThresholdCallback(threshold=.99)"
   ]
  },
  {
   "cell_type": "code",
   "execution_count": 196,
   "id": "timely-investigation",
   "metadata": {},
   "outputs": [],
   "source": [
    "X_train, X_test, y_train, y_test = train_test_split(X, y, test_size = 0.2, random_state = 1)"
   ]
  },
  {
   "cell_type": "code",
   "execution_count": 197,
   "id": "later-prerequisite",
   "metadata": {},
   "outputs": [
    {
     "data": {
      "text/plain": [
       "(1646, 6)"
      ]
     },
     "execution_count": 197,
     "metadata": {},
     "output_type": "execute_result"
    }
   ],
   "source": [
    "y_train.shape"
   ]
  },
  {
   "cell_type": "code",
   "execution_count": 198,
   "id": "metallic-landing",
   "metadata": {},
   "outputs": [
    {
     "data": {
      "text/plain": [
       "(412, 6)"
      ]
     },
     "execution_count": 198,
     "metadata": {},
     "output_type": "execute_result"
    }
   ],
   "source": [
    "y_test.shape"
   ]
  },
  {
   "cell_type": "code",
   "execution_count": 199,
   "id": "median-tender",
   "metadata": {},
   "outputs": [
    {
     "data": {
      "text/plain": [
       "(1646, 43)"
      ]
     },
     "execution_count": 199,
     "metadata": {},
     "output_type": "execute_result"
    }
   ],
   "source": [
    "X_train.shape"
   ]
  },
  {
   "cell_type": "code",
   "execution_count": 200,
   "id": "unusual-vacuum",
   "metadata": {},
   "outputs": [
    {
     "data": {
      "text/plain": [
       "(412, 43)"
      ]
     },
     "execution_count": 200,
     "metadata": {},
     "output_type": "execute_result"
    }
   ],
   "source": [
    "X_test.shape"
   ]
  },
  {
   "cell_type": "code",
   "execution_count": 201,
   "id": "contrary-painting",
   "metadata": {},
   "outputs": [
    {
     "name": "stdout",
     "output_type": "stream",
     "text": [
      "Model: \"sequential_3\"\n",
      "_________________________________________________________________\n",
      "Layer (type)                 Output Shape              Param #   \n",
      "=================================================================\n",
      "dense_17 (Dense)             (None, 100)               4400      \n",
      "_________________________________________________________________\n",
      "dropout_14 (Dropout)         (None, 100)               0         \n",
      "_________________________________________________________________\n",
      "dense_18 (Dense)             (None, 100)               10100     \n",
      "_________________________________________________________________\n",
      "dropout_15 (Dropout)         (None, 100)               0         \n",
      "_________________________________________________________________\n",
      "dense_19 (Dense)             (None, 100)               10100     \n",
      "_________________________________________________________________\n",
      "dropout_16 (Dropout)         (None, 100)               0         \n",
      "_________________________________________________________________\n",
      "dense_20 (Dense)             (None, 100)               10100     \n",
      "_________________________________________________________________\n",
      "dropout_17 (Dropout)         (None, 100)               0         \n",
      "_________________________________________________________________\n",
      "dense_21 (Dense)             (None, 100)               10100     \n",
      "_________________________________________________________________\n",
      "dropout_18 (Dropout)         (None, 100)               0         \n",
      "_________________________________________________________________\n",
      "dense_22 (Dense)             (None, 6)                 606       \n",
      "=================================================================\n",
      "Total params: 45,406\n",
      "Trainable params: 45,406\n",
      "Non-trainable params: 0\n",
      "_________________________________________________________________\n"
     ]
    }
   ],
   "source": [
    "METRICS = [\n",
    "      metrics.TruePositives(name='tp'),\n",
    "      metrics.FalsePositives(name='fp'),\n",
    "      metrics.TrueNegatives(name='tn'),\n",
    "      metrics.FalseNegatives(name='fn'), \n",
    "#       metrics.BinaryAccuracy(name='accuracy'),\n",
    "      metrics.CategoricalAccuracy(name='accuracy'),\n",
    "      metrics.Precision(name='precision'),\n",
    "      metrics.Recall(name='recall'),\n",
    "      metrics.AUC(name='auc'),\n",
    "]\n",
    "\n",
    "# opt = SGD(learning_rate=0.01)\n",
    "model = Sequential()\n",
    "model.add(Dense(units=100,activation='relu', input_dim=n_features))\n",
    "model.add(Dropout(rate=0.2))\n",
    "model.add(Dense(units=100,activation='relu'))\n",
    "model.add(Dropout(rate=0.2))\n",
    "model.add(Dense(units=100,activation='relu'))\n",
    "model.add(Dropout(rate=0.2))\n",
    "model.add(Dense(units=100,activation='relu'))\n",
    "model.add(Dropout(rate=0.2))\n",
    "model.add(Dense(units=100,activation='relu'))\n",
    "model.add(Dropout(rate=0.2))\n",
    "# model.add(Dense(units=1,activation='sigmoid'))\n",
    "model.add(Dense(units=6,activation='softmax'))\n",
    "\n",
    "# model.compile(loss='binary_crossentropy',optimizer='adam',metrics=METRICS)\n",
    "model.compile(loss='categorical_crossentropy',optimizer='adam',metrics=METRICS)\n",
    "                    \n",
    "model.summary()"
   ]
  },
  {
   "cell_type": "code",
   "execution_count": 202,
   "id": "solar-shipping",
   "metadata": {},
   "outputs": [
    {
     "name": "stdout",
     "output_type": "stream",
     "text": [
      "Epoch 1/100\n",
      "42/42 [==============================] - 1s 24ms/step - loss: 1.7819 - tp: 0.0000e+00 - fp: 0.0000e+00 - tn: 6580.0000 - fn: 1316.0000 - accuracy: 0.2074 - precision: 0.0000e+00 - recall: 0.0000e+00 - auc: 0.5461 - val_loss: 1.7078 - val_tp: 0.0000e+00 - val_fp: 0.0000e+00 - val_tn: 1650.0000 - val_fn: 330.0000 - val_accuracy: 0.3303 - val_precision: 0.0000e+00 - val_recall: 0.0000e+00 - val_auc: 0.6863\n",
      "Epoch 2/100\n",
      "42/42 [==============================] - 0s 5ms/step - loss: 1.6521 - tp: 67.0000 - fp: 23.0000 - tn: 6557.0000 - fn: 1249.0000 - accuracy: 0.2903 - precision: 0.7444 - recall: 0.0509 - auc: 0.6624 - val_loss: 1.4785 - val_tp: 55.0000 - val_fp: 17.0000 - val_tn: 1633.0000 - val_fn: 275.0000 - val_accuracy: 0.3545 - val_precision: 0.7639 - val_recall: 0.1667 - val_auc: 0.7438\n",
      "Epoch 3/100\n",
      "42/42 [==============================] - 0s 5ms/step - loss: 1.5265 - tp: 148.0000 - fp: 46.0000 - tn: 6534.0000 - fn: 1168.0000 - accuracy: 0.3412 - precision: 0.7629 - recall: 0.1125 - auc: 0.7102 - val_loss: 1.4427 - val_tp: 59.0000 - val_fp: 23.0000 - val_tn: 1627.0000 - val_fn: 271.0000 - val_accuracy: 0.3424 - val_precision: 0.7195 - val_recall: 0.1788 - val_auc: 0.7495\n",
      "Epoch 4/100\n",
      "42/42 [==============================] - 0s 5ms/step - loss: 1.4687 - tp: 182.0000 - fp: 44.0000 - tn: 6536.0000 - fn: 1134.0000 - accuracy: 0.3587 - precision: 0.8053 - recall: 0.1383 - auc: 0.7335 - val_loss: 1.3693 - val_tp: 59.0000 - val_fp: 5.0000 - val_tn: 1645.0000 - val_fn: 271.0000 - val_accuracy: 0.4061 - val_precision: 0.9219 - val_recall: 0.1788 - val_auc: 0.7801\n",
      "Epoch 5/100\n",
      "42/42 [==============================] - 0s 5ms/step - loss: 1.4327 - tp: 196.0000 - fp: 33.0000 - tn: 6547.0000 - fn: 1120.0000 - accuracy: 0.3465 - precision: 0.8559 - recall: 0.1489 - auc: 0.7401 - val_loss: 1.3388 - val_tp: 59.0000 - val_fp: 8.0000 - val_tn: 1642.0000 - val_fn: 271.0000 - val_accuracy: 0.4182 - val_precision: 0.8806 - val_recall: 0.1788 - val_auc: 0.7899\n",
      "Epoch 6/100\n",
      "42/42 [==============================] - 0s 5ms/step - loss: 1.3876 - tp: 214.0000 - fp: 26.0000 - tn: 6554.0000 - fn: 1102.0000 - accuracy: 0.3784 - precision: 0.8917 - recall: 0.1626 - auc: 0.7579 - val_loss: 1.3207 - val_tp: 61.0000 - val_fp: 6.0000 - val_tn: 1644.0000 - val_fn: 269.0000 - val_accuracy: 0.4091 - val_precision: 0.9104 - val_recall: 0.1848 - val_auc: 0.7936\n",
      "Epoch 7/100\n",
      "42/42 [==============================] - 0s 5ms/step - loss: 1.3598 - tp: 232.0000 - fp: 28.0000 - tn: 6552.0000 - fn: 1084.0000 - accuracy: 0.3891 - precision: 0.8923 - recall: 0.1763 - auc: 0.7720 - val_loss: 1.3000 - val_tp: 59.0000 - val_fp: 3.0000 - val_tn: 1647.0000 - val_fn: 271.0000 - val_accuracy: 0.4273 - val_precision: 0.9516 - val_recall: 0.1788 - val_auc: 0.8073\n",
      "Epoch 8/100\n",
      "42/42 [==============================] - 0s 5ms/step - loss: 1.3436 - tp: 236.0000 - fp: 21.0000 - tn: 6559.0000 - fn: 1080.0000 - accuracy: 0.3906 - precision: 0.9183 - recall: 0.1793 - auc: 0.7782 - val_loss: 1.2868 - val_tp: 64.0000 - val_fp: 5.0000 - val_tn: 1645.0000 - val_fn: 266.0000 - val_accuracy: 0.4394 - val_precision: 0.9275 - val_recall: 0.1939 - val_auc: 0.8083\n",
      "Epoch 9/100\n",
      "42/42 [==============================] - 0s 5ms/step - loss: 1.3109 - tp: 256.0000 - fp: 31.0000 - tn: 6549.0000 - fn: 1060.0000 - accuracy: 0.4202 - precision: 0.8920 - recall: 0.1945 - auc: 0.7896 - val_loss: 1.2874 - val_tp: 79.0000 - val_fp: 15.0000 - val_tn: 1635.0000 - val_fn: 251.0000 - val_accuracy: 0.4212 - val_precision: 0.8404 - val_recall: 0.2394 - val_auc: 0.8085\n",
      "Epoch 10/100\n",
      "42/42 [==============================] - 0s 5ms/step - loss: 1.3195 - tp: 256.0000 - fp: 40.0000 - tn: 6540.0000 - fn: 1060.0000 - accuracy: 0.4065 - precision: 0.8649 - recall: 0.1945 - auc: 0.7856 - val_loss: 1.2645 - val_tp: 78.0000 - val_fp: 10.0000 - val_tn: 1640.0000 - val_fn: 252.0000 - val_accuracy: 0.4485 - val_precision: 0.8864 - val_recall: 0.2364 - val_auc: 0.8159\n",
      "Epoch 11/100\n",
      "42/42 [==============================] - 0s 5ms/step - loss: 1.2818 - tp: 279.0000 - fp: 40.0000 - tn: 6540.0000 - fn: 1037.0000 - accuracy: 0.4339 - precision: 0.8746 - recall: 0.2120 - auc: 0.7997 - val_loss: 1.2517 - val_tp: 77.0000 - val_fp: 10.0000 - val_tn: 1640.0000 - val_fn: 253.0000 - val_accuracy: 0.4697 - val_precision: 0.8851 - val_recall: 0.2333 - val_auc: 0.8211\n",
      "Epoch 12/100\n",
      "42/42 [==============================] - 0s 5ms/step - loss: 1.2766 - tp: 285.0000 - fp: 37.0000 - tn: 6543.0000 - fn: 1031.0000 - accuracy: 0.4491 - precision: 0.8851 - recall: 0.2166 - auc: 0.8067 - val_loss: 1.2249 - val_tp: 82.0000 - val_fp: 8.0000 - val_tn: 1642.0000 - val_fn: 248.0000 - val_accuracy: 0.4545 - val_precision: 0.9111 - val_recall: 0.2485 - val_auc: 0.8301\n",
      "Epoch 13/100\n",
      "42/42 [==============================] - 0s 5ms/step - loss: 1.2624 - tp: 285.0000 - fp: 32.0000 - tn: 6548.0000 - fn: 1031.0000 - accuracy: 0.4384 - precision: 0.8991 - recall: 0.2166 - auc: 0.8042 - val_loss: 1.1940 - val_tp: 85.0000 - val_fp: 8.0000 - val_tn: 1642.0000 - val_fn: 245.0000 - val_accuracy: 0.4606 - val_precision: 0.9140 - val_recall: 0.2576 - val_auc: 0.8346\n",
      "Epoch 14/100\n",
      "42/42 [==============================] - 0s 6ms/step - loss: 1.2459 - tp: 302.0000 - fp: 40.0000 - tn: 6540.0000 - fn: 1014.0000 - accuracy: 0.4453 - precision: 0.8830 - recall: 0.2295 - auc: 0.8159 - val_loss: 1.1853 - val_tp: 86.0000 - val_fp: 6.0000 - val_tn: 1644.0000 - val_fn: 244.0000 - val_accuracy: 0.4758 - val_precision: 0.9348 - val_recall: 0.2606 - val_auc: 0.8409\n",
      "Epoch 15/100\n",
      "42/42 [==============================] - 0s 5ms/step - loss: 1.2300 - tp: 299.0000 - fp: 32.0000 - tn: 6548.0000 - fn: 1017.0000 - accuracy: 0.4574 - precision: 0.9033 - recall: 0.2272 - auc: 0.8193 - val_loss: 1.2060 - val_tp: 98.0000 - val_fp: 22.0000 - val_tn: 1628.0000 - val_fn: 232.0000 - val_accuracy: 0.4515 - val_precision: 0.8167 - val_recall: 0.2970 - val_auc: 0.8298\n",
      "Epoch 16/100\n",
      "42/42 [==============================] - 0s 5ms/step - loss: 1.2038 - tp: 332.0000 - fp: 52.0000 - tn: 6528.0000 - fn: 984.0000 - accuracy: 0.4673 - precision: 0.8646 - recall: 0.2523 - auc: 0.8283 - val_loss: 1.1999 - val_tp: 75.0000 - val_fp: 5.0000 - val_tn: 1645.0000 - val_fn: 255.0000 - val_accuracy: 0.4848 - val_precision: 0.9375 - val_recall: 0.2273 - val_auc: 0.8289\n",
      "Epoch 17/100\n",
      "42/42 [==============================] - 0s 5ms/step - loss: 1.2413 - tp: 317.0000 - fp: 44.0000 - tn: 6536.0000 - fn: 999.0000 - accuracy: 0.4673 - precision: 0.8781 - recall: 0.2409 - auc: 0.8205 - val_loss: 1.2082 - val_tp: 82.0000 - val_fp: 11.0000 - val_tn: 1639.0000 - val_fn: 248.0000 - val_accuracy: 0.4909 - val_precision: 0.8817 - val_recall: 0.2485 - val_auc: 0.8391\n",
      "Epoch 18/100\n",
      "42/42 [==============================] - 0s 5ms/step - loss: 1.2001 - tp: 337.0000 - fp: 56.0000 - tn: 6524.0000 - fn: 979.0000 - accuracy: 0.4704 - precision: 0.8575 - recall: 0.2561 - auc: 0.8304 - val_loss: 1.1526 - val_tp: 92.0000 - val_fp: 8.0000 - val_tn: 1642.0000 - val_fn: 238.0000 - val_accuracy: 0.4909 - val_precision: 0.9200 - val_recall: 0.2788 - val_auc: 0.8424\n",
      "Epoch 19/100\n",
      "42/42 [==============================] - 0s 5ms/step - loss: 1.1868 - tp: 347.0000 - fp: 49.0000 - tn: 6531.0000 - fn: 969.0000 - accuracy: 0.4901 - precision: 0.8763 - recall: 0.2637 - auc: 0.8347 - val_loss: 1.1973 - val_tp: 92.0000 - val_fp: 17.0000 - val_tn: 1633.0000 - val_fn: 238.0000 - val_accuracy: 0.4758 - val_precision: 0.8440 - val_recall: 0.2788 - val_auc: 0.8320\n",
      "Epoch 20/100\n",
      "42/42 [==============================] - 0s 5ms/step - loss: 1.2117 - tp: 339.0000 - fp: 54.0000 - tn: 6526.0000 - fn: 977.0000 - accuracy: 0.4825 - precision: 0.8626 - recall: 0.2576 - auc: 0.8335 - val_loss: 1.1958 - val_tp: 95.0000 - val_fp: 17.0000 - val_tn: 1633.0000 - val_fn: 235.0000 - val_accuracy: 0.4879 - val_precision: 0.8482 - val_recall: 0.2879 - val_auc: 0.8411\n",
      "Epoch 21/100\n",
      "42/42 [==============================] - 0s 5ms/step - loss: 1.1503 - tp: 361.0000 - fp: 44.0000 - tn: 6536.0000 - fn: 955.0000 - accuracy: 0.5030 - precision: 0.8914 - recall: 0.2743 - auc: 0.8474 - val_loss: 1.1433 - val_tp: 93.0000 - val_fp: 10.0000 - val_tn: 1640.0000 - val_fn: 237.0000 - val_accuracy: 0.4879 - val_precision: 0.9029 - val_recall: 0.2818 - val_auc: 0.8469\n"
     ]
    },
    {
     "name": "stdout",
     "output_type": "stream",
     "text": [
      "Epoch 22/100\n",
      "42/42 [==============================] - 0s 5ms/step - loss: 1.1325 - tp: 382.0000 - fp: 55.0000 - tn: 6525.0000 - fn: 934.0000 - accuracy: 0.5091 - precision: 0.8741 - recall: 0.2903 - auc: 0.8520 - val_loss: 1.1603 - val_tp: 98.0000 - val_fp: 21.0000 - val_tn: 1629.0000 - val_fn: 232.0000 - val_accuracy: 0.5000 - val_precision: 0.8235 - val_recall: 0.2970 - val_auc: 0.8479\n",
      "Epoch 23/100\n",
      "42/42 [==============================] - 0s 5ms/step - loss: 1.1456 - tp: 383.0000 - fp: 73.0000 - tn: 6507.0000 - fn: 933.0000 - accuracy: 0.5000 - precision: 0.8399 - recall: 0.2910 - auc: 0.8502 - val_loss: 1.1467 - val_tp: 94.0000 - val_fp: 12.0000 - val_tn: 1638.0000 - val_fn: 236.0000 - val_accuracy: 0.4818 - val_precision: 0.8868 - val_recall: 0.2848 - val_auc: 0.8452\n",
      "Epoch 24/100\n",
      "42/42 [==============================] - 0s 5ms/step - loss: 1.1256 - tp: 373.0000 - fp: 48.0000 - tn: 6532.0000 - fn: 943.0000 - accuracy: 0.5243 - precision: 0.8860 - recall: 0.2834 - auc: 0.8552 - val_loss: 1.2036 - val_tp: 94.0000 - val_fp: 12.0000 - val_tn: 1638.0000 - val_fn: 236.0000 - val_accuracy: 0.4818 - val_precision: 0.8868 - val_recall: 0.2848 - val_auc: 0.8362\n",
      "Epoch 25/100\n",
      "42/42 [==============================] - 0s 5ms/step - loss: 1.1186 - tp: 398.0000 - fp: 58.0000 - tn: 6522.0000 - fn: 918.0000 - accuracy: 0.5220 - precision: 0.8728 - recall: 0.3024 - auc: 0.8583 - val_loss: 1.0979 - val_tp: 101.0000 - val_fp: 15.0000 - val_tn: 1635.0000 - val_fn: 229.0000 - val_accuracy: 0.5091 - val_precision: 0.8707 - val_recall: 0.3061 - val_auc: 0.8604\n",
      "Epoch 26/100\n",
      "42/42 [==============================] - 0s 5ms/step - loss: 1.1073 - tp: 398.0000 - fp: 64.0000 - tn: 6516.0000 - fn: 918.0000 - accuracy: 0.5236 - precision: 0.8615 - recall: 0.3024 - auc: 0.8628 - val_loss: 1.1970 - val_tp: 98.0000 - val_fp: 23.0000 - val_tn: 1627.0000 - val_fn: 232.0000 - val_accuracy: 0.4970 - val_precision: 0.8099 - val_recall: 0.2970 - val_auc: 0.8456\n",
      "Epoch 27/100\n",
      "42/42 [==============================] - 0s 5ms/step - loss: 1.0929 - tp: 413.0000 - fp: 54.0000 - tn: 6526.0000 - fn: 903.0000 - accuracy: 0.5258 - precision: 0.8844 - recall: 0.3138 - auc: 0.8644 - val_loss: 1.1391 - val_tp: 101.0000 - val_fp: 18.0000 - val_tn: 1632.0000 - val_fn: 229.0000 - val_accuracy: 0.5303 - val_precision: 0.8487 - val_recall: 0.3061 - val_auc: 0.8570\n",
      "Epoch 28/100\n",
      "42/42 [==============================] - 0s 5ms/step - loss: 1.1051 - tp: 396.0000 - fp: 66.0000 - tn: 6514.0000 - fn: 920.0000 - accuracy: 0.5266 - precision: 0.8571 - recall: 0.3009 - auc: 0.8606 - val_loss: 1.1227 - val_tp: 105.0000 - val_fp: 23.0000 - val_tn: 1627.0000 - val_fn: 225.0000 - val_accuracy: 0.5424 - val_precision: 0.8203 - val_recall: 0.3182 - val_auc: 0.8615\n",
      "Epoch 29/100\n",
      "42/42 [==============================] - 0s 5ms/step - loss: 1.0907 - tp: 388.0000 - fp: 51.0000 - tn: 6529.0000 - fn: 928.0000 - accuracy: 0.5327 - precision: 0.8838 - recall: 0.2948 - auc: 0.8658 - val_loss: 1.2060 - val_tp: 113.0000 - val_fp: 31.0000 - val_tn: 1619.0000 - val_fn: 217.0000 - val_accuracy: 0.5242 - val_precision: 0.7847 - val_recall: 0.3424 - val_auc: 0.8551\n",
      "Epoch 30/100\n",
      "42/42 [==============================] - 0s 5ms/step - loss: 1.0719 - tp: 427.0000 - fp: 74.0000 - tn: 6506.0000 - fn: 889.0000 - accuracy: 0.5524 - precision: 0.8523 - recall: 0.3245 - auc: 0.8726 - val_loss: 1.1014 - val_tp: 109.0000 - val_fp: 19.0000 - val_tn: 1631.0000 - val_fn: 221.0000 - val_accuracy: 0.5182 - val_precision: 0.8516 - val_recall: 0.3303 - val_auc: 0.8667\n",
      "Epoch 31/100\n",
      "42/42 [==============================] - 0s 5ms/step - loss: 1.0626 - tp: 435.0000 - fp: 86.0000 - tn: 6494.0000 - fn: 881.0000 - accuracy: 0.5509 - precision: 0.8349 - recall: 0.3305 - auc: 0.8752 - val_loss: 1.1658 - val_tp: 107.0000 - val_fp: 21.0000 - val_tn: 1629.0000 - val_fn: 223.0000 - val_accuracy: 0.5242 - val_precision: 0.8359 - val_recall: 0.3242 - val_auc: 0.8588\n",
      "Epoch 32/100\n",
      "42/42 [==============================] - 0s 5ms/step - loss: 1.0513 - tp: 436.0000 - fp: 77.0000 - tn: 6503.0000 - fn: 880.0000 - accuracy: 0.5638 - precision: 0.8499 - recall: 0.3313 - auc: 0.8801 - val_loss: 1.0888 - val_tp: 113.0000 - val_fp: 27.0000 - val_tn: 1623.0000 - val_fn: 217.0000 - val_accuracy: 0.5303 - val_precision: 0.8071 - val_recall: 0.3424 - val_auc: 0.8712\n",
      "Epoch 33/100\n",
      "42/42 [==============================] - 0s 5ms/step - loss: 1.0524 - tp: 440.0000 - fp: 79.0000 - tn: 6501.0000 - fn: 876.0000 - accuracy: 0.5509 - precision: 0.8478 - recall: 0.3343 - auc: 0.8775 - val_loss: 1.1308 - val_tp: 109.0000 - val_fp: 22.0000 - val_tn: 1628.0000 - val_fn: 221.0000 - val_accuracy: 0.5364 - val_precision: 0.8321 - val_recall: 0.3303 - val_auc: 0.8685\n",
      "Epoch 34/100\n",
      "42/42 [==============================] - 0s 6ms/step - loss: 1.0340 - tp: 445.0000 - fp: 73.0000 - tn: 6507.0000 - fn: 871.0000 - accuracy: 0.5631 - precision: 0.8591 - recall: 0.3381 - auc: 0.8830 - val_loss: 1.0965 - val_tp: 118.0000 - val_fp: 25.0000 - val_tn: 1625.0000 - val_fn: 212.0000 - val_accuracy: 0.5455 - val_precision: 0.8252 - val_recall: 0.3576 - val_auc: 0.8715\n",
      "Epoch 35/100\n",
      "42/42 [==============================] - 0s 5ms/step - loss: 0.9880 - tp: 494.0000 - fp: 76.0000 - tn: 6504.0000 - fn: 822.0000 - accuracy: 0.5767 - precision: 0.8667 - recall: 0.3754 - auc: 0.8934 - val_loss: 1.0874 - val_tp: 118.0000 - val_fp: 20.0000 - val_tn: 1630.0000 - val_fn: 212.0000 - val_accuracy: 0.5424 - val_precision: 0.8551 - val_recall: 0.3576 - val_auc: 0.8739\n",
      "Epoch 36/100\n",
      "42/42 [==============================] - 0s 5ms/step - loss: 0.9932 - tp: 489.0000 - fp: 93.0000 - tn: 6487.0000 - fn: 827.0000 - accuracy: 0.5737 - precision: 0.8402 - recall: 0.3716 - auc: 0.8926 - val_loss: 1.1456 - val_tp: 118.0000 - val_fp: 21.0000 - val_tn: 1629.0000 - val_fn: 212.0000 - val_accuracy: 0.5303 - val_precision: 0.8489 - val_recall: 0.3576 - val_auc: 0.8631\n",
      "Epoch 37/100\n",
      "42/42 [==============================] - 0s 6ms/step - loss: 0.9923 - tp: 489.0000 - fp: 93.0000 - tn: 6487.0000 - fn: 827.0000 - accuracy: 0.5783 - precision: 0.8402 - recall: 0.3716 - auc: 0.8937 - val_loss: 1.1309 - val_tp: 123.0000 - val_fp: 40.0000 - val_tn: 1610.0000 - val_fn: 207.0000 - val_accuracy: 0.5242 - val_precision: 0.7546 - val_recall: 0.3727 - val_auc: 0.8663\n",
      "Epoch 38/100\n",
      "42/42 [==============================] - 0s 5ms/step - loss: 0.9982 - tp: 502.0000 - fp: 111.0000 - tn: 6469.0000 - fn: 814.0000 - accuracy: 0.5836 - precision: 0.8189 - recall: 0.3815 - auc: 0.8934 - val_loss: 1.0360 - val_tp: 129.0000 - val_fp: 29.0000 - val_tn: 1621.0000 - val_fn: 201.0000 - val_accuracy: 0.5485 - val_precision: 0.8165 - val_recall: 0.3909 - val_auc: 0.8856\n",
      "Epoch 39/100\n",
      "42/42 [==============================] - 0s 6ms/step - loss: 1.0318 - tp: 485.0000 - fp: 102.0000 - tn: 6478.0000 - fn: 831.0000 - accuracy: 0.5874 - precision: 0.8262 - recall: 0.3685 - auc: 0.8871 - val_loss: 1.0804 - val_tp: 123.0000 - val_fp: 22.0000 - val_tn: 1628.0000 - val_fn: 207.0000 - val_accuracy: 0.5636 - val_precision: 0.8483 - val_recall: 0.3727 - val_auc: 0.8772\n",
      "Epoch 40/100\n",
      "42/42 [==============================] - 0s 5ms/step - loss: 0.9733 - tp: 513.0000 - fp: 89.0000 - tn: 6491.0000 - fn: 803.0000 - accuracy: 0.6041 - precision: 0.8522 - recall: 0.3898 - auc: 0.8996 - val_loss: 1.0383 - val_tp: 129.0000 - val_fp: 32.0000 - val_tn: 1618.0000 - val_fn: 201.0000 - val_accuracy: 0.5758 - val_precision: 0.8012 - val_recall: 0.3909 - val_auc: 0.8855\n",
      "Epoch 41/100\n",
      "42/42 [==============================] - 0s 5ms/step - loss: 0.9700 - tp: 530.0000 - fp: 97.0000 - tn: 6483.0000 - fn: 786.0000 - accuracy: 0.5942 - precision: 0.8453 - recall: 0.4027 - auc: 0.8998 - val_loss: 1.0827 - val_tp: 126.0000 - val_fp: 30.0000 - val_tn: 1620.0000 - val_fn: 204.0000 - val_accuracy: 0.5667 - val_precision: 0.8077 - val_recall: 0.3818 - val_auc: 0.8801\n",
      "Epoch 42/100\n",
      "42/42 [==============================] - 0s 6ms/step - loss: 0.9491 - tp: 566.0000 - fp: 111.0000 - tn: 6469.0000 - fn: 750.0000 - accuracy: 0.6132 - precision: 0.8360 - recall: 0.4301 - auc: 0.9046 - val_loss: 1.1248 - val_tp: 127.0000 - val_fp: 30.0000 - val_tn: 1620.0000 - val_fn: 203.0000 - val_accuracy: 0.5667 - val_precision: 0.8089 - val_recall: 0.3848 - val_auc: 0.8747\n"
     ]
    },
    {
     "name": "stdout",
     "output_type": "stream",
     "text": [
      "Epoch 43/100\n",
      "42/42 [==============================] - 0s 6ms/step - loss: 0.9600 - tp: 533.0000 - fp: 95.0000 - tn: 6485.0000 - fn: 783.0000 - accuracy: 0.5973 - precision: 0.8487 - recall: 0.4050 - auc: 0.9020 - val_loss: 1.1101 - val_tp: 122.0000 - val_fp: 35.0000 - val_tn: 1615.0000 - val_fn: 208.0000 - val_accuracy: 0.5242 - val_precision: 0.7771 - val_recall: 0.3697 - val_auc: 0.8733\n",
      "Epoch 44/100\n",
      "42/42 [==============================] - 0s 7ms/step - loss: 0.9503 - tp: 545.0000 - fp: 104.0000 - tn: 6476.0000 - fn: 771.0000 - accuracy: 0.6201 - precision: 0.8398 - recall: 0.4141 - auc: 0.9053 - val_loss: 1.0517 - val_tp: 134.0000 - val_fp: 28.0000 - val_tn: 1622.0000 - val_fn: 196.0000 - val_accuracy: 0.5697 - val_precision: 0.8272 - val_recall: 0.4061 - val_auc: 0.8886\n",
      "Epoch 45/100\n",
      "42/42 [==============================] - 0s 7ms/step - loss: 0.9738 - tp: 537.0000 - fp: 103.0000 - tn: 6477.0000 - fn: 779.0000 - accuracy: 0.5927 - precision: 0.8391 - recall: 0.4081 - auc: 0.8982 - val_loss: 1.0806 - val_tp: 123.0000 - val_fp: 27.0000 - val_tn: 1623.0000 - val_fn: 207.0000 - val_accuracy: 0.5697 - val_precision: 0.8200 - val_recall: 0.3727 - val_auc: 0.8782\n",
      "Epoch 46/100\n",
      "42/42 [==============================] - 0s 5ms/step - loss: 0.9253 - tp: 554.0000 - fp: 93.0000 - tn: 6487.0000 - fn: 762.0000 - accuracy: 0.6147 - precision: 0.8563 - recall: 0.4210 - auc: 0.9097 - val_loss: 1.1475 - val_tp: 136.0000 - val_fp: 39.0000 - val_tn: 1611.0000 - val_fn: 194.0000 - val_accuracy: 0.5697 - val_precision: 0.7771 - val_recall: 0.4121 - val_auc: 0.8738\n",
      "Epoch 47/100\n",
      "42/42 [==============================] - 0s 5ms/step - loss: 0.9135 - tp: 581.0000 - fp: 112.0000 - tn: 6468.0000 - fn: 735.0000 - accuracy: 0.6170 - precision: 0.8384 - recall: 0.4415 - auc: 0.9122 - val_loss: 1.0822 - val_tp: 134.0000 - val_fp: 37.0000 - val_tn: 1613.0000 - val_fn: 196.0000 - val_accuracy: 0.5545 - val_precision: 0.7836 - val_recall: 0.4061 - val_auc: 0.8785\n",
      "Epoch 48/100\n",
      "42/42 [==============================] - 0s 5ms/step - loss: 0.9295 - tp: 573.0000 - fp: 108.0000 - tn: 6472.0000 - fn: 743.0000 - accuracy: 0.6140 - precision: 0.8414 - recall: 0.4354 - auc: 0.9092 - val_loss: 1.0468 - val_tp: 141.0000 - val_fp: 37.0000 - val_tn: 1613.0000 - val_fn: 189.0000 - val_accuracy: 0.5758 - val_precision: 0.7921 - val_recall: 0.4273 - val_auc: 0.8888\n",
      "Epoch 49/100\n",
      "42/42 [==============================] - 0s 6ms/step - loss: 0.9081 - tp: 592.0000 - fp: 109.0000 - tn: 6471.0000 - fn: 724.0000 - accuracy: 0.6277 - precision: 0.8445 - recall: 0.4498 - auc: 0.9120 - val_loss: 1.1000 - val_tp: 140.0000 - val_fp: 50.0000 - val_tn: 1600.0000 - val_fn: 190.0000 - val_accuracy: 0.5485 - val_precision: 0.7368 - val_recall: 0.4242 - val_auc: 0.8790\n",
      "Epoch 50/100\n",
      "42/42 [==============================] - 0s 5ms/step - loss: 0.9202 - tp: 572.0000 - fp: 105.0000 - tn: 6475.0000 - fn: 744.0000 - accuracy: 0.6223 - precision: 0.8449 - recall: 0.4347 - auc: 0.9109 - val_loss: 1.0788 - val_tp: 136.0000 - val_fp: 39.0000 - val_tn: 1611.0000 - val_fn: 194.0000 - val_accuracy: 0.5636 - val_precision: 0.7771 - val_recall: 0.4121 - val_auc: 0.8824\n",
      "Epoch 51/100\n",
      "42/42 [==============================] - 0s 5ms/step - loss: 0.8460 - tp: 613.0000 - fp: 110.0000 - tn: 6470.0000 - fn: 703.0000 - accuracy: 0.6535 - precision: 0.8479 - recall: 0.4658 - auc: 0.9252 - val_loss: 1.0760 - val_tp: 151.0000 - val_fp: 48.0000 - val_tn: 1602.0000 - val_fn: 179.0000 - val_accuracy: 0.5667 - val_precision: 0.7588 - val_recall: 0.4576 - val_auc: 0.8859\n",
      "Epoch 52/100\n",
      "42/42 [==============================] - 0s 5ms/step - loss: 0.9034 - tp: 615.0000 - fp: 131.0000 - tn: 6449.0000 - fn: 701.0000 - accuracy: 0.6375 - precision: 0.8244 - recall: 0.4673 - auc: 0.9145 - val_loss: 1.0491 - val_tp: 141.0000 - val_fp: 36.0000 - val_tn: 1614.0000 - val_fn: 189.0000 - val_accuracy: 0.5788 - val_precision: 0.7966 - val_recall: 0.4273 - val_auc: 0.8886\n",
      "Epoch 53/100\n",
      "42/42 [==============================] - 0s 5ms/step - loss: 0.9023 - tp: 596.0000 - fp: 138.0000 - tn: 6442.0000 - fn: 720.0000 - accuracy: 0.6337 - precision: 0.8120 - recall: 0.4529 - auc: 0.9152 - val_loss: 1.0968 - val_tp: 138.0000 - val_fp: 52.0000 - val_tn: 1598.0000 - val_fn: 192.0000 - val_accuracy: 0.5636 - val_precision: 0.7263 - val_recall: 0.4182 - val_auc: 0.8787\n",
      "Epoch 54/100\n",
      "42/42 [==============================] - 0s 6ms/step - loss: 0.8601 - tp: 640.0000 - fp: 128.0000 - tn: 6452.0000 - fn: 676.0000 - accuracy: 0.6520 - precision: 0.8333 - recall: 0.4863 - auc: 0.9236 - val_loss: 1.0633 - val_tp: 143.0000 - val_fp: 44.0000 - val_tn: 1606.0000 - val_fn: 187.0000 - val_accuracy: 0.5606 - val_precision: 0.7647 - val_recall: 0.4333 - val_auc: 0.8855\n",
      "Epoch 55/100\n",
      "42/42 [==============================] - 0s 5ms/step - loss: 0.8277 - tp: 657.0000 - fp: 114.0000 - tn: 6466.0000 - fn: 659.0000 - accuracy: 0.6611 - precision: 0.8521 - recall: 0.4992 - auc: 0.9284 - val_loss: 1.1613 - val_tp: 153.0000 - val_fp: 68.0000 - val_tn: 1582.0000 - val_fn: 177.0000 - val_accuracy: 0.5939 - val_precision: 0.6923 - val_recall: 0.4636 - val_auc: 0.8798\n",
      "Epoch 56/100\n",
      "42/42 [==============================] - 0s 5ms/step - loss: 0.8371 - tp: 664.0000 - fp: 143.0000 - tn: 6437.0000 - fn: 652.0000 - accuracy: 0.6497 - precision: 0.8228 - recall: 0.5046 - auc: 0.9266 - val_loss: 1.1000 - val_tp: 146.0000 - val_fp: 48.0000 - val_tn: 1602.0000 - val_fn: 184.0000 - val_accuracy: 0.5848 - val_precision: 0.7526 - val_recall: 0.4424 - val_auc: 0.8831\n",
      "Epoch 57/100\n",
      "42/42 [==============================] - 0s 5ms/step - loss: 0.8280 - tp: 656.0000 - fp: 122.0000 - tn: 6458.0000 - fn: 660.0000 - accuracy: 0.6778 - precision: 0.8432 - recall: 0.4985 - auc: 0.9278 - val_loss: 1.1351 - val_tp: 154.0000 - val_fp: 54.0000 - val_tn: 1596.0000 - val_fn: 176.0000 - val_accuracy: 0.5667 - val_precision: 0.7404 - val_recall: 0.4667 - val_auc: 0.8837\n",
      "Epoch 58/100\n",
      "42/42 [==============================] - 0s 5ms/step - loss: 0.8476 - tp: 667.0000 - fp: 142.0000 - tn: 6438.0000 - fn: 649.0000 - accuracy: 0.6641 - precision: 0.8245 - recall: 0.5068 - auc: 0.9246 - val_loss: 1.0720 - val_tp: 148.0000 - val_fp: 49.0000 - val_tn: 1601.0000 - val_fn: 182.0000 - val_accuracy: 0.5879 - val_precision: 0.7513 - val_recall: 0.4485 - val_auc: 0.8870\n",
      "Epoch 59/100\n",
      "42/42 [==============================] - 0s 5ms/step - loss: 0.8397 - tp: 637.0000 - fp: 117.0000 - tn: 6463.0000 - fn: 679.0000 - accuracy: 0.6588 - precision: 0.8448 - recall: 0.4840 - auc: 0.9261 - val_loss: 1.1084 - val_tp: 138.0000 - val_fp: 38.0000 - val_tn: 1612.0000 - val_fn: 192.0000 - val_accuracy: 0.5939 - val_precision: 0.7841 - val_recall: 0.4182 - val_auc: 0.8821\n",
      "Epoch 60/100\n",
      "42/42 [==============================] - 0s 5ms/step - loss: 0.8139 - tp: 656.0000 - fp: 123.0000 - tn: 6457.0000 - fn: 660.0000 - accuracy: 0.6664 - precision: 0.8421 - recall: 0.4985 - auc: 0.9307 - val_loss: 1.1182 - val_tp: 154.0000 - val_fp: 52.0000 - val_tn: 1598.0000 - val_fn: 176.0000 - val_accuracy: 0.5848 - val_precision: 0.7476 - val_recall: 0.4667 - val_auc: 0.8830\n",
      "Epoch 61/100\n",
      "42/42 [==============================] - 0s 5ms/step - loss: 0.8325 - tp: 673.0000 - fp: 145.0000 - tn: 6435.0000 - fn: 643.0000 - accuracy: 0.6649 - precision: 0.8227 - recall: 0.5114 - auc: 0.9284 - val_loss: 1.0823 - val_tp: 152.0000 - val_fp: 54.0000 - val_tn: 1596.0000 - val_fn: 178.0000 - val_accuracy: 0.6061 - val_precision: 0.7379 - val_recall: 0.4606 - val_auc: 0.8884\n",
      "Epoch 62/100\n",
      "42/42 [==============================] - 0s 5ms/step - loss: 0.8269 - tp: 639.0000 - fp: 105.0000 - tn: 6475.0000 - fn: 677.0000 - accuracy: 0.6611 - precision: 0.8589 - recall: 0.4856 - auc: 0.9289 - val_loss: 1.0849 - val_tp: 151.0000 - val_fp: 51.0000 - val_tn: 1599.0000 - val_fn: 179.0000 - val_accuracy: 0.5818 - val_precision: 0.7475 - val_recall: 0.4576 - val_auc: 0.8858\n",
      "Epoch 63/100\n",
      "42/42 [==============================] - 0s 5ms/step - loss: 0.8274 - tp: 673.0000 - fp: 157.0000 - tn: 6423.0000 - fn: 643.0000 - accuracy: 0.6611 - precision: 0.8108 - recall: 0.5114 - auc: 0.9285 - val_loss: 1.0989 - val_tp: 150.0000 - val_fp: 56.0000 - val_tn: 1594.0000 - val_fn: 180.0000 - val_accuracy: 0.5939 - val_precision: 0.7282 - val_recall: 0.4545 - val_auc: 0.8869\n"
     ]
    },
    {
     "name": "stdout",
     "output_type": "stream",
     "text": [
      "Epoch 64/100\n",
      "42/42 [==============================] - 0s 5ms/step - loss: 0.8082 - tp: 696.0000 - fp: 158.0000 - tn: 6422.0000 - fn: 620.0000 - accuracy: 0.6710 - precision: 0.8150 - recall: 0.5289 - auc: 0.9323 - val_loss: 1.1027 - val_tp: 150.0000 - val_fp: 58.0000 - val_tn: 1592.0000 - val_fn: 180.0000 - val_accuracy: 0.6000 - val_precision: 0.7212 - val_recall: 0.4545 - val_auc: 0.8868\n",
      "Epoch 65/100\n",
      "42/42 [==============================] - 0s 5ms/step - loss: 0.8055 - tp: 686.0000 - fp: 128.0000 - tn: 6452.0000 - fn: 630.0000 - accuracy: 0.6771 - precision: 0.8428 - recall: 0.5213 - auc: 0.9325 - val_loss: 1.1352 - val_tp: 156.0000 - val_fp: 48.0000 - val_tn: 1602.0000 - val_fn: 174.0000 - val_accuracy: 0.5879 - val_precision: 0.7647 - val_recall: 0.4727 - val_auc: 0.8862\n",
      "Epoch 66/100\n",
      "42/42 [==============================] - 0s 5ms/step - loss: 0.8302 - tp: 690.0000 - fp: 147.0000 - tn: 6433.0000 - fn: 626.0000 - accuracy: 0.6717 - precision: 0.8244 - recall: 0.5243 - auc: 0.9281 - val_loss: 1.0652 - val_tp: 158.0000 - val_fp: 52.0000 - val_tn: 1598.0000 - val_fn: 172.0000 - val_accuracy: 0.5879 - val_precision: 0.7524 - val_recall: 0.4788 - val_auc: 0.8903\n",
      "Epoch 67/100\n",
      "42/42 [==============================] - 0s 5ms/step - loss: 0.7807 - tp: 704.0000 - fp: 107.0000 - tn: 6473.0000 - fn: 612.0000 - accuracy: 0.6862 - precision: 0.8681 - recall: 0.5350 - auc: 0.9369 - val_loss: 1.1044 - val_tp: 157.0000 - val_fp: 58.0000 - val_tn: 1592.0000 - val_fn: 173.0000 - val_accuracy: 0.6030 - val_precision: 0.7302 - val_recall: 0.4758 - val_auc: 0.8908\n",
      "Epoch 68/100\n",
      "42/42 [==============================] - 0s 5ms/step - loss: 0.7868 - tp: 695.0000 - fp: 152.0000 - tn: 6428.0000 - fn: 621.0000 - accuracy: 0.6786 - precision: 0.8205 - recall: 0.5281 - auc: 0.9350 - val_loss: 1.0877 - val_tp: 151.0000 - val_fp: 42.0000 - val_tn: 1608.0000 - val_fn: 179.0000 - val_accuracy: 0.6091 - val_precision: 0.7824 - val_recall: 0.4576 - val_auc: 0.8908\n",
      "Epoch 69/100\n",
      "42/42 [==============================] - 0s 5ms/step - loss: 0.7973 - tp: 697.0000 - fp: 124.0000 - tn: 6456.0000 - fn: 619.0000 - accuracy: 0.6778 - precision: 0.8490 - recall: 0.5296 - auc: 0.9334 - val_loss: 1.0584 - val_tp: 163.0000 - val_fp: 45.0000 - val_tn: 1605.0000 - val_fn: 167.0000 - val_accuracy: 0.5939 - val_precision: 0.7837 - val_recall: 0.4939 - val_auc: 0.8945\n",
      "Epoch 70/100\n",
      "42/42 [==============================] - 0s 6ms/step - loss: 0.7777 - tp: 721.0000 - fp: 132.0000 - tn: 6448.0000 - fn: 595.0000 - accuracy: 0.6907 - precision: 0.8453 - recall: 0.5479 - auc: 0.9383 - val_loss: 1.0788 - val_tp: 149.0000 - val_fp: 50.0000 - val_tn: 1600.0000 - val_fn: 181.0000 - val_accuracy: 0.6000 - val_precision: 0.7487 - val_recall: 0.4515 - val_auc: 0.8913\n",
      "Epoch 71/100\n",
      "42/42 [==============================] - 0s 5ms/step - loss: 0.7670 - tp: 717.0000 - fp: 148.0000 - tn: 6432.0000 - fn: 599.0000 - accuracy: 0.6930 - precision: 0.8289 - recall: 0.5448 - auc: 0.9389 - val_loss: 1.1123 - val_tp: 159.0000 - val_fp: 57.0000 - val_tn: 1593.0000 - val_fn: 171.0000 - val_accuracy: 0.6030 - val_precision: 0.7361 - val_recall: 0.4818 - val_auc: 0.8878\n",
      "Epoch 72/100\n",
      "42/42 [==============================] - 0s 6ms/step - loss: 0.7857 - tp: 709.0000 - fp: 146.0000 - tn: 6434.0000 - fn: 607.0000 - accuracy: 0.6710 - precision: 0.8292 - recall: 0.5388 - auc: 0.9354 - val_loss: 1.0583 - val_tp: 162.0000 - val_fp: 55.0000 - val_tn: 1595.0000 - val_fn: 168.0000 - val_accuracy: 0.6121 - val_precision: 0.7465 - val_recall: 0.4909 - val_auc: 0.8929\n",
      "Epoch 73/100\n",
      "42/42 [==============================] - 0s 5ms/step - loss: 0.8082 - tp: 681.0000 - fp: 146.0000 - tn: 6434.0000 - fn: 635.0000 - accuracy: 0.6702 - precision: 0.8235 - recall: 0.5175 - auc: 0.9344 - val_loss: 1.1922 - val_tp: 156.0000 - val_fp: 57.0000 - val_tn: 1593.0000 - val_fn: 174.0000 - val_accuracy: 0.5818 - val_precision: 0.7324 - val_recall: 0.4727 - val_auc: 0.8793\n",
      "Epoch 74/100\n",
      "42/42 [==============================] - 0s 6ms/step - loss: 0.7756 - tp: 742.0000 - fp: 150.0000 - tn: 6430.0000 - fn: 574.0000 - accuracy: 0.6900 - precision: 0.8318 - recall: 0.5638 - auc: 0.9378 - val_loss: 1.1324 - val_tp: 154.0000 - val_fp: 53.0000 - val_tn: 1597.0000 - val_fn: 176.0000 - val_accuracy: 0.5818 - val_precision: 0.7440 - val_recall: 0.4667 - val_auc: 0.8843\n",
      "Epoch 75/100\n",
      "42/42 [==============================] - 0s 7ms/step - loss: 0.7515 - tp: 734.0000 - fp: 142.0000 - tn: 6438.0000 - fn: 582.0000 - accuracy: 0.6998 - precision: 0.8379 - recall: 0.5578 - auc: 0.9420 - val_loss: 1.1130 - val_tp: 161.0000 - val_fp: 63.0000 - val_tn: 1587.0000 - val_fn: 169.0000 - val_accuracy: 0.6030 - val_precision: 0.7188 - val_recall: 0.4879 - val_auc: 0.8918\n",
      "Epoch 76/100\n",
      "42/42 [==============================] - 0s 7ms/step - loss: 0.8021 - tp: 713.0000 - fp: 157.0000 - tn: 6423.0000 - fn: 603.0000 - accuracy: 0.6755 - precision: 0.8195 - recall: 0.5418 - auc: 0.9331 - val_loss: 1.0038 - val_tp: 160.0000 - val_fp: 44.0000 - val_tn: 1606.0000 - val_fn: 170.0000 - val_accuracy: 0.6091 - val_precision: 0.7843 - val_recall: 0.4848 - val_auc: 0.9013\n",
      "Epoch 77/100\n",
      "42/42 [==============================] - 0s 6ms/step - loss: 0.7514 - tp: 724.0000 - fp: 121.0000 - tn: 6459.0000 - fn: 592.0000 - accuracy: 0.7052 - precision: 0.8568 - recall: 0.5502 - auc: 0.9417 - val_loss: 1.0865 - val_tp: 163.0000 - val_fp: 59.0000 - val_tn: 1591.0000 - val_fn: 167.0000 - val_accuracy: 0.5848 - val_precision: 0.7342 - val_recall: 0.4939 - val_auc: 0.8924\n",
      "Epoch 78/100\n",
      "42/42 [==============================] - 0s 5ms/step - loss: 0.7346 - tp: 754.0000 - fp: 159.0000 - tn: 6421.0000 - fn: 562.0000 - accuracy: 0.7036 - precision: 0.8258 - recall: 0.5729 - auc: 0.9438 - val_loss: 1.1709 - val_tp: 164.0000 - val_fp: 74.0000 - val_tn: 1576.0000 - val_fn: 166.0000 - val_accuracy: 0.6030 - val_precision: 0.6891 - val_recall: 0.4970 - val_auc: 0.8839\n",
      "Epoch 79/100\n",
      "42/42 [==============================] - 0s 5ms/step - loss: 0.7649 - tp: 742.0000 - fp: 163.0000 - tn: 6417.0000 - fn: 574.0000 - accuracy: 0.7059 - precision: 0.8199 - recall: 0.5638 - auc: 0.9408 - val_loss: 1.1512 - val_tp: 161.0000 - val_fp: 63.0000 - val_tn: 1587.0000 - val_fn: 169.0000 - val_accuracy: 0.5879 - val_precision: 0.7188 - val_recall: 0.4879 - val_auc: 0.8876\n",
      "Epoch 80/100\n",
      "42/42 [==============================] - 0s 5ms/step - loss: 0.7282 - tp: 776.0000 - fp: 153.0000 - tn: 6427.0000 - fn: 540.0000 - accuracy: 0.7036 - precision: 0.8353 - recall: 0.5897 - auc: 0.9455 - val_loss: 1.1142 - val_tp: 166.0000 - val_fp: 69.0000 - val_tn: 1581.0000 - val_fn: 164.0000 - val_accuracy: 0.5939 - val_precision: 0.7064 - val_recall: 0.5030 - val_auc: 0.8905\n",
      "Epoch 81/100\n",
      "42/42 [==============================] - 0s 6ms/step - loss: 0.7146 - tp: 769.0000 - fp: 148.0000 - tn: 6432.0000 - fn: 547.0000 - accuracy: 0.7188 - precision: 0.8386 - recall: 0.5843 - auc: 0.9475 - val_loss: 1.1389 - val_tp: 164.0000 - val_fp: 66.0000 - val_tn: 1584.0000 - val_fn: 166.0000 - val_accuracy: 0.5848 - val_precision: 0.7130 - val_recall: 0.4970 - val_auc: 0.8881\n",
      "Epoch 82/100\n",
      "42/42 [==============================] - 0s 5ms/step - loss: 0.7344 - tp: 763.0000 - fp: 164.0000 - tn: 6416.0000 - fn: 553.0000 - accuracy: 0.7120 - precision: 0.8231 - recall: 0.5798 - auc: 0.9445 - val_loss: 1.1561 - val_tp: 170.0000 - val_fp: 60.0000 - val_tn: 1590.0000 - val_fn: 160.0000 - val_accuracy: 0.6091 - val_precision: 0.7391 - val_recall: 0.5152 - val_auc: 0.8888\n",
      "Epoch 83/100\n",
      "42/42 [==============================] - 0s 6ms/step - loss: 0.7566 - tp: 765.0000 - fp: 151.0000 - tn: 6429.0000 - fn: 551.0000 - accuracy: 0.7044 - precision: 0.8352 - recall: 0.5813 - auc: 0.9412 - val_loss: 1.1167 - val_tp: 159.0000 - val_fp: 57.0000 - val_tn: 1593.0000 - val_fn: 171.0000 - val_accuracy: 0.6000 - val_precision: 0.7361 - val_recall: 0.4818 - val_auc: 0.8875\n",
      "Epoch 84/100\n",
      "42/42 [==============================] - 0s 5ms/step - loss: 0.7317 - tp: 749.0000 - fp: 137.0000 - tn: 6443.0000 - fn: 567.0000 - accuracy: 0.6900 - precision: 0.8454 - recall: 0.5691 - auc: 0.9447 - val_loss: 1.1201 - val_tp: 158.0000 - val_fp: 56.0000 - val_tn: 1594.0000 - val_fn: 172.0000 - val_accuracy: 0.5939 - val_precision: 0.7383 - val_recall: 0.4788 - val_auc: 0.8855\n"
     ]
    },
    {
     "name": "stdout",
     "output_type": "stream",
     "text": [
      "Epoch 85/100\n",
      "42/42 [==============================] - 0s 5ms/step - loss: 0.7352 - tp: 761.0000 - fp: 131.0000 - tn: 6449.0000 - fn: 555.0000 - accuracy: 0.7014 - precision: 0.8531 - recall: 0.5783 - auc: 0.9444 - val_loss: 1.1344 - val_tp: 161.0000 - val_fp: 68.0000 - val_tn: 1582.0000 - val_fn: 169.0000 - val_accuracy: 0.5848 - val_precision: 0.7031 - val_recall: 0.4879 - val_auc: 0.8903\n",
      "Epoch 86/100\n",
      "42/42 [==============================] - 0s 5ms/step - loss: 0.7494 - tp: 748.0000 - fp: 157.0000 - tn: 6423.0000 - fn: 568.0000 - accuracy: 0.7120 - precision: 0.8265 - recall: 0.5684 - auc: 0.9426 - val_loss: 1.1087 - val_tp: 161.0000 - val_fp: 59.0000 - val_tn: 1591.0000 - val_fn: 169.0000 - val_accuracy: 0.6061 - val_precision: 0.7318 - val_recall: 0.4879 - val_auc: 0.8906\n",
      "Epoch 87/100\n",
      "42/42 [==============================] - 0s 5ms/step - loss: 0.7280 - tp: 752.0000 - fp: 125.0000 - tn: 6455.0000 - fn: 564.0000 - accuracy: 0.7105 - precision: 0.8575 - recall: 0.5714 - auc: 0.9456 - val_loss: 1.1019 - val_tp: 172.0000 - val_fp: 65.0000 - val_tn: 1585.0000 - val_fn: 158.0000 - val_accuracy: 0.6212 - val_precision: 0.7257 - val_recall: 0.5212 - val_auc: 0.8961\n",
      "Epoch 88/100\n",
      "42/42 [==============================] - 0s 5ms/step - loss: 0.7226 - tp: 783.0000 - fp: 164.0000 - tn: 6416.0000 - fn: 533.0000 - accuracy: 0.7135 - precision: 0.8268 - recall: 0.5950 - auc: 0.9460 - val_loss: 1.1099 - val_tp: 166.0000 - val_fp: 57.0000 - val_tn: 1593.0000 - val_fn: 164.0000 - val_accuracy: 0.6061 - val_precision: 0.7444 - val_recall: 0.5030 - val_auc: 0.8933\n",
      "Epoch 89/100\n",
      "42/42 [==============================] - 0s 6ms/step - loss: 0.6885 - tp: 802.0000 - fp: 129.0000 - tn: 6451.0000 - fn: 514.0000 - accuracy: 0.7325 - precision: 0.8614 - recall: 0.6094 - auc: 0.9516 - val_loss: 1.1079 - val_tp: 170.0000 - val_fp: 64.0000 - val_tn: 1586.0000 - val_fn: 160.0000 - val_accuracy: 0.6030 - val_precision: 0.7265 - val_recall: 0.5152 - val_auc: 0.8943\n",
      "Epoch 90/100\n",
      "42/42 [==============================] - 0s 5ms/step - loss: 0.6685 - tp: 821.0000 - fp: 150.0000 - tn: 6430.0000 - fn: 495.0000 - accuracy: 0.7416 - precision: 0.8455 - recall: 0.6239 - auc: 0.9546 - val_loss: 1.1104 - val_tp: 177.0000 - val_fp: 76.0000 - val_tn: 1574.0000 - val_fn: 153.0000 - val_accuracy: 0.6121 - val_precision: 0.6996 - val_recall: 0.5364 - val_auc: 0.8953\n",
      "Epoch 91/100\n",
      "42/42 [==============================] - 0s 5ms/step - loss: 0.7025 - tp: 797.0000 - fp: 172.0000 - tn: 6408.0000 - fn: 519.0000 - accuracy: 0.7059 - precision: 0.8225 - recall: 0.6056 - auc: 0.9496 - val_loss: 1.0903 - val_tp: 165.0000 - val_fp: 64.0000 - val_tn: 1586.0000 - val_fn: 165.0000 - val_accuracy: 0.6091 - val_precision: 0.7205 - val_recall: 0.5000 - val_auc: 0.8938\n",
      "Epoch 92/100\n",
      "42/42 [==============================] - 0s 6ms/step - loss: 0.7041 - tp: 761.0000 - fp: 142.0000 - tn: 6438.0000 - fn: 555.0000 - accuracy: 0.7188 - precision: 0.8427 - recall: 0.5783 - auc: 0.9491 - val_loss: 1.0661 - val_tp: 175.0000 - val_fp: 66.0000 - val_tn: 1584.0000 - val_fn: 155.0000 - val_accuracy: 0.6061 - val_precision: 0.7261 - val_recall: 0.5303 - val_auc: 0.8991\n",
      "Epoch 93/100\n",
      "42/42 [==============================] - 0s 5ms/step - loss: 0.6912 - tp: 803.0000 - fp: 149.0000 - tn: 6431.0000 - fn: 513.0000 - accuracy: 0.7295 - precision: 0.8435 - recall: 0.6102 - auc: 0.9506 - val_loss: 1.1249 - val_tp: 167.0000 - val_fp: 67.0000 - val_tn: 1583.0000 - val_fn: 163.0000 - val_accuracy: 0.6152 - val_precision: 0.7137 - val_recall: 0.5061 - val_auc: 0.8890\n",
      "Epoch 94/100\n",
      "42/42 [==============================] - 0s 5ms/step - loss: 0.6770 - tp: 838.0000 - fp: 169.0000 - tn: 6411.0000 - fn: 478.0000 - accuracy: 0.7249 - precision: 0.8322 - recall: 0.6368 - auc: 0.9530 - val_loss: 1.1672 - val_tp: 176.0000 - val_fp: 74.0000 - val_tn: 1576.0000 - val_fn: 154.0000 - val_accuracy: 0.6061 - val_precision: 0.7040 - val_recall: 0.5333 - val_auc: 0.8878\n",
      "Epoch 95/100\n",
      "42/42 [==============================] - 0s 5ms/step - loss: 0.6597 - tp: 847.0000 - fp: 165.0000 - tn: 6415.0000 - fn: 469.0000 - accuracy: 0.7424 - precision: 0.8370 - recall: 0.6436 - auc: 0.9557 - val_loss: 1.1990 - val_tp: 174.0000 - val_fp: 86.0000 - val_tn: 1564.0000 - val_fn: 156.0000 - val_accuracy: 0.6061 - val_precision: 0.6692 - val_recall: 0.5273 - val_auc: 0.8879\n",
      "Epoch 96/100\n",
      "42/42 [==============================] - 0s 5ms/step - loss: 0.7096 - tp: 805.0000 - fp: 180.0000 - tn: 6400.0000 - fn: 511.0000 - accuracy: 0.7196 - precision: 0.8173 - recall: 0.6117 - auc: 0.9484 - val_loss: 1.0759 - val_tp: 170.0000 - val_fp: 68.0000 - val_tn: 1582.0000 - val_fn: 160.0000 - val_accuracy: 0.6030 - val_precision: 0.7143 - val_recall: 0.5152 - val_auc: 0.8954\n",
      "Epoch 97/100\n",
      "42/42 [==============================] - 0s 5ms/step - loss: 0.6910 - tp: 795.0000 - fp: 138.0000 - tn: 6442.0000 - fn: 521.0000 - accuracy: 0.7257 - precision: 0.8521 - recall: 0.6041 - auc: 0.9511 - val_loss: 1.0797 - val_tp: 181.0000 - val_fp: 72.0000 - val_tn: 1578.0000 - val_fn: 149.0000 - val_accuracy: 0.6182 - val_precision: 0.7154 - val_recall: 0.5485 - val_auc: 0.8983\n",
      "Epoch 98/100\n",
      "42/42 [==============================] - 0s 5ms/step - loss: 0.6702 - tp: 823.0000 - fp: 151.0000 - tn: 6429.0000 - fn: 493.0000 - accuracy: 0.7234 - precision: 0.8450 - recall: 0.6254 - auc: 0.9533 - val_loss: 1.1101 - val_tp: 174.0000 - val_fp: 62.0000 - val_tn: 1588.0000 - val_fn: 156.0000 - val_accuracy: 0.6152 - val_precision: 0.7373 - val_recall: 0.5273 - val_auc: 0.8946\n",
      "Epoch 99/100\n",
      "42/42 [==============================] - 0s 5ms/step - loss: 0.6828 - tp: 800.0000 - fp: 148.0000 - tn: 6432.0000 - fn: 516.0000 - accuracy: 0.7150 - precision: 0.8439 - recall: 0.6079 - auc: 0.9520 - val_loss: 1.0964 - val_tp: 175.0000 - val_fp: 67.0000 - val_tn: 1583.0000 - val_fn: 155.0000 - val_accuracy: 0.6091 - val_precision: 0.7231 - val_recall: 0.5303 - val_auc: 0.8978\n",
      "Epoch 100/100\n",
      "42/42 [==============================] - 0s 5ms/step - loss: 0.6756 - tp: 828.0000 - fp: 147.0000 - tn: 6433.0000 - fn: 488.0000 - accuracy: 0.7401 - precision: 0.8492 - recall: 0.6292 - auc: 0.9536 - val_loss: 1.0467 - val_tp: 175.0000 - val_fp: 63.0000 - val_tn: 1587.0000 - val_fn: 155.0000 - val_accuracy: 0.6242 - val_precision: 0.7353 - val_recall: 0.5303 - val_auc: 0.9020\n"
     ]
    }
   ],
   "source": [
    "history = model.fit(X_train, y_train, validation_split=0.2, epochs = 100, callbacks=[callback])"
   ]
  },
  {
   "cell_type": "code",
   "execution_count": 203,
   "id": "cooked-problem",
   "metadata": {},
   "outputs": [],
   "source": [
    "# y_pred = model.predict(X_test)\n",
    "\n",
    "# y_pred.shape"
   ]
  },
  {
   "cell_type": "code",
   "execution_count": 204,
   "id": "bound-logging",
   "metadata": {},
   "outputs": [],
   "source": [
    "# y_pred"
   ]
  },
  {
   "cell_type": "code",
   "execution_count": 205,
   "id": "recreational-infrared",
   "metadata": {},
   "outputs": [],
   "source": [
    "# rounded = [round(x[0]) for x in y_pred]\n",
    "\n",
    "# y_pred = rounded\n",
    "\n",
    "# y_pred"
   ]
  },
  {
   "cell_type": "code",
   "execution_count": 206,
   "id": "intelligent-skill",
   "metadata": {},
   "outputs": [],
   "source": [
    "# score_nn = round(accuracy_score(y_pred,y_test)*100,2)\n",
    "\n",
    "# print(\"The accuracy score achieved using Neural Network is: \"+str(score_nn)+\" %\")"
   ]
  },
  {
   "cell_type": "code",
   "execution_count": 207,
   "id": "likely-comment",
   "metadata": {
    "scrolled": true
   },
   "outputs": [],
   "source": [
    "def plot_metrics(history):\n",
    "    metrics =  ['loss', 'auc', 'precision', 'recall']\n",
    "    colors = plt.rcParams['axes.prop_cycle'].by_key()['color']\n",
    "    matplotlib.rcParams['figure.figsize'] = (12, 10)\n",
    "    for n, metric in enumerate(metrics):\n",
    "        name = metric.replace(\"_\",\" \").capitalize()\n",
    "        plt.subplot(2,2,n+1)\n",
    "        plt.plot(history.epoch,  history.history[metric], color=colors[0], label='Train')\n",
    "        plt.plot(history.epoch, history.history['val_'+metric], color=colors[0], linestyle=\"--\", label='Val')\n",
    "        plt.xlabel('Epoch')\n",
    "        plt.ylabel(name)\n",
    "    if metric == 'loss':\n",
    "        plt.ylim([0, plt.ylim()[1]])\n",
    "    elif metric == 'auc':\n",
    "        plt.ylim([0.8,1])\n",
    "    else:\n",
    "        plt.ylim([0,1])\n",
    "\n",
    "    plt.legend()"
   ]
  },
  {
   "cell_type": "code",
   "execution_count": 208,
   "id": "accepted-couple",
   "metadata": {},
   "outputs": [
    {
     "name": "stdout",
     "output_type": "stream",
     "text": [
      "Model\n"
     ]
    },
    {
     "data": {
      "image/png": "[encoded data removed]",
      "text/plain": [
       "<Figure size 864x720 with 4 Axes>"
      ]
     },
     "metadata": {
      "needs_background": "light"
     },
     "output_type": "display_data"
    }
   ],
   "source": [
    "print(\"Model\")\n",
    "plot_metrics(history)"
   ]
  },
  {
   "cell_type": "code",
   "execution_count": 209,
   "id": "backed-carpet",
   "metadata": {},
   "outputs": [
    {
     "name": "stdout",
     "output_type": "stream",
     "text": [
      "13/13 [==============================] - 0s 3ms/step - loss: 1.1685 - tp: 203.0000 - fp: 80.0000 - tn: 1980.0000 - fn: 209.0000 - accuracy: 0.5995 - precision: 0.7173 - recall: 0.4927 - auc: 0.8864\n",
      "Loss : 1.1685281991958618\n",
      "True Positives : 203.0\n",
      "False Positives : 80.0\n",
      "True Negatives : 1980.0\n",
      "False Negatives : 209.0\n",
      "Accuracy : 0.5995145440101624\n",
      "Precision : 0.7173144817352295\n",
      "Recall : 0.4927184581756592\n",
      "AUC : 0.8864006996154785\n"
     ]
    }
   ],
   "source": [
    "pred = model.evaluate(X_test, y_test)\n",
    "\n",
    "metrics_= ['Loss', \"True Positives\", \"False Positives\", \"True Negatives\", \"False Negatives\", \"Accuracy\", \"Precision\", \"Recall\", \"AUC\"]\n",
    "\n",
    "for p, m in zip(pred,metrics_):\n",
    "  print(f'{m} : {p}')"
   ]
  },
  {
   "cell_type": "code",
   "execution_count": 210,
   "id": "adequate-plant",
   "metadata": {},
   "outputs": [
    {
     "name": "stdout",
     "output_type": "stream",
     "text": [
      "Accuracy: 0.49271844660194175\n"
     ]
    }
   ],
   "source": [
    "predictions = model.predict(X_test)\n",
    "\n",
    "predictions = np.around(predictions).astype(np.uint64)\n",
    "\n",
    "guesses = []\n",
    "\n",
    "for i in range(0, len(predictions)):\n",
    "    comparison = y_test[i] == predictions[i]\n",
    "    equal_arrays = comparison.all()\n",
    "    guesses.append(equal_arrays)\n",
    "\n",
    "print(\"Accuracy:\", sum(guesses)/len(guesses))"
   ]
  },
  {
   "cell_type": "code",
   "execution_count": null,
   "id": "other-worse",
   "metadata": {},
   "outputs": [],
   "source": []
  }
 ],
 "metadata": {
  "kernelspec": {
   "display_name": "Python 3",
   "language": "python",
   "name": "python3"
  },
  "language_info": {
   "codemirror_mode": {
    "name": "ipython",
    "version": 3
   },
   "file_extension": ".py",
   "mimetype": "text/x-python",
   "name": "python",
   "nbconvert_exporter": "python",
   "pygments_lexer": "ipython3",
   "version": "3.7.9"
  }
 },
 "nbformat": 4,
 "nbformat_minor": 5
}
