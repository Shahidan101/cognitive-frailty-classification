{
 "cells": [
  {
   "cell_type": "code",
   "execution_count": 54,
   "metadata": {},
   "outputs": [],
   "source": [
    "# Import packages\n",
    "import pandas as pd\n",
    "import numpy as np\n",
    "from sklearn.model_selection import train_test_split\n",
    "from sklearn import neighbors\n",
    "from sklearn import svm\n",
    "from sklearn import metrics\n",
    "from sklearn.metrics import accuracy_score\n",
    "from parse import preprocess"
   ]
  },
  {
   "cell_type": "code",
   "execution_count": 30,
   "metadata": {},
   "outputs": [
    {
     "name": "stdout",
     "output_type": "stream",
     "text": [
      "\n",
      "####################################################################\n",
      "Number of Rows of Dataframe:\n",
      "1123\n",
      "Number of Columns of Dataframe:\n",
      "59\n",
      "\n",
      "####################################################################\n",
      "Threshold for number of NULLs in a column: 0.1095\n",
      "Number of Columns before Parsing for Too Many NULLs in a column:\n",
      "59\n",
      "Number of Columns after Parsing for Too Many NULLs in a column:\n",
      "51\n",
      "\n",
      "Columns Removed:\n",
      "B1_b5\n",
      "B4_a1\n",
      "B4_a3\n",
      "B4_a4\n",
      "B4_a6\n",
      "B4_b1\n",
      "B4_b3\n",
      "B5_a1\n",
      "\n",
      "####################################################################\n",
      "Number of Rows before Parsing NULLs in data:\n",
      "1123\n",
      "Number of Rows after Parsing NULLs in data:\n",
      "1007\n"
     ]
    }
   ],
   "source": [
    "# Load dataset, preprocess rawfile\n",
    "df = preprocess(\"rawfile_blood.csv\")"
   ]
  },
  {
   "cell_type": "code",
   "execution_count": 31,
   "metadata": {},
   "outputs": [],
   "source": [
    "# Initialise counters for each condition\n",
    "frail = 0\n",
    "frail_mci = 0\n",
    "mci = 0\n",
    "prefrail_mci = 0\n",
    "prefrail = 0\n",
    "robust = 0"
   ]
  },
  {
   "cell_type": "code",
   "execution_count": 32,
   "metadata": {},
   "outputs": [
    {
     "name": "stdout",
     "output_type": "stream",
     "text": [
      "\n",
      "####################################################################\n",
      "Labels with frequencies:\n",
      "Frail: 7\n",
      "Frail + MCI: 76\n",
      "MCI: 133\n",
      "Prefrail + MCI: 231\n",
      "Prefrail: 221\n",
      "Robust: 339\n"
     ]
    }
   ],
   "source": [
    "# Count rows of data for each condition\n",
    "for i in range(0, len(df)):\n",
    "\tif df.at[i, 'condition'] == 'frail':\n",
    "\t\tfrail += 1\n",
    "\telif df.at[i, 'condition'] == 'frail_mci':\n",
    "\t\tfrail_mci += 1\n",
    "\telif df.at[i, 'condition'] == 'mci':\n",
    "\t\tmci += 1\n",
    "\telif df.at[i, 'condition'] == 'prefrail_mci':\n",
    "\t\tprefrail_mci += 1\n",
    "\telif df.at[i, 'condition'] == 'prefrail':\n",
    "\t\tprefrail += 1\n",
    "\telif df.at[i, 'condition'] == 'robust':\n",
    "\t\trobust += 1\n",
    "        \n",
    "# Display number of rows (frequency) for each condition (label)\n",
    "print(\"\\n####################################################################\")\n",
    "print(\"Labels with frequencies:\")\n",
    "print(\"Frail:\", frail)\n",
    "print(\"Frail + MCI:\", frail_mci)\n",
    "print(\"MCI:\", mci)\n",
    "print(\"Prefrail + MCI:\", prefrail_mci)\n",
    "print(\"Prefrail:\", prefrail)\n",
    "print(\"Robust:\", robust)"
   ]
  },
  {
   "cell_type": "code",
   "execution_count": 35,
   "metadata": {},
   "outputs": [
    {
     "name": "stdout",
     "output_type": "stream",
     "text": [
      "        mtag     condition  A1_1  A2_1  A3_1  B1_a  B1_a1  B1_a2  B1_a3  \\\n",
      "0    ME06950     frail_mci  1476    13  33.7   133   4.58   0.38     83   \n",
      "1    MV00408      prefrail   239     9  72.6   142   4.95   0.45     91   \n",
      "2    ME10236     frail_mci   474    20  38.0   121   3.95   0.37     94   \n",
      "3    MV00386      prefrail   474    22  39.2   158   6.80   0.49     72   \n",
      "4    ME03542  prefrail_mci   352    14  29.8   131   5.04   0.41     81   \n",
      "..       ...           ...   ...   ...   ...   ...    ...    ...    ...   \n",
      "673  MV00454        robust   220    19  67.5   138   4.66   0.42     91   \n",
      "674  MV00456        robust   334    18  51.0   139   4.63   0.42     91   \n",
      "675  MV00460        robust   418    17  61.0   122   4.18   0.38     90   \n",
      "676  MV00502        robust   393    18  43.1   136   4.57   0.43     94   \n",
      "677  MV00510        robust   371    24  55.9   127   4.41   0.40     90   \n",
      "\n",
      "     B1_a4  ...  B2_d6  B2_d7  B2_d8  B2_d9    B3  B4_a2  B4_a5  B5_a2  B5_a3  \\\n",
      "0       26  ...      8     15     18     10   4.1    7.5  1.011   6.87    3.8   \n",
      "1       29  ...     15     11     19     15   0.2    8.0  1.011   0.96    5.4   \n",
      "2       30  ...     13      8     25     34   0.1    6.5  1.015   0.63    4.9   \n",
      "3       23  ...     13    104     25     26   4.3    6.5  1.009   1.98    5.1   \n",
      "4       26  ...      8     31     16     20  11.3    5.5  1.027   1.59    4.2   \n",
      "..     ...  ...    ...    ...    ...    ...   ...    ...    ...    ...    ...   \n",
      "673     30  ...     20     10     17      8   6.6    7.0  1.015   1.29    4.5   \n",
      "674     30  ...     16     22     35     40   1.0    6.0  1.015   1.88    3.9   \n",
      "675     29  ...     19     20     23     15   0.4    6.5  1.005   3.58    4.0   \n",
      "676     30  ...     13     11     22     23   0.7    7.0  1.009   0.92    4.1   \n",
      "677     29  ...     13     14     16     12   7.5    8.0  1.017   2.45    4.5   \n",
      "\n",
      "       B6  \n",
      "0     6.1  \n",
      "1     5.7  \n",
      "2     6.0  \n",
      "3     5.6  \n",
      "4    10.2  \n",
      "..    ...  \n",
      "673   6.2  \n",
      "674   5.6  \n",
      "675   5.6  \n",
      "676   6.0  \n",
      "677   6.2  \n",
      "\n",
      "[678 rows x 47 columns]\n"
     ]
    }
   ],
   "source": [
    "# There are 668 Non-Robust and 339 Robust\n",
    "\n",
    "# Collect data that is Non-Robust\n",
    "df1 = df[df.condition != 'robust']\n",
    "# Collect data that is Robust\n",
    "df2 = df[df.condition == 'robust']\n",
    "\n",
    "# Random sample 339 from Non-Robust\n",
    "df1 = df1.sample(n=339)\n",
    "\n",
    "# Append 339 Robust to 339 Non-Robust\n",
    "df = df1.append(df2, ignore_index=True)\n",
    "\n",
    "# Display Dataframe\n",
    "print(df)"
   ]
  },
  {
   "cell_type": "code",
   "execution_count": 36,
   "metadata": {},
   "outputs": [
    {
     "name": "stdout",
     "output_type": "stream",
     "text": [
      "     A1_1  A2_1  A3_1  B1_a  B1_a1  B1_a2  B1_a3  B1_a4  B1_a5  B1_a6  ...  \\\n",
      "0    1476    13  33.7   133   4.58   0.38     83     26    316   15.0  ...   \n",
      "1     239     9  72.6   142   4.95   0.45     91     29    316   13.5  ...   \n",
      "2     474    20  38.0   121   3.95   0.37     94     30    321   14.5  ...   \n",
      "3     474    22  39.2   158   6.80   0.49     72     23    322   15.2  ...   \n",
      "4     352    14  29.8   131   5.04   0.41     81     26    321   14.3  ...   \n",
      "..    ...   ...   ...   ...    ...    ...    ...    ...    ...    ...  ...   \n",
      "673   220    19  67.5   138   4.66   0.42     91     30    325   14.1  ...   \n",
      "674   334    18  51.0   139   4.63   0.42     91     30    330   15.6  ...   \n",
      "675   418    17  61.0   122   4.18   0.38     90     29    324   13.5  ...   \n",
      "676   393    18  43.1   136   4.57   0.43     94     30    316   12.5  ...   \n",
      "677   371    24  55.9   127   4.41   0.40     90     29    320   13.8  ...   \n",
      "\n",
      "     B2_d6  B2_d7  B2_d8  B2_d9    B3  B4_a2  B4_a5  B5_a2  B5_a3    B6  \n",
      "0        8     15     18     10   4.1    7.5  1.011   6.87    3.8   6.1  \n",
      "1       15     11     19     15   0.2    8.0  1.011   0.96    5.4   5.7  \n",
      "2       13      8     25     34   0.1    6.5  1.015   0.63    4.9   6.0  \n",
      "3       13    104     25     26   4.3    6.5  1.009   1.98    5.1   5.6  \n",
      "4        8     31     16     20  11.3    5.5  1.027   1.59    4.2  10.2  \n",
      "..     ...    ...    ...    ...   ...    ...    ...    ...    ...   ...  \n",
      "673     20     10     17      8   6.6    7.0  1.015   1.29    4.5   6.2  \n",
      "674     16     22     35     40   1.0    6.0  1.015   1.88    3.9   5.6  \n",
      "675     19     20     23     15   0.4    6.5  1.005   3.58    4.0   5.6  \n",
      "676     13     11     22     23   0.7    7.0  1.009   0.92    4.1   6.0  \n",
      "677     13     14     16     12   7.5    8.0  1.017   2.45    4.5   6.2  \n",
      "\n",
      "[678 rows x 45 columns] 0         frail_mci\n",
      "1          prefrail\n",
      "2         frail_mci\n",
      "3          prefrail\n",
      "4      prefrail_mci\n",
      "           ...     \n",
      "673          robust\n",
      "674          robust\n",
      "675          robust\n",
      "676          robust\n",
      "677          robust\n",
      "Name: condition, Length: 678, dtype: object\n",
      "\n",
      "Shape of Features:\n",
      "(678, 45)\n",
      "\n",
      "Shape of Labels:\n",
      "(678,)\n"
     ]
    }
   ],
   "source": [
    "# Specify features and labels\n",
    "y = df['condition']\n",
    "x = df.drop(['mtag', 'condition'], axis=1)\n",
    "\n",
    "# Display features and labels\n",
    "print(x, y)\n",
    "\n",
    "# Display shape of features and labels\n",
    "print(\"\\nShape of Features:\")\n",
    "print(x.shape)\n",
    "print(\"\\nShape of Labels:\")\n",
    "print(y.shape)"
   ]
  },
  {
   "cell_type": "code",
   "execution_count": 37,
   "metadata": {},
   "outputs": [
    {
     "name": "stdout",
     "output_type": "stream",
     "text": [
      "0      0\n",
      "1      0\n",
      "2      0\n",
      "3      0\n",
      "4      0\n",
      "      ..\n",
      "673    1\n",
      "674    1\n",
      "675    1\n",
      "676    1\n",
      "677    1\n",
      "Name: condition, Length: 678, dtype: int64\n",
      "(678,)\n"
     ]
    }
   ],
   "source": [
    "# Data Dictionary:\n",
    "# frail -> 0\n",
    "# frail_mci -> 0\n",
    "# mci -> 0\n",
    "# prefrail_mci -> 0\n",
    "# prefrail -> 0\n",
    "# robust -> 1\n",
    "\n",
    "# Conduct label mapping for conditions\n",
    "label_mapping = {\n",
    "    'frail' : 0,\n",
    "    'frail_mci' : 0,\n",
    "    'mci' : 0,\n",
    "    'prefrail_mci' : 0,\n",
    "    'prefrail' : 0,\n",
    "    'robust' : 1\n",
    "}\n",
    "\n",
    "y = y.map(label_mapping)\n",
    "\n",
    "# Display label\n",
    "print(y)\n",
    "\n",
    "# Display shape of label\n",
    "print(y.shape)"
   ]
  },
  {
   "cell_type": "code",
   "execution_count": 40,
   "metadata": {},
   "outputs": [
    {
     "name": "stdout",
     "output_type": "stream",
     "text": [
      "\n",
      "X Train:\n",
      "     A1_1  A2_1   A3_1  B1_a  B1_a1  B1_a2  B1_a3  B1_a4  B1_a5  B1_a6  ...  \\\n",
      "580   485    18  42.60   153   4.30   0.40     93     32    340   12.9  ...   \n",
      "173   469    20  47.10   136   4.64   0.40     86     29    341   14.6  ...   \n",
      "643   231    14   4.07   133   4.71   0.39     83     28    340   14.4  ...   \n",
      "370   349    16  51.10   146   5.73   0.48     83     27    328   16.4  ...   \n",
      "327   679    10  41.30   140   4.04   0.36     88     32    360   16.4  ...   \n",
      "..    ...   ...    ...   ...    ...    ...    ...    ...    ...    ...  ...   \n",
      "27    259    14  27.20   117   4.19   0.37     89     28    314   14.1  ...   \n",
      "281   413    15  30.90   125   4.12   0.37     89     30    341   14.1  ...   \n",
      "396   275    15  68.10   134   6.22   0.40     65     21    317   15.9  ...   \n",
      "156   239    16  21.00   151   4.42   0.40     91     29    323   13.5  ...   \n",
      "597   472    17  92.20   136   6.08   0.41     67     22    334   15.4  ...   \n",
      "\n",
      "     B2_d6  B2_d7  B2_d8  B2_d9   B3  B4_a2  B4_a5  B5_a2  B5_a3   B6  \n",
      "580     12     47     22     35  0.3    6.0  1.014   1.22    5.0  7.1  \n",
      "173     14     26     29     29  8.8    6.0  1.014   1.12    4.5  5.5  \n",
      "643     20     30     24     28  1.1    5.5  1.026   1.55    4.6  6.1  \n",
      "370      8     23     29     38  0.3    5.5  1.010   1.41    5.2  5.9  \n",
      "327      9     17     18     31  1.1    6.0  1.019   4.67    4.6  9.4  \n",
      "..     ...    ...    ...    ...  ...    ...    ...    ...    ...  ...  \n",
      "27       8      8     21     22  3.2    6.0  1.021   1.59    4.5  5.6  \n",
      "281     13     17     20     23  4.6    8.5  1.006   0.73    4.1  9.2  \n",
      "396     17     15     17     17  1.1    6.0  1.020   3.03    4.2  5.5  \n",
      "156     12     69     20     24  5.4    6.0  1.007   3.56    4.5  8.1  \n",
      "597     24     20     22     20  0.1    5.0  1.025   1.64    4.9  5.4  \n",
      "\n",
      "[542 rows x 45 columns]\n",
      "\n",
      "X Test:\n",
      "     A1_1  A2_1  A3_1  B1_a  B1_a1  B1_a2  B1_a3  B1_a4  B1_a5  B1_a6  ...  \\\n",
      "201   252    16  52.8   127   4.64   0.41     88     27    311   16.0  ...   \n",
      "130   232    30  41.9   128   4.43   0.40     90     29    321   12.9  ...   \n",
      "611   324    21  50.1   134   4.43   0.40     91     30    333   12.6  ...   \n",
      "115   871    27  46.6   121   3.58   0.32     90     31    342   12.8  ...   \n",
      "271   362    25  42.1   139   4.63   0.41     88     30    342   13.4  ...   \n",
      "..    ...   ...   ...   ...    ...    ...    ...    ...    ...    ...  ...   \n",
      "381   267    16  54.8   128   4.17   0.39     94     30    321   14.2  ...   \n",
      "291   312    17  76.4   128   4.73   0.42     88     28    317   15.9  ...   \n",
      "511   445    17  47.8   131   4.47   0.41     91     31    342   11.6  ...   \n",
      "49    408    15  65.7   120   5.08   0.45     88     31    356   12.8  ...   \n",
      "501   481    28  27.8   147   4.62   0.40     87     29    333   13.3  ...   \n",
      "\n",
      "     B2_d6  B2_d7  B2_d8  B2_d9   B3  B4_a2  B4_a5  B5_a2  B5_a3   B6  \n",
      "201     17     46     33     26  0.5    6.5  1.008   1.01    4.0  5.8  \n",
      "130     11      6     15      9  0.2    8.0  1.013   1.70    4.2  5.3  \n",
      "611      8     13     16      9  0.3    6.0  1.029   1.58    4.8  5.7  \n",
      "115     10     12     18     16  3.4    7.5  1.004   0.72    4.5  6.5  \n",
      "271     12     32     18     22  0.9    5.5  1.015   2.53    5.0  8.2  \n",
      "..     ...    ...    ...    ...  ...    ...    ...    ...    ...  ...  \n",
      "381     10      8     31     20  0.6    5.5  1.017   2.58    5.2  5.6  \n",
      "291     22      8     20     14  0.5    5.5  1.020   1.26    4.2  5.6  \n",
      "511      7     27     24     17  1.5    7.0  1.014   1.76    4.6  6.1  \n",
      "49      18     16     19     14  0.2    6.5  1.006   0.72    4.6  5.0  \n",
      "501     14     47     47     78  3.3    7.0  1.023   1.46    4.8  6.2  \n",
      "\n",
      "[136 rows x 45 columns]\n",
      "\n",
      "Y Train:\n",
      "580    1\n",
      "173    0\n",
      "643    1\n",
      "370    1\n",
      "327    0\n",
      "      ..\n",
      "27     0\n",
      "281    0\n",
      "396    1\n",
      "156    0\n",
      "597    1\n",
      "Name: condition, Length: 542, dtype: int64\n",
      "\n",
      "Y Test:\n",
      "201    0\n",
      "130    0\n",
      "611    1\n",
      "115    0\n",
      "271    0\n",
      "      ..\n",
      "381    1\n",
      "291    0\n",
      "511    1\n",
      "49     0\n",
      "501    1\n",
      "Name: condition, Length: 136, dtype: int64\n",
      "\n",
      "Shape of X Train:\n",
      "(542, 45)\n",
      "\n",
      "Shape of X Test:\n",
      "(136, 45)\n",
      "\n",
      "Shape of Y Train:\n",
      "(542,)\n",
      "\n",
      "Shape of Y Test:\n",
      "(136,)\n"
     ]
    }
   ],
   "source": [
    "# Conduct train-test split on dataset\n",
    "x_train, x_test, y_train, y_test = train_test_split(x, y, test_size=0.2)\n",
    "\n",
    "# Display x_train, x_test, y_train, y_test\n",
    "print(\"\\nX Train:\")\n",
    "print(x_train)\n",
    "print(\"\\nX Test:\")\n",
    "print(x_test)\n",
    "print(\"\\nY Train:\")\n",
    "print(y_train)\n",
    "print(\"\\nY Test:\")\n",
    "print(y_test)\n",
    "\n",
    "# Display shape of train and test sets\n",
    "print(\"\\nShape of X Train:\")\n",
    "print(x_train.shape)\n",
    "print(\"\\nShape of X Test:\")\n",
    "print(x_test.shape)\n",
    "print(\"\\nShape of Y Train:\")\n",
    "print(y_train.shape)\n",
    "print(\"\\nShape of Y Test:\")\n",
    "print(y_test.shape)"
   ]
  },
  {
   "cell_type": "code",
   "execution_count": 64,
   "metadata": {},
   "outputs": [],
   "source": [
    "# Create kNN model\n",
    "knn = neighbors.KNeighborsClassifier(n_neighbors=5, weights='uniform')"
   ]
  },
  {
   "cell_type": "code",
   "execution_count": 65,
   "metadata": {},
   "outputs": [
    {
     "data": {
      "text/plain": [
       "KNeighborsClassifier()"
      ]
     },
     "execution_count": 65,
     "metadata": {},
     "output_type": "execute_result"
    }
   ],
   "source": [
    "# Train the model\n",
    "knn.fit(x_train, y_train)"
   ]
  },
  {
   "cell_type": "code",
   "execution_count": 66,
   "metadata": {},
   "outputs": [],
   "source": [
    "# Make prediction\n",
    "prediction = knn.predict(x_test)"
   ]
  },
  {
   "cell_type": "code",
   "execution_count": 67,
   "metadata": {
    "scrolled": true
   },
   "outputs": [
    {
     "name": "stdout",
     "output_type": "stream",
     "text": [
      "Predictions: [0 1 1 0 1 1 0 0 0 1 1 1 0 0 1 1 1 1 1 1 0 0 1 1 0 0 1 1 1 1 0 1 0 0 0 0 1\n",
      " 1 1 0 0 1 1 0 1 1 1 0 0 1 0 1 0 0 0 1 1 0 0 1 1 1 0 1 0 1 0 1 0 1 0 1 1 0\n",
      " 0 1 0 0 0 0 0 0 0 1 1 1 0 0 1 1 1 0 1 1 1 0 1 0 0 0 0 1 0 1 0 1 0 0 1 0 0\n",
      " 1 0 0 0 0 0 1 0 1 0 0 1 0 1 1 1 1 0 1 0 0 1 1 1 1]\n",
      "Actual: [0 0 1 0 0 1 0 0 0 0 0 1 1 1 0 1 1 1 0 0 0 1 0 1 1 1 0 1 0 0 1 0 0 1 0 1 1\n",
      " 0 1 0 1 0 0 1 1 1 0 0 1 0 0 0 1 0 1 0 1 0 0 1 1 0 0 1 0 1 1 1 1 1 0 0 1 0\n",
      " 0 1 0 1 1 1 0 1 1 0 1 1 1 1 0 1 0 1 0 1 1 0 1 0 0 0 0 1 0 1 0 1 0 0 1 1 1\n",
      " 1 0 1 0 1 0 1 1 0 0 1 0 0 1 0 1 1 1 0 0 1 0 1 0 1]\n",
      "Accuracy: 0.5441176470588235\n"
     ]
    }
   ],
   "source": [
    "# Measure accuracy\n",
    "accuracy = metrics.accuracy_score(y_test, prediction)\n",
    "\n",
    "# Display predictions and Accuracy\n",
    "print(\"Predictions:\", prediction)\n",
    "print(\"Actual:\", np.array(y_test))\n",
    "print(\"Accuracy:\", accuracy)"
   ]
  },
  {
   "cell_type": "code",
   "execution_count": 68,
   "metadata": {},
   "outputs": [
    {
     "name": "stdout",
     "output_type": "stream",
     "text": [
      "Predictions: [0 0 0 0 0 1 1 0 0 1 1 1 1 1 0 1 1 1 0 1 1 0 0 1 1 0 1 0 0 0 0 1 0 0 1 1 0\n",
      " 1 1 1 1 0 0 0 1 1 1 0 1 0 0 1 0 0 1 0 0 0 0 1 1 1 1 0 0 1 1 1 1 1 1 1 1 0\n",
      " 0 1 0 1 0 1 1 1 0 0 1 0 0 0 1 0 1 1 1 1 1 0 1 1 0 0 1 1 1 0 1 0 0 0 1 0 1\n",
      " 1 0 1 1 1 1 0 1 1 1 1 0 0 1 0 1 1 1 0 0 0 1 0 0 0]\n",
      "Actual: 201    0\n",
      "130    0\n",
      "611    1\n",
      "115    0\n",
      "271    0\n",
      "      ..\n",
      "381    1\n",
      "291    0\n",
      "511    1\n",
      "49     0\n",
      "501    1\n",
      "Name: condition, Length: 136, dtype: int64\n",
      "Accuracy: 0.6102941176470589\n"
     ]
    }
   ],
   "source": [
    "# Create linear SVM model\n",
    "model = svm.SVC(kernel='linear')\n",
    "\n",
    "# Train the model\n",
    "model.fit(x_train, y_train)\n",
    "\n",
    "# Make predictions\n",
    "predictions = model.predict(x_test)\n",
    "\n",
    "# Measure accuracy\n",
    "acc = accuracy_score(y_test, predictions)\n",
    "\n",
    "# Print predictions, actual, and accuracy score\n",
    "print(\"Predictions:\", predictions)\n",
    "print(\"Actual:\", y_test)\n",
    "print(\"Accuracy:\", acc)"
   ]
  },
  {
   "cell_type": "code",
   "execution_count": 56,
   "metadata": {},
   "outputs": [
    {
     "name": "stdout",
     "output_type": "stream",
     "text": [
      "Predictions: [1 0 1 0 1 1 1 1 0 1 1 1 1 1 1 0 1 0 1 1 1 0 0 1 0 0 1 1 0 0 1 1 1 0 1 1 0\n",
      " 1 1 0 1 0 1 1 1 1 1 0 1 1 0 1 0 1 1 1 1 0 1 0 1 1 1 1 1 1 1 1 1 1 1 1 1 0\n",
      " 1 1 1 0 1 1 1 1 1 1 1 1 0 1 1 0 1 1 1 1 1 1 1 0 0 0 1 0 1 1 0 1 0 0 1 0 1\n",
      " 1 0 1 1 1 0 1 1 1 1 1 1 1 1 1 0 1 1 1 1 0 1 1 1 1]\n",
      "Actual: 201    0\n",
      "130    0\n",
      "611    1\n",
      "115    0\n",
      "271    0\n",
      "      ..\n",
      "381    1\n",
      "291    0\n",
      "511    1\n",
      "49     0\n",
      "501    1\n",
      "Name: condition, Length: 136, dtype: int64\n",
      "Accuracy: 0.5367647058823529\n"
     ]
    }
   ],
   "source": [
    "# Create RBF SVM model\n",
    "model = svm.SVC(kernel='rbf')\n",
    "\n",
    "# Train the model\n",
    "model.fit(x_train, y_train)\n",
    "\n",
    "# Make predictions\n",
    "predictions = model.predict(x_test)\n",
    "\n",
    "# Measure accuracy\n",
    "acc = accuracy_score(y_test, predictions)\n",
    "\n",
    "# Print predictions, actual, and accuracy score\n",
    "print(\"Predictions:\", predictions)\n",
    "print(\"Actual:\", y_test)\n",
    "print(\"Accuracy:\", acc)"
   ]
  },
  {
   "cell_type": "code",
   "execution_count": 57,
   "metadata": {},
   "outputs": [
    {
     "name": "stdout",
     "output_type": "stream",
     "text": [
      "Predictions: [0 0 0 0 0 0 0 0 0 0 0 0 0 0 0 0 0 0 0 0 0 0 0 0 0 1 0 0 0 0 0 0 0 0 0 0 0\n",
      " 0 0 0 0 0 0 0 0 0 0 0 0 0 1 0 0 0 0 0 0 0 0 0 0 0 0 0 0 0 0 0 0 0 0 0 0 0\n",
      " 0 0 0 0 0 0 0 0 0 0 0 0 0 0 0 0 0 0 0 0 0 0 0 0 0 0 0 0 0 0 0 0 0 0 0 0 0\n",
      " 0 0 0 0 0 0 0 0 0 0 0 0 0 0 0 0 0 0 0 0 0 0 0 0 0]\n",
      "Actual: 201    0\n",
      "130    0\n",
      "611    1\n",
      "115    0\n",
      "271    0\n",
      "      ..\n",
      "381    1\n",
      "291    0\n",
      "511    1\n",
      "49     0\n",
      "501    1\n",
      "Name: condition, Length: 136, dtype: int64\n",
      "Accuracy: 0.49264705882352944\n"
     ]
    }
   ],
   "source": [
    "# Create Sigmoid SVM model\n",
    "model = svm.SVC(kernel='sigmoid')\n",
    "\n",
    "# Train the model\n",
    "model.fit(x_train, y_train)\n",
    "\n",
    "# Make predictions\n",
    "predictions = model.predict(x_test)\n",
    "\n",
    "# Measure accuracy\n",
    "acc = accuracy_score(y_test, predictions)\n",
    "\n",
    "# Print predictions, actual, and accuracy score\n",
    "print(\"Predictions:\", predictions)\n",
    "print(\"Actual:\", y_test)\n",
    "print(\"Accuracy:\", acc)"
   ]
  },
  {
   "cell_type": "code",
   "execution_count": 58,
   "metadata": {},
   "outputs": [
    {
     "name": "stdout",
     "output_type": "stream",
     "text": [
      "Predictions: [1 0 1 0 0 1 1 1 0 1 1 1 1 1 1 1 1 1 1 1 1 1 1 1 1 1 1 1 0 1 1 1 0 1 1 1 0\n",
      " 1 1 1 1 1 0 0 1 1 1 0 1 1 0 1 1 1 0 1 1 1 1 1 1 1 1 1 1 1 1 1 1 1 1 1 1 1\n",
      " 0 1 1 1 1 1 0 1 1 0 1 0 0 1 1 1 1 1 1 1 1 0 0 1 1 0 1 1 1 1 0 1 1 1 1 1 1\n",
      " 1 1 1 1 1 1 1 1 1 1 1 1 0 1 1 1 1 0 1 0 1 1 1 1 0]\n",
      "Actual: 201    0\n",
      "130    0\n",
      "611    1\n",
      "115    0\n",
      "271    0\n",
      "      ..\n",
      "381    1\n",
      "291    0\n",
      "511    1\n",
      "49     0\n",
      "501    1\n",
      "Name: condition, Length: 136, dtype: int64\n",
      "Accuracy: 0.5735294117647058\n"
     ]
    }
   ],
   "source": [
    "# Create Polynomial SVM model\n",
    "model = svm.SVC(kernel='poly')\n",
    "\n",
    "# Train the model\n",
    "model.fit(x_train, y_train)\n",
    "\n",
    "# Make predictions\n",
    "predictions = model.predict(x_test)\n",
    "\n",
    "# Measure accuracy\n",
    "acc = accuracy_score(y_test, predictions)\n",
    "\n",
    "# Print predictions, actual, and accuracy score\n",
    "print(\"Predictions:\", predictions)\n",
    "print(\"Actual:\", y_test)\n",
    "print(\"Accuracy:\", acc)"
   ]
  },
  {
   "cell_type": "code",
   "execution_count": null,
   "metadata": {},
   "outputs": [],
   "source": []
  }
 ],
 "metadata": {
  "kernelspec": {
   "display_name": "Python 3",
   "language": "python",
   "name": "python3"
  },
  "language_info": {
   "codemirror_mode": {
    "name": "ipython",
    "version": 3
   },
   "file_extension": ".py",
   "mimetype": "text/x-python",
   "name": "python",
   "nbconvert_exporter": "python",
   "pygments_lexer": "ipython3",
   "version": "3.8.3"
  }
 },
 "nbformat": 4,
 "nbformat_minor": 4
}
