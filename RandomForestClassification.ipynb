{
 "cells": [
  {
   "cell_type": "code",
   "execution_count": 61,
   "id": "divided-basement",
   "metadata": {},
   "outputs": [],
   "source": [
    "# Import packages\n",
    "import numpy as np # linear algebra\n",
    "import pandas as pd # data processing, CSV file I/O (e.g. pd.read_csv)\n",
    "from sklearn.model_selection import train_test_split\n",
    "from sklearn.model_selection import cross_val_score\n",
    "from sklearn.model_selection import StratifiedKFold\n",
    "from sklearn.model_selection import KFold\n",
    "from sklearn.naive_bayes import GaussianNB\n",
    "from sklearn.discriminant_analysis import LinearDiscriminantAnalysis\n",
    "from sklearn.metrics import confusion_matrix\n",
    "from sklearn.metrics import classification_report\n",
    "from sklearn.metrics import accuracy_score\n",
    "from sklearn.metrics import make_scorer\n",
    "from sklearn.preprocessing import StandardScaler\n",
    "from sklearn.preprocessing import MinMaxScaler\n",
    "from sklearn.linear_model import LinearRegression\n",
    "from sklearn.linear_model import LogisticRegression\n",
    "from sklearn.tree import DecisionTreeClassifier\n",
    "from sklearn.neighbors import KNeighborsClassifier\n",
    "from sklearn.svm import SVC\n",
    "from sklearn.ensemble import RandomForestClassifier\n",
    "from imblearn.under_sampling import RandomUnderSampler\n",
    "from imblearn.over_sampling import SMOTE\n",
    "from collections import Counter\n",
    "from parse import preprocess"
   ]
  },
  {
   "cell_type": "code",
   "execution_count": 62,
   "id": "forced-anthony",
   "metadata": {},
   "outputs": [],
   "source": [
    "# Function to show classification report for Cross Validation\n",
    "def classification_report_with_accuracy_score(y_true, y_pred):\n",
    "    print(classification_report(y_true, y_pred)) # print classification report\n",
    "    return accuracy_score(y_true, y_pred) # return accuracy score"
   ]
  },
  {
   "cell_type": "code",
   "execution_count": 63,
   "id": "popular-angel",
   "metadata": {
    "scrolled": true
   },
   "outputs": [
    {
     "name": "stdout",
     "output_type": "stream",
     "text": [
      "robust          368\n",
      "prefrail_mci    268\n",
      "prefrail        250\n",
      "mci             142\n",
      "frail_mci        86\n",
      "Name: condition, dtype: int64\n",
      "\n",
      "####################################################################\n",
      "Number of Rows of Dataframe:\n",
      "1114\n",
      "Number of Columns of Dataframe:\n",
      "59\n",
      "\n",
      "####################################################################\n",
      "Threshold for number of NULLs in a column: 0.1095\n",
      "Number of Columns before Parsing for Too Many NULLs in a column:\n",
      "59\n",
      "Number of Columns after Parsing for Too Many NULLs in a column:\n",
      "51\n",
      "\n",
      "Columns Removed:\n",
      "B1_b5\n",
      "B4_a1\n",
      "B4_a3\n",
      "B4_a4\n",
      "B4_a6\n",
      "B4_b1\n",
      "B4_b3\n",
      "B5_a1\n",
      "\n",
      "####################################################################\n",
      "Number of Rows before Parsing NULLs in data:\n",
      "1114\n",
      "Number of Rows after Parsing NULLs in data:\n",
      "1000\n",
      "\n",
      "####################################################################\n",
      "Number of Columns after dropping A1_2, B1_b4, B2_c3, B4_b2 for inconsistent data types:\n",
      "47\n"
     ]
    }
   ],
   "source": [
    "# Pre-parse the dataset\n",
    "data = preprocess(\"rawfile_blood.csv\")"
   ]
  },
  {
   "cell_type": "code",
   "execution_count": 64,
   "id": "compliant-palace",
   "metadata": {},
   "outputs": [],
   "source": [
    "# # Initialise counters for each condition\n",
    "# frail = 0\n",
    "# frail_mci = 0\n",
    "# mci = 0\n",
    "# prefrail_mci = 0\n",
    "# prefrail = 0\n",
    "# robust = 0\n",
    "\n",
    "# # Count rows of data for each condition\n",
    "# for i in range(0, len(data)):\n",
    "# \tif data.at[i, 'condition'] == 'frail':\n",
    "# \t\tfrail += 1\n",
    "# \tif data.at[i, 'condition'] == 'frail_mci':\n",
    "# \t\tfrail_mci += 1\n",
    "# \telif data.at[i, 'condition'] == 'mci':\n",
    "# \t\tmci += 1\n",
    "# \telif data.at[i, 'condition'] == 'prefrail_mci':\n",
    "# \t\tprefrail_mci += 1\n",
    "# \telif data.at[i, 'condition'] == 'prefrail':\n",
    "# \t\tprefrail += 1\n",
    "# \telif data.at[i, 'condition'] == 'robust':\n",
    "# \t\trobust += 1\n",
    "        \n",
    "# # Display number of rows (frequency) for each condition (label)\n",
    "# print(\"\\n####################################################################\")\n",
    "# print(\"Labels with frequencies:\")\n",
    "# # print(\"Frail:\", frail)\n",
    "# print(\"Frail + MCI:\", frail_mci)\n",
    "# print(\"MCI:\", mci)\n",
    "# print(\"Prefrail + MCI:\", prefrail_mci)\n",
    "# print(\"Prefrail:\", prefrail)\n",
    "# print(\"Robust:\", robust)"
   ]
  },
  {
   "cell_type": "code",
   "execution_count": 65,
   "id": "matched-landscape",
   "metadata": {},
   "outputs": [],
   "source": [
    "# indexNames = data[data.condition == 'mci'].index\n",
    "# data.drop(indexNames, inplace=True)\n",
    "\n",
    "# indexNames = data[data.condition == 'prefrail_mci'].index\n",
    "# data.drop(indexNames, inplace=True)\n",
    "\n",
    "# indexNames = data[data.condition == 'prefrail'].index\n",
    "# data.drop(indexNames, inplace=True)\n",
    "    \n",
    "# print()\n",
    "# print(data['condition'].value_counts())"
   ]
  },
  {
   "cell_type": "code",
   "execution_count": 66,
   "id": "retired-museum",
   "metadata": {},
   "outputs": [
    {
     "data": {
      "text/html": [
       "<div>\n",
       "<style scoped>\n",
       "    .dataframe tbody tr th:only-of-type {\n",
       "        vertical-align: middle;\n",
       "    }\n",
       "\n",
       "    .dataframe tbody tr th {\n",
       "        vertical-align: top;\n",
       "    }\n",
       "\n",
       "    .dataframe thead th {\n",
       "        text-align: right;\n",
       "    }\n",
       "</style>\n",
       "<table border=\"1\" class=\"dataframe\">\n",
       "  <thead>\n",
       "    <tr style=\"text-align: right;\">\n",
       "      <th></th>\n",
       "      <th>mtag</th>\n",
       "      <th>condition</th>\n",
       "      <th>A1_1</th>\n",
       "      <th>A2_1</th>\n",
       "      <th>A3_1</th>\n",
       "      <th>B1_a</th>\n",
       "      <th>B1_a1</th>\n",
       "      <th>B1_a2</th>\n",
       "      <th>B1_a3</th>\n",
       "      <th>B1_a4</th>\n",
       "      <th>...</th>\n",
       "      <th>B2_d6</th>\n",
       "      <th>B2_d7</th>\n",
       "      <th>B2_d8</th>\n",
       "      <th>B2_d9</th>\n",
       "      <th>B3</th>\n",
       "      <th>B4_a2</th>\n",
       "      <th>B4_a5</th>\n",
       "      <th>B5_a2</th>\n",
       "      <th>B5_a3</th>\n",
       "      <th>B6</th>\n",
       "    </tr>\n",
       "  </thead>\n",
       "  <tbody>\n",
       "    <tr>\n",
       "      <th>0</th>\n",
       "      <td>ME01378</td>\n",
       "      <td>frail_mci</td>\n",
       "      <td>241</td>\n",
       "      <td>20</td>\n",
       "      <td>33.5</td>\n",
       "      <td>150</td>\n",
       "      <td>5.25</td>\n",
       "      <td>0.46</td>\n",
       "      <td>87</td>\n",
       "      <td>29</td>\n",
       "      <td>...</td>\n",
       "      <td>10</td>\n",
       "      <td>21</td>\n",
       "      <td>22</td>\n",
       "      <td>17</td>\n",
       "      <td>1.3</td>\n",
       "      <td>7.0</td>\n",
       "      <td>1.010</td>\n",
       "      <td>0.69</td>\n",
       "      <td>4.7</td>\n",
       "      <td>5.9</td>\n",
       "    </tr>\n",
       "    <tr>\n",
       "      <th>1</th>\n",
       "      <td>ME02832</td>\n",
       "      <td>frail_mci</td>\n",
       "      <td>444</td>\n",
       "      <td>16</td>\n",
       "      <td>87.0</td>\n",
       "      <td>134</td>\n",
       "      <td>4.65</td>\n",
       "      <td>0.40</td>\n",
       "      <td>85</td>\n",
       "      <td>28</td>\n",
       "      <td>...</td>\n",
       "      <td>10</td>\n",
       "      <td>14</td>\n",
       "      <td>20</td>\n",
       "      <td>15</td>\n",
       "      <td>13.4</td>\n",
       "      <td>6.0</td>\n",
       "      <td>1.005</td>\n",
       "      <td>1.29</td>\n",
       "      <td>4.5</td>\n",
       "      <td>5.8</td>\n",
       "    </tr>\n",
       "    <tr>\n",
       "      <th>2</th>\n",
       "      <td>ME02909</td>\n",
       "      <td>frail_mci</td>\n",
       "      <td>1476</td>\n",
       "      <td>16</td>\n",
       "      <td>57.0</td>\n",
       "      <td>119</td>\n",
       "      <td>3.80</td>\n",
       "      <td>0.36</td>\n",
       "      <td>94</td>\n",
       "      <td>31</td>\n",
       "      <td>...</td>\n",
       "      <td>18</td>\n",
       "      <td>17</td>\n",
       "      <td>35</td>\n",
       "      <td>21</td>\n",
       "      <td>0.2</td>\n",
       "      <td>7.5</td>\n",
       "      <td>1.012</td>\n",
       "      <td>1.90</td>\n",
       "      <td>4.1</td>\n",
       "      <td>5.8</td>\n",
       "    </tr>\n",
       "    <tr>\n",
       "      <th>3</th>\n",
       "      <td>ME02998</td>\n",
       "      <td>frail_mci</td>\n",
       "      <td>339</td>\n",
       "      <td>18</td>\n",
       "      <td>63.8</td>\n",
       "      <td>135</td>\n",
       "      <td>4.89</td>\n",
       "      <td>0.42</td>\n",
       "      <td>86</td>\n",
       "      <td>28</td>\n",
       "      <td>...</td>\n",
       "      <td>13</td>\n",
       "      <td>16</td>\n",
       "      <td>25</td>\n",
       "      <td>13</td>\n",
       "      <td>16.8</td>\n",
       "      <td>5.0</td>\n",
       "      <td>1.017</td>\n",
       "      <td>1.32</td>\n",
       "      <td>4.0</td>\n",
       "      <td>6.0</td>\n",
       "    </tr>\n",
       "    <tr>\n",
       "      <th>4</th>\n",
       "      <td>ME03061</td>\n",
       "      <td>frail_mci</td>\n",
       "      <td>287</td>\n",
       "      <td>20</td>\n",
       "      <td>95.5</td>\n",
       "      <td>146</td>\n",
       "      <td>5.18</td>\n",
       "      <td>0.44</td>\n",
       "      <td>85</td>\n",
       "      <td>28</td>\n",
       "      <td>...</td>\n",
       "      <td>18</td>\n",
       "      <td>22</td>\n",
       "      <td>25</td>\n",
       "      <td>24</td>\n",
       "      <td>1.4</td>\n",
       "      <td>7.5</td>\n",
       "      <td>1.006</td>\n",
       "      <td>2.94</td>\n",
       "      <td>4.6</td>\n",
       "      <td>6.1</td>\n",
       "    </tr>\n",
       "  </tbody>\n",
       "</table>\n",
       "<p>5 rows × 47 columns</p>\n",
       "</div>"
      ],
      "text/plain": [
       "      mtag  condition  A1_1  A2_1  A3_1  B1_a  B1_a1  B1_a2  B1_a3  B1_a4  \\\n",
       "0  ME01378  frail_mci   241    20  33.5   150   5.25   0.46     87     29   \n",
       "1  ME02832  frail_mci   444    16  87.0   134   4.65   0.40     85     28   \n",
       "2  ME02909  frail_mci  1476    16  57.0   119   3.80   0.36     94     31   \n",
       "3  ME02998  frail_mci   339    18  63.8   135   4.89   0.42     86     28   \n",
       "4  ME03061  frail_mci   287    20  95.5   146   5.18   0.44     85     28   \n",
       "\n",
       "   ...  B2_d6  B2_d7  B2_d8  B2_d9    B3  B4_a2  B4_a5  B5_a2  B5_a3   B6  \n",
       "0  ...     10     21     22     17   1.3    7.0  1.010   0.69    4.7  5.9  \n",
       "1  ...     10     14     20     15  13.4    6.0  1.005   1.29    4.5  5.8  \n",
       "2  ...     18     17     35     21   0.2    7.5  1.012   1.90    4.1  5.8  \n",
       "3  ...     13     16     25     13  16.8    5.0  1.017   1.32    4.0  6.0  \n",
       "4  ...     18     22     25     24   1.4    7.5  1.006   2.94    4.6  6.1  \n",
       "\n",
       "[5 rows x 47 columns]"
      ]
     },
     "execution_count": 66,
     "metadata": {},
     "output_type": "execute_result"
    }
   ],
   "source": [
    "data.head()"
   ]
  },
  {
   "cell_type": "code",
   "execution_count": 67,
   "id": "conceptual-longitude",
   "metadata": {},
   "outputs": [
    {
     "data": {
      "text/plain": [
       "Index(['mtag', 'condition', 'A1_1', 'A2_1', 'A3_1', 'B1_a', 'B1_a1', 'B1_a2',\n",
       "       'B1_a3', 'B1_a4', 'B1_a5', 'B1_a6', 'B1_b', 'B1_b1', 'B1_b2', 'B1_b3',\n",
       "       'B1_c', 'B1_d', 'B2_a1', 'B2_a2', 'B2_a3', 'B2_a4', 'B2_a5', 'B2_b1',\n",
       "       'B2_b2', 'B2_b3', 'B2_c1', 'B2_c2', 'B2_c4', 'B2_c5', 'B2_c6', 'B2_c7',\n",
       "       'B2_d1', 'B2_d2', 'B2_d3', 'B2_d4', 'B2_d5', 'B2_d6', 'B2_d7', 'B2_d8',\n",
       "       'B2_d9', 'B3', 'B4_a2', 'B4_a5', 'B5_a2', 'B5_a3', 'B6'],\n",
       "      dtype='object')"
      ]
     },
     "execution_count": 67,
     "metadata": {},
     "output_type": "execute_result"
    }
   ],
   "source": [
    "data.columns"
   ]
  },
  {
   "cell_type": "code",
   "execution_count": 68,
   "id": "plain-simulation",
   "metadata": {},
   "outputs": [
    {
     "data": {
      "text/plain": [
       "robust          339\n",
       "prefrail_mci    231\n",
       "prefrail        221\n",
       "mci             133\n",
       "frail_mci        76\n",
       "Name: condition, dtype: int64"
      ]
     },
     "execution_count": 68,
     "metadata": {},
     "output_type": "execute_result"
    }
   ],
   "source": [
    "c = data['condition'].value_counts()\n",
    "condition = c.index\n",
    "c"
   ]
  },
  {
   "cell_type": "code",
   "execution_count": 69,
   "id": "charged-support",
   "metadata": {},
   "outputs": [
    {
     "data": {
      "text/html": [
       "<div>\n",
       "<style scoped>\n",
       "    .dataframe tbody tr th:only-of-type {\n",
       "        vertical-align: middle;\n",
       "    }\n",
       "\n",
       "    .dataframe tbody tr th {\n",
       "        vertical-align: top;\n",
       "    }\n",
       "\n",
       "    .dataframe thead th {\n",
       "        text-align: right;\n",
       "    }\n",
       "</style>\n",
       "<table border=\"1\" class=\"dataframe\">\n",
       "  <thead>\n",
       "    <tr style=\"text-align: right;\">\n",
       "      <th></th>\n",
       "      <th>mtag</th>\n",
       "      <th>condition</th>\n",
       "      <th>A1_1</th>\n",
       "      <th>A2_1</th>\n",
       "      <th>A3_1</th>\n",
       "      <th>B1_a</th>\n",
       "      <th>B1_a1</th>\n",
       "      <th>B1_a2</th>\n",
       "      <th>B1_a3</th>\n",
       "      <th>B1_a4</th>\n",
       "      <th>...</th>\n",
       "      <th>B2_d6</th>\n",
       "      <th>B2_d7</th>\n",
       "      <th>B2_d8</th>\n",
       "      <th>B2_d9</th>\n",
       "      <th>B3</th>\n",
       "      <th>B4_a2</th>\n",
       "      <th>B4_a5</th>\n",
       "      <th>B5_a2</th>\n",
       "      <th>B5_a3</th>\n",
       "      <th>B6</th>\n",
       "    </tr>\n",
       "  </thead>\n",
       "  <tbody>\n",
       "    <tr>\n",
       "      <th>0</th>\n",
       "      <td>ME01378</td>\n",
       "      <td>4</td>\n",
       "      <td>241</td>\n",
       "      <td>20</td>\n",
       "      <td>33.5</td>\n",
       "      <td>150</td>\n",
       "      <td>5.25</td>\n",
       "      <td>0.46</td>\n",
       "      <td>87</td>\n",
       "      <td>29</td>\n",
       "      <td>...</td>\n",
       "      <td>10</td>\n",
       "      <td>21</td>\n",
       "      <td>22</td>\n",
       "      <td>17</td>\n",
       "      <td>1.3</td>\n",
       "      <td>7.0</td>\n",
       "      <td>1.010</td>\n",
       "      <td>0.69</td>\n",
       "      <td>4.7</td>\n",
       "      <td>5.9</td>\n",
       "    </tr>\n",
       "    <tr>\n",
       "      <th>1</th>\n",
       "      <td>ME02832</td>\n",
       "      <td>4</td>\n",
       "      <td>444</td>\n",
       "      <td>16</td>\n",
       "      <td>87.0</td>\n",
       "      <td>134</td>\n",
       "      <td>4.65</td>\n",
       "      <td>0.40</td>\n",
       "      <td>85</td>\n",
       "      <td>28</td>\n",
       "      <td>...</td>\n",
       "      <td>10</td>\n",
       "      <td>14</td>\n",
       "      <td>20</td>\n",
       "      <td>15</td>\n",
       "      <td>13.4</td>\n",
       "      <td>6.0</td>\n",
       "      <td>1.005</td>\n",
       "      <td>1.29</td>\n",
       "      <td>4.5</td>\n",
       "      <td>5.8</td>\n",
       "    </tr>\n",
       "    <tr>\n",
       "      <th>2</th>\n",
       "      <td>ME02909</td>\n",
       "      <td>4</td>\n",
       "      <td>1476</td>\n",
       "      <td>16</td>\n",
       "      <td>57.0</td>\n",
       "      <td>119</td>\n",
       "      <td>3.80</td>\n",
       "      <td>0.36</td>\n",
       "      <td>94</td>\n",
       "      <td>31</td>\n",
       "      <td>...</td>\n",
       "      <td>18</td>\n",
       "      <td>17</td>\n",
       "      <td>35</td>\n",
       "      <td>21</td>\n",
       "      <td>0.2</td>\n",
       "      <td>7.5</td>\n",
       "      <td>1.012</td>\n",
       "      <td>1.90</td>\n",
       "      <td>4.1</td>\n",
       "      <td>5.8</td>\n",
       "    </tr>\n",
       "  </tbody>\n",
       "</table>\n",
       "<p>3 rows × 47 columns</p>\n",
       "</div>"
      ],
      "text/plain": [
       "      mtag  condition  A1_1  A2_1  A3_1  B1_a  B1_a1  B1_a2  B1_a3  B1_a4  \\\n",
       "0  ME01378          4   241    20  33.5   150   5.25   0.46     87     29   \n",
       "1  ME02832          4   444    16  87.0   134   4.65   0.40     85     28   \n",
       "2  ME02909          4  1476    16  57.0   119   3.80   0.36     94     31   \n",
       "\n",
       "   ...  B2_d6  B2_d7  B2_d8  B2_d9    B3  B4_a2  B4_a5  B5_a2  B5_a3   B6  \n",
       "0  ...     10     21     22     17   1.3    7.0  1.010   0.69    4.7  5.9  \n",
       "1  ...     10     14     20     15  13.4    6.0  1.005   1.29    4.5  5.8  \n",
       "2  ...     18     17     35     21   0.2    7.5  1.012   1.90    4.1  5.8  \n",
       "\n",
       "[3 rows x 47 columns]"
      ]
     },
     "execution_count": 69,
     "metadata": {},
     "output_type": "execute_result"
    }
   ],
   "source": [
    "for i in range(len(condition)):\n",
    "    data['condition'].replace(condition[i], i, inplace = True)\n",
    "\n",
    "data.head(3)"
   ]
  },
  {
   "cell_type": "code",
   "execution_count": 70,
   "id": "synthetic-bones",
   "metadata": {},
   "outputs": [
    {
     "data": {
      "text/html": [
       "<div>\n",
       "<style scoped>\n",
       "    .dataframe tbody tr th:only-of-type {\n",
       "        vertical-align: middle;\n",
       "    }\n",
       "\n",
       "    .dataframe tbody tr th {\n",
       "        vertical-align: top;\n",
       "    }\n",
       "\n",
       "    .dataframe thead th {\n",
       "        text-align: right;\n",
       "    }\n",
       "</style>\n",
       "<table border=\"1\" class=\"dataframe\">\n",
       "  <thead>\n",
       "    <tr style=\"text-align: right;\">\n",
       "      <th></th>\n",
       "      <th>mtag</th>\n",
       "      <th>condition</th>\n",
       "      <th>A1_1</th>\n",
       "      <th>A2_1</th>\n",
       "      <th>A3_1</th>\n",
       "      <th>B1_a</th>\n",
       "      <th>B1_a1</th>\n",
       "      <th>B1_a2</th>\n",
       "      <th>B1_a3</th>\n",
       "      <th>B1_a4</th>\n",
       "      <th>...</th>\n",
       "      <th>B2_d6</th>\n",
       "      <th>B2_d7</th>\n",
       "      <th>B2_d8</th>\n",
       "      <th>B2_d9</th>\n",
       "      <th>B3</th>\n",
       "      <th>B4_a2</th>\n",
       "      <th>B4_a5</th>\n",
       "      <th>B5_a2</th>\n",
       "      <th>B5_a3</th>\n",
       "      <th>B6</th>\n",
       "    </tr>\n",
       "  </thead>\n",
       "  <tbody>\n",
       "    <tr>\n",
       "      <th>995</th>\n",
       "      <td>MV00454</td>\n",
       "      <td>0</td>\n",
       "      <td>220</td>\n",
       "      <td>19</td>\n",
       "      <td>67.5</td>\n",
       "      <td>138</td>\n",
       "      <td>4.66</td>\n",
       "      <td>0.42</td>\n",
       "      <td>91</td>\n",
       "      <td>30</td>\n",
       "      <td>...</td>\n",
       "      <td>20</td>\n",
       "      <td>10</td>\n",
       "      <td>17</td>\n",
       "      <td>8</td>\n",
       "      <td>6.6</td>\n",
       "      <td>7.0</td>\n",
       "      <td>1.015</td>\n",
       "      <td>1.29</td>\n",
       "      <td>4.5</td>\n",
       "      <td>6.2</td>\n",
       "    </tr>\n",
       "    <tr>\n",
       "      <th>996</th>\n",
       "      <td>MV00456</td>\n",
       "      <td>0</td>\n",
       "      <td>334</td>\n",
       "      <td>18</td>\n",
       "      <td>51.0</td>\n",
       "      <td>139</td>\n",
       "      <td>4.63</td>\n",
       "      <td>0.42</td>\n",
       "      <td>91</td>\n",
       "      <td>30</td>\n",
       "      <td>...</td>\n",
       "      <td>16</td>\n",
       "      <td>22</td>\n",
       "      <td>35</td>\n",
       "      <td>40</td>\n",
       "      <td>1.0</td>\n",
       "      <td>6.0</td>\n",
       "      <td>1.015</td>\n",
       "      <td>1.88</td>\n",
       "      <td>3.9</td>\n",
       "      <td>5.6</td>\n",
       "    </tr>\n",
       "    <tr>\n",
       "      <th>997</th>\n",
       "      <td>MV00460</td>\n",
       "      <td>0</td>\n",
       "      <td>418</td>\n",
       "      <td>17</td>\n",
       "      <td>61.0</td>\n",
       "      <td>122</td>\n",
       "      <td>4.18</td>\n",
       "      <td>0.38</td>\n",
       "      <td>90</td>\n",
       "      <td>29</td>\n",
       "      <td>...</td>\n",
       "      <td>19</td>\n",
       "      <td>20</td>\n",
       "      <td>23</td>\n",
       "      <td>15</td>\n",
       "      <td>0.4</td>\n",
       "      <td>6.5</td>\n",
       "      <td>1.005</td>\n",
       "      <td>3.58</td>\n",
       "      <td>4.0</td>\n",
       "      <td>5.6</td>\n",
       "    </tr>\n",
       "    <tr>\n",
       "      <th>998</th>\n",
       "      <td>MV00502</td>\n",
       "      <td>0</td>\n",
       "      <td>393</td>\n",
       "      <td>18</td>\n",
       "      <td>43.1</td>\n",
       "      <td>136</td>\n",
       "      <td>4.57</td>\n",
       "      <td>0.43</td>\n",
       "      <td>94</td>\n",
       "      <td>30</td>\n",
       "      <td>...</td>\n",
       "      <td>13</td>\n",
       "      <td>11</td>\n",
       "      <td>22</td>\n",
       "      <td>23</td>\n",
       "      <td>0.7</td>\n",
       "      <td>7.0</td>\n",
       "      <td>1.009</td>\n",
       "      <td>0.92</td>\n",
       "      <td>4.1</td>\n",
       "      <td>6.0</td>\n",
       "    </tr>\n",
       "    <tr>\n",
       "      <th>999</th>\n",
       "      <td>MV00510</td>\n",
       "      <td>0</td>\n",
       "      <td>371</td>\n",
       "      <td>24</td>\n",
       "      <td>55.9</td>\n",
       "      <td>127</td>\n",
       "      <td>4.41</td>\n",
       "      <td>0.40</td>\n",
       "      <td>90</td>\n",
       "      <td>29</td>\n",
       "      <td>...</td>\n",
       "      <td>13</td>\n",
       "      <td>14</td>\n",
       "      <td>16</td>\n",
       "      <td>12</td>\n",
       "      <td>7.5</td>\n",
       "      <td>8.0</td>\n",
       "      <td>1.017</td>\n",
       "      <td>2.45</td>\n",
       "      <td>4.5</td>\n",
       "      <td>6.2</td>\n",
       "    </tr>\n",
       "  </tbody>\n",
       "</table>\n",
       "<p>5 rows × 47 columns</p>\n",
       "</div>"
      ],
      "text/plain": [
       "        mtag  condition  A1_1  A2_1  A3_1  B1_a  B1_a1  B1_a2  B1_a3  B1_a4  \\\n",
       "995  MV00454          0   220    19  67.5   138   4.66   0.42     91     30   \n",
       "996  MV00456          0   334    18  51.0   139   4.63   0.42     91     30   \n",
       "997  MV00460          0   418    17  61.0   122   4.18   0.38     90     29   \n",
       "998  MV00502          0   393    18  43.1   136   4.57   0.43     94     30   \n",
       "999  MV00510          0   371    24  55.9   127   4.41   0.40     90     29   \n",
       "\n",
       "     ...  B2_d6  B2_d7  B2_d8  B2_d9   B3  B4_a2  B4_a5  B5_a2  B5_a3   B6  \n",
       "995  ...     20     10     17      8  6.6    7.0  1.015   1.29    4.5  6.2  \n",
       "996  ...     16     22     35     40  1.0    6.0  1.015   1.88    3.9  5.6  \n",
       "997  ...     19     20     23     15  0.4    6.5  1.005   3.58    4.0  5.6  \n",
       "998  ...     13     11     22     23  0.7    7.0  1.009   0.92    4.1  6.0  \n",
       "999  ...     13     14     16     12  7.5    8.0  1.017   2.45    4.5  6.2  \n",
       "\n",
       "[5 rows x 47 columns]"
      ]
     },
     "execution_count": 70,
     "metadata": {},
     "output_type": "execute_result"
    }
   ],
   "source": [
    "data.tail()"
   ]
  },
  {
   "cell_type": "code",
   "execution_count": 71,
   "id": "worse-italy",
   "metadata": {},
   "outputs": [
    {
     "data": {
      "text/plain": [
       "Index(['mtag', 'condition', 'A1_1', 'A2_1', 'A3_1', 'B1_a', 'B1_a1', 'B1_a2',\n",
       "       'B1_a3', 'B1_a4', 'B1_a5', 'B1_a6', 'B1_b', 'B1_b1', 'B1_b2', 'B1_b3',\n",
       "       'B1_c', 'B1_d', 'B2_a1', 'B2_a2', 'B2_a3', 'B2_a4', 'B2_a5', 'B2_b1',\n",
       "       'B2_b2', 'B2_b3', 'B2_c1', 'B2_c2', 'B2_c4', 'B2_c5', 'B2_c6', 'B2_c7',\n",
       "       'B2_d1', 'B2_d2', 'B2_d3', 'B2_d4', 'B2_d5', 'B2_d6', 'B2_d7', 'B2_d8',\n",
       "       'B2_d9', 'B3', 'B4_a2', 'B4_a5', 'B5_a2', 'B5_a3', 'B6'],\n",
       "      dtype='object')"
      ]
     },
     "execution_count": 71,
     "metadata": {},
     "output_type": "execute_result"
    }
   ],
   "source": [
    "data.columns"
   ]
  },
  {
   "cell_type": "code",
   "execution_count": 72,
   "id": "heavy-element",
   "metadata": {},
   "outputs": [],
   "source": [
    "y = data['condition']\n",
    "\n",
    "features = ['A1_1', 'A2_1', 'A3_1', 'B1_a', 'B1_a1', 'B1_a2',\n",
    "       'B1_a3', 'B1_a4', 'B1_a5', 'B1_a6', 'B1_b', 'B1_b1', 'B1_b2', 'B1_b3',\n",
    "       'B1_c', 'B1_d', 'B2_a1', 'B2_a2', 'B2_a3', 'B2_a4', 'B2_a5', 'B2_b1',\n",
    "       'B2_b2', 'B2_b3', 'B2_c1', 'B2_c2', 'B2_c4', 'B2_c5', 'B2_c6', 'B2_c7',\n",
    "       'B2_d1', 'B2_d2', 'B2_d3', 'B2_d4', 'B2_d5', 'B2_d6', 'B2_d7', 'B2_d8',\n",
    "       'B2_d9', 'B3', 'B4_a2', 'B4_a5', 'B5_a2', 'B5_a3', 'B6']\n",
    "X_old = data[features]"
   ]
  },
  {
   "cell_type": "code",
   "execution_count": 73,
   "id": "single-disney",
   "metadata": {},
   "outputs": [],
   "source": [
    "X = X_old\n",
    "# X = StandardScaler().fit_transform(X_old)\n",
    "# X = MinMaxScaler().fit_transform(X_old)"
   ]
  },
  {
   "cell_type": "code",
   "execution_count": 74,
   "id": "british-roman",
   "metadata": {},
   "outputs": [
    {
     "name": "stdout",
     "output_type": "stream",
     "text": [
      "Counter({0: 339, 1: 231, 2: 221, 3: 133, 4: 76})\n"
     ]
    }
   ],
   "source": [
    "# Summarise the new class distribution\n",
    "counter = Counter(y)\n",
    "print(counter)"
   ]
  },
  {
   "cell_type": "code",
   "execution_count": 75,
   "id": "statistical-piece",
   "metadata": {},
   "outputs": [],
   "source": [
    "# Transform the dataset using SMOTE\n",
    "# oversample = SMOTE()\n",
    "# X, y = oversample.fit_resample(X, y)"
   ]
  },
  {
   "cell_type": "code",
   "execution_count": 76,
   "id": "filled-powder",
   "metadata": {},
   "outputs": [],
   "source": [
    "# Summarise the new class distribution\n",
    "# counter = Counter(y)\n",
    "# print(counter)"
   ]
  },
  {
   "cell_type": "code",
   "execution_count": 77,
   "id": "scheduled-technical",
   "metadata": {},
   "outputs": [
    {
     "data": {
      "text/plain": [
       "(1000,)"
      ]
     },
     "execution_count": 77,
     "metadata": {},
     "output_type": "execute_result"
    }
   ],
   "source": [
    "y.shape"
   ]
  },
  {
   "cell_type": "code",
   "execution_count": 78,
   "id": "liquid-motel",
   "metadata": {},
   "outputs": [
    {
     "data": {
      "text/plain": [
       "(1000, 45)"
      ]
     },
     "execution_count": 78,
     "metadata": {},
     "output_type": "execute_result"
    }
   ],
   "source": [
    "X.shape"
   ]
  },
  {
   "cell_type": "code",
   "execution_count": 79,
   "id": "controlling-seating",
   "metadata": {},
   "outputs": [],
   "source": [
    "X_train, X_test, y_train, y_test = train_test_split(X, y, test_size = 0.2, random_state = 1)"
   ]
  },
  {
   "cell_type": "code",
   "execution_count": 80,
   "id": "explicit-chaos",
   "metadata": {},
   "outputs": [],
   "source": [
    "# y_train.value_counts()"
   ]
  },
  {
   "cell_type": "code",
   "execution_count": 81,
   "id": "attached-driving",
   "metadata": {},
   "outputs": [],
   "source": [
    "# oversample = SMOTE(k_neighbors=2)\n",
    "# X_train, y_train = oversample.fit_resample(X_train, y_train)"
   ]
  },
  {
   "cell_type": "code",
   "execution_count": 82,
   "id": "promising-battle",
   "metadata": {},
   "outputs": [],
   "source": [
    "# y_train.value_counts()"
   ]
  },
  {
   "cell_type": "code",
   "execution_count": 83,
   "id": "little-chambers",
   "metadata": {},
   "outputs": [
    {
     "name": "stdout",
     "output_type": "stream",
     "text": [
      "Random Forest Classifier: 0.35\n"
     ]
    }
   ],
   "source": [
    "rfc_model = RandomForestClassifier()\n",
    "rfc_model.fit(X_train, y_train)\n",
    "print(\"Random Forest Classifier:\", rfc_model.score(X_test, y_test).round(3))"
   ]
  },
  {
   "cell_type": "code",
   "execution_count": 84,
   "id": "alternative-melbourne",
   "metadata": {},
   "outputs": [],
   "source": [
    "# oversample = SMOTE()\n",
    "# X, y = oversample.fit_resample(X, y)"
   ]
  },
  {
   "cell_type": "code",
   "execution_count": 85,
   "id": "smart-smoke",
   "metadata": {},
   "outputs": [
    {
     "data": {
      "text/plain": [
       "(1000, 45)"
      ]
     },
     "execution_count": 85,
     "metadata": {},
     "output_type": "execute_result"
    }
   ],
   "source": [
    "X.shape"
   ]
  },
  {
   "cell_type": "code",
   "execution_count": 86,
   "id": "charitable-raise",
   "metadata": {},
   "outputs": [
    {
     "data": {
      "text/plain": [
       "(1000,)"
      ]
     },
     "execution_count": 86,
     "metadata": {},
     "output_type": "execute_result"
    }
   ],
   "source": [
    "y.shape"
   ]
  },
  {
   "cell_type": "code",
   "execution_count": 87,
   "id": "young-consciousness",
   "metadata": {},
   "outputs": [
    {
     "data": {
      "text/plain": [
       "0    339\n",
       "1    231\n",
       "2    221\n",
       "3    133\n",
       "4     76\n",
       "Name: condition, dtype: int64"
      ]
     },
     "execution_count": 87,
     "metadata": {},
     "output_type": "execute_result"
    }
   ],
   "source": [
    "y.value_counts()"
   ]
  },
  {
   "cell_type": "code",
   "execution_count": 88,
   "id": "forty-venezuela",
   "metadata": {},
   "outputs": [
    {
     "name": "stdout",
     "output_type": "stream",
     "text": [
      "Random Forest Classifier: 0.37 accuracy with a standard deviation of 0.03\n"
     ]
    }
   ],
   "source": [
    "scores = cross_val_score(rfc_model, X, y, cv=10)\n",
    "# scores = cross_val_score(rfc_model, X, y, cv=7)\n",
    "print(\"Random Forest Classifier: %0.2f accuracy with a standard deviation of %0.2f\" % (scores.mean(), scores.std()))"
   ]
  },
  {
   "cell_type": "code",
   "execution_count": 89,
   "id": "wrapped-region",
   "metadata": {},
   "outputs": [
    {
     "name": "stderr",
     "output_type": "stream",
     "text": [
      "c:\\users\\shahi\\anaconda3\\envs\\fyp\\lib\\site-packages\\sklearn\\metrics\\_classification.py:1245: UndefinedMetricWarning: Precision and F-score are ill-defined and being set to 0.0 in labels with no predicted samples. Use `zero_division` parameter to control this behavior.\n",
      "  _warn_prf(average, modifier, msg_start, len(result))\n",
      "c:\\users\\shahi\\anaconda3\\envs\\fyp\\lib\\site-packages\\sklearn\\metrics\\_classification.py:1245: UndefinedMetricWarning: Precision and F-score are ill-defined and being set to 0.0 in labels with no predicted samples. Use `zero_division` parameter to control this behavior.\n",
      "  _warn_prf(average, modifier, msg_start, len(result))\n",
      "c:\\users\\shahi\\anaconda3\\envs\\fyp\\lib\\site-packages\\sklearn\\metrics\\_classification.py:1245: UndefinedMetricWarning: Precision and F-score are ill-defined and being set to 0.0 in labels with no predicted samples. Use `zero_division` parameter to control this behavior.\n",
      "  _warn_prf(average, modifier, msg_start, len(result))\n"
     ]
    },
    {
     "name": "stdout",
     "output_type": "stream",
     "text": [
      "              precision    recall  f1-score   support\n",
      "\n",
      "           0       0.38      0.91      0.53        33\n",
      "           1       0.55      0.26      0.35        23\n",
      "           2       0.22      0.09      0.12        23\n",
      "           3       0.00      0.00      0.00        13\n",
      "           4       0.00      0.00      0.00         8\n",
      "\n",
      "    accuracy                           0.38       100\n",
      "   macro avg       0.23      0.25      0.20       100\n",
      "weighted avg       0.30      0.38      0.29       100\n",
      "\n"
     ]
    },
    {
     "name": "stderr",
     "output_type": "stream",
     "text": [
      "c:\\users\\shahi\\anaconda3\\envs\\fyp\\lib\\site-packages\\sklearn\\metrics\\_classification.py:1245: UndefinedMetricWarning: Precision and F-score are ill-defined and being set to 0.0 in labels with no predicted samples. Use `zero_division` parameter to control this behavior.\n",
      "  _warn_prf(average, modifier, msg_start, len(result))\n",
      "c:\\users\\shahi\\anaconda3\\envs\\fyp\\lib\\site-packages\\sklearn\\metrics\\_classification.py:1245: UndefinedMetricWarning: Precision and F-score are ill-defined and being set to 0.0 in labels with no predicted samples. Use `zero_division` parameter to control this behavior.\n",
      "  _warn_prf(average, modifier, msg_start, len(result))\n",
      "c:\\users\\shahi\\anaconda3\\envs\\fyp\\lib\\site-packages\\sklearn\\metrics\\_classification.py:1245: UndefinedMetricWarning: Precision and F-score are ill-defined and being set to 0.0 in labels with no predicted samples. Use `zero_division` parameter to control this behavior.\n",
      "  _warn_prf(average, modifier, msg_start, len(result))\n"
     ]
    },
    {
     "name": "stdout",
     "output_type": "stream",
     "text": [
      "              precision    recall  f1-score   support\n",
      "\n",
      "           0       0.47      0.82      0.60        34\n",
      "           1       0.32      0.39      0.35        23\n",
      "           2       0.23      0.14      0.17        22\n",
      "           3       0.00      0.00      0.00        13\n",
      "           4       0.00      0.00      0.00         8\n",
      "\n",
      "    accuracy                           0.40       100\n",
      "   macro avg       0.21      0.27      0.23       100\n",
      "weighted avg       0.29      0.40      0.32       100\n",
      "\n"
     ]
    },
    {
     "name": "stderr",
     "output_type": "stream",
     "text": [
      "c:\\users\\shahi\\anaconda3\\envs\\fyp\\lib\\site-packages\\sklearn\\metrics\\_classification.py:1245: UndefinedMetricWarning: Precision and F-score are ill-defined and being set to 0.0 in labels with no predicted samples. Use `zero_division` parameter to control this behavior.\n",
      "  _warn_prf(average, modifier, msg_start, len(result))\n",
      "c:\\users\\shahi\\anaconda3\\envs\\fyp\\lib\\site-packages\\sklearn\\metrics\\_classification.py:1245: UndefinedMetricWarning: Precision and F-score are ill-defined and being set to 0.0 in labels with no predicted samples. Use `zero_division` parameter to control this behavior.\n",
      "  _warn_prf(average, modifier, msg_start, len(result))\n",
      "c:\\users\\shahi\\anaconda3\\envs\\fyp\\lib\\site-packages\\sklearn\\metrics\\_classification.py:1245: UndefinedMetricWarning: Precision and F-score are ill-defined and being set to 0.0 in labels with no predicted samples. Use `zero_division` parameter to control this behavior.\n",
      "  _warn_prf(average, modifier, msg_start, len(result))\n"
     ]
    },
    {
     "name": "stdout",
     "output_type": "stream",
     "text": [
      "              precision    recall  f1-score   support\n",
      "\n",
      "           0       0.48      0.85      0.62        34\n",
      "           1       0.32      0.43      0.37        23\n",
      "           2       0.11      0.05      0.06        22\n",
      "           3       0.00      0.00      0.00        13\n",
      "           4       0.00      0.00      0.00         8\n",
      "\n",
      "    accuracy                           0.40       100\n",
      "   macro avg       0.18      0.27      0.21       100\n",
      "weighted avg       0.26      0.40      0.31       100\n",
      "\n"
     ]
    },
    {
     "name": "stderr",
     "output_type": "stream",
     "text": [
      "c:\\users\\shahi\\anaconda3\\envs\\fyp\\lib\\site-packages\\sklearn\\metrics\\_classification.py:1245: UndefinedMetricWarning: Precision and F-score are ill-defined and being set to 0.0 in labels with no predicted samples. Use `zero_division` parameter to control this behavior.\n",
      "  _warn_prf(average, modifier, msg_start, len(result))\n",
      "c:\\users\\shahi\\anaconda3\\envs\\fyp\\lib\\site-packages\\sklearn\\metrics\\_classification.py:1245: UndefinedMetricWarning: Precision and F-score are ill-defined and being set to 0.0 in labels with no predicted samples. Use `zero_division` parameter to control this behavior.\n",
      "  _warn_prf(average, modifier, msg_start, len(result))\n",
      "c:\\users\\shahi\\anaconda3\\envs\\fyp\\lib\\site-packages\\sklearn\\metrics\\_classification.py:1245: UndefinedMetricWarning: Precision and F-score are ill-defined and being set to 0.0 in labels with no predicted samples. Use `zero_division` parameter to control this behavior.\n",
      "  _warn_prf(average, modifier, msg_start, len(result))\n"
     ]
    },
    {
     "name": "stdout",
     "output_type": "stream",
     "text": [
      "              precision    recall  f1-score   support\n",
      "\n",
      "           0       0.40      0.71      0.51        34\n",
      "           1       0.26      0.30      0.28        23\n",
      "           2       0.23      0.14      0.17        22\n",
      "           3       0.00      0.00      0.00        13\n",
      "           4       0.00      0.00      0.00         8\n",
      "\n",
      "    accuracy                           0.34       100\n",
      "   macro avg       0.18      0.23      0.19       100\n",
      "weighted avg       0.25      0.34      0.28       100\n",
      "\n"
     ]
    },
    {
     "name": "stderr",
     "output_type": "stream",
     "text": [
      "c:\\users\\shahi\\anaconda3\\envs\\fyp\\lib\\site-packages\\sklearn\\metrics\\_classification.py:1245: UndefinedMetricWarning: Precision and F-score are ill-defined and being set to 0.0 in labels with no predicted samples. Use `zero_division` parameter to control this behavior.\n",
      "  _warn_prf(average, modifier, msg_start, len(result))\n",
      "c:\\users\\shahi\\anaconda3\\envs\\fyp\\lib\\site-packages\\sklearn\\metrics\\_classification.py:1245: UndefinedMetricWarning: Precision and F-score are ill-defined and being set to 0.0 in labels with no predicted samples. Use `zero_division` parameter to control this behavior.\n",
      "  _warn_prf(average, modifier, msg_start, len(result))\n",
      "c:\\users\\shahi\\anaconda3\\envs\\fyp\\lib\\site-packages\\sklearn\\metrics\\_classification.py:1245: UndefinedMetricWarning: Precision and F-score are ill-defined and being set to 0.0 in labels with no predicted samples. Use `zero_division` parameter to control this behavior.\n",
      "  _warn_prf(average, modifier, msg_start, len(result))\n"
     ]
    },
    {
     "name": "stdout",
     "output_type": "stream",
     "text": [
      "              precision    recall  f1-score   support\n",
      "\n",
      "           0       0.45      0.74      0.56        34\n",
      "           1       0.28      0.35      0.31        23\n",
      "           2       0.13      0.09      0.11        22\n",
      "           3       0.00      0.00      0.00        13\n",
      "           4       0.00      0.00      0.00         8\n",
      "\n",
      "    accuracy                           0.35       100\n",
      "   macro avg       0.17      0.23      0.19       100\n",
      "weighted avg       0.24      0.35      0.28       100\n",
      "\n"
     ]
    },
    {
     "name": "stderr",
     "output_type": "stream",
     "text": [
      "c:\\users\\shahi\\anaconda3\\envs\\fyp\\lib\\site-packages\\sklearn\\metrics\\_classification.py:1245: UndefinedMetricWarning: Precision and F-score are ill-defined and being set to 0.0 in labels with no predicted samples. Use `zero_division` parameter to control this behavior.\n",
      "  _warn_prf(average, modifier, msg_start, len(result))\n",
      "c:\\users\\shahi\\anaconda3\\envs\\fyp\\lib\\site-packages\\sklearn\\metrics\\_classification.py:1245: UndefinedMetricWarning: Precision and F-score are ill-defined and being set to 0.0 in labels with no predicted samples. Use `zero_division` parameter to control this behavior.\n",
      "  _warn_prf(average, modifier, msg_start, len(result))\n",
      "c:\\users\\shahi\\anaconda3\\envs\\fyp\\lib\\site-packages\\sklearn\\metrics\\_classification.py:1245: UndefinedMetricWarning: Precision and F-score are ill-defined and being set to 0.0 in labels with no predicted samples. Use `zero_division` parameter to control this behavior.\n",
      "  _warn_prf(average, modifier, msg_start, len(result))\n"
     ]
    },
    {
     "name": "stdout",
     "output_type": "stream",
     "text": [
      "              precision    recall  f1-score   support\n",
      "\n",
      "           0       0.38      0.68      0.49        34\n",
      "           1       0.32      0.43      0.37        23\n",
      "           2       0.00      0.00      0.00        22\n",
      "           3       0.00      0.00      0.00        13\n",
      "           4       0.00      0.00      0.00         8\n",
      "\n",
      "    accuracy                           0.33       100\n",
      "   macro avg       0.14      0.22      0.17       100\n",
      "weighted avg       0.20      0.33      0.25       100\n",
      "\n"
     ]
    },
    {
     "name": "stderr",
     "output_type": "stream",
     "text": [
      "c:\\users\\shahi\\anaconda3\\envs\\fyp\\lib\\site-packages\\sklearn\\metrics\\_classification.py:1245: UndefinedMetricWarning: Precision and F-score are ill-defined and being set to 0.0 in labels with no predicted samples. Use `zero_division` parameter to control this behavior.\n",
      "  _warn_prf(average, modifier, msg_start, len(result))\n",
      "c:\\users\\shahi\\anaconda3\\envs\\fyp\\lib\\site-packages\\sklearn\\metrics\\_classification.py:1245: UndefinedMetricWarning: Precision and F-score are ill-defined and being set to 0.0 in labels with no predicted samples. Use `zero_division` parameter to control this behavior.\n",
      "  _warn_prf(average, modifier, msg_start, len(result))\n",
      "c:\\users\\shahi\\anaconda3\\envs\\fyp\\lib\\site-packages\\sklearn\\metrics\\_classification.py:1245: UndefinedMetricWarning: Precision and F-score are ill-defined and being set to 0.0 in labels with no predicted samples. Use `zero_division` parameter to control this behavior.\n",
      "  _warn_prf(average, modifier, msg_start, len(result))\n"
     ]
    },
    {
     "name": "stdout",
     "output_type": "stream",
     "text": [
      "              precision    recall  f1-score   support\n",
      "\n",
      "           0       0.47      0.79      0.59        34\n",
      "           1       0.36      0.52      0.43        23\n",
      "           2       0.29      0.09      0.14        22\n",
      "           3       0.00      0.00      0.00        14\n",
      "           4       0.00      0.00      0.00         7\n",
      "\n",
      "    accuracy                           0.41       100\n",
      "   macro avg       0.22      0.28      0.23       100\n",
      "weighted avg       0.30      0.41      0.33       100\n",
      "\n"
     ]
    },
    {
     "name": "stderr",
     "output_type": "stream",
     "text": [
      "c:\\users\\shahi\\anaconda3\\envs\\fyp\\lib\\site-packages\\sklearn\\metrics\\_classification.py:1245: UndefinedMetricWarning: Precision and F-score are ill-defined and being set to 0.0 in labels with no predicted samples. Use `zero_division` parameter to control this behavior.\n",
      "  _warn_prf(average, modifier, msg_start, len(result))\n",
      "c:\\users\\shahi\\anaconda3\\envs\\fyp\\lib\\site-packages\\sklearn\\metrics\\_classification.py:1245: UndefinedMetricWarning: Precision and F-score are ill-defined and being set to 0.0 in labels with no predicted samples. Use `zero_division` parameter to control this behavior.\n",
      "  _warn_prf(average, modifier, msg_start, len(result))\n",
      "c:\\users\\shahi\\anaconda3\\envs\\fyp\\lib\\site-packages\\sklearn\\metrics\\_classification.py:1245: UndefinedMetricWarning: Precision and F-score are ill-defined and being set to 0.0 in labels with no predicted samples. Use `zero_division` parameter to control this behavior.\n",
      "  _warn_prf(average, modifier, msg_start, len(result))\n"
     ]
    },
    {
     "name": "stdout",
     "output_type": "stream",
     "text": [
      "              precision    recall  f1-score   support\n",
      "\n",
      "           0       0.42      0.79      0.55        34\n",
      "           1       0.33      0.35      0.34        23\n",
      "           2       0.30      0.14      0.19        22\n",
      "           3       0.00      0.00      0.00        14\n",
      "           4       0.00      0.00      0.00         7\n",
      "\n",
      "    accuracy                           0.38       100\n",
      "   macro avg       0.21      0.26      0.22       100\n",
      "weighted avg       0.29      0.38      0.31       100\n",
      "\n"
     ]
    },
    {
     "name": "stderr",
     "output_type": "stream",
     "text": [
      "c:\\users\\shahi\\anaconda3\\envs\\fyp\\lib\\site-packages\\sklearn\\metrics\\_classification.py:1245: UndefinedMetricWarning: Precision and F-score are ill-defined and being set to 0.0 in labels with no predicted samples. Use `zero_division` parameter to control this behavior.\n",
      "  _warn_prf(average, modifier, msg_start, len(result))\n",
      "c:\\users\\shahi\\anaconda3\\envs\\fyp\\lib\\site-packages\\sklearn\\metrics\\_classification.py:1245: UndefinedMetricWarning: Precision and F-score are ill-defined and being set to 0.0 in labels with no predicted samples. Use `zero_division` parameter to control this behavior.\n",
      "  _warn_prf(average, modifier, msg_start, len(result))\n",
      "c:\\users\\shahi\\anaconda3\\envs\\fyp\\lib\\site-packages\\sklearn\\metrics\\_classification.py:1245: UndefinedMetricWarning: Precision and F-score are ill-defined and being set to 0.0 in labels with no predicted samples. Use `zero_division` parameter to control this behavior.\n",
      "  _warn_prf(average, modifier, msg_start, len(result))\n"
     ]
    },
    {
     "name": "stdout",
     "output_type": "stream",
     "text": [
      "              precision    recall  f1-score   support\n",
      "\n",
      "           0       0.38      0.71      0.49        34\n",
      "           1       0.36      0.35      0.36        23\n",
      "           2       0.23      0.14      0.17        22\n",
      "           3       0.00      0.00      0.00        14\n",
      "           4       0.00      0.00      0.00         7\n",
      "\n",
      "    accuracy                           0.35       100\n",
      "   macro avg       0.19      0.24      0.20       100\n",
      "weighted avg       0.26      0.35      0.29       100\n",
      "\n",
      "              precision    recall  f1-score   support\n",
      "\n",
      "           0       0.40      0.74      0.52        34\n",
      "           1       0.26      0.25      0.26        24\n",
      "           2       0.46      0.27      0.34        22\n",
      "           3       1.00      0.08      0.14        13\n",
      "           4       0.00      0.00      0.00         7\n",
      "\n",
      "    accuracy                           0.38       100\n",
      "   macro avg       0.42      0.27      0.25       100\n",
      "weighted avg       0.43      0.38      0.33       100\n",
      "\n",
      "[0.38 0.4  0.4  0.34 0.35 0.33 0.41 0.38 0.35 0.38]\n"
     ]
    },
    {
     "name": "stderr",
     "output_type": "stream",
     "text": [
      "c:\\users\\shahi\\anaconda3\\envs\\fyp\\lib\\site-packages\\sklearn\\metrics\\_classification.py:1245: UndefinedMetricWarning: Precision and F-score are ill-defined and being set to 0.0 in labels with no predicted samples. Use `zero_division` parameter to control this behavior.\n",
      "  _warn_prf(average, modifier, msg_start, len(result))\n",
      "c:\\users\\shahi\\anaconda3\\envs\\fyp\\lib\\site-packages\\sklearn\\metrics\\_classification.py:1245: UndefinedMetricWarning: Precision and F-score are ill-defined and being set to 0.0 in labels with no predicted samples. Use `zero_division` parameter to control this behavior.\n",
      "  _warn_prf(average, modifier, msg_start, len(result))\n",
      "c:\\users\\shahi\\anaconda3\\envs\\fyp\\lib\\site-packages\\sklearn\\metrics\\_classification.py:1245: UndefinedMetricWarning: Precision and F-score are ill-defined and being set to 0.0 in labels with no predicted samples. Use `zero_division` parameter to control this behavior.\n",
      "  _warn_prf(average, modifier, msg_start, len(result))\n"
     ]
    }
   ],
   "source": [
    "# Random Forest Classifier\n",
    "scoresExtra = cross_val_score(rfc_model, X, y, cv=10, scoring=make_scorer(classification_report_with_accuracy_score))\n",
    "# scoresExtra = cross_val_score(rfc_model, X, y, cv=7, scoring=make_scorer(classification_report_with_accuracy_score))\n",
    "print(scoresExtra)"
   ]
  },
  {
   "cell_type": "code",
   "execution_count": 90,
   "id": "short-fundamentals",
   "metadata": {},
   "outputs": [
    {
     "name": "stdout",
     "output_type": "stream",
     "text": [
      "Accuracy Metrics for RFC:\n",
      "\n",
      "0.35 \n",
      "\n",
      "[[48 10  7  0  0]\n",
      " [13 15  6  0  0]\n",
      " [38 10  7  0  0]\n",
      " [24  3  4  0  0]\n",
      " [ 3  9  3  0  0]] \n",
      "\n",
      "              precision    recall  f1-score   support\n",
      "\n",
      "           0       0.38      0.74      0.50        65\n",
      "           1       0.32      0.44      0.37        34\n",
      "           2       0.26      0.13      0.17        55\n",
      "           3       0.00      0.00      0.00        31\n",
      "           4       0.00      0.00      0.00        15\n",
      "\n",
      "    accuracy                           0.35       200\n",
      "   macro avg       0.19      0.26      0.21       200\n",
      "weighted avg       0.25      0.35      0.27       200\n",
      "\n"
     ]
    },
    {
     "name": "stderr",
     "output_type": "stream",
     "text": [
      "c:\\users\\shahi\\anaconda3\\envs\\fyp\\lib\\site-packages\\sklearn\\metrics\\_classification.py:1245: UndefinedMetricWarning: Precision and F-score are ill-defined and being set to 0.0 in labels with no predicted samples. Use `zero_division` parameter to control this behavior.\n",
      "  _warn_prf(average, modifier, msg_start, len(result))\n",
      "c:\\users\\shahi\\anaconda3\\envs\\fyp\\lib\\site-packages\\sklearn\\metrics\\_classification.py:1245: UndefinedMetricWarning: Precision and F-score are ill-defined and being set to 0.0 in labels with no predicted samples. Use `zero_division` parameter to control this behavior.\n",
      "  _warn_prf(average, modifier, msg_start, len(result))\n",
      "c:\\users\\shahi\\anaconda3\\envs\\fyp\\lib\\site-packages\\sklearn\\metrics\\_classification.py:1245: UndefinedMetricWarning: Precision and F-score are ill-defined and being set to 0.0 in labels with no predicted samples. Use `zero_division` parameter to control this behavior.\n",
      "  _warn_prf(average, modifier, msg_start, len(result))\n"
     ]
    }
   ],
   "source": [
    "# Calculating accuracy metrics for RFC\n",
    "rfc_pred = rfc_model.predict(X_test)\n",
    "\n",
    "print('Accuracy Metrics for RFC:\\n')\n",
    "print(accuracy_score(y_test, rfc_pred).round(5), '\\n')\n",
    "print(confusion_matrix(y_test, rfc_pred), '\\n')\n",
    "print(classification_report(y_test, rfc_pred))"
   ]
  }
 ],
 "metadata": {
  "kernelspec": {
   "display_name": "Python 3",
   "language": "python",
   "name": "python3"
  },
  "language_info": {
   "codemirror_mode": {
    "name": "ipython",
    "version": 3
   },
   "file_extension": ".py",
   "mimetype": "text/x-python",
   "name": "python",
   "nbconvert_exporter": "python",
   "pygments_lexer": "ipython3",
   "version": "3.7.9"
  }
 },
 "nbformat": 4,
 "nbformat_minor": 5
}
