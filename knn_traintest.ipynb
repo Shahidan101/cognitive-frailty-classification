{
 "cells": [
  {
   "cell_type": "code",
   "execution_count": 14,
   "metadata": {},
   "outputs": [],
   "source": [
    "# Import packages\n",
    "import pandas as pd \n",
    "import numpy as np \n",
    "from sklearn.model_selection import train_test_split\n",
    "from sklearn import neighbors\n",
    "from sklearn import metrics\n",
    "from parse import preprocess"
   ]
  },
  {
   "cell_type": "code",
   "execution_count": 15,
   "metadata": {},
   "outputs": [
    {
     "name": "stdout",
     "output_type": "stream",
     "text": [
      "\n",
      "####################################################################\n",
      "Number of Rows of Dataframe:\n",
      "1123\n",
      "Number of Columns of Dataframe:\n",
      "59\n",
      "\n",
      "####################################################################\n",
      "Threshold for number of NULLs in a column: 0.1095\n",
      "Number of Columns before Parsing for Too Many NULLs in a column:\n",
      "59\n",
      "Number of Columns after Parsing for Too Many NULLs in a column:\n",
      "51\n",
      "\n",
      "Columns Removed:\n",
      "B1_b5\n",
      "B4_a1\n",
      "B4_a3\n",
      "B4_a4\n",
      "B4_a6\n",
      "B4_b1\n",
      "B4_b3\n",
      "B5_a1\n",
      "\n",
      "####################################################################\n",
      "Number of Rows before Parsing NULLs in data:\n",
      "1123\n",
      "Number of Rows after Parsing NULLs in data:\n",
      "1007\n",
      "\n",
      "####################################################################\n",
      "Number of Columns after dropping A1_2, B1_b4, B2_c3, B4_b2 for inconsistent data types:\n",
      "47\n"
     ]
    }
   ],
   "source": [
    "df = preprocess(\"rawfile_blood.csv\")"
   ]
  },
  {
   "cell_type": "code",
   "execution_count": 16,
   "metadata": {},
   "outputs": [],
   "source": [
    "# Initialise counters for each condition\n",
    "frail = 0\n",
    "frail_mci = 0\n",
    "mci = 0\n",
    "prefrail_mci = 0\n",
    "prefrail = 0\n",
    "robust = 0"
   ]
  },
  {
   "cell_type": "code",
   "execution_count": 17,
   "metadata": {},
   "outputs": [],
   "source": [
    "# Count rows of data for each condition\n",
    "for i in range(0, len(df)):\n",
    "\tif df.at[i, 'condition'] == 'frail':\n",
    "\t\tfrail += 1\n",
    "\telif df.at[i, 'condition'] == 'frail_mci':\n",
    "\t\tfrail_mci += 1\n",
    "\telif df.at[i, 'condition'] == 'mci':\n",
    "\t\tmci += 1\n",
    "\telif df.at[i, 'condition'] == 'prefrail_mci':\n",
    "\t\tprefrail_mci += 1\n",
    "\telif df.at[i, 'condition'] == 'prefrail':\n",
    "\t\tprefrail += 1\n",
    "\telif df.at[i, 'condition'] == 'robust':\n",
    "\t\trobust += 1"
   ]
  },
  {
   "cell_type": "code",
   "execution_count": 18,
   "metadata": {},
   "outputs": [
    {
     "name": "stdout",
     "output_type": "stream",
     "text": [
      "\n",
      "####################################################################\n",
      "Labels with frequencies:\n",
      "Frail: 7\n",
      "Frail + MCI: 76\n",
      "MCI: 133\n",
      "Prefrail + MCI: 231\n",
      "Prefrail: 221\n",
      "Robust: 339\n"
     ]
    }
   ],
   "source": [
    "# Display number of rows (frequency) for each condition (label)\n",
    "print(\"\\n####################################################################\")\n",
    "print(\"Labels with frequencies:\")\n",
    "print(\"Frail:\", frail)\n",
    "print(\"Frail + MCI:\", frail_mci)\n",
    "print(\"MCI:\", mci)\n",
    "print(\"Prefrail + MCI:\", prefrail_mci)\n",
    "print(\"Prefrail:\", prefrail)\n",
    "print(\"Robust:\", robust)"
   ]
  },
  {
   "cell_type": "code",
   "execution_count": 19,
   "metadata": {},
   "outputs": [
    {
     "name": "stdout",
     "output_type": "stream",
     "text": [
      "      A1_1  A2_1  A3_1  B1_a  B1_a1  B1_a2  B1_a3  B1_a4  B1_a5  B1_a6  ...  \\\n",
      "0      196    24  46.5   121   3.93   0.37     95     31    324   13.3  ...   \n",
      "1      200    23  55.6   142   4.82   0.42     87     30    346   12.8  ...   \n",
      "2      441    20  76.8   105   4.54   0.41     90     30    330   14.0  ...   \n",
      "3      265    16  47.2   122   4.53   0.39     86     27    313   14.9  ...   \n",
      "4      425    14  31.3   124   4.44   0.38     85     28    329   12.6  ...   \n",
      "...    ...   ...   ...   ...    ...    ...    ...    ...    ...    ...  ...   \n",
      "1002   220    19  67.5   138   4.66   0.42     91     30    325   14.1  ...   \n",
      "1003   334    18  51.0   139   4.63   0.42     91     30    330   15.6  ...   \n",
      "1004   418    17  61.0   122   4.18   0.38     90     29    324   13.5  ...   \n",
      "1005   393    18  43.1   136   4.57   0.43     94     30    316   12.5  ...   \n",
      "1006   371    24  55.9   127   4.41   0.40     90     29    320   13.8  ...   \n",
      "\n",
      "      B2_d6  B2_d7  B2_d8  B2_d9   B3  B4_a2  B4_a5  B5_a2  B5_a3   B6  \n",
      "0         7     12     13      6  0.2    6.0  1.011   1.14    4.1  5.9  \n",
      "1         7     20     17     26  3.1    5.0  1.011   3.25    4.6  8.5  \n",
      "2         5     16     19     15  1.4    7.0  1.023   2.14    4.0  6.4  \n",
      "3         8     24     19     21  2.1    5.5  1.012   1.06    4.7  6.1  \n",
      "4         6     20     23     23  6.0    5.5  1.013   1.95    3.8  5.8  \n",
      "...     ...    ...    ...    ...  ...    ...    ...    ...    ...  ...  \n",
      "1002     20     10     17      8  6.6    7.0  1.015   1.29    4.5  6.2  \n",
      "1003     16     22     35     40  1.0    6.0  1.015   1.88    3.9  5.6  \n",
      "1004     19     20     23     15  0.4    6.5  1.005   3.58    4.0  5.6  \n",
      "1005     13     11     22     23  0.7    7.0  1.009   0.92    4.1  6.0  \n",
      "1006     13     14     16     12  7.5    8.0  1.017   2.45    4.5  6.2  \n",
      "\n",
      "[1007 rows x 45 columns] 0        frail\n",
      "1        frail\n",
      "2        frail\n",
      "3        frail\n",
      "4        frail\n",
      "         ...  \n",
      "1002    robust\n",
      "1003    robust\n",
      "1004    robust\n",
      "1005    robust\n",
      "1006    robust\n",
      "Name: condition, Length: 1007, dtype: object\n",
      "\n",
      "Shape of Features:\n",
      "(1007, 45)\n",
      "\n",
      "Shape of Labels:\n",
      "(1007,)\n"
     ]
    }
   ],
   "source": [
    "# Specify features and labels\n",
    "y = df['condition']\n",
    "x = df.drop(['mtag', 'condition'], axis=1)\n",
    "\n",
    "# Display features and labels\n",
    "print(x, y)\n",
    "\n",
    "# Display shape of features and labels\n",
    "print(\"\\nShape of Features:\")\n",
    "print(x.shape)\n",
    "print(\"\\nShape of Labels:\")\n",
    "print(y.shape)"
   ]
  },
  {
   "cell_type": "code",
   "execution_count": 20,
   "metadata": {},
   "outputs": [
    {
     "name": "stdout",
     "output_type": "stream",
     "text": [
      "[0 0 0 ... 5 5 5]\n",
      "(1007,)\n"
     ]
    }
   ],
   "source": [
    "# Data Dictionary:\n",
    "# frail -> 0\n",
    "# frail_mci -> 1\n",
    "# mci -> 2\n",
    "# prefrail_mci -> 3\n",
    "# prefrail -> 4\n",
    "# robust -> 5\n",
    "\n",
    "# Conduct label mapping for conditions\n",
    "label_mapping = {\n",
    "    'frail' : 0,\n",
    "    'frail_mci' : 1,\n",
    "    'mci' : 2,\n",
    "    'prefrail_mci' : 3,\n",
    "    'prefrail' : 4,\n",
    "    'robust' : 5\n",
    "}\n",
    "\n",
    "y = y.map(label_mapping)\n",
    "y = np.array(y)\n",
    "\n",
    "# Display label\n",
    "print(y)\n",
    "\n",
    "# Display shape of label\n",
    "print(y.shape)"
   ]
  },
  {
   "cell_type": "code",
   "execution_count": 21,
   "metadata": {},
   "outputs": [
    {
     "name": "stdout",
     "output_type": "stream",
     "text": [
      "\n",
      "X Train:\n",
      "     A1_1  A2_1  A3_1  B1_a  B1_a1  B1_a2  B1_a3  B1_a4  B1_a5  B1_a6  ...  \\\n",
      "746   257    20  40.1   142   4.61   0.42     92     31    335   14.3  ...   \n",
      "532   178    14  65.8   117   4.10   0.36     87     29    328   14.5  ...   \n",
      "820   549    20  48.0   135   6.66   0.42     63     20    314   15.2  ...   \n",
      "1     200    23  55.6   142   4.82   0.42     87     30    346   12.8  ...   \n",
      "555   232    19  43.1   151   4.51   0.43     95     29    311   14.2  ...   \n",
      "..    ...   ...   ...   ...    ...    ...    ...    ...    ...    ...  ...   \n",
      "586   409    18  47.4   127   4.65   0.46     99     31    317   12.6  ...   \n",
      "944  1476    14  34.5   134   4.60   0.41     90     29    324   13.9  ...   \n",
      "294   145    23  62.4   135   4.56   0.42     93     31    330   12.5  ...   \n",
      "825   655    14  43.3   154   4.14   0.41    100     33    326   14.7  ...   \n",
      "697   344    15  60.4   142   4.76   0.43     90     30    332   13.5  ...   \n",
      "\n",
      "     B2_d6  B2_d7  B2_d8  B2_d9   B3  B4_a2  B4_a5  B5_a2  B5_a3   B6  \n",
      "746     10      8     29     12  0.4    5.5  1.013   2.36    5.0  5.5  \n",
      "532     19     10     26     22  0.3    6.5  1.005   1.71    5.0  6.9  \n",
      "820     16     31     19     23  3.8    7.0  1.017   1.94    4.4  5.7  \n",
      "1        7     20     17     26  3.1    5.0  1.011   3.25    4.6  8.5  \n",
      "555     18     57     30     27  1.4    6.0  1.016   1.28    4.6  6.4  \n",
      "..     ...    ...    ...    ...  ...    ...    ...    ...    ...  ...  \n",
      "586      8     17     19     16  1.2    5.5  1.008   1.42    4.1  7.8  \n",
      "944     18     10     19     18  0.5    7.5  1.021   0.56    3.8  6.1  \n",
      "294     14     18     20     11  1.5    6.0  1.019   1.38    4.6  5.3  \n",
      "825     15     17     19     18  0.3    6.5  1.008   2.63    4.8  5.4  \n",
      "697      9     35     16     16  1.1    6.0  1.020   1.75    5.3  5.8  \n",
      "\n",
      "[805 rows x 45 columns]\n",
      "\n",
      "X Test:\n",
      "     A1_1  A2_1  A3_1  B1_a  B1_a1  B1_a2  B1_a3  B1_a4  B1_a5  B1_a6  ...  \\\n",
      "91    291    19  63.0   146   4.95   0.45     91     29    324   13.8  ...   \n",
      "956   352    11  68.3   141   4.21   0.40     94     30    318   12.8  ...   \n",
      "64    379    18  48.7   110   4.96   0.43     87     27    306   15.2  ...   \n",
      "390   384    25  84.4   135   4.46   0.40     90     30    337   13.5  ...   \n",
      "589   475    15  46.5   145   4.53   0.39     87     28    322   14.6  ...   \n",
      "..    ...   ...   ...   ...    ...    ...    ...    ...    ...    ...  ...   \n",
      "343   315    22  64.8   152   4.84   0.44     91     31    345   13.1  ...   \n",
      "680   506    17  60.5   141   4.77   0.43     91     30    329   13.4  ...   \n",
      "741   447    12  49.8   139   4.57   0.44     96     32    333   13.2  ...   \n",
      "330   387    30  39.2   142   5.81   0.40     68     24    359   14.0  ...   \n",
      "161   357    24  67.1   167   6.13   0.47     77     27    345   14.8  ...   \n",
      "\n",
      "     B2_d6  B2_d7  B2_d8  B2_d9    B3  B4_a2  B4_a5  B5_a2  B5_a3    B6  \n",
      "91       7     31     28     35  12.3    7.0  1.013   0.89    4.3   6.3  \n",
      "956     11     12     17     15   0.1    6.0  1.010   1.05    5.0   6.4  \n",
      "64       8     17     35     14   1.2    7.0  1.020   4.62    4.0   5.8  \n",
      "390     10     33     18     16   1.1    6.0  1.010   5.36    4.9   6.6  \n",
      "589     12     34     26     32   7.6    5.0  1.020   1.93    5.3   6.7  \n",
      "..     ...    ...    ...    ...   ...    ...    ...    ...    ...   ...  \n",
      "343     18     15     24     22   0.2    7.5  1.017   1.76    4.4   5.1  \n",
      "680     14     20     44     36   7.5    5.5  1.035   1.68    5.7   5.8  \n",
      "741     11     26     18     18   1.3    7.0  1.017   0.39    5.1   6.0  \n",
      "330     12     18     18     26   1.7    5.5  1.018   1.50    5.0  11.9  \n",
      "161     28     28     22     37   0.2    6.5  1.014   1.22    5.1   5.4  \n",
      "\n",
      "[202 rows x 45 columns]\n",
      "\n",
      "Y Train:\n",
      "[5 4 5 0 4 5 3 4 5 3 5 4 1 4 5 5 4 0 4 3 5 3 5 4 5 3 3 5 1 2 4 3 2 4 4 3 3\n",
      " 5 5 5 5 1 5 4 5 5 3 1 5 3 3 3 1 5 4 2 3 3 3 5 5 5 4 2 4 4 2 3 2 3 3 5 5 3\n",
      " 5 2 5 3 5 1 3 3 5 4 3 3 5 2 2 3 2 2 2 2 4 2 4 1 4 2 3 5 1 5 3 1 2 5 5 3 3\n",
      " 3 3 3 1 5 2 4 3 2 3 3 3 4 3 3 2 5 3 3 2 1 4 3 4 2 2 1 3 3 5 4 1 5 4 2 5 5\n",
      " 3 5 4 3 4 5 4 3 2 4 2 5 4 1 5 4 5 1 3 3 4 3 4 4 5 4 2 2 3 4 4 5 3 2 5 1 4\n",
      " 3 1 5 5 5 5 3 5 1 5 1 5 5 3 3 2 5 5 3 3 3 5 3 1 5 5 5 5 5 1 4 5 5 4 4 5 5\n",
      " 4 5 4 3 5 5 3 3 5 4 4 5 3 2 4 3 5 3 4 5 4 4 5 5 2 3 2 3 2 4 4 4 5 4 5 5 3\n",
      " 5 5 4 2 5 4 5 3 2 3 4 5 3 5 5 3 5 4 3 4 5 5 3 3 4 4 5 5 4 4 3 3 4 3 4 4 2\n",
      " 4 4 2 5 5 2 1 4 5 2 3 4 5 5 5 5 5 5 2 5 1 4 4 5 3 3 5 5 5 5 5 4 5 2 4 4 3\n",
      " 5 5 3 4 5 4 4 5 5 3 3 5 3 5 5 1 5 5 1 5 1 4 4 2 3 2 3 5 2 3 2 2 4 5 5 3 2\n",
      " 2 3 2 3 1 3 5 5 3 4 2 5 2 3 5 5 4 5 5 2 3 4 4 1 5 4 4 4 4 1 4 5 5 3 2 5 3\n",
      " 2 1 4 3 3 5 5 5 4 4 3 3 2 4 3 2 5 4 4 3 5 3 3 3 5 2 5 2 3 1 3 5 2 3 3 5 5\n",
      " 4 5 3 3 3 3 5 3 1 4 5 4 5 2 2 5 3 3 3 5 4 5 5 2 1 1 4 3 4 2 2 2 1 5 4 0 4\n",
      " 3 2 3 5 5 2 5 3 5 4 5 2 5 3 4 1 3 5 4 5 5 5 4 5 5 3 4 4 3 5 2 2 4 1 1 3 5\n",
      " 1 4 4 3 5 5 3 1 3 2 2 2 1 1 1 4 5 4 4 4 5 5 5 5 4 4 5 3 1 5 3 3 5 5 1 5 3\n",
      " 3 4 1 4 5 5 5 5 4 4 3 3 5 1 5 5 3 2 4 4 1 4 4 5 4 2 0 5 2 5 5 4 3 5 1 5 5\n",
      " 5 2 4 4 5 5 5 5 5 5 1 2 5 5 2 4 4 4 5 4 5 4 5 4 2 4 4 3 3 5 4 5 4 4 4 5 3\n",
      " 5 4 3 5 2 5 5 5 3 3 4 4 4 4 5 5 5 4 3 4 5 5 2 5 4 4 3 2 3 3 5 4 5 5 5 3 5\n",
      " 3 5 5 3 3 5 3 5 5 5 5 3 2 5 5 3 2 5 3 3 3 3 4 5 1 1 5 5 4 3 2 5 3 2 5 2 4\n",
      " 1 5 0 2 5 5 2 5 1 5 1 4 4 2 4 5 3 3 5 3 4 3 4 5 4 5 3 4 5 3 4 3 5 3 5 5 5\n",
      " 5 3 2 3 5 3 3 5 3 3 3 5 3 5 5 2 4 5 4 2 3 5 5 1 5 3 5 5 3 3 3 1 5 5 4 5 1\n",
      " 5 2 4 1 1 5 1 2 3 3 5 4 4 4 4 4 4 3 3 5 4 2 4 4 5 3 5 5]\n",
      "\n",
      "Y Test:\n",
      "[2 5 1 3 4 5 3 3 4 3 4 5 3 4 1 1 4 5 1 5 3 2 5 2 4 5 2 3 3 5 5 5 2 2 2 4 5\n",
      " 5 5 4 1 4 4 5 2 3 5 5 5 3 3 4 1 4 2 5 5 3 2 4 4 5 3 5 4 4 4 4 1 5 2 4 5 5\n",
      " 4 4 4 5 3 1 3 5 1 5 4 5 3 4 2 5 5 3 3 1 4 4 4 4 4 5 5 3 2 5 5 3 3 5 2 4 2\n",
      " 2 2 4 1 2 3 4 5 2 2 4 2 5 5 5 4 3 5 2 2 3 4 4 5 5 5 5 5 3 3 3 3 4 3 3 3 2\n",
      " 5 5 4 5 3 0 5 1 2 3 1 4 5 4 2 1 0 5 2 3 2 2 5 1 5 5 4 5 2 4 5 3 3 5 3 4 2\n",
      " 2 2 3 4 5 2 5 5 3 5 2 5 3 5 5 3 2]\n",
      "\n",
      "Shape of X Train:\n",
      "(805, 45)\n",
      "\n",
      "Shape of X Test:\n",
      "(202, 45)\n",
      "\n",
      "Shape of Y Train:\n",
      "(805,)\n",
      "\n",
      "Shape of Y Test:\n",
      "(202,)\n"
     ]
    }
   ],
   "source": [
    "# Conduct train-test split on dataset\n",
    "x_train, x_test, y_train, y_test = train_test_split(x, y, test_size=0.2)\n",
    "\n",
    "# Display x_train, x_test, y_train, y_test\n",
    "print(\"\\nX Train:\")\n",
    "print(x_train)\n",
    "print(\"\\nX Test:\")\n",
    "print(x_test)\n",
    "print(\"\\nY Train:\")\n",
    "print(y_train)\n",
    "print(\"\\nY Test:\")\n",
    "print(y_test)\n",
    "\n",
    "# Display shape of train and test sets\n",
    "print(\"\\nShape of X Train:\")\n",
    "print(x_train.shape)\n",
    "print(\"\\nShape of X Test:\")\n",
    "print(x_test.shape)\n",
    "print(\"\\nShape of Y Train:\")\n",
    "print(y_train.shape)\n",
    "print(\"\\nShape of Y Test:\")\n",
    "print(y_test.shape)"
   ]
  },
  {
   "cell_type": "code",
   "execution_count": 27,
   "metadata": {},
   "outputs": [],
   "source": [
    "# Create kNN model\n",
    "knn = neighbors.KNeighborsClassifier(n_neighbors=5, weights='uniform')"
   ]
  },
  {
   "cell_type": "code",
   "execution_count": 28,
   "metadata": {},
   "outputs": [
    {
     "data": {
      "text/plain": [
       "KNeighborsClassifier()"
      ]
     },
     "execution_count": 28,
     "metadata": {},
     "output_type": "execute_result"
    }
   ],
   "source": [
    "# Train the model\n",
    "knn.fit(x_train, y_train)"
   ]
  },
  {
   "cell_type": "code",
   "execution_count": 29,
   "metadata": {},
   "outputs": [],
   "source": [
    "# Make prediction\n",
    "prediction = knn.predict(x_test)"
   ]
  },
  {
   "cell_type": "code",
   "execution_count": 30,
   "metadata": {},
   "outputs": [
    {
     "name": "stdout",
     "output_type": "stream",
     "text": [
      "Predictions: [5 5 2 3 3 5 5 3 2 4 3 2 4 5 0 3 5 3 5 1 3 2 5 5 3 5 4 4 3 4 5 5 3 5 4 5 4\n",
      " 4 5 3 2 1 4 3 3 1 5 5 2 3 3 2 3 5 4 5 4 2 3 3 1 4 5 4 5 2 5 3 5 3 1 3 2 5\n",
      " 3 5 3 5 3 5 5 5 5 5 4 2 4 1 3 3 5 4 4 3 4 4 1 3 5 5 2 5 3 5 5 5 3 5 4 5 5\n",
      " 4 4 3 3 4 4 1 1 5 5 5 3 2 5 5 3 3 2 5 2 3 5 3 5 3 5 5 5 4 5 5 3 4 1 5 5 3\n",
      " 5 4 5 2 3 2 3 5 5 3 3 5 3 5 5 2 3 2 4 5 4 2 5 3 5 5 5 3 5 3 4 4 3 4 3 5 4\n",
      " 2 5 5 4 5 5 3 4 3 3 4 1 5 5 5 5 5]\n",
      "Actual: [2 5 1 3 4 5 3 3 4 3 4 5 3 4 1 1 4 5 1 5 3 2 5 2 4 5 2 3 3 5 5 5 2 2 2 4 5\n",
      " 5 5 4 1 4 4 5 2 3 5 5 5 3 3 4 1 4 2 5 5 3 2 4 4 5 3 5 4 4 4 4 1 5 2 4 5 5\n",
      " 4 4 4 5 3 1 3 5 1 5 4 5 3 4 2 5 5 3 3 1 4 4 4 4 4 5 5 3 2 5 5 3 3 5 2 4 2\n",
      " 2 2 4 1 2 3 4 5 2 2 4 2 5 5 5 4 3 5 2 2 3 4 4 5 5 5 5 5 3 3 3 3 4 3 3 3 2\n",
      " 5 5 4 5 3 0 5 1 2 3 1 4 5 4 2 1 0 5 2 3 2 2 5 1 5 5 4 5 2 4 5 3 3 5 3 4 2\n",
      " 2 2 3 4 5 2 5 5 3 5 2 5 3 5 5 3 2]\n",
      "Accuracy: 0.2871287128712871\n"
     ]
    }
   ],
   "source": [
    "# Measure accuracy\n",
    "accuracy = metrics.accuracy_score(y_test, prediction)\n",
    "\n",
    "# Display predictions and Accuracy\n",
    "print(\"Predictions:\", prediction)\n",
    "print(\"Actual:\", np.array(y_test))\n",
    "print(\"Accuracy:\", accuracy)"
   ]
  },
  {
   "cell_type": "code",
   "execution_count": null,
   "metadata": {},
   "outputs": [],
   "source": []
  }
 ],
 "metadata": {
  "kernelspec": {
   "display_name": "Python 3",
   "language": "python",
   "name": "python3"
  },
  "language_info": {
   "codemirror_mode": {
    "name": "ipython",
    "version": 3
   },
   "file_extension": ".py",
   "mimetype": "text/x-python",
   "name": "python",
   "nbconvert_exporter": "python",
   "pygments_lexer": "ipython3",
   "version": "3.8.3"
  }
 },
 "nbformat": 4,
 "nbformat_minor": 4
}
