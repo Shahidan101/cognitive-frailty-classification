{
 "cells": [
  {
   "cell_type": "code",
   "execution_count": 1,
   "metadata": {},
   "outputs": [],
   "source": [
    "# Import packages\n",
    "import pandas as pd \n",
    "import numpy as np \n",
    "from sklearn.model_selection import train_test_split\n",
    "from sklearn import neighbors\n",
    "from sklearn import metrics\n",
    "from parse import preprocess"
   ]
  },
  {
   "cell_type": "code",
   "execution_count": 2,
   "metadata": {},
   "outputs": [
    {
     "name": "stdout",
     "output_type": "stream",
     "text": [
      "\n",
      "####################################################################\n",
      "Number of Rows of Dataframe:\n",
      "1123\n",
      "Number of Columns of Dataframe:\n",
      "59\n",
      "\n",
      "####################################################################\n",
      "Threshold for number of NULLs in a column: 0.1095\n",
      "Number of Columns before Parsing for Too Many NULLs in a column:\n",
      "59\n",
      "Number of Columns after Parsing for Too Many NULLs in a column:\n",
      "51\n",
      "\n",
      "Columns Removed:\n",
      "B1_b5\n",
      "B4_a1\n",
      "B4_a3\n",
      "B4_a4\n",
      "B4_a6\n",
      "B4_b1\n",
      "B4_b3\n",
      "B5_a1\n",
      "\n",
      "####################################################################\n",
      "Number of Rows before Parsing NULLs in data:\n",
      "1123\n",
      "Number of Rows after Parsing NULLs in data:\n",
      "1007\n",
      "\n",
      "####################################################################\n",
      "Number of Columns after dropping A1_2, B1_b4, B2_c3, B4_b2 for inconsistent data types:\n",
      "47\n"
     ]
    }
   ],
   "source": [
    "df = preprocess(\"rawfile_blood.csv\")"
   ]
  },
  {
   "cell_type": "code",
   "execution_count": 13,
   "metadata": {},
   "outputs": [],
   "source": [
    "# Initialise counters for each condition\n",
    "frail = 0\n",
    "frail_mci = 0\n",
    "mci = 0\n",
    "prefrail_mci = 0\n",
    "prefrail = 0\n",
    "robust = 0"
   ]
  },
  {
   "cell_type": "code",
   "execution_count": 4,
   "metadata": {},
   "outputs": [],
   "source": [
    "# Count rows of data for each condition\n",
    "for i in range(0, len(df)):\n",
    "\tif df.at[i, 'condition'] == 'frail':\n",
    "\t\tfrail += 1\n",
    "\telif df.at[i, 'condition'] == 'frail_mci':\n",
    "\t\tfrail_mci += 1\n",
    "\telif df.at[i, 'condition'] == 'mci':\n",
    "\t\tmci += 1\n",
    "\telif df.at[i, 'condition'] == 'prefrail_mci':\n",
    "\t\tprefrail_mci += 1\n",
    "\telif df.at[i, 'condition'] == 'prefrail':\n",
    "\t\tprefrail += 1\n",
    "\telif df.at[i, 'condition'] == 'robust':\n",
    "\t\trobust += 1"
   ]
  },
  {
   "cell_type": "code",
   "execution_count": 5,
   "metadata": {},
   "outputs": [
    {
     "name": "stdout",
     "output_type": "stream",
     "text": [
      "\n",
      "####################################################################\n",
      "Labels with frequencies:\n",
      "Frail: 7\n",
      "Frail + MCI: 76\n",
      "MCI: 133\n",
      "Prefrail + MCI: 231\n",
      "Prefrail: 221\n",
      "Robust: 339\n"
     ]
    }
   ],
   "source": [
    "# Display number of rows (frequency) for each condition (label)\n",
    "print(\"\\n####################################################################\")\n",
    "print(\"Labels with frequencies:\")\n",
    "print(\"Frail:\", frail)\n",
    "print(\"Frail + MCI:\", frail_mci)\n",
    "print(\"MCI:\", mci)\n",
    "print(\"Prefrail + MCI:\", prefrail_mci)\n",
    "print(\"Prefrail:\", prefrail)\n",
    "print(\"Robust:\", robust)"
   ]
  },
  {
   "cell_type": "code",
   "execution_count": 6,
   "metadata": {},
   "outputs": [
    {
     "name": "stdout",
     "output_type": "stream",
     "text": [
      "      A1_1  A2_1  A3_1  B1_a  B1_a1  B1_a2  B1_a3  B1_a4  B1_a5  B1_a6  ...  \\\n",
      "0      196    24  46.5   121   3.93   0.37     95     31    324   13.3  ...   \n",
      "1      200    23  55.6   142   4.82   0.42     87     30    346   12.8  ...   \n",
      "2      441    20  76.8   105   4.54   0.41     90     30    330   14.0  ...   \n",
      "3      265    16  47.2   122   4.53   0.39     86     27    313   14.9  ...   \n",
      "4      425    14  31.3   124   4.44   0.38     85     28    329   12.6  ...   \n",
      "...    ...   ...   ...   ...    ...    ...    ...    ...    ...    ...  ...   \n",
      "1002   220    19  67.5   138   4.66   0.42     91     30    325   14.1  ...   \n",
      "1003   334    18  51.0   139   4.63   0.42     91     30    330   15.6  ...   \n",
      "1004   418    17  61.0   122   4.18   0.38     90     29    324   13.5  ...   \n",
      "1005   393    18  43.1   136   4.57   0.43     94     30    316   12.5  ...   \n",
      "1006   371    24  55.9   127   4.41   0.40     90     29    320   13.8  ...   \n",
      "\n",
      "      B2_d6  B2_d7  B2_d8  B2_d9   B3  B4_a2  B4_a5  B5_a2  B5_a3   B6  \n",
      "0         7     12     13      6  0.2    6.0  1.011   1.14    4.1  5.9  \n",
      "1         7     20     17     26  3.1    5.0  1.011   3.25    4.6  8.5  \n",
      "2         5     16     19     15  1.4    7.0  1.023   2.14    4.0  6.4  \n",
      "3         8     24     19     21  2.1    5.5  1.012   1.06    4.7  6.1  \n",
      "4         6     20     23     23  6.0    5.5  1.013   1.95    3.8  5.8  \n",
      "...     ...    ...    ...    ...  ...    ...    ...    ...    ...  ...  \n",
      "1002     20     10     17      8  6.6    7.0  1.015   1.29    4.5  6.2  \n",
      "1003     16     22     35     40  1.0    6.0  1.015   1.88    3.9  5.6  \n",
      "1004     19     20     23     15  0.4    6.5  1.005   3.58    4.0  5.6  \n",
      "1005     13     11     22     23  0.7    7.0  1.009   0.92    4.1  6.0  \n",
      "1006     13     14     16     12  7.5    8.0  1.017   2.45    4.5  6.2  \n",
      "\n",
      "[1007 rows x 45 columns] 0        frail\n",
      "1        frail\n",
      "2        frail\n",
      "3        frail\n",
      "4        frail\n",
      "         ...  \n",
      "1002    robust\n",
      "1003    robust\n",
      "1004    robust\n",
      "1005    robust\n",
      "1006    robust\n",
      "Name: condition, Length: 1007, dtype: object\n",
      "\n",
      "Shape of Features:\n",
      "(1007, 45)\n",
      "\n",
      "Shape of Labels:\n",
      "(1007,)\n"
     ]
    }
   ],
   "source": [
    "# Specify features and labels\n",
    "y = df['condition']\n",
    "x = df.drop(['mtag', 'condition'], axis=1)\n",
    "\n",
    "# Display features and labels\n",
    "print(x, y)\n",
    "\n",
    "# Display shape of features and labels\n",
    "print(\"\\nShape of Features:\")\n",
    "print(x.shape)\n",
    "print(\"\\nShape of Labels:\")\n",
    "print(y.shape)"
   ]
  },
  {
   "cell_type": "code",
   "execution_count": 7,
   "metadata": {},
   "outputs": [
    {
     "name": "stdout",
     "output_type": "stream",
     "text": [
      "[0 0 0 ... 5 5 5]\n",
      "(1007,)\n"
     ]
    }
   ],
   "source": [
    "# Data Dictionary:\n",
    "# frail -> 0\n",
    "# frail_mci -> 1\n",
    "# mci -> 2\n",
    "# prefrail_mci -> 3\n",
    "# prefrail -> 4\n",
    "# robust -> 5\n",
    "\n",
    "# Conduct label mapping for conditions\n",
    "label_mapping = {\n",
    "    'frail' : 0,\n",
    "    'frail_mci' : 1,\n",
    "    'mci' : 2,\n",
    "    'prefrail_mci' : 3,\n",
    "    'prefrail' : 4,\n",
    "    'robust' : 5\n",
    "}\n",
    "\n",
    "y = y.map(label_mapping)\n",
    "y = np.array(y)\n",
    "\n",
    "# Display label\n",
    "print(y)\n",
    "\n",
    "# Display shape of label\n",
    "print(y.shape)"
   ]
  },
  {
   "cell_type": "code",
   "execution_count": 8,
   "metadata": {},
   "outputs": [
    {
     "name": "stdout",
     "output_type": "stream",
     "text": [
      "\n",
      "X Train:\n",
      "     A1_1  A2_1   A3_1  B1_a  B1_a1  B1_a2  B1_a3  B1_a4  B1_a5  B1_a6  ...  \\\n",
      "562   239    14   43.4   135   4.66   0.42     91     29    318   13.5  ...   \n",
      "8     444    16   87.0   134   4.65   0.40     85     28    329   15.2  ...   \n",
      "991   300    16   49.5   143   4.84   0.45     92     30    321   14.0  ...   \n",
      "842   651    15   32.1   141   4.32   0.43     99     33    334   14.8  ...   \n",
      "325   368    12   59.1   149   5.07   0.43     85     28    325   14.0  ...   \n",
      "..    ...   ...    ...   ...    ...    ...    ...    ...    ...    ...  ...   \n",
      "272   465    12   85.5   136   5.07   0.42     82     27    327   14.5  ...   \n",
      "225   232    34   44.2   130   4.52   0.40     88     29    327   13.9  ...   \n",
      "616   347    15   36.9   128   6.35   0.39     61     20    326   17.7  ...   \n",
      "328   645    22  125.0   154   4.70   0.41     87     33    377   14.7  ...   \n",
      "995   600    12   47.6   112   5.26   0.36     69     21    309   15.4  ...   \n",
      "\n",
      "     B2_d6  B2_d7  B2_d8  B2_d9    B3  B4_a2  B4_a5  B5_a2  B5_a3   B6  \n",
      "562     11     20     17     17   6.8    6.0  1.023   0.58    5.0  5.8  \n",
      "8       10     14     20     15  13.4    6.0  1.005   1.29    4.5  5.8  \n",
      "991     10     22     18     15   5.6    6.0  1.005   1.84    4.9  6.2  \n",
      "842      6     51     25     34   5.5    7.0  1.018   1.55    5.5  6.6  \n",
      "325     26     22     19     19   2.6    6.0  1.018   1.81    4.8  5.8  \n",
      "..     ...    ...    ...    ...   ...    ...    ...    ...    ...  ...  \n",
      "272     13     23     31     25   0.2    6.0  1.019   0.84    5.3  8.2  \n",
      "225      8     15     23     23   0.6    5.0  1.023   3.51    4.5  5.6  \n",
      "616     14     11     26     20   0.2    6.5  1.011   1.72    4.5  5.5  \n",
      "328     20    163     20     45   0.7    4.5  1.016   2.73    4.9  4.5  \n",
      "995     10     21     30     40   1.1    7.0  1.009   2.68    3.6  5.9  \n",
      "\n",
      "[805 rows x 45 columns]\n",
      "\n",
      "X Test:\n",
      "     A1_1  A2_1  A3_1  B1_a  B1_a1  B1_a2  B1_a3  B1_a4  B1_a5  B1_a6  ...  \\\n",
      "209   562    12  40.7   128   4.51   0.39     87     28    327   12.5  ...   \n",
      "501   284    17  43.2   152   5.14   0.45     88     30    336   12.9  ...   \n",
      "901   669    18  65.4   155   5.27   0.47     89     29    330   14.0  ...   \n",
      "750   322    13  39.7   135   4.95   0.43     86     27    317   14.2  ...   \n",
      "514   461    13  21.5   138   4.44   0.42     94     31    331   13.3  ...   \n",
      "..    ...   ...   ...   ...    ...    ...    ...    ...    ...    ...  ...   \n",
      "649   476    14  28.0   128   4.36   0.40     91     29    322   13.3  ...   \n",
      "890   557    14  59.6   148   4.50   0.42     94     31    331   12.5  ...   \n",
      "593   429    18  45.9   125   4.77   0.36     76     26    344   15.0  ...   \n",
      "456   190    17  62.8   138   5.56   0.42     76     25    326   13.9  ...   \n",
      "122   326    16  55.0   153   5.24   0.46     87     29    336   13.5  ...   \n",
      "\n",
      "     B2_d6  B2_d7  B2_d8  B2_d9   B3  B4_a2  B4_a5  B5_a2  B5_a3   B6  \n",
      "209     18    104     37     37  6.5    6.0  1.015   1.32    4.5  6.5  \n",
      "501     13     20     20     25  2.0    5.0  1.016   2.63    5.4  7.2  \n",
      "901     14     13     27     10  1.1    6.0  1.023   1.52    4.0  5.8  \n",
      "750      8     45     26     29  1.8    6.0  1.007   2.87    5.8  5.7  \n",
      "514     21     14     23     17  2.2    6.0  1.005   1.51    5.0  5.6  \n",
      "..     ...    ...    ...    ...  ...    ...    ...    ...    ...  ...  \n",
      "649     10     18     23     24  6.3    5.0  1.022   1.93    4.6  5.9  \n",
      "890     11     20     23     22  2.6    7.5  1.007   4.79    4.2  5.6  \n",
      "593     11     10     20     16  5.0    7.0  1.006   1.66    4.6  5.3  \n",
      "456     18     18     30     33  0.1    7.0  1.014   2.23    4.4  5.7  \n",
      "122     26     18     29     32  0.7    7.0  1.015   5.83    5.3  5.6  \n",
      "\n",
      "[202 rows x 45 columns]\n",
      "\n",
      "Y Train:\n",
      "[4 1 5 5 3 5 5 3 4 5 5 1 5 3 3 5 5 1 4 3 1 5 5 4 4 5 3 2 2 4 4 4 3 1 3 3 5\n",
      " 2 3 5 4 4 3 1 5 5 5 5 5 3 3 2 3 2 4 4 2 2 3 2 2 3 3 5 3 3 5 4 5 4 5 3 4 5\n",
      " 3 4 3 3 3 4 5 1 3 3 3 4 2 4 4 3 5 4 2 3 3 4 2 4 5 4 4 5 5 3 4 5 2 2 3 4 4\n",
      " 4 5 1 2 5 4 4 3 5 5 5 3 5 3 5 3 5 5 5 5 5 2 4 4 5 2 3 4 5 2 3 3 4 5 2 4 4\n",
      " 3 3 5 1 3 3 0 5 5 4 3 3 5 3 2 2 4 3 4 2 3 3 4 3 4 1 4 3 3 4 3 3 3 5 5 2 5\n",
      " 5 3 2 2 5 3 1 5 4 1 3 5 3 3 4 4 5 4 3 5 5 5 3 3 3 4 3 5 4 4 5 1 3 5 5 5 2\n",
      " 5 1 4 4 5 5 5 1 3 0 5 5 4 5 3 5 2 5 4 4 5 5 2 2 2 4 5 2 1 3 5 5 3 4 4 4 3\n",
      " 4 3 3 1 1 4 4 1 3 4 2 3 5 4 5 5 4 5 3 2 4 5 5 2 5 5 4 5 3 5 5 5 4 4 3 5 1\n",
      " 3 2 5 3 3 5 5 4 2 5 5 5 2 5 5 5 4 4 5 4 5 4 5 4 3 3 3 4 5 5 4 2 4 2 2 3 3\n",
      " 3 3 1 3 4 5 4 5 3 5 1 4 5 3 5 5 4 4 5 5 5 3 4 1 3 5 4 4 1 1 5 3 5 5 4 5 3\n",
      " 5 2 4 3 4 4 3 5 5 5 2 1 3 1 4 5 3 5 5 1 5 5 1 4 5 3 5 4 2 3 3 5 5 3 5 2 5\n",
      " 5 4 4 3 2 4 5 4 3 5 5 4 5 3 1 3 3 5 2 5 5 5 5 4 1 2 5 3 1 5 1 5 5 3 4 4 3\n",
      " 2 3 5 4 5 5 3 4 5 4 3 3 5 3 2 3 4 3 5 5 3 4 2 2 5 2 2 1 4 4 3 2 4 3 5 2 5\n",
      " 2 5 2 4 5 5 2 1 5 3 5 3 3 4 3 2 4 5 3 1 5 3 2 3 3 3 5 4 1 5 5 2 4 3 3 5 5\n",
      " 3 3 5 1 5 5 3 4 1 3 2 5 2 4 3 4 5 5 2 4 5 5 5 5 5 4 5 4 4 5 5 5 5 3 3 1 2\n",
      " 3 2 5 5 2 2 3 5 5 3 5 4 4 5 1 3 2 5 2 3 5 2 5 3 2 3 2 3 5 2 4 3 2 5 3 3 5\n",
      " 5 2 3 5 3 3 4 3 4 2 5 5 1 3 5 4 4 4 3 5 2 5 3 5 5 5 2 3 4 5 5 2 3 5 2 2 3\n",
      " 3 2 5 1 1 5 3 4 2 3 5 5 3 5 3 4 1 4 5 4 3 5 5 4 5 5 3 1 5 3 5 5 3 2 1 5 3\n",
      " 2 5 5 4 5 5 5 2 2 5 5 3 4 5 4 4 5 3 4 1 3 1 4 2 1 4 1 4 4 0 5 5 5 2 4 3 2\n",
      " 3 4 4 5 1 5 3 5 5 3 1 2 2 3 2 3 5 5 5 2 3 4 2 5 4 4 1 2 1 3 5 5 4 2 2 4 4\n",
      " 3 2 5 5 2 4 5 5 1 4 4 2 5 5 3 5 5 5 4 5 5 3 4 2 3 5 5 5 1 5 3 4 4 4 4 5 4\n",
      " 1 2 1 4 2 5 5 1 4 4 3 5 4 5 2 5 5 3 4 3 1 3 2 3 3 4 3 5]\n",
      "\n",
      "Y Test:\n",
      "[2 4 5 5 4 3 0 5 5 3 4 5 1 4 5 5 5 5 4 4 2 5 3 3 4 3 4 4 4 4 3 5 1 3 4 3 3\n",
      " 3 4 5 4 3 1 1 5 3 1 5 3 4 5 1 2 5 5 5 5 4 5 4 5 4 5 5 5 1 4 4 5 5 4 5 3 5\n",
      " 2 4 3 4 4 5 3 5 4 1 5 1 5 5 5 5 3 5 5 4 5 5 2 2 4 3 4 3 3 5 5 3 2 4 5 5 3\n",
      " 5 5 5 0 5 4 2 3 5 2 5 3 3 5 2 1 3 2 4 3 5 3 4 4 3 5 2 0 5 5 5 4 5 2 2 4 5\n",
      " 2 4 3 4 1 4 3 4 2 1 4 4 2 2 5 4 3 4 4 5 3 2 2 5 1 2 4 1 5 3 5 0 5 5 3 5 3\n",
      " 5 2 1 2 5 4 3 2 2 3 4 4 4 5 4 4 2]\n",
      "\n",
      "Shape of X Train:\n",
      "(805, 45)\n",
      "\n",
      "Shape of X Test:\n",
      "(202, 45)\n",
      "\n",
      "Shape of Y Train:\n",
      "(805,)\n",
      "\n",
      "Shape of Y Test:\n",
      "(202,)\n"
     ]
    }
   ],
   "source": [
    "# Conduct train-test split on dataset\n",
    "x_train, x_test, y_train, y_test = train_test_split(x, y, test_size=0.2)\n",
    "\n",
    "# Display x_train, x_test, y_train, y_test\n",
    "print(\"\\nX Train:\")\n",
    "print(x_train)\n",
    "print(\"\\nX Test:\")\n",
    "print(x_test)\n",
    "print(\"\\nY Train:\")\n",
    "print(y_train)\n",
    "print(\"\\nY Test:\")\n",
    "print(y_test)\n",
    "\n",
    "# Display shape of train and test sets\n",
    "print(\"\\nShape of X Train:\")\n",
    "print(x_train.shape)\n",
    "print(\"\\nShape of X Test:\")\n",
    "print(x_test.shape)\n",
    "print(\"\\nShape of Y Train:\")\n",
    "print(y_train.shape)\n",
    "print(\"\\nShape of Y Test:\")\n",
    "print(y_test.shape)"
   ]
  },
  {
   "cell_type": "code",
   "execution_count": 9,
   "metadata": {},
   "outputs": [],
   "source": [
    "# Create kNN model\n",
    "knn = neighbors.KNeighborsClassifier(n_neighbors=10, weights='uniform')"
   ]
  },
  {
   "cell_type": "code",
   "execution_count": 10,
   "metadata": {},
   "outputs": [
    {
     "data": {
      "text/plain": [
       "KNeighborsClassifier(n_neighbors=10)"
      ]
     },
     "execution_count": 10,
     "metadata": {},
     "output_type": "execute_result"
    }
   ],
   "source": [
    "# Train the model\n",
    "knn.fit(x_train, y_train)"
   ]
  },
  {
   "cell_type": "code",
   "execution_count": 11,
   "metadata": {},
   "outputs": [],
   "source": [
    "# Make prediction\n",
    "prediction = knn.predict(x_test)"
   ]
  },
  {
   "cell_type": "code",
   "execution_count": 12,
   "metadata": {},
   "outputs": [
    {
     "name": "stdout",
     "output_type": "stream",
     "text": [
      "Predictions: [3 3 5 5 5 3 5 5 3 5 5 2 5 5 3 5 5 3 3 5 5 5 5 5 5 2 4 3 5 5 4 3 3 5 5 2 3\n",
      " 5 5 3 5 5 5 5 5 5 2 3 3 4 3 4 5 2 2 5 4 4 4 3 4 4 5 4 4 5 5 5 3 5 5 5 1 4\n",
      " 4 5 3 4 5 5 4 2 4 5 5 4 5 5 5 4 5 5 4 4 5 5 5 5 3 5 5 3 5 5 3 4 3 3 2 5 5\n",
      " 2 4 3 5 5 3 5 5 4 5 4 5 5 5 4 5 3 2 5 4 2 5 4 5 3 5 5 4 4 3 5 3 3 5 5 4 4\n",
      " 5 4 3 3 5 1 4 5 3 4 3 3 5 5 3 4 3 3 5 5 5 3 3 4 5 2 5 4 5 4 4 4 4 5 4 3 5\n",
      " 5 5 3 5 5 5 3 5 5 3 5 3 3 3 3 5 5]\n",
      "Accuracy: 0.26732673267326734\n"
     ]
    }
   ],
   "source": [
    "# Measure accuracy\n",
    "accuracy = metrics.accuracy_score(y_test, prediction)\n",
    "\n",
    "# Display predictions and Accuracy\n",
    "print(\"Predictions:\", prediction)\n",
    "print(\"Accuracy:\", accuracy)"
   ]
  },
  {
   "cell_type": "code",
   "execution_count": null,
   "metadata": {},
   "outputs": [],
   "source": []
  }
 ],
 "metadata": {
  "kernelspec": {
   "display_name": "Python 3",
   "language": "python",
   "name": "python3"
  },
  "language_info": {
   "codemirror_mode": {
    "name": "ipython",
    "version": 3
   },
   "file_extension": ".py",
   "mimetype": "text/x-python",
   "name": "python",
   "nbconvert_exporter": "python",
   "pygments_lexer": "ipython3",
   "version": "3.8.3"
  }
 },
 "nbformat": 4,
 "nbformat_minor": 4
}
