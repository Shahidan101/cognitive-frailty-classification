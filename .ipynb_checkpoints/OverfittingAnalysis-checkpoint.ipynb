{
 "cells": [
  {
   "cell_type": "code",
   "execution_count": 1,
   "id": "graduate-entertainment",
   "metadata": {},
   "outputs": [],
   "source": [
    "# Import packages\n",
    "import numpy as np # linear algebra\n",
    "import pandas as pd # data processing, CSV file I/O (e.g. pd.read_csv)\n",
    "import matplotlib.pyplot as plt\n",
    "from sklearn.model_selection import train_test_split\n",
    "from sklearn.model_selection import cross_val_score\n",
    "from sklearn.model_selection import StratifiedKFold\n",
    "from sklearn.model_selection import KFold\n",
    "from sklearn.naive_bayes import GaussianNB\n",
    "from sklearn.discriminant_analysis import LinearDiscriminantAnalysis\n",
    "from sklearn.metrics import confusion_matrix\n",
    "from sklearn.metrics import classification_report\n",
    "from sklearn.metrics import accuracy_score\n",
    "from sklearn.metrics import make_scorer\n",
    "from sklearn.metrics import roc_curve\n",
    "from sklearn.metrics import auc\n",
    "from sklearn.preprocessing import StandardScaler\n",
    "from sklearn.preprocessing import MinMaxScaler\n",
    "from sklearn.linear_model import LinearRegression\n",
    "from sklearn.linear_model import LogisticRegression\n",
    "from sklearn.tree import DecisionTreeClassifier\n",
    "from sklearn.neighbors import KNeighborsClassifier\n",
    "from sklearn.svm import SVC\n",
    "from sklearn.ensemble import RandomForestClassifier\n",
    "from imblearn.under_sampling import RandomUnderSampler\n",
    "from imblearn.over_sampling import SMOTE\n",
    "from sklearn.feature_selection import RFE\n",
    "from collections import Counter\n",
    "from parser_final import RobustFrailMCIpreprocess"
   ]
  },
  {
   "cell_type": "code",
   "execution_count": 2,
   "id": "banned-crest",
   "metadata": {},
   "outputs": [],
   "source": [
    "# Function to show classification report for Cross Validation\n",
    "def classification_report_with_accuracy_score(y_true, y_pred):\n",
    "    print(classification_report(y_true, y_pred)) # print classification report\n",
    "    return accuracy_score(y_true, y_pred) # return accuracy score"
   ]
  },
  {
   "cell_type": "code",
   "execution_count": 3,
   "id": "fitted-interstate",
   "metadata": {},
   "outputs": [],
   "source": [
    "# Conduct High Correlation Filter\n",
    "\n",
    "# Conduct mapping for Feature Names\n",
    "featureName_mapping = {\n",
    "    \"A1_1\" : \"Vitamin B12 (pmol/L)\",\n",
    "    \"A1_2\" : \"Serum Folate (nmol/L)\",\n",
    "    \"A2_1\" : \"Serum Homocysteine (µmol/L)\",\n",
    "    \"A3_1\" : \"25-hydroxy Vitamin D (nmol/L)\",\n",
    "    \"B1_a\" : \"Haemoglobin (g/L)\",\n",
    "    \"B1_a1\" : \"RBC (/L)\",\n",
    "    \"B1_a2\" : \"PCV (L/L)\",\n",
    "    \"B1_a3\" : \"MCV (fL)\",\n",
    "    \"B1_a4\" : \"MCH (pg)\",\n",
    "    \"B1_a5\" : \"MCHC (g/L)\",\n",
    "    \"B1_a6\" : \"RDW (%)\",\n",
    "    \"B1_b\" : \"White Cell Count (/L)\",\n",
    "    \"B1_b1\" : \"Neutrophils (/L)\",\n",
    "    \"B1_b2\" : \"Lymphocytes (/L)\",\n",
    "    \"B1_b3\" : \"Monocytes (/L)\",\n",
    "    \"B1_b4\" : \"Eosinophils (/L)\",\n",
    "    \"B1_b5\" : \"Basophils (/L)\",\n",
    "    \"B1_c\" : \"Platelets (/L)\",\n",
    "    \"B1_d\" : \"Glucose (mmol/L)\",\n",
    "    \"B2_a1\" : \"Total Cholesterol (mmol/L)\",\n",
    "    \"B2_a2\" : \"Triglyceride (mmol/L)\",\n",
    "    \"B2_a3\" : \"HDL Cholesterol (mmol/L)\",\n",
    "    \"B2_a4\" : \"LDL Cholesterol (mmol/L)\",\n",
    "    \"B2_a5\" : \"Total Cholesterol/HDL Ratio\",\n",
    "    \"B2_b1\" : \"Sodium (mmol/L)\",\n",
    "    \"B2_b2\" : \"Potassium (mmol/L)\",\n",
    "    \"B2_b3\" : \"Chloride (mmol/L)\",\n",
    "    \"B2_c1\" : 'Urea (mmol/L)',\n",
    "    \"B2_c2\" : \"Creatinine (umol/L)\",\n",
    "    \"B2_c3\" : \"eGFR (mL/min/1.73m2)\",\n",
    "    \"B2_c4\" : \"Uric Acid (mmol/L)\",\n",
    "    \"B2_c5\" : \"Calcium (mmol/L)\",\n",
    "    \"B2_c6\" : \"Corrected Calcium (mmol/L)\",\n",
    "    \"B2_c7\" : \"Phosphate (mmol/L)\",\n",
    "    \"B2_d1\" : \"Total Protein (g/L)\",\n",
    "    \"B2_d2\" : \"Albumin (g/L)\",\n",
    "    \"B2_d3\" : \"Globulin (g/L)\",\n",
    "    \"B2_d4\" : \"Albumin/Globulin ratio\",\n",
    "    \"B2_d5\" : \"Alkaline Phosphatase (U/L)\",\n",
    "    \"B2_d6\" : \"Total Bilirubin (µmol/L)\",\n",
    "    \"B2_d7\" : \"GGT\",\n",
    "    \"B2_d8\" : \"AST\",\n",
    "    \"B2_d9\" : \"ALT\",\n",
    "    \"B3\" : \"C-Reactive Protein\",\n",
    "    \"B4_a1\" : \"Protein\",\n",
    "    \"B4_a2\" : \"pH\",\n",
    "    \"B4_a3\" : \"Glucose\",\n",
    "    \"B4_a4\" : \"Ketones\",\n",
    "    \"B4_a5\" : \"S.G.\",\n",
    "    \"B4_a6\" : \"Blood\",\n",
    "    \"B4_b1\" : \"Leucocytes (/L)\",\n",
    "    \"B4_b2\" : \"Erythrocytes (/L)\",\n",
    "    \"B4_b3\" : \"Epithelial Cells\",\n",
    "    \"B5_a1\" : \"Free Thyroxine (FT4) (pmol/L)\",\n",
    "    \"B5_a2\" : \"Thyroid Stimulating Hormone (mIU/L)\",\n",
    "    \"B5_a3\" : \"Free Tri-iodothyronine (FT3) (pmol/L)\",\n",
    "    \"B6\" : \"HbA1c\"\n",
    "}"
   ]
  },
  {
   "cell_type": "code",
   "execution_count": 5,
   "id": "bacterial-istanbul",
   "metadata": {},
   "outputs": [
    {
     "name": "stdout",
     "output_type": "stream",
     "text": [
      "robust       368\n",
      "frail_mci     86\n",
      "Name: condition, dtype: int64\n",
      "\n",
      "####################################################################\n",
      "Number of Rows of Dataframe:\n",
      "454\n",
      "Number of Columns of Dataframe:\n",
      "59\n",
      "\n",
      "####################################################################\n",
      "Threshold for number of NULLs in a column: 0.1095\n",
      "Number of Columns before Parsing for Too Many NULLs in a column:\n",
      "59\n",
      "Number of Columns after Parsing for Too Many NULLs in a column:\n",
      "51\n",
      "\n",
      "Columns Removed:\n",
      "B1_b5\n",
      "B4_a1\n",
      "B4_a3\n",
      "B4_a4\n",
      "B4_a6\n",
      "B4_b1\n",
      "B4_b3\n",
      "B5_a1\n",
      "\n",
      "####################################################################\n",
      "Number of Columns after dropping B1_b4, B2_c3, B4_b2 for inconsistent data types:\n",
      "48\n",
      "\n",
      "####################################################################\n",
      "Number of Rows before Parsing NULLs in data:\n",
      "454\n",
      "Number of Rows after Parsing NULLs in data:\n",
      "419\n"
     ]
    }
   ],
   "source": [
    "# Pre-parse the dataset\n",
    "data = RobustFrailMCIpreprocess(\"rawfile_final.csv\")"
   ]
  },
  {
   "cell_type": "code",
   "execution_count": 6,
   "id": "ultimate-contemporary",
   "metadata": {},
   "outputs": [],
   "source": [
    "# Taking only Frail+MCI and Robust classes\n",
    "\n",
    "df1 = data[data.condition == 'frail_mci']\n",
    "df1 = df1.reset_index(drop=True)\n",
    "\n",
    "df2 = data[data.condition == 'robust']\n",
    "df2 = df2.reset_index(drop=True)\n",
    "\n",
    "data = pd.concat([df1, df2], ignore_index=True)"
   ]
  },
  {
   "cell_type": "code",
   "execution_count": 7,
   "id": "former-diary",
   "metadata": {},
   "outputs": [
    {
     "data": {
      "text/html": [
       "<div>\n",
       "<style scoped>\n",
       "    .dataframe tbody tr th:only-of-type {\n",
       "        vertical-align: middle;\n",
       "    }\n",
       "\n",
       "    .dataframe tbody tr th {\n",
       "        vertical-align: top;\n",
       "    }\n",
       "\n",
       "    .dataframe thead th {\n",
       "        text-align: right;\n",
       "    }\n",
       "</style>\n",
       "<table border=\"1\" class=\"dataframe\">\n",
       "  <thead>\n",
       "    <tr style=\"text-align: right;\">\n",
       "      <th></th>\n",
       "      <th>mtag</th>\n",
       "      <th>condition</th>\n",
       "      <th>A1_1</th>\n",
       "      <th>A1_2</th>\n",
       "      <th>A2_1</th>\n",
       "      <th>A3_1</th>\n",
       "      <th>B1_a</th>\n",
       "      <th>B1_a1</th>\n",
       "      <th>B1_a2</th>\n",
       "      <th>B1_a3</th>\n",
       "      <th>...</th>\n",
       "      <th>B2_d6</th>\n",
       "      <th>B2_d7</th>\n",
       "      <th>B2_d8</th>\n",
       "      <th>B2_d9</th>\n",
       "      <th>B3</th>\n",
       "      <th>B4_a2</th>\n",
       "      <th>B4_a5</th>\n",
       "      <th>B5_a2</th>\n",
       "      <th>B5_a3</th>\n",
       "      <th>B6</th>\n",
       "    </tr>\n",
       "  </thead>\n",
       "  <tbody>\n",
       "    <tr>\n",
       "      <th>0</th>\n",
       "      <td>ME01378</td>\n",
       "      <td>frail_mci</td>\n",
       "      <td>241</td>\n",
       "      <td>13.0</td>\n",
       "      <td>20</td>\n",
       "      <td>33.5</td>\n",
       "      <td>150</td>\n",
       "      <td>5.25</td>\n",
       "      <td>0.46</td>\n",
       "      <td>87</td>\n",
       "      <td>...</td>\n",
       "      <td>10</td>\n",
       "      <td>21</td>\n",
       "      <td>22</td>\n",
       "      <td>17</td>\n",
       "      <td>1.3</td>\n",
       "      <td>7.0</td>\n",
       "      <td>1.010</td>\n",
       "      <td>0.69</td>\n",
       "      <td>4.7</td>\n",
       "      <td>5.9</td>\n",
       "    </tr>\n",
       "    <tr>\n",
       "      <th>1</th>\n",
       "      <td>ME02832</td>\n",
       "      <td>frail_mci</td>\n",
       "      <td>444</td>\n",
       "      <td>43.8</td>\n",
       "      <td>16</td>\n",
       "      <td>87.0</td>\n",
       "      <td>134</td>\n",
       "      <td>4.65</td>\n",
       "      <td>0.40</td>\n",
       "      <td>85</td>\n",
       "      <td>...</td>\n",
       "      <td>10</td>\n",
       "      <td>14</td>\n",
       "      <td>20</td>\n",
       "      <td>15</td>\n",
       "      <td>13.4</td>\n",
       "      <td>6.0</td>\n",
       "      <td>1.005</td>\n",
       "      <td>1.29</td>\n",
       "      <td>4.5</td>\n",
       "      <td>5.8</td>\n",
       "    </tr>\n",
       "    <tr>\n",
       "      <th>2</th>\n",
       "      <td>ME02909</td>\n",
       "      <td>frail_mci</td>\n",
       "      <td>1476</td>\n",
       "      <td>54.5</td>\n",
       "      <td>16</td>\n",
       "      <td>57.0</td>\n",
       "      <td>119</td>\n",
       "      <td>3.80</td>\n",
       "      <td>0.36</td>\n",
       "      <td>94</td>\n",
       "      <td>...</td>\n",
       "      <td>18</td>\n",
       "      <td>17</td>\n",
       "      <td>35</td>\n",
       "      <td>21</td>\n",
       "      <td>0.2</td>\n",
       "      <td>7.5</td>\n",
       "      <td>1.012</td>\n",
       "      <td>1.90</td>\n",
       "      <td>4.1</td>\n",
       "      <td>5.8</td>\n",
       "    </tr>\n",
       "    <tr>\n",
       "      <th>3</th>\n",
       "      <td>ME02998</td>\n",
       "      <td>frail_mci</td>\n",
       "      <td>339</td>\n",
       "      <td>25.9</td>\n",
       "      <td>18</td>\n",
       "      <td>63.8</td>\n",
       "      <td>135</td>\n",
       "      <td>4.89</td>\n",
       "      <td>0.42</td>\n",
       "      <td>86</td>\n",
       "      <td>...</td>\n",
       "      <td>13</td>\n",
       "      <td>16</td>\n",
       "      <td>25</td>\n",
       "      <td>13</td>\n",
       "      <td>16.8</td>\n",
       "      <td>5.0</td>\n",
       "      <td>1.017</td>\n",
       "      <td>1.32</td>\n",
       "      <td>4.0</td>\n",
       "      <td>6.0</td>\n",
       "    </tr>\n",
       "    <tr>\n",
       "      <th>4</th>\n",
       "      <td>ME03061</td>\n",
       "      <td>frail_mci</td>\n",
       "      <td>287</td>\n",
       "      <td>23.8</td>\n",
       "      <td>20</td>\n",
       "      <td>95.5</td>\n",
       "      <td>146</td>\n",
       "      <td>5.18</td>\n",
       "      <td>0.44</td>\n",
       "      <td>85</td>\n",
       "      <td>...</td>\n",
       "      <td>18</td>\n",
       "      <td>22</td>\n",
       "      <td>25</td>\n",
       "      <td>24</td>\n",
       "      <td>1.4</td>\n",
       "      <td>7.5</td>\n",
       "      <td>1.006</td>\n",
       "      <td>2.94</td>\n",
       "      <td>4.6</td>\n",
       "      <td>6.1</td>\n",
       "    </tr>\n",
       "  </tbody>\n",
       "</table>\n",
       "<p>5 rows × 48 columns</p>\n",
       "</div>"
      ],
      "text/plain": [
       "      mtag  condition  A1_1  A1_2  A2_1  A3_1  B1_a  B1_a1  B1_a2  B1_a3  ...  \\\n",
       "0  ME01378  frail_mci   241  13.0    20  33.5   150   5.25   0.46     87  ...   \n",
       "1  ME02832  frail_mci   444  43.8    16  87.0   134   4.65   0.40     85  ...   \n",
       "2  ME02909  frail_mci  1476  54.5    16  57.0   119   3.80   0.36     94  ...   \n",
       "3  ME02998  frail_mci   339  25.9    18  63.8   135   4.89   0.42     86  ...   \n",
       "4  ME03061  frail_mci   287  23.8    20  95.5   146   5.18   0.44     85  ...   \n",
       "\n",
       "   B2_d6  B2_d7  B2_d8  B2_d9    B3  B4_a2  B4_a5  B5_a2  B5_a3   B6  \n",
       "0     10     21     22     17   1.3    7.0  1.010   0.69    4.7  5.9  \n",
       "1     10     14     20     15  13.4    6.0  1.005   1.29    4.5  5.8  \n",
       "2     18     17     35     21   0.2    7.5  1.012   1.90    4.1  5.8  \n",
       "3     13     16     25     13  16.8    5.0  1.017   1.32    4.0  6.0  \n",
       "4     18     22     25     24   1.4    7.5  1.006   2.94    4.6  6.1  \n",
       "\n",
       "[5 rows x 48 columns]"
      ]
     },
     "execution_count": 7,
     "metadata": {},
     "output_type": "execute_result"
    }
   ],
   "source": [
    "data.head()"
   ]
  },
  {
   "cell_type": "code",
   "execution_count": 8,
   "id": "frequent-enterprise",
   "metadata": {},
   "outputs": [
    {
     "data": {
      "text/html": [
       "<div>\n",
       "<style scoped>\n",
       "    .dataframe tbody tr th:only-of-type {\n",
       "        vertical-align: middle;\n",
       "    }\n",
       "\n",
       "    .dataframe tbody tr th {\n",
       "        vertical-align: top;\n",
       "    }\n",
       "\n",
       "    .dataframe thead th {\n",
       "        text-align: right;\n",
       "    }\n",
       "</style>\n",
       "<table border=\"1\" class=\"dataframe\">\n",
       "  <thead>\n",
       "    <tr style=\"text-align: right;\">\n",
       "      <th></th>\n",
       "      <th>mtag</th>\n",
       "      <th>condition</th>\n",
       "      <th>A1_1</th>\n",
       "      <th>A1_2</th>\n",
       "      <th>A2_1</th>\n",
       "      <th>A3_1</th>\n",
       "      <th>B1_a</th>\n",
       "      <th>B1_a1</th>\n",
       "      <th>B1_a2</th>\n",
       "      <th>B1_a3</th>\n",
       "      <th>...</th>\n",
       "      <th>B2_d6</th>\n",
       "      <th>B2_d7</th>\n",
       "      <th>B2_d8</th>\n",
       "      <th>B2_d9</th>\n",
       "      <th>B3</th>\n",
       "      <th>B4_a2</th>\n",
       "      <th>B4_a5</th>\n",
       "      <th>B5_a2</th>\n",
       "      <th>B5_a3</th>\n",
       "      <th>B6</th>\n",
       "    </tr>\n",
       "  </thead>\n",
       "  <tbody>\n",
       "    <tr>\n",
       "      <th>414</th>\n",
       "      <td>MV00454</td>\n",
       "      <td>robust</td>\n",
       "      <td>220</td>\n",
       "      <td>24.6</td>\n",
       "      <td>19</td>\n",
       "      <td>67.5</td>\n",
       "      <td>138</td>\n",
       "      <td>4.66</td>\n",
       "      <td>0.42</td>\n",
       "      <td>91</td>\n",
       "      <td>...</td>\n",
       "      <td>20</td>\n",
       "      <td>10</td>\n",
       "      <td>17</td>\n",
       "      <td>8</td>\n",
       "      <td>6.6</td>\n",
       "      <td>7.0</td>\n",
       "      <td>1.015</td>\n",
       "      <td>1.29</td>\n",
       "      <td>4.5</td>\n",
       "      <td>6.2</td>\n",
       "    </tr>\n",
       "    <tr>\n",
       "      <th>415</th>\n",
       "      <td>MV00456</td>\n",
       "      <td>robust</td>\n",
       "      <td>334</td>\n",
       "      <td>20.1</td>\n",
       "      <td>18</td>\n",
       "      <td>51.0</td>\n",
       "      <td>139</td>\n",
       "      <td>4.63</td>\n",
       "      <td>0.42</td>\n",
       "      <td>91</td>\n",
       "      <td>...</td>\n",
       "      <td>16</td>\n",
       "      <td>22</td>\n",
       "      <td>35</td>\n",
       "      <td>40</td>\n",
       "      <td>1.0</td>\n",
       "      <td>6.0</td>\n",
       "      <td>1.015</td>\n",
       "      <td>1.88</td>\n",
       "      <td>3.9</td>\n",
       "      <td>5.6</td>\n",
       "    </tr>\n",
       "    <tr>\n",
       "      <th>416</th>\n",
       "      <td>MV00460</td>\n",
       "      <td>robust</td>\n",
       "      <td>418</td>\n",
       "      <td>54.4</td>\n",
       "      <td>17</td>\n",
       "      <td>61.0</td>\n",
       "      <td>122</td>\n",
       "      <td>4.18</td>\n",
       "      <td>0.38</td>\n",
       "      <td>90</td>\n",
       "      <td>...</td>\n",
       "      <td>19</td>\n",
       "      <td>20</td>\n",
       "      <td>23</td>\n",
       "      <td>15</td>\n",
       "      <td>0.4</td>\n",
       "      <td>6.5</td>\n",
       "      <td>1.005</td>\n",
       "      <td>3.58</td>\n",
       "      <td>4.0</td>\n",
       "      <td>5.6</td>\n",
       "    </tr>\n",
       "    <tr>\n",
       "      <th>417</th>\n",
       "      <td>MV00502</td>\n",
       "      <td>robust</td>\n",
       "      <td>393</td>\n",
       "      <td>38.2</td>\n",
       "      <td>18</td>\n",
       "      <td>43.1</td>\n",
       "      <td>136</td>\n",
       "      <td>4.57</td>\n",
       "      <td>0.43</td>\n",
       "      <td>94</td>\n",
       "      <td>...</td>\n",
       "      <td>13</td>\n",
       "      <td>11</td>\n",
       "      <td>22</td>\n",
       "      <td>23</td>\n",
       "      <td>0.7</td>\n",
       "      <td>7.0</td>\n",
       "      <td>1.009</td>\n",
       "      <td>0.92</td>\n",
       "      <td>4.1</td>\n",
       "      <td>6.0</td>\n",
       "    </tr>\n",
       "    <tr>\n",
       "      <th>418</th>\n",
       "      <td>MV00510</td>\n",
       "      <td>robust</td>\n",
       "      <td>371</td>\n",
       "      <td>23.2</td>\n",
       "      <td>24</td>\n",
       "      <td>55.9</td>\n",
       "      <td>127</td>\n",
       "      <td>4.41</td>\n",
       "      <td>0.40</td>\n",
       "      <td>90</td>\n",
       "      <td>...</td>\n",
       "      <td>13</td>\n",
       "      <td>14</td>\n",
       "      <td>16</td>\n",
       "      <td>12</td>\n",
       "      <td>7.5</td>\n",
       "      <td>8.0</td>\n",
       "      <td>1.017</td>\n",
       "      <td>2.45</td>\n",
       "      <td>4.5</td>\n",
       "      <td>6.2</td>\n",
       "    </tr>\n",
       "  </tbody>\n",
       "</table>\n",
       "<p>5 rows × 48 columns</p>\n",
       "</div>"
      ],
      "text/plain": [
       "        mtag condition  A1_1  A1_2  A2_1  A3_1  B1_a  B1_a1  B1_a2  B1_a3  \\\n",
       "414  MV00454    robust   220  24.6    19  67.5   138   4.66   0.42     91   \n",
       "415  MV00456    robust   334  20.1    18  51.0   139   4.63   0.42     91   \n",
       "416  MV00460    robust   418  54.4    17  61.0   122   4.18   0.38     90   \n",
       "417  MV00502    robust   393  38.2    18  43.1   136   4.57   0.43     94   \n",
       "418  MV00510    robust   371  23.2    24  55.9   127   4.41   0.40     90   \n",
       "\n",
       "     ...  B2_d6  B2_d7  B2_d8  B2_d9   B3  B4_a2  B4_a5  B5_a2  B5_a3   B6  \n",
       "414  ...     20     10     17      8  6.6    7.0  1.015   1.29    4.5  6.2  \n",
       "415  ...     16     22     35     40  1.0    6.0  1.015   1.88    3.9  5.6  \n",
       "416  ...     19     20     23     15  0.4    6.5  1.005   3.58    4.0  5.6  \n",
       "417  ...     13     11     22     23  0.7    7.0  1.009   0.92    4.1  6.0  \n",
       "418  ...     13     14     16     12  7.5    8.0  1.017   2.45    4.5  6.2  \n",
       "\n",
       "[5 rows x 48 columns]"
      ]
     },
     "execution_count": 8,
     "metadata": {},
     "output_type": "execute_result"
    }
   ],
   "source": [
    "data.tail()"
   ]
  },
  {
   "cell_type": "code",
   "execution_count": 9,
   "id": "bottom-basin",
   "metadata": {},
   "outputs": [
    {
     "data": {
      "text/plain": [
       "robust       343\n",
       "frail_mci     76\n",
       "Name: condition, dtype: int64"
      ]
     },
     "execution_count": 9,
     "metadata": {},
     "output_type": "execute_result"
    }
   ],
   "source": [
    "c = data['condition'].value_counts()\n",
    "condition = c.index\n",
    "c"
   ]
  },
  {
   "cell_type": "code",
   "execution_count": 10,
   "id": "smooth-hostel",
   "metadata": {},
   "outputs": [
    {
     "data": {
      "text/html": [
       "<div>\n",
       "<style scoped>\n",
       "    .dataframe tbody tr th:only-of-type {\n",
       "        vertical-align: middle;\n",
       "    }\n",
       "\n",
       "    .dataframe tbody tr th {\n",
       "        vertical-align: top;\n",
       "    }\n",
       "\n",
       "    .dataframe thead th {\n",
       "        text-align: right;\n",
       "    }\n",
       "</style>\n",
       "<table border=\"1\" class=\"dataframe\">\n",
       "  <thead>\n",
       "    <tr style=\"text-align: right;\">\n",
       "      <th></th>\n",
       "      <th>mtag</th>\n",
       "      <th>condition</th>\n",
       "      <th>A1_1</th>\n",
       "      <th>A1_2</th>\n",
       "      <th>A2_1</th>\n",
       "      <th>A3_1</th>\n",
       "      <th>B1_a</th>\n",
       "      <th>B1_a1</th>\n",
       "      <th>B1_a2</th>\n",
       "      <th>B1_a3</th>\n",
       "      <th>...</th>\n",
       "      <th>B2_d6</th>\n",
       "      <th>B2_d7</th>\n",
       "      <th>B2_d8</th>\n",
       "      <th>B2_d9</th>\n",
       "      <th>B3</th>\n",
       "      <th>B4_a2</th>\n",
       "      <th>B4_a5</th>\n",
       "      <th>B5_a2</th>\n",
       "      <th>B5_a3</th>\n",
       "      <th>B6</th>\n",
       "    </tr>\n",
       "  </thead>\n",
       "  <tbody>\n",
       "    <tr>\n",
       "      <th>0</th>\n",
       "      <td>ME01378</td>\n",
       "      <td>1</td>\n",
       "      <td>241</td>\n",
       "      <td>13.0</td>\n",
       "      <td>20</td>\n",
       "      <td>33.5</td>\n",
       "      <td>150</td>\n",
       "      <td>5.25</td>\n",
       "      <td>0.46</td>\n",
       "      <td>87</td>\n",
       "      <td>...</td>\n",
       "      <td>10</td>\n",
       "      <td>21</td>\n",
       "      <td>22</td>\n",
       "      <td>17</td>\n",
       "      <td>1.3</td>\n",
       "      <td>7.0</td>\n",
       "      <td>1.010</td>\n",
       "      <td>0.69</td>\n",
       "      <td>4.7</td>\n",
       "      <td>5.9</td>\n",
       "    </tr>\n",
       "    <tr>\n",
       "      <th>1</th>\n",
       "      <td>ME02832</td>\n",
       "      <td>1</td>\n",
       "      <td>444</td>\n",
       "      <td>43.8</td>\n",
       "      <td>16</td>\n",
       "      <td>87.0</td>\n",
       "      <td>134</td>\n",
       "      <td>4.65</td>\n",
       "      <td>0.40</td>\n",
       "      <td>85</td>\n",
       "      <td>...</td>\n",
       "      <td>10</td>\n",
       "      <td>14</td>\n",
       "      <td>20</td>\n",
       "      <td>15</td>\n",
       "      <td>13.4</td>\n",
       "      <td>6.0</td>\n",
       "      <td>1.005</td>\n",
       "      <td>1.29</td>\n",
       "      <td>4.5</td>\n",
       "      <td>5.8</td>\n",
       "    </tr>\n",
       "    <tr>\n",
       "      <th>2</th>\n",
       "      <td>ME02909</td>\n",
       "      <td>1</td>\n",
       "      <td>1476</td>\n",
       "      <td>54.5</td>\n",
       "      <td>16</td>\n",
       "      <td>57.0</td>\n",
       "      <td>119</td>\n",
       "      <td>3.80</td>\n",
       "      <td>0.36</td>\n",
       "      <td>94</td>\n",
       "      <td>...</td>\n",
       "      <td>18</td>\n",
       "      <td>17</td>\n",
       "      <td>35</td>\n",
       "      <td>21</td>\n",
       "      <td>0.2</td>\n",
       "      <td>7.5</td>\n",
       "      <td>1.012</td>\n",
       "      <td>1.90</td>\n",
       "      <td>4.1</td>\n",
       "      <td>5.8</td>\n",
       "    </tr>\n",
       "    <tr>\n",
       "      <th>3</th>\n",
       "      <td>ME02998</td>\n",
       "      <td>1</td>\n",
       "      <td>339</td>\n",
       "      <td>25.9</td>\n",
       "      <td>18</td>\n",
       "      <td>63.8</td>\n",
       "      <td>135</td>\n",
       "      <td>4.89</td>\n",
       "      <td>0.42</td>\n",
       "      <td>86</td>\n",
       "      <td>...</td>\n",
       "      <td>13</td>\n",
       "      <td>16</td>\n",
       "      <td>25</td>\n",
       "      <td>13</td>\n",
       "      <td>16.8</td>\n",
       "      <td>5.0</td>\n",
       "      <td>1.017</td>\n",
       "      <td>1.32</td>\n",
       "      <td>4.0</td>\n",
       "      <td>6.0</td>\n",
       "    </tr>\n",
       "    <tr>\n",
       "      <th>4</th>\n",
       "      <td>ME03061</td>\n",
       "      <td>1</td>\n",
       "      <td>287</td>\n",
       "      <td>23.8</td>\n",
       "      <td>20</td>\n",
       "      <td>95.5</td>\n",
       "      <td>146</td>\n",
       "      <td>5.18</td>\n",
       "      <td>0.44</td>\n",
       "      <td>85</td>\n",
       "      <td>...</td>\n",
       "      <td>18</td>\n",
       "      <td>22</td>\n",
       "      <td>25</td>\n",
       "      <td>24</td>\n",
       "      <td>1.4</td>\n",
       "      <td>7.5</td>\n",
       "      <td>1.006</td>\n",
       "      <td>2.94</td>\n",
       "      <td>4.6</td>\n",
       "      <td>6.1</td>\n",
       "    </tr>\n",
       "  </tbody>\n",
       "</table>\n",
       "<p>5 rows × 48 columns</p>\n",
       "</div>"
      ],
      "text/plain": [
       "      mtag  condition  A1_1  A1_2  A2_1  A3_1  B1_a  B1_a1  B1_a2  B1_a3  ...  \\\n",
       "0  ME01378          1   241  13.0    20  33.5   150   5.25   0.46     87  ...   \n",
       "1  ME02832          1   444  43.8    16  87.0   134   4.65   0.40     85  ...   \n",
       "2  ME02909          1  1476  54.5    16  57.0   119   3.80   0.36     94  ...   \n",
       "3  ME02998          1   339  25.9    18  63.8   135   4.89   0.42     86  ...   \n",
       "4  ME03061          1   287  23.8    20  95.5   146   5.18   0.44     85  ...   \n",
       "\n",
       "   B2_d6  B2_d7  B2_d8  B2_d9    B3  B4_a2  B4_a5  B5_a2  B5_a3   B6  \n",
       "0     10     21     22     17   1.3    7.0  1.010   0.69    4.7  5.9  \n",
       "1     10     14     20     15  13.4    6.0  1.005   1.29    4.5  5.8  \n",
       "2     18     17     35     21   0.2    7.5  1.012   1.90    4.1  5.8  \n",
       "3     13     16     25     13  16.8    5.0  1.017   1.32    4.0  6.0  \n",
       "4     18     22     25     24   1.4    7.5  1.006   2.94    4.6  6.1  \n",
       "\n",
       "[5 rows x 48 columns]"
      ]
     },
     "execution_count": 10,
     "metadata": {},
     "output_type": "execute_result"
    }
   ],
   "source": [
    "for i in range(len(condition)):\n",
    "    data['condition'].replace(condition[i], i, inplace = True)\n",
    "\n",
    "data.head()"
   ]
  },
  {
   "cell_type": "code",
   "execution_count": 11,
   "id": "round-petersburg",
   "metadata": {},
   "outputs": [
    {
     "data": {
      "text/html": [
       "<div>\n",
       "<style scoped>\n",
       "    .dataframe tbody tr th:only-of-type {\n",
       "        vertical-align: middle;\n",
       "    }\n",
       "\n",
       "    .dataframe tbody tr th {\n",
       "        vertical-align: top;\n",
       "    }\n",
       "\n",
       "    .dataframe thead th {\n",
       "        text-align: right;\n",
       "    }\n",
       "</style>\n",
       "<table border=\"1\" class=\"dataframe\">\n",
       "  <thead>\n",
       "    <tr style=\"text-align: right;\">\n",
       "      <th></th>\n",
       "      <th>mtag</th>\n",
       "      <th>condition</th>\n",
       "      <th>A1_1</th>\n",
       "      <th>A1_2</th>\n",
       "      <th>A2_1</th>\n",
       "      <th>A3_1</th>\n",
       "      <th>B1_a</th>\n",
       "      <th>B1_a1</th>\n",
       "      <th>B1_a2</th>\n",
       "      <th>B1_a3</th>\n",
       "      <th>...</th>\n",
       "      <th>B2_d6</th>\n",
       "      <th>B2_d7</th>\n",
       "      <th>B2_d8</th>\n",
       "      <th>B2_d9</th>\n",
       "      <th>B3</th>\n",
       "      <th>B4_a2</th>\n",
       "      <th>B4_a5</th>\n",
       "      <th>B5_a2</th>\n",
       "      <th>B5_a3</th>\n",
       "      <th>B6</th>\n",
       "    </tr>\n",
       "  </thead>\n",
       "  <tbody>\n",
       "    <tr>\n",
       "      <th>414</th>\n",
       "      <td>MV00454</td>\n",
       "      <td>0</td>\n",
       "      <td>220</td>\n",
       "      <td>24.6</td>\n",
       "      <td>19</td>\n",
       "      <td>67.5</td>\n",
       "      <td>138</td>\n",
       "      <td>4.66</td>\n",
       "      <td>0.42</td>\n",
       "      <td>91</td>\n",
       "      <td>...</td>\n",
       "      <td>20</td>\n",
       "      <td>10</td>\n",
       "      <td>17</td>\n",
       "      <td>8</td>\n",
       "      <td>6.6</td>\n",
       "      <td>7.0</td>\n",
       "      <td>1.015</td>\n",
       "      <td>1.29</td>\n",
       "      <td>4.5</td>\n",
       "      <td>6.2</td>\n",
       "    </tr>\n",
       "    <tr>\n",
       "      <th>415</th>\n",
       "      <td>MV00456</td>\n",
       "      <td>0</td>\n",
       "      <td>334</td>\n",
       "      <td>20.1</td>\n",
       "      <td>18</td>\n",
       "      <td>51.0</td>\n",
       "      <td>139</td>\n",
       "      <td>4.63</td>\n",
       "      <td>0.42</td>\n",
       "      <td>91</td>\n",
       "      <td>...</td>\n",
       "      <td>16</td>\n",
       "      <td>22</td>\n",
       "      <td>35</td>\n",
       "      <td>40</td>\n",
       "      <td>1.0</td>\n",
       "      <td>6.0</td>\n",
       "      <td>1.015</td>\n",
       "      <td>1.88</td>\n",
       "      <td>3.9</td>\n",
       "      <td>5.6</td>\n",
       "    </tr>\n",
       "    <tr>\n",
       "      <th>416</th>\n",
       "      <td>MV00460</td>\n",
       "      <td>0</td>\n",
       "      <td>418</td>\n",
       "      <td>54.4</td>\n",
       "      <td>17</td>\n",
       "      <td>61.0</td>\n",
       "      <td>122</td>\n",
       "      <td>4.18</td>\n",
       "      <td>0.38</td>\n",
       "      <td>90</td>\n",
       "      <td>...</td>\n",
       "      <td>19</td>\n",
       "      <td>20</td>\n",
       "      <td>23</td>\n",
       "      <td>15</td>\n",
       "      <td>0.4</td>\n",
       "      <td>6.5</td>\n",
       "      <td>1.005</td>\n",
       "      <td>3.58</td>\n",
       "      <td>4.0</td>\n",
       "      <td>5.6</td>\n",
       "    </tr>\n",
       "    <tr>\n",
       "      <th>417</th>\n",
       "      <td>MV00502</td>\n",
       "      <td>0</td>\n",
       "      <td>393</td>\n",
       "      <td>38.2</td>\n",
       "      <td>18</td>\n",
       "      <td>43.1</td>\n",
       "      <td>136</td>\n",
       "      <td>4.57</td>\n",
       "      <td>0.43</td>\n",
       "      <td>94</td>\n",
       "      <td>...</td>\n",
       "      <td>13</td>\n",
       "      <td>11</td>\n",
       "      <td>22</td>\n",
       "      <td>23</td>\n",
       "      <td>0.7</td>\n",
       "      <td>7.0</td>\n",
       "      <td>1.009</td>\n",
       "      <td>0.92</td>\n",
       "      <td>4.1</td>\n",
       "      <td>6.0</td>\n",
       "    </tr>\n",
       "    <tr>\n",
       "      <th>418</th>\n",
       "      <td>MV00510</td>\n",
       "      <td>0</td>\n",
       "      <td>371</td>\n",
       "      <td>23.2</td>\n",
       "      <td>24</td>\n",
       "      <td>55.9</td>\n",
       "      <td>127</td>\n",
       "      <td>4.41</td>\n",
       "      <td>0.40</td>\n",
       "      <td>90</td>\n",
       "      <td>...</td>\n",
       "      <td>13</td>\n",
       "      <td>14</td>\n",
       "      <td>16</td>\n",
       "      <td>12</td>\n",
       "      <td>7.5</td>\n",
       "      <td>8.0</td>\n",
       "      <td>1.017</td>\n",
       "      <td>2.45</td>\n",
       "      <td>4.5</td>\n",
       "      <td>6.2</td>\n",
       "    </tr>\n",
       "  </tbody>\n",
       "</table>\n",
       "<p>5 rows × 48 columns</p>\n",
       "</div>"
      ],
      "text/plain": [
       "        mtag  condition  A1_1  A1_2  A2_1  A3_1  B1_a  B1_a1  B1_a2  B1_a3  \\\n",
       "414  MV00454          0   220  24.6    19  67.5   138   4.66   0.42     91   \n",
       "415  MV00456          0   334  20.1    18  51.0   139   4.63   0.42     91   \n",
       "416  MV00460          0   418  54.4    17  61.0   122   4.18   0.38     90   \n",
       "417  MV00502          0   393  38.2    18  43.1   136   4.57   0.43     94   \n",
       "418  MV00510          0   371  23.2    24  55.9   127   4.41   0.40     90   \n",
       "\n",
       "     ...  B2_d6  B2_d7  B2_d8  B2_d9   B3  B4_a2  B4_a5  B5_a2  B5_a3   B6  \n",
       "414  ...     20     10     17      8  6.6    7.0  1.015   1.29    4.5  6.2  \n",
       "415  ...     16     22     35     40  1.0    6.0  1.015   1.88    3.9  5.6  \n",
       "416  ...     19     20     23     15  0.4    6.5  1.005   3.58    4.0  5.6  \n",
       "417  ...     13     11     22     23  0.7    7.0  1.009   0.92    4.1  6.0  \n",
       "418  ...     13     14     16     12  7.5    8.0  1.017   2.45    4.5  6.2  \n",
       "\n",
       "[5 rows x 48 columns]"
      ]
     },
     "execution_count": 11,
     "metadata": {},
     "output_type": "execute_result"
    }
   ],
   "source": [
    "data.tail()"
   ]
  },
  {
   "cell_type": "code",
   "execution_count": 12,
   "id": "funded-certification",
   "metadata": {},
   "outputs": [],
   "source": [
    "y = data['condition']\n",
    "\n",
    "features = ['A1_1', 'A1_2', 'A2_1', 'A3_1', 'B1_a', 'B1_a1', 'B1_a2',\n",
    "       'B1_a3', 'B1_a4', 'B1_a5', 'B1_a6', 'B1_b', 'B1_b1', 'B1_b2', 'B1_b3',\n",
    "       'B1_c', 'B1_d', 'B2_a1', 'B2_a2', 'B2_a3', 'B2_a4', 'B2_a5', 'B2_b1',\n",
    "       'B2_b2', 'B2_b3', 'B2_c1', 'B2_c2', 'B2_c4', 'B2_c5', 'B2_c6', 'B2_c7',\n",
    "       'B2_d1', 'B2_d2', 'B2_d3', 'B2_d4', 'B2_d5', 'B2_d6', 'B2_d7', 'B2_d8',\n",
    "       'B2_d9', 'B3', 'B4_a2', 'B4_a5', 'B5_a2', 'B5_a3', 'B6']\n",
    "X = data[features]\n",
    "\n",
    "X = StandardScaler().fit_transform(X)\n",
    "X = MinMaxScaler().fit_transform(X)"
   ]
  },
  {
   "cell_type": "code",
   "execution_count": 13,
   "id": "computational-privilege",
   "metadata": {},
   "outputs": [
    {
     "name": "stdout",
     "output_type": "stream",
     "text": [
      "Counter({0: 76, 1: 76})\n"
     ]
    }
   ],
   "source": [
    "sampling_strategy = {0: 76, 1: 76}\n",
    "undersample = RandomUnderSampler(sampling_strategy=sampling_strategy)\n",
    "\n",
    "X, y = undersample.fit_resample(X, y)\n",
    "counter = Counter(y)\n",
    "print(counter)"
   ]
  },
  {
   "cell_type": "code",
   "execution_count": 14,
   "id": "valuable-forest",
   "metadata": {},
   "outputs": [
    {
     "name": "stdout",
     "output_type": "stream",
     "text": [
      "Counter({0: 46, 1: 45})\n",
      "Counter({1: 31, 0: 30})\n"
     ]
    }
   ],
   "source": [
    "X_train, X_test, y_train, y_test = train_test_split(X, y, test_size = 0.4, random_state = 1)\n",
    "\n",
    "counter = Counter(y_train)\n",
    "print(counter)\n",
    "\n",
    "counter = Counter(y_test)\n",
    "print(counter)"
   ]
  },
  {
   "cell_type": "code",
   "execution_count": 15,
   "id": "controlling-cotton",
   "metadata": {},
   "outputs": [
    {
     "name": "stdout",
     "output_type": "stream",
     "text": [
      "Logistic Regression: 0.747 accuracy with a standard deviation of 0.100\n",
      "Linear Discriminant Analysis: 0.662 accuracy with a standard deviation of 0.048\n",
      "K-Nearest Neighbors: 0.673 accuracy with a standard deviation of 0.125\n",
      "Classification and Regression Trees: 0.728 accuracy with a standard deviation of 0.125\n",
      "Gaussian Naive Bayes: 0.749 accuracy with a standard deviation of 0.143\n",
      "Support Vector Machines: 0.736 accuracy with a standard deviation of 0.111\n",
      "Random Forest Classifier: 0.770 accuracy with a standard deviation of 0.130\n",
      "\n",
      "\n",
      "\n",
      "Logistic Regression: 0.639\n",
      "Linear Discriminant Analysis: 0.689\n",
      "K-Nearest Neighbors: 0.59\n",
      "Classification and Regression Trees: 0.689\n",
      "Gaussian Naive Bayes: 0.689\n",
      "Support Vector Machines: 0.656\n",
      "Random Forest Classifier: 0.689\n",
      "Logistic Regression: 0.755 accuracy with a standard deviation of 0.080\n",
      "Linear Discriminant Analysis: 0.702 accuracy with a standard deviation of 0.040\n",
      "K-Nearest Neighbors: 0.670 accuracy with a standard deviation of 0.087\n",
      "Classification and Regression Trees: 0.701 accuracy with a standard deviation of 0.114\n",
      "Gaussian Naive Bayes: 0.711 accuracy with a standard deviation of 0.115\n"
     ]
    },
    {
     "name": "stderr",
     "output_type": "stream",
     "text": [
      "C:\\Users\\shahi\\anaconda3\\envs\\FYP\\lib\\site-packages\\imblearn\\utils\\_validation.py:326: UserWarning: After over-sampling, the number of samples (47) in class 0 will be larger than the number of samples in the majority class (class #0 -> 46)\n",
      "  n_samples_majority,\n",
      "C:\\Users\\shahi\\anaconda3\\envs\\FYP\\lib\\site-packages\\imblearn\\utils\\_validation.py:326: UserWarning: After over-sampling, the number of samples (47) in class 1 will be larger than the number of samples in the majority class (class #0 -> 46)\n",
      "  n_samples_majority,\n"
     ]
    },
    {
     "name": "stdout",
     "output_type": "stream",
     "text": [
      "Support Vector Machines: 0.755 accuracy with a standard deviation of 0.072\n",
      "Random Forest Classifier: 0.797 accuracy with a standard deviation of 0.087\n",
      "\n",
      "\n",
      "\n",
      "Logistic Regression: 0.639\n",
      "Linear Discriminant Analysis: 0.689\n",
      "K-Nearest Neighbors: 0.59\n",
      "Classification and Regression Trees: 0.705\n",
      "Gaussian Naive Bayes: 0.656\n",
      "Support Vector Machines: 0.656\n",
      "Random Forest Classifier: 0.689\n",
      "Logistic Regression: 0.727 accuracy with a standard deviation of 0.109\n",
      "Linear Discriminant Analysis: 0.728 accuracy with a standard deviation of 0.064\n",
      "K-Nearest Neighbors: 0.636 accuracy with a standard deviation of 0.103\n",
      "Classification and Regression Trees: 0.634 accuracy with a standard deviation of 0.103\n",
      "Gaussian Naive Bayes: 0.708 accuracy with a standard deviation of 0.073\n"
     ]
    },
    {
     "name": "stderr",
     "output_type": "stream",
     "text": [
      "C:\\Users\\shahi\\anaconda3\\envs\\FYP\\lib\\site-packages\\imblearn\\utils\\_validation.py:326: UserWarning: After over-sampling, the number of samples (48) in class 0 will be larger than the number of samples in the majority class (class #0 -> 47)\n",
      "  n_samples_majority,\n",
      "C:\\Users\\shahi\\anaconda3\\envs\\FYP\\lib\\site-packages\\imblearn\\utils\\_validation.py:326: UserWarning: After over-sampling, the number of samples (48) in class 1 will be larger than the number of samples in the majority class (class #0 -> 47)\n",
      "  n_samples_majority,\n"
     ]
    },
    {
     "name": "stdout",
     "output_type": "stream",
     "text": [
      "Support Vector Machines: 0.728 accuracy with a standard deviation of 0.093\n",
      "Random Forest Classifier: 0.738 accuracy with a standard deviation of 0.102\n",
      "\n",
      "\n",
      "\n",
      "Logistic Regression: 0.639\n",
      "Linear Discriminant Analysis: 0.689\n",
      "K-Nearest Neighbors: 0.574\n",
      "Classification and Regression Trees: 0.689\n",
      "Gaussian Naive Bayes: 0.672\n",
      "Support Vector Machines: 0.672\n",
      "Random Forest Classifier: 0.656\n",
      "Logistic Regression: 0.754 accuracy with a standard deviation of 0.091\n",
      "Linear Discriminant Analysis: 0.693 accuracy with a standard deviation of 0.131\n",
      "K-Nearest Neighbors: 0.673 accuracy with a standard deviation of 0.092\n",
      "Classification and Regression Trees: 0.684 accuracy with a standard deviation of 0.111\n",
      "Gaussian Naive Bayes: 0.713 accuracy with a standard deviation of 0.083\n"
     ]
    },
    {
     "name": "stderr",
     "output_type": "stream",
     "text": [
      "C:\\Users\\shahi\\anaconda3\\envs\\FYP\\lib\\site-packages\\imblearn\\utils\\_validation.py:326: UserWarning: After over-sampling, the number of samples (49) in class 0 will be larger than the number of samples in the majority class (class #0 -> 48)\n",
      "  n_samples_majority,\n",
      "C:\\Users\\shahi\\anaconda3\\envs\\FYP\\lib\\site-packages\\imblearn\\utils\\_validation.py:326: UserWarning: After over-sampling, the number of samples (49) in class 1 will be larger than the number of samples in the majority class (class #0 -> 48)\n",
      "  n_samples_majority,\n"
     ]
    },
    {
     "name": "stdout",
     "output_type": "stream",
     "text": [
      "Support Vector Machines: 0.805 accuracy with a standard deviation of 0.085\n",
      "Random Forest Classifier: 0.794 accuracy with a standard deviation of 0.102\n",
      "\n",
      "\n",
      "\n",
      "Logistic Regression: 0.639\n",
      "Linear Discriminant Analysis: 0.689\n",
      "K-Nearest Neighbors: 0.574\n",
      "Classification and Regression Trees: 0.738\n",
      "Gaussian Naive Bayes: 0.705\n",
      "Support Vector Machines: 0.656\n",
      "Random Forest Classifier: 0.705\n",
      "Logistic Regression: 0.770 accuracy with a standard deviation of 0.093\n",
      "Linear Discriminant Analysis: 0.700 accuracy with a standard deviation of 0.126\n",
      "K-Nearest Neighbors: 0.690 accuracy with a standard deviation of 0.097\n",
      "Classification and Regression Trees: 0.600 accuracy with a standard deviation of 0.084\n",
      "Gaussian Naive Bayes: 0.720 accuracy with a standard deviation of 0.068\n",
      "Support Vector Machines: 0.800 accuracy with a standard deviation of 0.084\n"
     ]
    },
    {
     "name": "stderr",
     "output_type": "stream",
     "text": [
      "C:\\Users\\shahi\\anaconda3\\envs\\FYP\\lib\\site-packages\\imblearn\\utils\\_validation.py:326: UserWarning: After over-sampling, the number of samples (50) in class 0 will be larger than the number of samples in the majority class (class #0 -> 49)\n",
      "  n_samples_majority,\n",
      "C:\\Users\\shahi\\anaconda3\\envs\\FYP\\lib\\site-packages\\imblearn\\utils\\_validation.py:326: UserWarning: After over-sampling, the number of samples (50) in class 1 will be larger than the number of samples in the majority class (class #0 -> 49)\n",
      "  n_samples_majority,\n"
     ]
    },
    {
     "name": "stdout",
     "output_type": "stream",
     "text": [
      "Random Forest Classifier: 0.780 accuracy with a standard deviation of 0.103\n",
      "\n",
      "\n",
      "\n",
      "Logistic Regression: 0.639\n",
      "Linear Discriminant Analysis: 0.721\n",
      "K-Nearest Neighbors: 0.574\n",
      "Classification and Regression Trees: 0.672\n",
      "Gaussian Naive Bayes: 0.705\n",
      "Support Vector Machines: 0.656\n",
      "Random Forest Classifier: 0.623\n",
      "Logistic Regression: 0.753 accuracy with a standard deviation of 0.102\n",
      "Linear Discriminant Analysis: 0.655 accuracy with a standard deviation of 0.119\n",
      "K-Nearest Neighbors: 0.657 accuracy with a standard deviation of 0.081\n",
      "Classification and Regression Trees: 0.687 accuracy with a standard deviation of 0.125\n",
      "Gaussian Naive Bayes: 0.736 accuracy with a standard deviation of 0.105\n",
      "Support Vector Machines: 0.823 accuracy with a standard deviation of 0.107\n"
     ]
    },
    {
     "name": "stderr",
     "output_type": "stream",
     "text": [
      "C:\\Users\\shahi\\anaconda3\\envs\\FYP\\lib\\site-packages\\imblearn\\utils\\_validation.py:326: UserWarning: After over-sampling, the number of samples (51) in class 0 will be larger than the number of samples in the majority class (class #0 -> 50)\n",
      "  n_samples_majority,\n",
      "C:\\Users\\shahi\\anaconda3\\envs\\FYP\\lib\\site-packages\\imblearn\\utils\\_validation.py:326: UserWarning: After over-sampling, the number of samples (51) in class 1 will be larger than the number of samples in the majority class (class #0 -> 50)\n",
      "  n_samples_majority,\n"
     ]
    },
    {
     "name": "stdout",
     "output_type": "stream",
     "text": [
      "Random Forest Classifier: 0.802 accuracy with a standard deviation of 0.130\n",
      "\n",
      "\n",
      "\n",
      "Logistic Regression: 0.639\n",
      "Linear Discriminant Analysis: 0.705\n",
      "K-Nearest Neighbors: 0.574\n",
      "Classification and Regression Trees: 0.656\n",
      "Gaussian Naive Bayes: 0.689\n",
      "Support Vector Machines: 0.672\n",
      "Random Forest Classifier: 0.721\n",
      "Logistic Regression: 0.780 accuracy with a standard deviation of 0.129\n",
      "Linear Discriminant Analysis: 0.770 accuracy with a standard deviation of 0.054\n",
      "K-Nearest Neighbors: 0.684 accuracy with a standard deviation of 0.091\n",
      "Classification and Regression Trees: 0.684 accuracy with a standard deviation of 0.105\n",
      "Gaussian Naive Bayes: 0.740 accuracy with a standard deviation of 0.059\n",
      "Support Vector Machines: 0.828 accuracy with a standard deviation of 0.102\n"
     ]
    },
    {
     "name": "stderr",
     "output_type": "stream",
     "text": [
      "C:\\Users\\shahi\\anaconda3\\envs\\FYP\\lib\\site-packages\\imblearn\\utils\\_validation.py:326: UserWarning: After over-sampling, the number of samples (52) in class 0 will be larger than the number of samples in the majority class (class #0 -> 51)\n",
      "  n_samples_majority,\n",
      "C:\\Users\\shahi\\anaconda3\\envs\\FYP\\lib\\site-packages\\imblearn\\utils\\_validation.py:326: UserWarning: After over-sampling, the number of samples (52) in class 1 will be larger than the number of samples in the majority class (class #0 -> 51)\n",
      "  n_samples_majority,\n"
     ]
    },
    {
     "name": "stdout",
     "output_type": "stream",
     "text": [
      "Random Forest Classifier: 0.771 accuracy with a standard deviation of 0.142\n",
      "\n",
      "\n",
      "\n",
      "Logistic Regression: 0.689\n",
      "Linear Discriminant Analysis: 0.721\n",
      "K-Nearest Neighbors: 0.574\n",
      "Classification and Regression Trees: 0.738\n",
      "Gaussian Naive Bayes: 0.689\n",
      "Support Vector Machines: 0.689\n",
      "Random Forest Classifier: 0.639\n",
      "Logistic Regression: 0.791 accuracy with a standard deviation of 0.116\n",
      "Linear Discriminant Analysis: 0.734 accuracy with a standard deviation of 0.108\n",
      "K-Nearest Neighbors: 0.670 accuracy with a standard deviation of 0.127\n",
      "Classification and Regression Trees: 0.697 accuracy with a standard deviation of 0.124\n",
      "Gaussian Naive Bayes: 0.754 accuracy with a standard deviation of 0.093\n",
      "Support Vector Machines: 0.829 accuracy with a standard deviation of 0.103\n"
     ]
    },
    {
     "name": "stderr",
     "output_type": "stream",
     "text": [
      "C:\\Users\\shahi\\anaconda3\\envs\\FYP\\lib\\site-packages\\imblearn\\utils\\_validation.py:326: UserWarning: After over-sampling, the number of samples (53) in class 0 will be larger than the number of samples in the majority class (class #0 -> 52)\n",
      "  n_samples_majority,\n",
      "C:\\Users\\shahi\\anaconda3\\envs\\FYP\\lib\\site-packages\\imblearn\\utils\\_validation.py:326: UserWarning: After over-sampling, the number of samples (53) in class 1 will be larger than the number of samples in the majority class (class #0 -> 52)\n",
      "  n_samples_majority,\n"
     ]
    },
    {
     "name": "stdout",
     "output_type": "stream",
     "text": [
      "Random Forest Classifier: 0.773 accuracy with a standard deviation of 0.130\n",
      "\n",
      "\n",
      "\n",
      "Logistic Regression: 0.689\n",
      "Linear Discriminant Analysis: 0.705\n",
      "K-Nearest Neighbors: 0.59\n",
      "Classification and Regression Trees: 0.656\n",
      "Gaussian Naive Bayes: 0.672\n",
      "Support Vector Machines: 0.689\n",
      "Random Forest Classifier: 0.689\n",
      "Logistic Regression: 0.768 accuracy with a standard deviation of 0.130\n",
      "Linear Discriminant Analysis: 0.769 accuracy with a standard deviation of 0.100\n",
      "K-Nearest Neighbors: 0.677 accuracy with a standard deviation of 0.093\n",
      "Classification and Regression Trees: 0.686 accuracy with a standard deviation of 0.088\n",
      "Gaussian Naive Bayes: 0.739 accuracy with a standard deviation of 0.084\n"
     ]
    },
    {
     "name": "stderr",
     "output_type": "stream",
     "text": [
      "C:\\Users\\shahi\\anaconda3\\envs\\FYP\\lib\\site-packages\\imblearn\\utils\\_validation.py:326: UserWarning: After over-sampling, the number of samples (54) in class 0 will be larger than the number of samples in the majority class (class #0 -> 53)\n",
      "  n_samples_majority,\n",
      "C:\\Users\\shahi\\anaconda3\\envs\\FYP\\lib\\site-packages\\imblearn\\utils\\_validation.py:326: UserWarning: After over-sampling, the number of samples (54) in class 1 will be larger than the number of samples in the majority class (class #0 -> 53)\n",
      "  n_samples_majority,\n"
     ]
    },
    {
     "name": "stdout",
     "output_type": "stream",
     "text": [
      "Support Vector Machines: 0.806 accuracy with a standard deviation of 0.113\n",
      "Random Forest Classifier: 0.786 accuracy with a standard deviation of 0.136\n",
      "\n",
      "\n",
      "\n",
      "Logistic Regression: 0.656\n",
      "Linear Discriminant Analysis: 0.705\n",
      "K-Nearest Neighbors: 0.59\n",
      "Classification and Regression Trees: 0.508\n",
      "Gaussian Naive Bayes: 0.672\n",
      "Support Vector Machines: 0.672\n",
      "Random Forest Classifier: 0.656\n",
      "Logistic Regression: 0.773 accuracy with a standard deviation of 0.125\n",
      "Linear Discriminant Analysis: 0.782 accuracy with a standard deviation of 0.109\n",
      "K-Nearest Neighbors: 0.673 accuracy with a standard deviation of 0.097\n",
      "Classification and Regression Trees: 0.682 accuracy with a standard deviation of 0.086\n",
      "Gaussian Naive Bayes: 0.755 accuracy with a standard deviation of 0.074\n",
      "Support Vector Machines: 0.800 accuracy with a standard deviation of 0.094\n"
     ]
    },
    {
     "name": "stderr",
     "output_type": "stream",
     "text": [
      "C:\\Users\\shahi\\anaconda3\\envs\\FYP\\lib\\site-packages\\imblearn\\utils\\_validation.py:326: UserWarning: After over-sampling, the number of samples (55) in class 0 will be larger than the number of samples in the majority class (class #0 -> 54)\n",
      "  n_samples_majority,\n",
      "C:\\Users\\shahi\\anaconda3\\envs\\FYP\\lib\\site-packages\\imblearn\\utils\\_validation.py:326: UserWarning: After over-sampling, the number of samples (55) in class 1 will be larger than the number of samples in the majority class (class #0 -> 54)\n",
      "  n_samples_majority,\n"
     ]
    },
    {
     "name": "stdout",
     "output_type": "stream",
     "text": [
      "Random Forest Classifier: 0.809 accuracy with a standard deviation of 0.127\n",
      "\n",
      "\n",
      "\n",
      "Logistic Regression: 0.656\n",
      "Linear Discriminant Analysis: 0.705\n",
      "K-Nearest Neighbors: 0.574\n",
      "Classification and Regression Trees: 0.525\n",
      "Gaussian Naive Bayes: 0.672\n",
      "Support Vector Machines: 0.672\n",
      "Random Forest Classifier: 0.656\n",
      "Logistic Regression: 0.776 accuracy with a standard deviation of 0.122\n",
      "Linear Discriminant Analysis: 0.813 accuracy with a standard deviation of 0.112\n",
      "K-Nearest Neighbors: 0.670 accuracy with a standard deviation of 0.099\n"
     ]
    },
    {
     "name": "stderr",
     "output_type": "stream",
     "text": [
      "C:\\Users\\shahi\\anaconda3\\envs\\FYP\\lib\\site-packages\\imblearn\\utils\\_validation.py:326: UserWarning: After over-sampling, the number of samples (56) in class 0 will be larger than the number of samples in the majority class (class #0 -> 55)\n",
      "  n_samples_majority,\n",
      "C:\\Users\\shahi\\anaconda3\\envs\\FYP\\lib\\site-packages\\imblearn\\utils\\_validation.py:326: UserWarning: After over-sampling, the number of samples (56) in class 1 will be larger than the number of samples in the majority class (class #0 -> 55)\n",
      "  n_samples_majority,\n"
     ]
    },
    {
     "name": "stdout",
     "output_type": "stream",
     "text": [
      "Classification and Regression Trees: 0.652 accuracy with a standard deviation of 0.094\n",
      "Gaussian Naive Bayes: 0.759 accuracy with a standard deviation of 0.046\n",
      "Support Vector Machines: 0.839 accuracy with a standard deviation of 0.084\n",
      "Random Forest Classifier: 0.803 accuracy with a standard deviation of 0.130\n",
      "\n",
      "\n",
      "\n",
      "Logistic Regression: 0.639\n",
      "Linear Discriminant Analysis: 0.705\n",
      "K-Nearest Neighbors: 0.607\n",
      "Classification and Regression Trees: 0.541\n",
      "Gaussian Naive Bayes: 0.689\n",
      "Support Vector Machines: 0.672\n",
      "Random Forest Classifier: 0.672\n",
      "Logistic Regression: 0.773 accuracy with a standard deviation of 0.117\n",
      "Linear Discriminant Analysis: 0.800 accuracy with a standard deviation of 0.119\n",
      "K-Nearest Neighbors: 0.668 accuracy with a standard deviation of 0.103\n",
      "Classification and Regression Trees: 0.730 accuracy with a standard deviation of 0.135\n",
      "Gaussian Naive Bayes: 0.762 accuracy with a standard deviation of 0.062\n"
     ]
    },
    {
     "name": "stderr",
     "output_type": "stream",
     "text": [
      "C:\\Users\\shahi\\anaconda3\\envs\\FYP\\lib\\site-packages\\imblearn\\utils\\_validation.py:326: UserWarning: After over-sampling, the number of samples (57) in class 0 will be larger than the number of samples in the majority class (class #0 -> 56)\n",
      "  n_samples_majority,\n",
      "C:\\Users\\shahi\\anaconda3\\envs\\FYP\\lib\\site-packages\\imblearn\\utils\\_validation.py:326: UserWarning: After over-sampling, the number of samples (57) in class 1 will be larger than the number of samples in the majority class (class #0 -> 56)\n",
      "  n_samples_majority,\n"
     ]
    },
    {
     "name": "stdout",
     "output_type": "stream",
     "text": [
      "Support Vector Machines: 0.791 accuracy with a standard deviation of 0.083\n",
      "Random Forest Classifier: 0.808 accuracy with a standard deviation of 0.147\n",
      "\n",
      "\n",
      "\n",
      "Logistic Regression: 0.639\n",
      "Linear Discriminant Analysis: 0.705\n",
      "K-Nearest Neighbors: 0.607\n",
      "Classification and Regression Trees: 0.508\n",
      "Gaussian Naive Bayes: 0.656\n",
      "Support Vector Machines: 0.672\n",
      "Random Forest Classifier: 0.607\n",
      "Logistic Regression: 0.792 accuracy with a standard deviation of 0.128\n",
      "Linear Discriminant Analysis: 0.801 accuracy with a standard deviation of 0.119\n",
      "K-Nearest Neighbors: 0.681 accuracy with a standard deviation of 0.113\n",
      "Classification and Regression Trees: 0.680 accuracy with a standard deviation of 0.132\n"
     ]
    },
    {
     "name": "stderr",
     "output_type": "stream",
     "text": [
      "C:\\Users\\shahi\\anaconda3\\envs\\FYP\\lib\\site-packages\\imblearn\\utils\\_validation.py:326: UserWarning: After over-sampling, the number of samples (58) in class 0 will be larger than the number of samples in the majority class (class #0 -> 57)\n",
      "  n_samples_majority,\n",
      "C:\\Users\\shahi\\anaconda3\\envs\\FYP\\lib\\site-packages\\imblearn\\utils\\_validation.py:326: UserWarning: After over-sampling, the number of samples (58) in class 1 will be larger than the number of samples in the majority class (class #0 -> 57)\n",
      "  n_samples_majority,\n"
     ]
    },
    {
     "name": "stdout",
     "output_type": "stream",
     "text": [
      "Gaussian Naive Bayes: 0.767 accuracy with a standard deviation of 0.060\n",
      "Support Vector Machines: 0.801 accuracy with a standard deviation of 0.082\n",
      "Random Forest Classifier: 0.783 accuracy with a standard deviation of 0.130\n",
      "\n",
      "\n",
      "\n",
      "Logistic Regression: 0.623\n",
      "Linear Discriminant Analysis: 0.705\n",
      "K-Nearest Neighbors: 0.607\n",
      "Classification and Regression Trees: 0.525\n",
      "Gaussian Naive Bayes: 0.656\n",
      "Support Vector Machines: 0.672\n",
      "Random Forest Classifier: 0.623\n",
      "Logistic Regression: 0.780 accuracy with a standard deviation of 0.115\n",
      "Linear Discriminant Analysis: 0.806 accuracy with a standard deviation of 0.115\n",
      "K-Nearest Neighbors: 0.679 accuracy with a standard deviation of 0.083\n",
      "Classification and Regression Trees: 0.687 accuracy with a standard deviation of 0.079\n"
     ]
    },
    {
     "name": "stderr",
     "output_type": "stream",
     "text": [
      "C:\\Users\\shahi\\anaconda3\\envs\\FYP\\lib\\site-packages\\imblearn\\utils\\_validation.py:326: UserWarning: After over-sampling, the number of samples (59) in class 0 will be larger than the number of samples in the majority class (class #0 -> 58)\n",
      "  n_samples_majority,\n",
      "C:\\Users\\shahi\\anaconda3\\envs\\FYP\\lib\\site-packages\\imblearn\\utils\\_validation.py:326: UserWarning: After over-sampling, the number of samples (59) in class 1 will be larger than the number of samples in the majority class (class #0 -> 58)\n",
      "  n_samples_majority,\n"
     ]
    },
    {
     "name": "stdout",
     "output_type": "stream",
     "text": [
      "Gaussian Naive Bayes: 0.753 accuracy with a standard deviation of 0.061\n",
      "Support Vector Machines: 0.822 accuracy with a standard deviation of 0.099\n",
      "Random Forest Classifier: 0.805 accuracy with a standard deviation of 0.137\n",
      "\n",
      "\n",
      "\n",
      "Logistic Regression: 0.639\n",
      "Linear Discriminant Analysis: 0.705\n",
      "K-Nearest Neighbors: 0.607\n",
      "Classification and Regression Trees: 0.541\n",
      "Gaussian Naive Bayes: 0.656\n",
      "Support Vector Machines: 0.672\n",
      "Random Forest Classifier: 0.672\n",
      "Logistic Regression: 0.783 accuracy with a standard deviation of 0.096\n",
      "Linear Discriminant Analysis: 0.817 accuracy with a standard deviation of 0.120\n",
      "K-Nearest Neighbors: 0.692 accuracy with a standard deviation of 0.090\n"
     ]
    },
    {
     "name": "stderr",
     "output_type": "stream",
     "text": [
      "C:\\Users\\shahi\\anaconda3\\envs\\FYP\\lib\\site-packages\\imblearn\\utils\\_validation.py:326: UserWarning: After over-sampling, the number of samples (60) in class 0 will be larger than the number of samples in the majority class (class #0 -> 59)\n",
      "  n_samples_majority,\n",
      "C:\\Users\\shahi\\anaconda3\\envs\\FYP\\lib\\site-packages\\imblearn\\utils\\_validation.py:326: UserWarning: After over-sampling, the number of samples (60) in class 1 will be larger than the number of samples in the majority class (class #0 -> 59)\n",
      "  n_samples_majority,\n"
     ]
    },
    {
     "name": "stdout",
     "output_type": "stream",
     "text": [
      "Classification and Regression Trees: 0.708 accuracy with a standard deviation of 0.134\n",
      "Gaussian Naive Bayes: 0.750 accuracy with a standard deviation of 0.059\n",
      "Support Vector Machines: 0.842 accuracy with a standard deviation of 0.096\n",
      "Random Forest Classifier: 0.825 accuracy with a standard deviation of 0.125\n",
      "\n",
      "\n",
      "\n",
      "Logistic Regression: 0.656\n",
      "Linear Discriminant Analysis: 0.721\n",
      "K-Nearest Neighbors: 0.607\n",
      "Classification and Regression Trees: 0.459\n",
      "Gaussian Naive Bayes: 0.672\n",
      "Support Vector Machines: 0.672\n",
      "Random Forest Classifier: 0.672\n",
      "Logistic Regression: 0.804 accuracy with a standard deviation of 0.122\n",
      "Linear Discriminant Analysis: 0.796 accuracy with a standard deviation of 0.134\n",
      "K-Nearest Neighbors: 0.698 accuracy with a standard deviation of 0.116\n"
     ]
    },
    {
     "name": "stderr",
     "output_type": "stream",
     "text": [
      "C:\\Users\\shahi\\anaconda3\\envs\\FYP\\lib\\site-packages\\imblearn\\utils\\_validation.py:326: UserWarning: After over-sampling, the number of samples (61) in class 0 will be larger than the number of samples in the majority class (class #0 -> 60)\n",
      "  n_samples_majority,\n",
      "C:\\Users\\shahi\\anaconda3\\envs\\FYP\\lib\\site-packages\\imblearn\\utils\\_validation.py:326: UserWarning: After over-sampling, the number of samples (61) in class 1 will be larger than the number of samples in the majority class (class #0 -> 60)\n",
      "  n_samples_majority,\n"
     ]
    },
    {
     "name": "stdout",
     "output_type": "stream",
     "text": [
      "Classification and Regression Trees: 0.764 accuracy with a standard deviation of 0.109\n",
      "Gaussian Naive Bayes: 0.746 accuracy with a standard deviation of 0.072\n",
      "Support Vector Machines: 0.812 accuracy with a standard deviation of 0.139\n",
      "Random Forest Classifier: 0.820 accuracy with a standard deviation of 0.126\n",
      "\n",
      "\n",
      "\n",
      "Logistic Regression: 0.672\n",
      "Linear Discriminant Analysis: 0.721\n",
      "K-Nearest Neighbors: 0.607\n",
      "Classification and Regression Trees: 0.459\n",
      "Gaussian Naive Bayes: 0.672\n",
      "Support Vector Machines: 0.672\n",
      "Random Forest Classifier: 0.721\n",
      "Logistic Regression: 0.807 accuracy with a standard deviation of 0.092\n",
      "Linear Discriminant Analysis: 0.816 accuracy with a standard deviation of 0.125\n",
      "K-Nearest Neighbors: 0.703 accuracy with a standard deviation of 0.134\n",
      "Classification and Regression Trees: 0.751 accuracy with a standard deviation of 0.110\n",
      "Gaussian Naive Bayes: 0.766 accuracy with a standard deviation of 0.054\n"
     ]
    },
    {
     "name": "stderr",
     "output_type": "stream",
     "text": [
      "C:\\Users\\shahi\\anaconda3\\envs\\FYP\\lib\\site-packages\\imblearn\\utils\\_validation.py:326: UserWarning: After over-sampling, the number of samples (62) in class 0 will be larger than the number of samples in the majority class (class #0 -> 61)\n",
      "  n_samples_majority,\n",
      "C:\\Users\\shahi\\anaconda3\\envs\\FYP\\lib\\site-packages\\imblearn\\utils\\_validation.py:326: UserWarning: After over-sampling, the number of samples (62) in class 1 will be larger than the number of samples in the majority class (class #0 -> 61)\n",
      "  n_samples_majority,\n"
     ]
    },
    {
     "name": "stdout",
     "output_type": "stream",
     "text": [
      "Support Vector Machines: 0.848 accuracy with a standard deviation of 0.099\n",
      "Random Forest Classifier: 0.815 accuracy with a standard deviation of 0.122\n",
      "\n",
      "\n",
      "\n",
      "Logistic Regression: 0.672\n",
      "Linear Discriminant Analysis: 0.721\n",
      "K-Nearest Neighbors: 0.607\n",
      "Classification and Regression Trees: 0.541\n",
      "Gaussian Naive Bayes: 0.656\n",
      "Support Vector Machines: 0.705\n",
      "Random Forest Classifier: 0.721\n",
      "Logistic Regression: 0.824 accuracy with a standard deviation of 0.131\n",
      "Linear Discriminant Analysis: 0.809 accuracy with a standard deviation of 0.149\n",
      "K-Nearest Neighbors: 0.707 accuracy with a standard deviation of 0.134\n",
      "Classification and Regression Trees: 0.722 accuracy with a standard deviation of 0.105\n",
      "Gaussian Naive Bayes: 0.778 accuracy with a standard deviation of 0.022\n",
      "Support Vector Machines: 0.840 accuracy with a standard deviation of 0.141\n"
     ]
    },
    {
     "name": "stderr",
     "output_type": "stream",
     "text": [
      "C:\\Users\\shahi\\anaconda3\\envs\\FYP\\lib\\site-packages\\imblearn\\utils\\_validation.py:326: UserWarning: After over-sampling, the number of samples (63) in class 0 will be larger than the number of samples in the majority class (class #0 -> 62)\n",
      "  n_samples_majority,\n",
      "C:\\Users\\shahi\\anaconda3\\envs\\FYP\\lib\\site-packages\\imblearn\\utils\\_validation.py:326: UserWarning: After over-sampling, the number of samples (63) in class 1 will be larger than the number of samples in the majority class (class #0 -> 62)\n",
      "  n_samples_majority,\n"
     ]
    },
    {
     "name": "stdout",
     "output_type": "stream",
     "text": [
      "Random Forest Classifier: 0.817 accuracy with a standard deviation of 0.101\n",
      "\n",
      "\n",
      "\n",
      "Logistic Regression: 0.656\n",
      "Linear Discriminant Analysis: 0.721\n",
      "K-Nearest Neighbors: 0.623\n",
      "Classification and Regression Trees: 0.525\n",
      "Gaussian Naive Bayes: 0.672\n",
      "Support Vector Machines: 0.705\n",
      "Random Forest Classifier: 0.672\n",
      "Logistic Regression: 0.814 accuracy with a standard deviation of 0.142\n",
      "Linear Discriminant Analysis: 0.806 accuracy with a standard deviation of 0.142\n",
      "K-Nearest Neighbors: 0.721 accuracy with a standard deviation of 0.132\n",
      "Classification and Regression Trees: 0.751 accuracy with a standard deviation of 0.109\n",
      "Gaussian Naive Bayes: 0.758 accuracy with a standard deviation of 0.046\n",
      "Support Vector Machines: 0.845 accuracy with a standard deviation of 0.135\n"
     ]
    },
    {
     "name": "stderr",
     "output_type": "stream",
     "text": [
      "C:\\Users\\shahi\\anaconda3\\envs\\FYP\\lib\\site-packages\\imblearn\\utils\\_validation.py:326: UserWarning: After over-sampling, the number of samples (64) in class 0 will be larger than the number of samples in the majority class (class #0 -> 63)\n",
      "  n_samples_majority,\n",
      "C:\\Users\\shahi\\anaconda3\\envs\\FYP\\lib\\site-packages\\imblearn\\utils\\_validation.py:326: UserWarning: After over-sampling, the number of samples (64) in class 1 will be larger than the number of samples in the majority class (class #0 -> 63)\n",
      "  n_samples_majority,\n"
     ]
    },
    {
     "name": "stdout",
     "output_type": "stream",
     "text": [
      "Random Forest Classifier: 0.830 accuracy with a standard deviation of 0.142\n",
      "\n",
      "\n",
      "\n",
      "Logistic Regression: 0.672\n",
      "Linear Discriminant Analysis: 0.721\n",
      "K-Nearest Neighbors: 0.607\n",
      "Classification and Regression Trees: 0.475\n",
      "Gaussian Naive Bayes: 0.639\n",
      "Support Vector Machines: 0.705\n",
      "Random Forest Classifier: 0.689\n",
      "Logistic Regression: 0.808 accuracy with a standard deviation of 0.106\n",
      "Linear Discriminant Analysis: 0.815 accuracy with a standard deviation of 0.132\n",
      "K-Nearest Neighbors: 0.723 accuracy with a standard deviation of 0.134\n",
      "Classification and Regression Trees: 0.777 accuracy with a standard deviation of 0.123\n",
      "Gaussian Naive Bayes: 0.762 accuracy with a standard deviation of 0.045\n",
      "Support Vector Machines: 0.838 accuracy with a standard deviation of 0.141\n"
     ]
    },
    {
     "name": "stderr",
     "output_type": "stream",
     "text": [
      "C:\\Users\\shahi\\anaconda3\\envs\\FYP\\lib\\site-packages\\imblearn\\utils\\_validation.py:326: UserWarning: After over-sampling, the number of samples (65) in class 0 will be larger than the number of samples in the majority class (class #0 -> 64)\n",
      "  n_samples_majority,\n",
      "C:\\Users\\shahi\\anaconda3\\envs\\FYP\\lib\\site-packages\\imblearn\\utils\\_validation.py:326: UserWarning: After over-sampling, the number of samples (65) in class 1 will be larger than the number of samples in the majority class (class #0 -> 64)\n",
      "  n_samples_majority,\n"
     ]
    },
    {
     "name": "stdout",
     "output_type": "stream",
     "text": [
      "Random Forest Classifier: 0.854 accuracy with a standard deviation of 0.107\n",
      "\n",
      "\n",
      "\n",
      "Logistic Regression: 0.689\n",
      "Linear Discriminant Analysis: 0.721\n",
      "K-Nearest Neighbors: 0.607\n",
      "Classification and Regression Trees: 0.557\n",
      "Gaussian Naive Bayes: 0.639\n",
      "Support Vector Machines: 0.705\n",
      "Random Forest Classifier: 0.738\n",
      "Logistic Regression: 0.804 accuracy with a standard deviation of 0.078\n",
      "Linear Discriminant Analysis: 0.825 accuracy with a standard deviation of 0.126\n",
      "K-Nearest Neighbors: 0.736 accuracy with a standard deviation of 0.154\n",
      "Classification and Regression Trees: 0.789 accuracy with a standard deviation of 0.096\n",
      "Gaussian Naive Bayes: 0.750 accuracy with a standard deviation of 0.028\n"
     ]
    },
    {
     "name": "stderr",
     "output_type": "stream",
     "text": [
      "C:\\Users\\shahi\\anaconda3\\envs\\FYP\\lib\\site-packages\\imblearn\\utils\\_validation.py:326: UserWarning: After over-sampling, the number of samples (66) in class 0 will be larger than the number of samples in the majority class (class #0 -> 65)\n",
      "  n_samples_majority,\n",
      "C:\\Users\\shahi\\anaconda3\\envs\\FYP\\lib\\site-packages\\imblearn\\utils\\_validation.py:326: UserWarning: After over-sampling, the number of samples (66) in class 1 will be larger than the number of samples in the majority class (class #0 -> 65)\n",
      "  n_samples_majority,\n"
     ]
    },
    {
     "name": "stdout",
     "output_type": "stream",
     "text": [
      "Support Vector Machines: 0.842 accuracy with a standard deviation of 0.109\n",
      "Random Forest Classifier: 0.849 accuracy with a standard deviation of 0.115\n",
      "\n",
      "\n",
      "\n",
      "Logistic Regression: 0.689\n",
      "Linear Discriminant Analysis: 0.721\n",
      "K-Nearest Neighbors: 0.59\n",
      "Classification and Regression Trees: 0.508\n",
      "Gaussian Naive Bayes: 0.639\n",
      "Support Vector Machines: 0.705\n",
      "Random Forest Classifier: 0.672\n",
      "Logistic Regression: 0.814 accuracy with a standard deviation of 0.096\n",
      "Linear Discriminant Analysis: 0.830 accuracy with a standard deviation of 0.123\n",
      "K-Nearest Neighbors: 0.740 accuracy with a standard deviation of 0.153\n",
      "Classification and Regression Trees: 0.785 accuracy with a standard deviation of 0.120\n",
      "Gaussian Naive Bayes: 0.762 accuracy with a standard deviation of 0.043\n"
     ]
    },
    {
     "name": "stderr",
     "output_type": "stream",
     "text": [
      "C:\\Users\\shahi\\anaconda3\\envs\\FYP\\lib\\site-packages\\imblearn\\utils\\_validation.py:326: UserWarning: After over-sampling, the number of samples (67) in class 0 will be larger than the number of samples in the majority class (class #0 -> 66)\n",
      "  n_samples_majority,\n",
      "C:\\Users\\shahi\\anaconda3\\envs\\FYP\\lib\\site-packages\\imblearn\\utils\\_validation.py:326: UserWarning: After over-sampling, the number of samples (67) in class 1 will be larger than the number of samples in the majority class (class #0 -> 66)\n",
      "  n_samples_majority,\n"
     ]
    },
    {
     "name": "stdout",
     "output_type": "stream",
     "text": [
      "Support Vector Machines: 0.859 accuracy with a standard deviation of 0.116\n",
      "Random Forest Classifier: 0.852 accuracy with a standard deviation of 0.110\n",
      "\n",
      "\n",
      "\n",
      "Logistic Regression: 0.689\n",
      "Linear Discriminant Analysis: 0.721\n",
      "K-Nearest Neighbors: 0.59\n",
      "Classification and Regression Trees: 0.557\n",
      "Gaussian Naive Bayes: 0.639\n",
      "Support Vector Machines: 0.689\n",
      "Random Forest Classifier: 0.705\n",
      "Logistic Regression: 0.816 accuracy with a standard deviation of 0.097\n",
      "Linear Discriminant Analysis: 0.838 accuracy with a standard deviation of 0.126\n"
     ]
    },
    {
     "name": "stderr",
     "output_type": "stream",
     "text": [
      "C:\\Users\\shahi\\anaconda3\\envs\\FYP\\lib\\site-packages\\imblearn\\utils\\_validation.py:326: UserWarning: After over-sampling, the number of samples (68) in class 0 will be larger than the number of samples in the majority class (class #0 -> 67)\n",
      "  n_samples_majority,\n",
      "C:\\Users\\shahi\\anaconda3\\envs\\FYP\\lib\\site-packages\\imblearn\\utils\\_validation.py:326: UserWarning: After over-sampling, the number of samples (68) in class 1 will be larger than the number of samples in the majority class (class #0 -> 67)\n",
      "  n_samples_majority,\n"
     ]
    },
    {
     "name": "stdout",
     "output_type": "stream",
     "text": [
      "K-Nearest Neighbors: 0.729 accuracy with a standard deviation of 0.165\n",
      "Classification and Regression Trees: 0.743 accuracy with a standard deviation of 0.116\n",
      "Gaussian Naive Bayes: 0.764 accuracy with a standard deviation of 0.032\n",
      "Support Vector Machines: 0.852 accuracy with a standard deviation of 0.113\n",
      "Random Forest Classifier: 0.845 accuracy with a standard deviation of 0.123\n",
      "\n",
      "\n",
      "\n",
      "Logistic Regression: 0.689\n",
      "Linear Discriminant Analysis: 0.721\n",
      "K-Nearest Neighbors: 0.59\n",
      "Classification and Regression Trees: 0.557\n",
      "Gaussian Naive Bayes: 0.639\n",
      "Support Vector Machines: 0.689\n",
      "Random Forest Classifier: 0.705\n",
      "Logistic Regression: 0.835 accuracy with a standard deviation of 0.116\n",
      "Linear Discriminant Analysis: 0.835 accuracy with a standard deviation of 0.134\n",
      "K-Nearest Neighbors: 0.749 accuracy with a standard deviation of 0.177\n",
      "Classification and Regression Trees: 0.727 accuracy with a standard deviation of 0.137\n"
     ]
    },
    {
     "name": "stderr",
     "output_type": "stream",
     "text": [
      "C:\\Users\\shahi\\anaconda3\\envs\\FYP\\lib\\site-packages\\imblearn\\utils\\_validation.py:326: UserWarning: After over-sampling, the number of samples (69) in class 0 will be larger than the number of samples in the majority class (class #0 -> 68)\n",
      "  n_samples_majority,\n",
      "C:\\Users\\shahi\\anaconda3\\envs\\FYP\\lib\\site-packages\\imblearn\\utils\\_validation.py:326: UserWarning: After over-sampling, the number of samples (69) in class 1 will be larger than the number of samples in the majority class (class #0 -> 68)\n",
      "  n_samples_majority,\n"
     ]
    },
    {
     "name": "stdout",
     "output_type": "stream",
     "text": [
      "Gaussian Naive Bayes: 0.768 accuracy with a standard deviation of 0.042\n",
      "Support Vector Machines: 0.871 accuracy with a standard deviation of 0.116\n",
      "Random Forest Classifier: 0.864 accuracy with a standard deviation of 0.132\n",
      "\n",
      "\n",
      "\n",
      "Logistic Regression: 0.656\n",
      "Linear Discriminant Analysis: 0.721\n",
      "K-Nearest Neighbors: 0.59\n",
      "Classification and Regression Trees: 0.623\n",
      "Gaussian Naive Bayes: 0.639\n",
      "Support Vector Machines: 0.705\n",
      "Random Forest Classifier: 0.689\n",
      "Logistic Regression: 0.836 accuracy with a standard deviation of 0.116\n",
      "Linear Discriminant Analysis: 0.850 accuracy with a standard deviation of 0.125\n",
      "K-Nearest Neighbors: 0.743 accuracy with a standard deviation of 0.171\n",
      "Classification and Regression Trees: 0.750 accuracy with a standard deviation of 0.106\n",
      "Gaussian Naive Bayes: 0.764 accuracy with a standard deviation of 0.036\n"
     ]
    },
    {
     "name": "stderr",
     "output_type": "stream",
     "text": [
      "C:\\Users\\shahi\\anaconda3\\envs\\FYP\\lib\\site-packages\\imblearn\\utils\\_validation.py:326: UserWarning: After over-sampling, the number of samples (70) in class 0 will be larger than the number of samples in the majority class (class #0 -> 69)\n",
      "  n_samples_majority,\n",
      "C:\\Users\\shahi\\anaconda3\\envs\\FYP\\lib\\site-packages\\imblearn\\utils\\_validation.py:326: UserWarning: After over-sampling, the number of samples (70) in class 1 will be larger than the number of samples in the majority class (class #0 -> 69)\n",
      "  n_samples_majority,\n"
     ]
    },
    {
     "name": "stdout",
     "output_type": "stream",
     "text": [
      "Support Vector Machines: 0.871 accuracy with a standard deviation of 0.116\n",
      "Random Forest Classifier: 0.850 accuracy with a standard deviation of 0.157\n",
      "\n",
      "\n",
      "\n",
      "Logistic Regression: 0.672\n",
      "Linear Discriminant Analysis: 0.738\n",
      "K-Nearest Neighbors: 0.59\n",
      "Classification and Regression Trees: 0.574\n",
      "Gaussian Naive Bayes: 0.623\n",
      "Support Vector Machines: 0.705\n",
      "Random Forest Classifier: 0.672\n",
      "Logistic Regression: 0.839 accuracy with a standard deviation of 0.103\n",
      "Linear Discriminant Analysis: 0.867 accuracy with a standard deviation of 0.101\n",
      "K-Nearest Neighbors: 0.748 accuracy with a standard deviation of 0.168\n",
      "Classification and Regression Trees: 0.741 accuracy with a standard deviation of 0.153\n",
      "Gaussian Naive Bayes: 0.753 accuracy with a standard deviation of 0.046\n"
     ]
    },
    {
     "name": "stderr",
     "output_type": "stream",
     "text": [
      "C:\\Users\\shahi\\anaconda3\\envs\\FYP\\lib\\site-packages\\imblearn\\utils\\_validation.py:326: UserWarning: After over-sampling, the number of samples (71) in class 0 will be larger than the number of samples in the majority class (class #0 -> 70)\n",
      "  n_samples_majority,\n",
      "C:\\Users\\shahi\\anaconda3\\envs\\FYP\\lib\\site-packages\\imblearn\\utils\\_validation.py:326: UserWarning: After over-sampling, the number of samples (71) in class 1 will be larger than the number of samples in the majority class (class #0 -> 70)\n",
      "  n_samples_majority,\n"
     ]
    },
    {
     "name": "stdout",
     "output_type": "stream",
     "text": [
      "Support Vector Machines: 0.874 accuracy with a standard deviation of 0.106\n",
      "Random Forest Classifier: 0.859 accuracy with a standard deviation of 0.108\n",
      "\n",
      "\n",
      "\n",
      "Logistic Regression: 0.689\n",
      "Linear Discriminant Analysis: 0.738\n",
      "K-Nearest Neighbors: 0.59\n",
      "Classification and Regression Trees: 0.541\n",
      "Gaussian Naive Bayes: 0.639\n",
      "Support Vector Machines: 0.689\n",
      "Random Forest Classifier: 0.705\n",
      "Logistic Regression: 0.820 accuracy with a standard deviation of 0.109\n",
      "Linear Discriminant Analysis: 0.876 accuracy with a standard deviation of 0.089\n",
      "K-Nearest Neighbors: 0.752 accuracy with a standard deviation of 0.165\n",
      "Classification and Regression Trees: 0.765 accuracy with a standard deviation of 0.151\n",
      "Gaussian Naive Bayes: 0.750 accuracy with a standard deviation of 0.040\n",
      "Support Vector Machines: 0.862 accuracy with a standard deviation of 0.105\n"
     ]
    },
    {
     "name": "stderr",
     "output_type": "stream",
     "text": [
      "C:\\Users\\shahi\\anaconda3\\envs\\FYP\\lib\\site-packages\\imblearn\\utils\\_validation.py:326: UserWarning: After over-sampling, the number of samples (72) in class 0 will be larger than the number of samples in the majority class (class #0 -> 71)\n",
      "  n_samples_majority,\n",
      "C:\\Users\\shahi\\anaconda3\\envs\\FYP\\lib\\site-packages\\imblearn\\utils\\_validation.py:326: UserWarning: After over-sampling, the number of samples (72) in class 1 will be larger than the number of samples in the majority class (class #0 -> 71)\n",
      "  n_samples_majority,\n"
     ]
    },
    {
     "name": "stdout",
     "output_type": "stream",
     "text": [
      "Random Forest Classifier: 0.862 accuracy with a standard deviation of 0.105\n",
      "\n",
      "\n",
      "\n",
      "Logistic Regression: 0.672\n",
      "Linear Discriminant Analysis: 0.721\n",
      "K-Nearest Neighbors: 0.607\n",
      "Classification and Regression Trees: 0.541\n",
      "Gaussian Naive Bayes: 0.639\n",
      "Support Vector Machines: 0.689\n",
      "Random Forest Classifier: 0.639\n",
      "Logistic Regression: 0.835 accuracy with a standard deviation of 0.094\n",
      "Linear Discriminant Analysis: 0.877 accuracy with a standard deviation of 0.110\n",
      "K-Nearest Neighbors: 0.761 accuracy with a standard deviation of 0.160\n",
      "Classification and Regression Trees: 0.747 accuracy with a standard deviation of 0.149\n",
      "Gaussian Naive Bayes: 0.746 accuracy with a standard deviation of 0.058\n"
     ]
    },
    {
     "name": "stderr",
     "output_type": "stream",
     "text": [
      "C:\\Users\\shahi\\anaconda3\\envs\\FYP\\lib\\site-packages\\imblearn\\utils\\_validation.py:326: UserWarning: After over-sampling, the number of samples (73) in class 0 will be larger than the number of samples in the majority class (class #0 -> 72)\n",
      "  n_samples_majority,\n",
      "C:\\Users\\shahi\\anaconda3\\envs\\FYP\\lib\\site-packages\\imblearn\\utils\\_validation.py:326: UserWarning: After over-sampling, the number of samples (73) in class 1 will be larger than the number of samples in the majority class (class #0 -> 72)\n",
      "  n_samples_majority,\n"
     ]
    },
    {
     "name": "stdout",
     "output_type": "stream",
     "text": [
      "Support Vector Machines: 0.856 accuracy with a standard deviation of 0.114\n",
      "Random Forest Classifier: 0.828 accuracy with a standard deviation of 0.151\n",
      "\n",
      "\n",
      "\n",
      "Logistic Regression: 0.672\n",
      "Linear Discriminant Analysis: 0.721\n",
      "K-Nearest Neighbors: 0.59\n",
      "Classification and Regression Trees: 0.541\n",
      "Gaussian Naive Bayes: 0.623\n",
      "Support Vector Machines: 0.689\n",
      "Random Forest Classifier: 0.689\n",
      "Logistic Regression: 0.839 accuracy with a standard deviation of 0.089\n",
      "Linear Discriminant Analysis: 0.900 accuracy with a standard deviation of 0.092\n",
      "K-Nearest Neighbors: 0.773 accuracy with a standard deviation of 0.162\n",
      "Classification and Regression Trees: 0.772 accuracy with a standard deviation of 0.141\n"
     ]
    },
    {
     "name": "stderr",
     "output_type": "stream",
     "text": [
      "C:\\Users\\shahi\\anaconda3\\envs\\FYP\\lib\\site-packages\\imblearn\\utils\\_validation.py:326: UserWarning: After over-sampling, the number of samples (74) in class 0 will be larger than the number of samples in the majority class (class #0 -> 73)\n",
      "  n_samples_majority,\n",
      "C:\\Users\\shahi\\anaconda3\\envs\\FYP\\lib\\site-packages\\imblearn\\utils\\_validation.py:326: UserWarning: After over-sampling, the number of samples (74) in class 1 will be larger than the number of samples in the majority class (class #0 -> 73)\n",
      "  n_samples_majority,\n"
     ]
    },
    {
     "name": "stdout",
     "output_type": "stream",
     "text": [
      "Gaussian Naive Bayes: 0.750 accuracy with a standard deviation of 0.052\n",
      "Support Vector Machines: 0.853 accuracy with a standard deviation of 0.120\n",
      "Random Forest Classifier: 0.873 accuracy with a standard deviation of 0.118\n",
      "\n",
      "\n",
      "\n",
      "Logistic Regression: 0.656\n",
      "Linear Discriminant Analysis: 0.721\n",
      "K-Nearest Neighbors: 0.59\n",
      "Classification and Regression Trees: 0.607\n",
      "Gaussian Naive Bayes: 0.672\n",
      "Support Vector Machines: 0.689\n",
      "Random Forest Classifier: 0.705\n",
      "Logistic Regression: 0.840 accuracy with a standard deviation of 0.093\n",
      "Linear Discriminant Analysis: 0.900 accuracy with a standard deviation of 0.092\n",
      "K-Nearest Neighbors: 0.773 accuracy with a standard deviation of 0.162\n",
      "Classification and Regression Trees: 0.793 accuracy with a standard deviation of 0.129\n",
      "Gaussian Naive Bayes: 0.740 accuracy with a standard deviation of 0.057\n"
     ]
    },
    {
     "name": "stderr",
     "output_type": "stream",
     "text": [
      "C:\\Users\\shahi\\anaconda3\\envs\\FYP\\lib\\site-packages\\imblearn\\utils\\_validation.py:326: UserWarning: After over-sampling, the number of samples (75) in class 0 will be larger than the number of samples in the majority class (class #0 -> 74)\n",
      "  n_samples_majority,\n",
      "C:\\Users\\shahi\\anaconda3\\envs\\FYP\\lib\\site-packages\\imblearn\\utils\\_validation.py:326: UserWarning: After over-sampling, the number of samples (75) in class 1 will be larger than the number of samples in the majority class (class #0 -> 74)\n",
      "  n_samples_majority,\n"
     ]
    },
    {
     "name": "stdout",
     "output_type": "stream",
     "text": [
      "Support Vector Machines: 0.853 accuracy with a standard deviation of 0.120\n",
      "Random Forest Classifier: 0.893 accuracy with a standard deviation of 0.077\n",
      "\n",
      "\n",
      "\n",
      "Logistic Regression: 0.672\n",
      "Linear Discriminant Analysis: 0.721\n",
      "K-Nearest Neighbors: 0.59\n",
      "Classification and Regression Trees: 0.672\n",
      "Gaussian Naive Bayes: 0.639\n",
      "Support Vector Machines: 0.689\n",
      "Random Forest Classifier: 0.656\n",
      "Logistic Regression: 0.837 accuracy with a standard deviation of 0.110\n",
      "Linear Discriminant Analysis: 0.895 accuracy with a standard deviation of 0.096\n",
      "K-Nearest Neighbors: 0.771 accuracy with a standard deviation of 0.150\n",
      "Classification and Regression Trees: 0.817 accuracy with a standard deviation of 0.118\n"
     ]
    },
    {
     "name": "stderr",
     "output_type": "stream",
     "text": [
      "C:\\Users\\shahi\\anaconda3\\envs\\FYP\\lib\\site-packages\\imblearn\\utils\\_validation.py:326: UserWarning: After over-sampling, the number of samples (76) in class 0 will be larger than the number of samples in the majority class (class #0 -> 75)\n",
      "  n_samples_majority,\n",
      "C:\\Users\\shahi\\anaconda3\\envs\\FYP\\lib\\site-packages\\imblearn\\utils\\_validation.py:326: UserWarning: After over-sampling, the number of samples (76) in class 1 will be larger than the number of samples in the majority class (class #0 -> 75)\n",
      "  n_samples_majority,\n"
     ]
    },
    {
     "name": "stdout",
     "output_type": "stream",
     "text": [
      "Gaussian Naive Bayes: 0.750 accuracy with a standard deviation of 0.043\n",
      "Support Vector Machines: 0.862 accuracy with a standard deviation of 0.109\n",
      "Random Forest Classifier: 0.863 accuracy with a standard deviation of 0.088\n",
      "\n",
      "\n",
      "\n",
      "Logistic Regression: 0.656\n",
      "Linear Discriminant Analysis: 0.721\n",
      "K-Nearest Neighbors: 0.59\n",
      "Classification and Regression Trees: 0.607\n",
      "Gaussian Naive Bayes: 0.639\n",
      "Support Vector Machines: 0.672\n",
      "Random Forest Classifier: 0.672\n",
      "Logistic Regression: 0.826 accuracy with a standard deviation of 0.103\n",
      "Linear Discriminant Analysis: 0.903 accuracy with a standard deviation of 0.089\n",
      "K-Nearest Neighbors: 0.781 accuracy with a standard deviation of 0.155\n",
      "Classification and Regression Trees: 0.780 accuracy with a standard deviation of 0.124\n",
      "Gaussian Naive Bayes: 0.766 accuracy with a standard deviation of 0.054\n",
      "Support Vector Machines: 0.865 accuracy with a standard deviation of 0.107\n"
     ]
    },
    {
     "name": "stderr",
     "output_type": "stream",
     "text": [
      "C:\\Users\\shahi\\anaconda3\\envs\\FYP\\lib\\site-packages\\imblearn\\utils\\_validation.py:326: UserWarning: After over-sampling, the number of samples (77) in class 0 will be larger than the number of samples in the majority class (class #0 -> 76)\n",
      "  n_samples_majority,\n",
      "C:\\Users\\shahi\\anaconda3\\envs\\FYP\\lib\\site-packages\\imblearn\\utils\\_validation.py:326: UserWarning: After over-sampling, the number of samples (77) in class 1 will be larger than the number of samples in the majority class (class #0 -> 76)\n",
      "  n_samples_majority,\n"
     ]
    },
    {
     "name": "stdout",
     "output_type": "stream",
     "text": [
      "Random Forest Classifier: 0.851 accuracy with a standard deviation of 0.088\n",
      "\n",
      "\n",
      "\n",
      "Logistic Regression: 0.639\n",
      "Linear Discriminant Analysis: 0.721\n",
      "K-Nearest Neighbors: 0.59\n",
      "Classification and Regression Trees: 0.705\n",
      "Gaussian Naive Bayes: 0.639\n",
      "Support Vector Machines: 0.705\n",
      "Random Forest Classifier: 0.672\n",
      "Logistic Regression: 0.846 accuracy with a standard deviation of 0.098\n",
      "Linear Discriminant Analysis: 0.872 accuracy with a standard deviation of 0.109\n",
      "K-Nearest Neighbors: 0.783 accuracy with a standard deviation of 0.153\n",
      "Classification and Regression Trees: 0.795 accuracy with a standard deviation of 0.116\n"
     ]
    },
    {
     "name": "stderr",
     "output_type": "stream",
     "text": [
      "C:\\Users\\shahi\\anaconda3\\envs\\FYP\\lib\\site-packages\\imblearn\\utils\\_validation.py:326: UserWarning: After over-sampling, the number of samples (78) in class 0 will be larger than the number of samples in the majority class (class #0 -> 77)\n",
      "  n_samples_majority,\n",
      "C:\\Users\\shahi\\anaconda3\\envs\\FYP\\lib\\site-packages\\imblearn\\utils\\_validation.py:326: UserWarning: After over-sampling, the number of samples (78) in class 1 will be larger than the number of samples in the majority class (class #0 -> 77)\n",
      "  n_samples_majority,\n"
     ]
    },
    {
     "name": "stdout",
     "output_type": "stream",
     "text": [
      "Gaussian Naive Bayes: 0.756 accuracy with a standard deviation of 0.057\n",
      "Support Vector Machines: 0.859 accuracy with a standard deviation of 0.105\n",
      "Random Forest Classifier: 0.872 accuracy with a standard deviation of 0.084\n",
      "\n",
      "\n",
      "\n",
      "Logistic Regression: 0.639\n",
      "Linear Discriminant Analysis: 0.721\n",
      "K-Nearest Neighbors: 0.59\n",
      "Classification and Regression Trees: 0.721\n",
      "Gaussian Naive Bayes: 0.639\n",
      "Support Vector Machines: 0.705\n",
      "Random Forest Classifier: 0.639\n",
      "Logistic Regression: 0.843 accuracy with a standard deviation of 0.104\n",
      "Linear Discriminant Analysis: 0.881 accuracy with a standard deviation of 0.100\n",
      "K-Nearest Neighbors: 0.781 accuracy with a standard deviation of 0.143\n",
      "Classification and Regression Trees: 0.818 accuracy with a standard deviation of 0.101\n",
      "Gaussian Naive Bayes: 0.747 accuracy with a standard deviation of 0.042\n"
     ]
    },
    {
     "name": "stderr",
     "output_type": "stream",
     "text": [
      "C:\\Users\\shahi\\anaconda3\\envs\\FYP\\lib\\site-packages\\imblearn\\utils\\_validation.py:326: UserWarning: After over-sampling, the number of samples (79) in class 0 will be larger than the number of samples in the majority class (class #0 -> 78)\n",
      "  n_samples_majority,\n",
      "C:\\Users\\shahi\\anaconda3\\envs\\FYP\\lib\\site-packages\\imblearn\\utils\\_validation.py:326: UserWarning: After over-sampling, the number of samples (79) in class 1 will be larger than the number of samples in the majority class (class #0 -> 78)\n",
      "  n_samples_majority,\n"
     ]
    },
    {
     "name": "stdout",
     "output_type": "stream",
     "text": [
      "Support Vector Machines: 0.868 accuracy with a standard deviation of 0.093\n",
      "Random Forest Classifier: 0.881 accuracy with a standard deviation of 0.101\n",
      "\n",
      "\n",
      "\n",
      "Logistic Regression: 0.639\n",
      "Linear Discriminant Analysis: 0.721\n",
      "K-Nearest Neighbors: 0.59\n",
      "Classification and Regression Trees: 0.639\n",
      "Gaussian Naive Bayes: 0.639\n",
      "Support Vector Machines: 0.705\n",
      "Random Forest Classifier: 0.705\n",
      "Logistic Regression: 0.844 accuracy with a standard deviation of 0.105\n",
      "Linear Discriminant Analysis: 0.881 accuracy with a standard deviation of 0.100\n",
      "K-Nearest Neighbors: 0.775 accuracy with a standard deviation of 0.150\n"
     ]
    },
    {
     "name": "stderr",
     "output_type": "stream",
     "text": [
      "C:\\Users\\shahi\\anaconda3\\envs\\FYP\\lib\\site-packages\\imblearn\\utils\\_validation.py:326: UserWarning: After over-sampling, the number of samples (80) in class 0 will be larger than the number of samples in the majority class (class #0 -> 79)\n",
      "  n_samples_majority,\n",
      "C:\\Users\\shahi\\anaconda3\\envs\\FYP\\lib\\site-packages\\imblearn\\utils\\_validation.py:326: UserWarning: After over-sampling, the number of samples (80) in class 1 will be larger than the number of samples in the majority class (class #0 -> 79)\n",
      "  n_samples_majority,\n"
     ]
    },
    {
     "name": "stdout",
     "output_type": "stream",
     "text": [
      "Classification and Regression Trees: 0.812 accuracy with a standard deviation of 0.114\n",
      "Gaussian Naive Bayes: 0.750 accuracy with a standard deviation of 0.040\n",
      "Support Vector Machines: 0.869 accuracy with a standard deviation of 0.094\n",
      "Random Forest Classifier: 0.863 accuracy with a standard deviation of 0.106\n",
      "\n",
      "\n",
      "\n",
      "Logistic Regression: 0.656\n",
      "Linear Discriminant Analysis: 0.721\n",
      "K-Nearest Neighbors: 0.59\n",
      "Classification and Regression Trees: 0.59\n",
      "Gaussian Naive Bayes: 0.639\n",
      "Support Vector Machines: 0.705\n",
      "Random Forest Classifier: 0.672\n",
      "Logistic Regression: 0.841 accuracy with a standard deviation of 0.099\n",
      "Linear Discriminant Analysis: 0.877 accuracy with a standard deviation of 0.105\n",
      "K-Nearest Neighbors: 0.780 accuracy with a standard deviation of 0.145\n",
      "Classification and Regression Trees: 0.779 accuracy with a standard deviation of 0.106\n"
     ]
    },
    {
     "name": "stderr",
     "output_type": "stream",
     "text": [
      "C:\\Users\\shahi\\anaconda3\\envs\\FYP\\lib\\site-packages\\imblearn\\utils\\_validation.py:326: UserWarning: After over-sampling, the number of samples (81) in class 0 will be larger than the number of samples in the majority class (class #0 -> 80)\n",
      "  n_samples_majority,\n",
      "C:\\Users\\shahi\\anaconda3\\envs\\FYP\\lib\\site-packages\\imblearn\\utils\\_validation.py:326: UserWarning: After over-sampling, the number of samples (81) in class 1 will be larger than the number of samples in the majority class (class #0 -> 80)\n",
      "  n_samples_majority,\n"
     ]
    },
    {
     "name": "stdout",
     "output_type": "stream",
     "text": [
      "Gaussian Naive Bayes: 0.771 accuracy with a standard deviation of 0.047\n",
      "Support Vector Machines: 0.859 accuracy with a standard deviation of 0.106\n",
      "Random Forest Classifier: 0.871 accuracy with a standard deviation of 0.086\n",
      "\n",
      "\n",
      "\n",
      "Logistic Regression: 0.639\n",
      "Linear Discriminant Analysis: 0.721\n",
      "K-Nearest Neighbors: 0.59\n",
      "Classification and Regression Trees: 0.672\n",
      "Gaussian Naive Bayes: 0.623\n",
      "Support Vector Machines: 0.705\n",
      "Random Forest Classifier: 0.689\n",
      "Logistic Regression: 0.842 accuracy with a standard deviation of 0.098\n",
      "Linear Discriminant Analysis: 0.891 accuracy with a standard deviation of 0.091\n",
      "K-Nearest Neighbors: 0.788 accuracy with a standard deviation of 0.143\n",
      "Classification and Regression Trees: 0.830 accuracy with a standard deviation of 0.091\n"
     ]
    },
    {
     "name": "stderr",
     "output_type": "stream",
     "text": [
      "C:\\Users\\shahi\\anaconda3\\envs\\FYP\\lib\\site-packages\\imblearn\\utils\\_validation.py:326: UserWarning: After over-sampling, the number of samples (82) in class 0 will be larger than the number of samples in the majority class (class #0 -> 81)\n",
      "  n_samples_majority,\n",
      "C:\\Users\\shahi\\anaconda3\\envs\\FYP\\lib\\site-packages\\imblearn\\utils\\_validation.py:326: UserWarning: After over-sampling, the number of samples (82) in class 1 will be larger than the number of samples in the majority class (class #0 -> 81)\n",
      "  n_samples_majority,\n"
     ]
    },
    {
     "name": "stdout",
     "output_type": "stream",
     "text": [
      "Gaussian Naive Bayes: 0.768 accuracy with a standard deviation of 0.060\n",
      "Support Vector Machines: 0.873 accuracy with a standard deviation of 0.102\n",
      "Random Forest Classifier: 0.860 accuracy with a standard deviation of 0.102\n",
      "\n",
      "\n",
      "\n",
      "Logistic Regression: 0.639\n",
      "Linear Discriminant Analysis: 0.721\n",
      "K-Nearest Neighbors: 0.607\n",
      "Classification and Regression Trees: 0.672\n",
      "Gaussian Naive Bayes: 0.623\n",
      "Support Vector Machines: 0.721\n",
      "Random Forest Classifier: 0.689\n",
      "Logistic Regression: 0.837 accuracy with a standard deviation of 0.108\n",
      "Linear Discriminant Analysis: 0.892 accuracy with a standard deviation of 0.088\n",
      "K-Nearest Neighbors: 0.784 accuracy with a standard deviation of 0.148\n",
      "Classification and Regression Trees: 0.790 accuracy with a standard deviation of 0.109\n",
      "Gaussian Naive Bayes: 0.759 accuracy with a standard deviation of 0.065\n"
     ]
    },
    {
     "name": "stderr",
     "output_type": "stream",
     "text": [
      "C:\\Users\\shahi\\anaconda3\\envs\\FYP\\lib\\site-packages\\imblearn\\utils\\_validation.py:326: UserWarning: After over-sampling, the number of samples (83) in class 0 will be larger than the number of samples in the majority class (class #0 -> 82)\n",
      "  n_samples_majority,\n",
      "C:\\Users\\shahi\\anaconda3\\envs\\FYP\\lib\\site-packages\\imblearn\\utils\\_validation.py:326: UserWarning: After over-sampling, the number of samples (83) in class 1 will be larger than the number of samples in the majority class (class #0 -> 82)\n",
      "  n_samples_majority,\n"
     ]
    },
    {
     "name": "stdout",
     "output_type": "stream",
     "text": [
      "Support Vector Machines: 0.873 accuracy with a standard deviation of 0.102\n",
      "Random Forest Classifier: 0.867 accuracy with a standard deviation of 0.122\n",
      "\n",
      "\n",
      "\n",
      "Logistic Regression: 0.656\n",
      "Linear Discriminant Analysis: 0.721\n",
      "K-Nearest Neighbors: 0.607\n",
      "Classification and Regression Trees: 0.672\n",
      "Gaussian Naive Bayes: 0.607\n",
      "Support Vector Machines: 0.721\n",
      "Random Forest Classifier: 0.59\n",
      "Logistic Regression: 0.853 accuracy with a standard deviation of 0.105\n",
      "Linear Discriminant Analysis: 0.871 accuracy with a standard deviation of 0.106\n",
      "K-Nearest Neighbors: 0.806 accuracy with a standard deviation of 0.153\n"
     ]
    },
    {
     "name": "stderr",
     "output_type": "stream",
     "text": [
      "C:\\Users\\shahi\\anaconda3\\envs\\FYP\\lib\\site-packages\\imblearn\\utils\\_validation.py:326: UserWarning: After over-sampling, the number of samples (84) in class 0 will be larger than the number of samples in the majority class (class #0 -> 83)\n",
      "  n_samples_majority,\n",
      "C:\\Users\\shahi\\anaconda3\\envs\\FYP\\lib\\site-packages\\imblearn\\utils\\_validation.py:326: UserWarning: After over-sampling, the number of samples (84) in class 1 will be larger than the number of samples in the majority class (class #0 -> 83)\n",
      "  n_samples_majority,\n"
     ]
    },
    {
     "name": "stdout",
     "output_type": "stream",
     "text": [
      "Classification and Regression Trees: 0.811 accuracy with a standard deviation of 0.085\n",
      "Gaussian Naive Bayes: 0.767 accuracy with a standard deviation of 0.070\n",
      "Support Vector Machines: 0.882 accuracy with a standard deviation of 0.093\n",
      "Random Forest Classifier: 0.858 accuracy with a standard deviation of 0.118\n",
      "\n",
      "\n",
      "\n",
      "Logistic Regression: 0.656\n",
      "Linear Discriminant Analysis: 0.721\n",
      "K-Nearest Neighbors: 0.607\n",
      "Classification and Regression Trees: 0.721\n",
      "Gaussian Naive Bayes: 0.607\n",
      "Support Vector Machines: 0.672\n",
      "Random Forest Classifier: 0.623\n",
      "Logistic Regression: 0.853 accuracy with a standard deviation of 0.105\n",
      "Linear Discriminant Analysis: 0.882 accuracy with a standard deviation of 0.098\n"
     ]
    },
    {
     "name": "stderr",
     "output_type": "stream",
     "text": [
      "C:\\Users\\shahi\\anaconda3\\envs\\FYP\\lib\\site-packages\\imblearn\\utils\\_validation.py:326: UserWarning: After over-sampling, the number of samples (85) in class 0 will be larger than the number of samples in the majority class (class #0 -> 84)\n",
      "  n_samples_majority,\n",
      "C:\\Users\\shahi\\anaconda3\\envs\\FYP\\lib\\site-packages\\imblearn\\utils\\_validation.py:326: UserWarning: After over-sampling, the number of samples (85) in class 1 will be larger than the number of samples in the majority class (class #0 -> 84)\n",
      "  n_samples_majority,\n"
     ]
    },
    {
     "name": "stdout",
     "output_type": "stream",
     "text": [
      "K-Nearest Neighbors: 0.824 accuracy with a standard deviation of 0.145\n",
      "Classification and Regression Trees: 0.806 accuracy with a standard deviation of 0.106\n",
      "Gaussian Naive Bayes: 0.771 accuracy with a standard deviation of 0.068\n",
      "Support Vector Machines: 0.888 accuracy with a standard deviation of 0.086\n",
      "Random Forest Classifier: 0.888 accuracy with a standard deviation of 0.082\n",
      "\n",
      "\n",
      "\n",
      "Logistic Regression: 0.656\n",
      "Linear Discriminant Analysis: 0.721\n",
      "K-Nearest Neighbors: 0.639\n",
      "Classification and Regression Trees: 0.672\n",
      "Gaussian Naive Bayes: 0.607\n",
      "Support Vector Machines: 0.689\n",
      "Random Forest Classifier: 0.689\n",
      "Logistic Regression: 0.856 accuracy with a standard deviation of 0.108\n",
      "Linear Discriminant Analysis: 0.885 accuracy with a standard deviation of 0.101\n",
      "K-Nearest Neighbors: 0.822 accuracy with a standard deviation of 0.154\n",
      "Classification and Regression Trees: 0.775 accuracy with a standard deviation of 0.134\n"
     ]
    },
    {
     "name": "stderr",
     "output_type": "stream",
     "text": [
      "C:\\Users\\shahi\\anaconda3\\envs\\FYP\\lib\\site-packages\\imblearn\\utils\\_validation.py:326: UserWarning: After over-sampling, the number of samples (86) in class 0 will be larger than the number of samples in the majority class (class #0 -> 85)\n",
      "  n_samples_majority,\n",
      "C:\\Users\\shahi\\anaconda3\\envs\\FYP\\lib\\site-packages\\imblearn\\utils\\_validation.py:326: UserWarning: After over-sampling, the number of samples (86) in class 1 will be larger than the number of samples in the majority class (class #0 -> 85)\n",
      "  n_samples_majority,\n"
     ]
    },
    {
     "name": "stdout",
     "output_type": "stream",
     "text": [
      "Gaussian Naive Bayes: 0.762 accuracy with a standard deviation of 0.070\n",
      "Support Vector Machines: 0.879 accuracy with a standard deviation of 0.099\n",
      "Random Forest Classifier: 0.873 accuracy with a standard deviation of 0.114\n",
      "\n",
      "\n",
      "\n",
      "Logistic Regression: 0.656\n",
      "Linear Discriminant Analysis: 0.721\n",
      "K-Nearest Neighbors: 0.639\n",
      "Classification and Regression Trees: 0.689\n",
      "Gaussian Naive Bayes: 0.607\n",
      "Support Vector Machines: 0.672\n",
      "Random Forest Classifier: 0.689\n",
      "Logistic Regression: 0.863 accuracy with a standard deviation of 0.100\n",
      "Linear Discriminant Analysis: 0.886 accuracy with a standard deviation of 0.096\n",
      "K-Nearest Neighbors: 0.817 accuracy with a standard deviation of 0.170\n",
      "Classification and Regression Trees: 0.788 accuracy with a standard deviation of 0.132\n"
     ]
    },
    {
     "name": "stderr",
     "output_type": "stream",
     "text": [
      "C:\\Users\\shahi\\anaconda3\\envs\\FYP\\lib\\site-packages\\imblearn\\utils\\_validation.py:326: UserWarning: After over-sampling, the number of samples (87) in class 0 will be larger than the number of samples in the majority class (class #0 -> 86)\n",
      "  n_samples_majority,\n",
      "C:\\Users\\shahi\\anaconda3\\envs\\FYP\\lib\\site-packages\\imblearn\\utils\\_validation.py:326: UserWarning: After over-sampling, the number of samples (87) in class 1 will be larger than the number of samples in the majority class (class #0 -> 86)\n",
      "  n_samples_majority,\n"
     ]
    },
    {
     "name": "stdout",
     "output_type": "stream",
     "text": [
      "Gaussian Naive Bayes: 0.764 accuracy with a standard deviation of 0.072\n",
      "Support Vector Machines: 0.891 accuracy with a standard deviation of 0.086\n",
      "Random Forest Classifier: 0.869 accuracy with a standard deviation of 0.106\n",
      "\n",
      "\n",
      "\n",
      "Logistic Regression: 0.656\n",
      "Linear Discriminant Analysis: 0.721\n",
      "K-Nearest Neighbors: 0.639\n",
      "Classification and Regression Trees: 0.557\n",
      "Gaussian Naive Bayes: 0.607\n",
      "Support Vector Machines: 0.672\n",
      "Random Forest Classifier: 0.656\n",
      "Logistic Regression: 0.864 accuracy with a standard deviation of 0.102\n",
      "Linear Discriminant Analysis: 0.887 accuracy with a standard deviation of 0.096\n",
      "K-Nearest Neighbors: 0.831 accuracy with a standard deviation of 0.155\n",
      "Classification and Regression Trees: 0.825 accuracy with a standard deviation of 0.104\n"
     ]
    },
    {
     "name": "stderr",
     "output_type": "stream",
     "text": [
      "C:\\Users\\shahi\\anaconda3\\envs\\FYP\\lib\\site-packages\\imblearn\\utils\\_validation.py:326: UserWarning: After over-sampling, the number of samples (88) in class 0 will be larger than the number of samples in the majority class (class #0 -> 87)\n",
      "  n_samples_majority,\n",
      "C:\\Users\\shahi\\anaconda3\\envs\\FYP\\lib\\site-packages\\imblearn\\utils\\_validation.py:326: UserWarning: After over-sampling, the number of samples (88) in class 1 will be larger than the number of samples in the majority class (class #0 -> 87)\n",
      "  n_samples_majority,\n"
     ]
    },
    {
     "name": "stdout",
     "output_type": "stream",
     "text": [
      "Gaussian Naive Bayes: 0.756 accuracy with a standard deviation of 0.062\n",
      "Support Vector Machines: 0.892 accuracy with a standard deviation of 0.091\n",
      "Random Forest Classifier: 0.898 accuracy with a standard deviation of 0.078\n",
      "\n",
      "\n",
      "\n",
      "Logistic Regression: 0.639\n",
      "Linear Discriminant Analysis: 0.721\n",
      "K-Nearest Neighbors: 0.639\n",
      "Classification and Regression Trees: 0.705\n",
      "Gaussian Naive Bayes: 0.607\n",
      "Support Vector Machines: 0.705\n",
      "Random Forest Classifier: 0.656\n",
      "Logistic Regression: 0.867 accuracy with a standard deviation of 0.100\n",
      "Linear Discriminant Analysis: 0.889 accuracy with a standard deviation of 0.093\n",
      "K-Nearest Neighbors: 0.833 accuracy with a standard deviation of 0.162\n",
      "Classification and Regression Trees: 0.794 accuracy with a standard deviation of 0.136\n",
      "Gaussian Naive Bayes: 0.758 accuracy with a standard deviation of 0.062\n"
     ]
    },
    {
     "name": "stderr",
     "output_type": "stream",
     "text": [
      "C:\\Users\\shahi\\anaconda3\\envs\\FYP\\lib\\site-packages\\imblearn\\utils\\_validation.py:326: UserWarning: After over-sampling, the number of samples (89) in class 0 will be larger than the number of samples in the majority class (class #0 -> 88)\n",
      "  n_samples_majority,\n",
      "C:\\Users\\shahi\\anaconda3\\envs\\FYP\\lib\\site-packages\\imblearn\\utils\\_validation.py:326: UserWarning: After over-sampling, the number of samples (89) in class 1 will be larger than the number of samples in the majority class (class #0 -> 88)\n",
      "  n_samples_majority,\n"
     ]
    },
    {
     "name": "stdout",
     "output_type": "stream",
     "text": [
      "Support Vector Machines: 0.894 accuracy with a standard deviation of 0.089\n",
      "Random Forest Classifier: 0.900 accuracy with a standard deviation of 0.074\n",
      "\n",
      "\n",
      "\n",
      "Logistic Regression: 0.656\n",
      "Linear Discriminant Analysis: 0.721\n",
      "K-Nearest Neighbors: 0.623\n",
      "Classification and Regression Trees: 0.623\n",
      "Gaussian Naive Bayes: 0.607\n",
      "Support Vector Machines: 0.705\n",
      "Random Forest Classifier: 0.672\n",
      "Logistic Regression: 0.867 accuracy with a standard deviation of 0.100\n",
      "Linear Discriminant Analysis: 0.889 accuracy with a standard deviation of 0.093\n",
      "K-Nearest Neighbors: 0.833 accuracy with a standard deviation of 0.162\n",
      "Classification and Regression Trees: 0.800 accuracy with a standard deviation of 0.127\n"
     ]
    },
    {
     "name": "stderr",
     "output_type": "stream",
     "text": [
      "C:\\Users\\shahi\\anaconda3\\envs\\FYP\\lib\\site-packages\\imblearn\\utils\\_validation.py:326: UserWarning: After over-sampling, the number of samples (90) in class 0 will be larger than the number of samples in the majority class (class #0 -> 89)\n",
      "  n_samples_majority,\n",
      "C:\\Users\\shahi\\anaconda3\\envs\\FYP\\lib\\site-packages\\imblearn\\utils\\_validation.py:326: UserWarning: After over-sampling, the number of samples (90) in class 1 will be larger than the number of samples in the majority class (class #0 -> 89)\n",
      "  n_samples_majority,\n"
     ]
    },
    {
     "name": "stdout",
     "output_type": "stream",
     "text": [
      "Gaussian Naive Bayes: 0.761 accuracy with a standard deviation of 0.060\n",
      "Support Vector Machines: 0.894 accuracy with a standard deviation of 0.089\n",
      "Random Forest Classifier: 0.900 accuracy with a standard deviation of 0.094\n",
      "\n",
      "\n",
      "\n",
      "Logistic Regression: 0.656\n",
      "Linear Discriminant Analysis: 0.705\n",
      "K-Nearest Neighbors: 0.623\n",
      "Classification and Regression Trees: 0.705\n",
      "Gaussian Naive Bayes: 0.607\n",
      "Support Vector Machines: 0.705\n",
      "Random Forest Classifier: 0.639\n",
      "Logistic Regression: 0.869 accuracy with a standard deviation of 0.115\n",
      "Linear Discriminant Analysis: 0.864 accuracy with a standard deviation of 0.119\n"
     ]
    },
    {
     "name": "stderr",
     "output_type": "stream",
     "text": [
      "C:\\Users\\shahi\\anaconda3\\envs\\FYP\\lib\\site-packages\\imblearn\\utils\\_validation.py:326: UserWarning: After over-sampling, the number of samples (91) in class 0 will be larger than the number of samples in the majority class (class #0 -> 90)\n",
      "  n_samples_majority,\n",
      "C:\\Users\\shahi\\anaconda3\\envs\\FYP\\lib\\site-packages\\imblearn\\utils\\_validation.py:326: UserWarning: After over-sampling, the number of samples (91) in class 1 will be larger than the number of samples in the majority class (class #0 -> 90)\n",
      "  n_samples_majority,\n"
     ]
    },
    {
     "name": "stdout",
     "output_type": "stream",
     "text": [
      "K-Nearest Neighbors: 0.832 accuracy with a standard deviation of 0.163\n",
      "Classification and Regression Trees: 0.814 accuracy with a standard deviation of 0.102\n",
      "Gaussian Naive Bayes: 0.764 accuracy with a standard deviation of 0.038\n",
      "Support Vector Machines: 0.896 accuracy with a standard deviation of 0.088\n",
      "Random Forest Classifier: 0.896 accuracy with a standard deviation of 0.086\n",
      "\n",
      "\n",
      "\n",
      "Logistic Regression: 0.672\n",
      "Linear Discriminant Analysis: 0.721\n",
      "K-Nearest Neighbors: 0.623\n",
      "Classification and Regression Trees: 0.672\n",
      "Gaussian Naive Bayes: 0.607\n",
      "Support Vector Machines: 0.705\n",
      "Random Forest Classifier: 0.689\n",
      "Logistic Regression: 0.870 accuracy with a standard deviation of 0.115\n",
      "Linear Discriminant Analysis: 0.876 accuracy with a standard deviation of 0.110\n",
      "K-Nearest Neighbors: 0.832 accuracy with a standard deviation of 0.155\n",
      "Classification and Regression Trees: 0.811 accuracy with a standard deviation of 0.109\n"
     ]
    },
    {
     "name": "stderr",
     "output_type": "stream",
     "text": [
      "C:\\Users\\shahi\\anaconda3\\envs\\FYP\\lib\\site-packages\\imblearn\\utils\\_validation.py:326: UserWarning: After over-sampling, the number of samples (92) in class 0 will be larger than the number of samples in the majority class (class #0 -> 91)\n",
      "  n_samples_majority,\n",
      "C:\\Users\\shahi\\anaconda3\\envs\\FYP\\lib\\site-packages\\imblearn\\utils\\_validation.py:326: UserWarning: After over-sampling, the number of samples (92) in class 1 will be larger than the number of samples in the majority class (class #0 -> 91)\n",
      "  n_samples_majority,\n"
     ]
    },
    {
     "name": "stdout",
     "output_type": "stream",
     "text": [
      "Gaussian Naive Bayes: 0.788 accuracy with a standard deviation of 0.041\n",
      "Support Vector Machines: 0.897 accuracy with a standard deviation of 0.093\n",
      "Random Forest Classifier: 0.914 accuracy with a standard deviation of 0.083\n",
      "\n",
      "\n",
      "\n",
      "Logistic Regression: 0.672\n",
      "Linear Discriminant Analysis: 0.721\n",
      "K-Nearest Neighbors: 0.623\n",
      "Classification and Regression Trees: 0.738\n",
      "Gaussian Naive Bayes: 0.607\n",
      "Support Vector Machines: 0.689\n",
      "Random Forest Classifier: 0.689\n",
      "Logistic Regression: 0.871 accuracy with a standard deviation of 0.122\n",
      "Linear Discriminant Analysis: 0.888 accuracy with a standard deviation of 0.096\n",
      "K-Nearest Neighbors: 0.840 accuracy with a standard deviation of 0.154\n",
      "Classification and Regression Trees: 0.845 accuracy with a standard deviation of 0.111\n"
     ]
    },
    {
     "name": "stderr",
     "output_type": "stream",
     "text": [
      "C:\\Users\\shahi\\anaconda3\\envs\\FYP\\lib\\site-packages\\imblearn\\utils\\_validation.py:326: UserWarning: After over-sampling, the number of samples (93) in class 0 will be larger than the number of samples in the majority class (class #0 -> 92)\n",
      "  n_samples_majority,\n",
      "C:\\Users\\shahi\\anaconda3\\envs\\FYP\\lib\\site-packages\\imblearn\\utils\\_validation.py:326: UserWarning: After over-sampling, the number of samples (93) in class 1 will be larger than the number of samples in the majority class (class #0 -> 92)\n",
      "  n_samples_majority,\n"
     ]
    },
    {
     "name": "stdout",
     "output_type": "stream",
     "text": [
      "Gaussian Naive Bayes: 0.785 accuracy with a standard deviation of 0.029\n",
      "Support Vector Machines: 0.898 accuracy with a standard deviation of 0.092\n",
      "Random Forest Classifier: 0.893 accuracy with a standard deviation of 0.090\n",
      "\n",
      "\n",
      "\n",
      "Logistic Regression: 0.672\n",
      "Linear Discriminant Analysis: 0.721\n",
      "K-Nearest Neighbors: 0.623\n",
      "Classification and Regression Trees: 0.721\n",
      "Gaussian Naive Bayes: 0.607\n",
      "Support Vector Machines: 0.705\n",
      "Random Forest Classifier: 0.656\n",
      "Logistic Regression: 0.874 accuracy with a standard deviation of 0.119\n",
      "Linear Discriminant Analysis: 0.889 accuracy with a standard deviation of 0.095\n",
      "K-Nearest Neighbors: 0.852 accuracy with a standard deviation of 0.141\n"
     ]
    },
    {
     "name": "stderr",
     "output_type": "stream",
     "text": [
      "C:\\Users\\shahi\\anaconda3\\envs\\FYP\\lib\\site-packages\\imblearn\\utils\\_validation.py:326: UserWarning: After over-sampling, the number of samples (94) in class 0 will be larger than the number of samples in the majority class (class #0 -> 93)\n",
      "  n_samples_majority,\n",
      "C:\\Users\\shahi\\anaconda3\\envs\\FYP\\lib\\site-packages\\imblearn\\utils\\_validation.py:326: UserWarning: After over-sampling, the number of samples (94) in class 1 will be larger than the number of samples in the majority class (class #0 -> 93)\n",
      "  n_samples_majority,\n"
     ]
    },
    {
     "name": "stdout",
     "output_type": "stream",
     "text": [
      "Classification and Regression Trees: 0.847 accuracy with a standard deviation of 0.119\n",
      "Gaussian Naive Bayes: 0.792 accuracy with a standard deviation of 0.047\n",
      "Support Vector Machines: 0.900 accuracy with a standard deviation of 0.090\n",
      "Random Forest Classifier: 0.905 accuracy with a standard deviation of 0.077\n",
      "\n",
      "\n",
      "\n",
      "Logistic Regression: 0.672\n",
      "Linear Discriminant Analysis: 0.721\n",
      "K-Nearest Neighbors: 0.623\n",
      "Classification and Regression Trees: 0.623\n",
      "Gaussian Naive Bayes: 0.623\n",
      "Support Vector Machines: 0.705\n",
      "Random Forest Classifier: 0.672\n",
      "Logistic Regression: 0.874 accuracy with a standard deviation of 0.119\n",
      "Linear Discriminant Analysis: 0.884 accuracy with a standard deviation of 0.101\n",
      "K-Nearest Neighbors: 0.858 accuracy with a standard deviation of 0.136\n",
      "Classification and Regression Trees: 0.874 accuracy with a standard deviation of 0.107\n"
     ]
    },
    {
     "name": "stderr",
     "output_type": "stream",
     "text": [
      "C:\\Users\\shahi\\anaconda3\\envs\\FYP\\lib\\site-packages\\imblearn\\utils\\_validation.py:326: UserWarning: After over-sampling, the number of samples (95) in class 0 will be larger than the number of samples in the majority class (class #0 -> 94)\n",
      "  n_samples_majority,\n",
      "C:\\Users\\shahi\\anaconda3\\envs\\FYP\\lib\\site-packages\\imblearn\\utils\\_validation.py:326: UserWarning: After over-sampling, the number of samples (95) in class 1 will be larger than the number of samples in the majority class (class #0 -> 94)\n",
      "  n_samples_majority,\n"
     ]
    },
    {
     "name": "stdout",
     "output_type": "stream",
     "text": [
      "Gaussian Naive Bayes: 0.789 accuracy with a standard deviation of 0.044\n",
      "Support Vector Machines: 0.900 accuracy with a standard deviation of 0.090\n",
      "Random Forest Classifier: 0.926 accuracy with a standard deviation of 0.063\n",
      "\n",
      "\n",
      "\n",
      "Logistic Regression: 0.672\n",
      "Linear Discriminant Analysis: 0.721\n",
      "K-Nearest Neighbors: 0.623\n",
      "Classification and Regression Trees: 0.705\n",
      "Gaussian Naive Bayes: 0.639\n",
      "Support Vector Machines: 0.705\n",
      "Random Forest Classifier: 0.672\n",
      "Logistic Regression: 0.871 accuracy with a standard deviation of 0.120\n",
      "Linear Discriminant Analysis: 0.897 accuracy with a standard deviation of 0.088\n",
      "K-Nearest Neighbors: 0.861 accuracy with a standard deviation of 0.132\n",
      "Classification and Regression Trees: 0.860 accuracy with a standard deviation of 0.099\n"
     ]
    },
    {
     "name": "stderr",
     "output_type": "stream",
     "text": [
      "C:\\Users\\shahi\\anaconda3\\envs\\FYP\\lib\\site-packages\\imblearn\\utils\\_validation.py:326: UserWarning: After over-sampling, the number of samples (96) in class 0 will be larger than the number of samples in the majority class (class #0 -> 95)\n",
      "  n_samples_majority,\n",
      "C:\\Users\\shahi\\anaconda3\\envs\\FYP\\lib\\site-packages\\imblearn\\utils\\_validation.py:326: UserWarning: After over-sampling, the number of samples (96) in class 1 will be larger than the number of samples in the majority class (class #0 -> 95)\n",
      "  n_samples_majority,\n"
     ]
    },
    {
     "name": "stdout",
     "output_type": "stream",
     "text": [
      "Gaussian Naive Bayes: 0.792 accuracy with a standard deviation of 0.067\n",
      "Support Vector Machines: 0.907 accuracy with a standard deviation of 0.087\n",
      "Random Forest Classifier: 0.897 accuracy with a standard deviation of 0.093\n",
      "\n",
      "\n",
      "\n",
      "Logistic Regression: 0.672\n",
      "Linear Discriminant Analysis: 0.721\n",
      "K-Nearest Neighbors: 0.623\n",
      "Classification and Regression Trees: 0.721\n",
      "Gaussian Naive Bayes: 0.623\n",
      "Support Vector Machines: 0.721\n",
      "Random Forest Classifier: 0.672\n",
      "Logistic Regression: 0.877 accuracy with a standard deviation of 0.125\n",
      "Linear Discriminant Analysis: 0.897 accuracy with a standard deviation of 0.087\n",
      "K-Nearest Neighbors: 0.856 accuracy with a standard deviation of 0.140\n"
     ]
    },
    {
     "name": "stderr",
     "output_type": "stream",
     "text": [
      "C:\\Users\\shahi\\anaconda3\\envs\\FYP\\lib\\site-packages\\imblearn\\utils\\_validation.py:326: UserWarning: After over-sampling, the number of samples (97) in class 0 will be larger than the number of samples in the majority class (class #0 -> 96)\n",
      "  n_samples_majority,\n",
      "C:\\Users\\shahi\\anaconda3\\envs\\FYP\\lib\\site-packages\\imblearn\\utils\\_validation.py:326: UserWarning: After over-sampling, the number of samples (97) in class 1 will be larger than the number of samples in the majority class (class #0 -> 96)\n",
      "  n_samples_majority,\n"
     ]
    },
    {
     "name": "stdout",
     "output_type": "stream",
     "text": [
      "Classification and Regression Trees: 0.872 accuracy with a standard deviation of 0.100\n",
      "Gaussian Naive Bayes: 0.789 accuracy with a standard deviation of 0.063\n",
      "Support Vector Machines: 0.913 accuracy with a standard deviation of 0.079\n",
      "Random Forest Classifier: 0.928 accuracy with a standard deviation of 0.068\n",
      "\n",
      "\n",
      "\n",
      "Logistic Regression: 0.672\n",
      "Linear Discriminant Analysis: 0.754\n",
      "K-Nearest Neighbors: 0.623\n",
      "Classification and Regression Trees: 0.59\n",
      "Gaussian Naive Bayes: 0.623\n",
      "Support Vector Machines: 0.705\n",
      "Random Forest Classifier: 0.705\n",
      "Logistic Regression: 0.878 accuracy with a standard deviation of 0.125\n",
      "Linear Discriminant Analysis: 0.898 accuracy with a standard deviation of 0.087\n"
     ]
    },
    {
     "name": "stderr",
     "output_type": "stream",
     "text": [
      "C:\\Users\\shahi\\anaconda3\\envs\\FYP\\lib\\site-packages\\imblearn\\utils\\_validation.py:326: UserWarning: After over-sampling, the number of samples (98) in class 0 will be larger than the number of samples in the majority class (class #0 -> 97)\n",
      "  n_samples_majority,\n",
      "C:\\Users\\shahi\\anaconda3\\envs\\FYP\\lib\\site-packages\\imblearn\\utils\\_validation.py:326: UserWarning: After over-sampling, the number of samples (98) in class 1 will be larger than the number of samples in the majority class (class #0 -> 97)\n",
      "  n_samples_majority,\n"
     ]
    },
    {
     "name": "stdout",
     "output_type": "stream",
     "text": [
      "K-Nearest Neighbors: 0.858 accuracy with a standard deviation of 0.139\n",
      "Classification and Regression Trees: 0.853 accuracy with a standard deviation of 0.085\n",
      "Gaussian Naive Bayes: 0.796 accuracy with a standard deviation of 0.077\n",
      "Support Vector Machines: 0.913 accuracy with a standard deviation of 0.078\n",
      "Random Forest Classifier: 0.939 accuracy with a standard deviation of 0.060\n",
      "\n",
      "\n",
      "\n",
      "Logistic Regression: 0.672\n",
      "Linear Discriminant Analysis: 0.754\n",
      "K-Nearest Neighbors: 0.623\n",
      "Classification and Regression Trees: 0.656\n",
      "Gaussian Naive Bayes: 0.639\n",
      "Support Vector Machines: 0.705\n",
      "Random Forest Classifier: 0.672\n",
      "Logistic Regression: 0.870 accuracy with a standard deviation of 0.120\n",
      "Linear Discriminant Analysis: 0.895 accuracy with a standard deviation of 0.095\n",
      "K-Nearest Neighbors: 0.860 accuracy with a standard deviation of 0.135\n"
     ]
    },
    {
     "name": "stderr",
     "output_type": "stream",
     "text": [
      "C:\\Users\\shahi\\anaconda3\\envs\\FYP\\lib\\site-packages\\imblearn\\utils\\_validation.py:326: UserWarning: After over-sampling, the number of samples (99) in class 0 will be larger than the number of samples in the majority class (class #0 -> 98)\n",
      "  n_samples_majority,\n",
      "C:\\Users\\shahi\\anaconda3\\envs\\FYP\\lib\\site-packages\\imblearn\\utils\\_validation.py:326: UserWarning: After over-sampling, the number of samples (99) in class 1 will be larger than the number of samples in the majority class (class #0 -> 98)\n",
      "  n_samples_majority,\n"
     ]
    },
    {
     "name": "stdout",
     "output_type": "stream",
     "text": [
      "Classification and Regression Trees: 0.824 accuracy with a standard deviation of 0.124\n",
      "Gaussian Naive Bayes: 0.798 accuracy with a standard deviation of 0.077\n",
      "Support Vector Machines: 0.925 accuracy with a standard deviation of 0.063\n",
      "Random Forest Classifier: 0.910 accuracy with a standard deviation of 0.075\n",
      "\n",
      "\n",
      "\n",
      "Logistic Regression: 0.672\n",
      "Linear Discriminant Analysis: 0.754\n",
      "K-Nearest Neighbors: 0.623\n",
      "Classification and Regression Trees: 0.639\n",
      "Gaussian Naive Bayes: 0.639\n",
      "Support Vector Machines: 0.705\n",
      "Random Forest Classifier: 0.689\n",
      "Logistic Regression: 0.875 accuracy with a standard deviation of 0.111\n",
      "Linear Discriminant Analysis: 0.905 accuracy with a standard deviation of 0.084\n",
      "K-Nearest Neighbors: 0.860 accuracy with a standard deviation of 0.129\n",
      "Classification and Regression Trees: 0.840 accuracy with a standard deviation of 0.085\n"
     ]
    },
    {
     "name": "stderr",
     "output_type": "stream",
     "text": [
      "C:\\Users\\shahi\\anaconda3\\envs\\FYP\\lib\\site-packages\\imblearn\\utils\\_validation.py:326: UserWarning: After over-sampling, the number of samples (100) in class 0 will be larger than the number of samples in the majority class (class #0 -> 99)\n",
      "  n_samples_majority,\n",
      "C:\\Users\\shahi\\anaconda3\\envs\\FYP\\lib\\site-packages\\imblearn\\utils\\_validation.py:326: UserWarning: After over-sampling, the number of samples (100) in class 1 will be larger than the number of samples in the majority class (class #0 -> 99)\n",
      "  n_samples_majority,\n"
     ]
    },
    {
     "name": "stdout",
     "output_type": "stream",
     "text": [
      "Gaussian Naive Bayes: 0.800 accuracy with a standard deviation of 0.076\n",
      "Support Vector Machines: 0.925 accuracy with a standard deviation of 0.063\n",
      "Random Forest Classifier: 0.920 accuracy with a standard deviation of 0.075\n",
      "\n",
      "\n",
      "\n",
      "Logistic Regression: 0.672\n",
      "Linear Discriminant Analysis: 0.738\n",
      "K-Nearest Neighbors: 0.623\n",
      "Classification and Regression Trees: 0.738\n",
      "Gaussian Naive Bayes: 0.607\n",
      "Support Vector Machines: 0.689\n",
      "Random Forest Classifier: 0.705\n"
     ]
    }
   ],
   "source": [
    "num = 46\n",
    "\n",
    "numList = []\n",
    "log_cv = []\n",
    "lda_cv = []\n",
    "knn_cv = []\n",
    "cart_cv = []\n",
    "gnb_cv = []\n",
    "svm_cv = []\n",
    "rfc_cv = []\n",
    "\n",
    "log_test = []\n",
    "lda_test = []\n",
    "knn_test = []\n",
    "cart_test = []\n",
    "gnb_test = []\n",
    "svm_test = []\n",
    "rfc_test = []\n",
    "\n",
    "while num < 101:\n",
    "    numList.append(num)\n",
    "    # Transform the dataset using SMOTE\n",
    "    sampling_strategy = {0: num, 1: num}\n",
    "    oversample = SMOTE(sampling_strategy=sampling_strategy)\n",
    "    X_train, y_train = oversample.fit_resample(X_train, y_train)\n",
    "    \n",
    "    # Logistic Regression\n",
    "\n",
    "    log_model = LogisticRegression()\n",
    "    log_model.fit(X_train, y_train)\n",
    "    scores = cross_val_score(log_model, X_train, y_train, cv=5)\n",
    "    log_cv.append(scores.mean())\n",
    "\n",
    "    # Linear Discriminant Analysis\n",
    "\n",
    "    lda_model = LinearDiscriminantAnalysis()\n",
    "    lda_model.fit(X_train, y_train)\n",
    "    scores = cross_val_score(lda_model, X_train, y_train, cv=5)\n",
    "    lda_cv.append(scores.mean())\n",
    "\n",
    "    # K-Nearest Neigbors\n",
    "\n",
    "    knn_model = KNeighborsClassifier()\n",
    "    knn_model.fit(X_train, y_train)\n",
    "    scores = cross_val_score(knn_model, X_train, y_train, cv=5)\n",
    "    knn_cv.append(scores.mean())\n",
    "\n",
    "    # Classification and Regression Trees\n",
    "\n",
    "    cart_model = DecisionTreeClassifier()\n",
    "    cart_model.fit(X_train, y_train)\n",
    "    scores = cross_val_score(cart_model, X_train, y_train, cv=5)\n",
    "    cart_cv.append(scores.mean())\n",
    "\n",
    "    # Gaussian Naive Bayes\n",
    "\n",
    "    gnb_model = GaussianNB()\n",
    "    gnb_model.fit(X_train, y_train)\n",
    "    scores = cross_val_score(gnb_model, X_train, y_train, cv=5)\n",
    "    gnb_cv.append(scores.mean())\n",
    "\n",
    "    # Support Vector Machines\n",
    "\n",
    "    svm_model = SVC(kernel='linear', gamma = 'auto', probability=True)\n",
    "    svm_model.fit(X_train, y_train)\n",
    "    scores = cross_val_score(svm_model, X_train, y_train, cv=5)\n",
    "    svm_cv.append(scores.mean())\n",
    "\n",
    "    # Random Forest Classifier\n",
    "\n",
    "    rfc_model = RandomForestClassifier()\n",
    "    rfc_model.fit(X_train, y_train)\n",
    "    scores = cross_val_score(rfc_model, X_train, y_train, cv=5)\n",
    "    rfc_cv.append(scores.mean())\n",
    "\n",
    "    log_test.append(log_model.score(X_test, y_test).round(3))\n",
    "    lda_test.append(lda_model.score(X_test, y_test).round(3))\n",
    "    knn_test.append(knn_model.score(X_test, y_test).round(3))\n",
    "    cart_test.append(cart_model.score(X_test, y_test).round(3))\n",
    "    gnb_test.append(gnb_model.score(X_test, y_test).round(3))\n",
    "    svm_test.append(svm_model.score(X_test, y_test).round(3))\n",
    "    rfc_test.append(rfc_model.score(X_test, y_test).round(3))\n",
    "    \n",
    "    num = num + 1"
   ]
  },
  {
   "cell_type": "code",
   "execution_count": 17,
   "id": "spanish-baking",
   "metadata": {},
   "outputs": [
    {
     "data": {
      "image/png": "[encoded data removed]",
      "text/plain": [
       "<Figure size 432x288 with 1 Axes>"
      ]
     },
     "metadata": {
      "needs_background": "light"
     },
     "output_type": "display_data"
    }
   ],
   "source": [
    "plt.plot(numList, log_cv, 'r')\n",
    "plt.plot(numList, log_test, 'b')\n",
    "plt.ylabel('Accuracy')\n",
    "plt.xlabel('Number of Samples for both classes')\n",
    "plt.legend(['Cross Validation Acc', 'Test Acc'])\n",
    "plt.title(\"Logistic Regression\")\n",
    "plt.show()"
   ]
  },
  {
   "cell_type": "code",
   "execution_count": 18,
   "id": "loving-heading",
   "metadata": {},
   "outputs": [
    {
     "data": {
      "image/png": "[encoded data removed]",
      "text/plain": [
       "<Figure size 432x288 with 1 Axes>"
      ]
     },
     "metadata": {
      "needs_background": "light"
     },
     "output_type": "display_data"
    }
   ],
   "source": [
    "plt.plot(numList, lda_cv, 'r')\n",
    "plt.plot(numList, lda_test, 'b')\n",
    "plt.ylabel('Accuracy')\n",
    "plt.xlabel('Number of Samples for both classes')\n",
    "plt.legend(['Cross Validation Acc', 'Test Acc'])\n",
    "plt.title(\"Linear Discriminant Analysis\")\n",
    "plt.show()"
   ]
  },
  {
   "cell_type": "code",
   "execution_count": 19,
   "id": "sufficient-architect",
   "metadata": {},
   "outputs": [
    {
     "data": {
      "image/png": "[encoded data removed]",
      "text/plain": [
       "<Figure size 432x288 with 1 Axes>"
      ]
     },
     "metadata": {
      "needs_background": "light"
     },
     "output_type": "display_data"
    }
   ],
   "source": [
    "plt.plot(numList, knn_cv, 'r')\n",
    "plt.plot(numList, knn_test, 'b')\n",
    "plt.ylabel('Accuracy')\n",
    "plt.xlabel('Number of Samples for both classes')\n",
    "plt.legend(['Cross Validation Acc', 'Test Acc'])\n",
    "plt.title(\"K-Nearest Neighbor\")\n",
    "plt.show()"
   ]
  },
  {
   "cell_type": "code",
   "execution_count": 20,
   "id": "strange-parallel",
   "metadata": {},
   "outputs": [
    {
     "data": {
      "image/png": "[encoded data removed]",
      "text/plain": [
       "<Figure size 432x288 with 1 Axes>"
      ]
     },
     "metadata": {
      "needs_background": "light"
     },
     "output_type": "display_data"
    }
   ],
   "source": [
    "plt.plot(numList, cart_cv, 'r')\n",
    "plt.plot(numList, cart_test, 'b')\n",
    "plt.ylabel('Accuracy')\n",
    "plt.xlabel('Number of Samples for both classes')\n",
    "plt.legend(['Cross Validation Acc', 'Test Acc'])\n",
    "plt.title(\"Classification & Regression Trees\")\n",
    "plt.show()"
   ]
  },
  {
   "cell_type": "code",
   "execution_count": 21,
   "id": "surgical-effects",
   "metadata": {},
   "outputs": [
    {
     "data": {
      "image/png": "[encoded data removed]",
      "text/plain": [
       "<Figure size 432x288 with 1 Axes>"
      ]
     },
     "metadata": {
      "needs_background": "light"
     },
     "output_type": "display_data"
    }
   ],
   "source": [
    "plt.plot(numList, gnb_cv, 'r')\n",
    "plt.plot(numList, gnb_test, 'b')\n",
    "plt.ylabel('Accuracy')\n",
    "plt.xlabel('Number of Samples for both classes')\n",
    "plt.legend(['Cross Validation Acc', 'Test Acc'])\n",
    "plt.title(\"Gaussian Naive Bayes\")\n",
    "plt.show()"
   ]
  },
  {
   "cell_type": "code",
   "execution_count": 22,
   "id": "appointed-suggestion",
   "metadata": {},
   "outputs": [
    {
     "data": {
      "image/png": "[encoded data removed]",
      "text/plain": [
       "<Figure size 432x288 with 1 Axes>"
      ]
     },
     "metadata": {
      "needs_background": "light"
     },
     "output_type": "display_data"
    }
   ],
   "source": [
    "plt.plot(numList, svm_cv, 'r')\n",
    "plt.plot(numList, svm_test, 'b')\n",
    "plt.ylabel('Accuracy')\n",
    "plt.xlabel('Number of Samples for both classes')\n",
    "plt.legend(['Cross Validation Acc', 'Test Acc'])\n",
    "plt.title(\"Support Vector Machines\")\n",
    "plt.show()"
   ]
  },
  {
   "cell_type": "code",
   "execution_count": 23,
   "id": "direct-differential",
   "metadata": {},
   "outputs": [
    {
     "data": {
      "image/png": "[encoded data removed]",
      "text/plain": [
       "<Figure size 432x288 with 1 Axes>"
      ]
     },
     "metadata": {
      "needs_background": "light"
     },
     "output_type": "display_data"
    }
   ],
   "source": [
    "plt.plot(numList, rfc_cv, 'r')\n",
    "plt.plot(numList, rfc_test, 'b')\n",
    "plt.ylabel('Accuracy')\n",
    "plt.xlabel('Number of Samples for both classes')\n",
    "plt.legend(['Cross Validation Acc', 'Test Acc'])\n",
    "plt.title(\"Random Forest Classifier\")\n",
    "plt.show()"
   ]
  },
  {
   "cell_type": "code",
   "execution_count": null,
   "id": "floral-feature",
   "metadata": {},
   "outputs": [],
   "source": []
  }
 ],
 "metadata": {
  "kernelspec": {
   "display_name": "Python 3",
   "language": "python",
   "name": "python3"
  },
  "language_info": {
   "codemirror_mode": {
    "name": "ipython",
    "version": 3
   },
   "file_extension": ".py",
   "mimetype": "text/x-python",
   "name": "python",
   "nbconvert_exporter": "python",
   "pygments_lexer": "ipython3",
   "version": "3.7.9"
  }
 },
 "nbformat": 4,
 "nbformat_minor": 5
}
