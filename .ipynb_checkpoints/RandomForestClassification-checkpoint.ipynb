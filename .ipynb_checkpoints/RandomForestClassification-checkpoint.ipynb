{
 "cells": [
  {
   "cell_type": "code",
   "execution_count": 2,
   "id": "divided-basement",
   "metadata": {},
   "outputs": [],
   "source": [
    "# Import packages\n",
    "import numpy as np # linear algebra\n",
    "import pandas as pd # data processing, CSV file I/O (e.g. pd.read_csv)\n",
    "from sklearn.model_selection import train_test_split\n",
    "from sklearn.model_selection import cross_val_score\n",
    "from sklearn.model_selection import StratifiedKFold\n",
    "from sklearn.model_selection import KFold\n",
    "from sklearn.naive_bayes import GaussianNB\n",
    "from sklearn.discriminant_analysis import LinearDiscriminantAnalysis\n",
    "from sklearn.metrics import confusion_matrix\n",
    "from sklearn.metrics import classification_report\n",
    "from sklearn.metrics import accuracy_score\n",
    "from sklearn.metrics import make_scorer\n",
    "from sklearn.preprocessing import StandardScaler\n",
    "from sklearn.preprocessing import MinMaxScaler\n",
    "from sklearn.linear_model import LinearRegression\n",
    "from sklearn.linear_model import LogisticRegression\n",
    "from sklearn.tree import DecisionTreeClassifier\n",
    "from sklearn.neighbors import KNeighborsClassifier\n",
    "from sklearn.svm import SVC\n",
    "from sklearn.ensemble import RandomForestClassifier\n",
    "from imblearn.under_sampling import RandomUnderSampler\n",
    "from imblearn.over_sampling import SMOTE\n",
    "from collections import Counter\n",
    "from parse import preprocess"
   ]
  },
  {
   "cell_type": "code",
   "execution_count": 3,
   "id": "forced-anthony",
   "metadata": {},
   "outputs": [],
   "source": [
    "# Function to show classification report for Cross Validation\n",
    "def classification_report_with_accuracy_score(y_true, y_pred):\n",
    "    print(classification_report(y_true, y_pred)) # print classification report\n",
    "    return accuracy_score(y_true, y_pred) # return accuracy score"
   ]
  },
  {
   "cell_type": "code",
   "execution_count": 5,
   "id": "popular-angel",
   "metadata": {},
   "outputs": [
    {
     "name": "stdout",
     "output_type": "stream",
     "text": [
      "\n",
      "####################################################################\n",
      "Number of Rows of Dataframe:\n",
      "1123\n",
      "Number of Columns of Dataframe:\n",
      "59\n",
      "\n",
      "####################################################################\n",
      "Threshold for number of NULLs in a column: 0.1095\n",
      "Number of Columns before Parsing for Too Many NULLs in a column:\n",
      "59\n",
      "Number of Columns after Parsing for Too Many NULLs in a column:\n",
      "51\n",
      "\n",
      "Columns Removed:\n",
      "B1_b5\n",
      "B4_a1\n",
      "B4_a3\n",
      "B4_a4\n",
      "B4_a6\n",
      "B4_b1\n",
      "B4_b3\n",
      "B5_a1\n",
      "\n",
      "####################################################################\n",
      "Number of Rows before Parsing NULLs in data:\n",
      "1123\n",
      "Number of Rows after Parsing NULLs in data:\n",
      "1007\n",
      "\n",
      "####################################################################\n",
      "Number of Columns after dropping A1_2, B1_b4, B2_c3, B4_b2 for inconsistent data types:\n",
      "47\n"
     ]
    },
    {
     "ename": "AttributeError",
     "evalue": "'Series' object has no attribute 'values_count'",
     "output_type": "error",
     "traceback": [
      "\u001b[1;31m---------------------------------------------------------------------------\u001b[0m",
      "\u001b[1;31mAttributeError\u001b[0m                            Traceback (most recent call last)",
      "\u001b[1;32m<ipython-input-5-73901a6c6a2a>\u001b[0m in \u001b[0;36m<module>\u001b[1;34m\u001b[0m\n\u001b[0;32m      1\u001b[0m \u001b[1;31m# Pre-parse the dataset\u001b[0m\u001b[1;33m\u001b[0m\u001b[1;33m\u001b[0m\u001b[1;33m\u001b[0m\u001b[0m\n\u001b[1;32m----> 2\u001b[1;33m \u001b[0mdata\u001b[0m \u001b[1;33m=\u001b[0m \u001b[0mpreprocess\u001b[0m\u001b[1;33m(\u001b[0m\u001b[1;34m\"rawfile_blood.csv\"\u001b[0m\u001b[1;33m)\u001b[0m\u001b[1;33m\u001b[0m\u001b[1;33m\u001b[0m\u001b[0m\n\u001b[0m",
      "\u001b[1;32m~\\Documents\\git\\cognitive-frailty-classification\\parse.py\u001b[0m in \u001b[0;36mpreprocess\u001b[1;34m(csvfile)\u001b[0m\n\u001b[0;32m    138\u001b[0m         \u001b[0mdf\u001b[0m \u001b[1;33m=\u001b[0m \u001b[0mdf\u001b[0m\u001b[1;33m[\u001b[0m\u001b[0mdf\u001b[0m\u001b[1;33m.\u001b[0m\u001b[0mcondition\u001b[0m \u001b[1;33m!=\u001b[0m \u001b[1;34m'frail'\u001b[0m\u001b[1;33m]\u001b[0m\u001b[1;33m\u001b[0m\u001b[1;33m\u001b[0m\u001b[0m\n\u001b[0;32m    139\u001b[0m \u001b[1;33m\u001b[0m\u001b[0m\n\u001b[1;32m--> 140\u001b[1;33m         \u001b[0mprint\u001b[0m\u001b[1;33m(\u001b[0m\u001b[0mdf\u001b[0m\u001b[1;33m[\u001b[0m\u001b[1;34m'condition'\u001b[0m\u001b[1;33m]\u001b[0m\u001b[1;33m.\u001b[0m\u001b[0mvalue_counts\u001b[0m\u001b[1;33m(\u001b[0m\u001b[1;33m)\u001b[0m\u001b[1;33m)\u001b[0m\u001b[1;33m\u001b[0m\u001b[1;33m\u001b[0m\u001b[0m\n\u001b[0m\u001b[0;32m    141\u001b[0m \u001b[1;33m\u001b[0m\u001b[0m\n\u001b[0;32m    142\u001b[0m         \u001b[1;32mreturn\u001b[0m \u001b[0mdf\u001b[0m\u001b[1;33m\u001b[0m\u001b[1;33m\u001b[0m\u001b[0m\n",
      "\u001b[1;32mc:\\users\\shahi\\anaconda3\\envs\\fyp\\lib\\site-packages\\pandas\\core\\generic.py\u001b[0m in \u001b[0;36m__getattr__\u001b[1;34m(self, name)\u001b[0m\n\u001b[0;32m   5460\u001b[0m             \u001b[1;32mif\u001b[0m \u001b[0mself\u001b[0m\u001b[1;33m.\u001b[0m\u001b[0m_info_axis\u001b[0m\u001b[1;33m.\u001b[0m\u001b[0m_can_hold_identifiers_and_holds_name\u001b[0m\u001b[1;33m(\u001b[0m\u001b[0mname\u001b[0m\u001b[1;33m)\u001b[0m\u001b[1;33m:\u001b[0m\u001b[1;33m\u001b[0m\u001b[1;33m\u001b[0m\u001b[0m\n\u001b[0;32m   5461\u001b[0m                 \u001b[1;32mreturn\u001b[0m \u001b[0mself\u001b[0m\u001b[1;33m[\u001b[0m\u001b[0mname\u001b[0m\u001b[1;33m]\u001b[0m\u001b[1;33m\u001b[0m\u001b[1;33m\u001b[0m\u001b[0m\n\u001b[1;32m-> 5462\u001b[1;33m             \u001b[1;32mreturn\u001b[0m \u001b[0mobject\u001b[0m\u001b[1;33m.\u001b[0m\u001b[0m__getattribute__\u001b[0m\u001b[1;33m(\u001b[0m\u001b[0mself\u001b[0m\u001b[1;33m,\u001b[0m \u001b[0mname\u001b[0m\u001b[1;33m)\u001b[0m\u001b[1;33m\u001b[0m\u001b[1;33m\u001b[0m\u001b[0m\n\u001b[0m\u001b[0;32m   5463\u001b[0m \u001b[1;33m\u001b[0m\u001b[0m\n\u001b[0;32m   5464\u001b[0m     \u001b[1;32mdef\u001b[0m \u001b[0m__setattr__\u001b[0m\u001b[1;33m(\u001b[0m\u001b[0mself\u001b[0m\u001b[1;33m,\u001b[0m \u001b[0mname\u001b[0m\u001b[1;33m:\u001b[0m \u001b[0mstr\u001b[0m\u001b[1;33m,\u001b[0m \u001b[0mvalue\u001b[0m\u001b[1;33m)\u001b[0m \u001b[1;33m->\u001b[0m \u001b[1;32mNone\u001b[0m\u001b[1;33m:\u001b[0m\u001b[1;33m\u001b[0m\u001b[1;33m\u001b[0m\u001b[0m\n",
      "\u001b[1;31mAttributeError\u001b[0m: 'Series' object has no attribute 'values_count'"
     ]
    }
   ],
   "source": [
    "# Pre-parse the dataset\n",
    "data = preprocess(\"rawfile_blood.csv\")"
   ]
  },
  {
   "cell_type": "code",
   "execution_count": 231,
   "id": "compliant-palace",
   "metadata": {},
   "outputs": [
    {
     "name": "stdout",
     "output_type": "stream",
     "text": [
      "\n",
      "####################################################################\n",
      "Labels with frequencies:\n",
      "Frail: 7\n",
      "Frail + MCI: 76\n",
      "MCI: 133\n",
      "Prefrail + MCI: 231\n",
      "Prefrail: 221\n",
      "Robust: 339\n"
     ]
    }
   ],
   "source": [
    "# Initialise counters for each condition\n",
    "frail = 0\n",
    "frail_mci = 0\n",
    "mci = 0\n",
    "prefrail_mci = 0\n",
    "prefrail = 0\n",
    "robust = 0\n",
    "\n",
    "# Count rows of data for each condition\n",
    "for i in range(0, len(data)):\n",
    "\tif data.at[i, 'condition'] == 'frail':\n",
    "\t\tfrail += 1\n",
    "\telif data.at[i, 'condition'] == 'frail_mci':\n",
    "\t\tfrail_mci += 1\n",
    "\telif data.at[i, 'condition'] == 'mci':\n",
    "\t\tmci += 1\n",
    "\telif data.at[i, 'condition'] == 'prefrail_mci':\n",
    "\t\tprefrail_mci += 1\n",
    "\telif data.at[i, 'condition'] == 'prefrail':\n",
    "\t\tprefrail += 1\n",
    "\telif data.at[i, 'condition'] == 'robust':\n",
    "\t\trobust += 1\n",
    "        \n",
    "# Display number of rows (frequency) for each condition (label)\n",
    "print(\"\\n####################################################################\")\n",
    "print(\"Labels with frequencies:\")\n",
    "print(\"Frail:\", frail)\n",
    "print(\"Frail + MCI:\", frail_mci)\n",
    "print(\"MCI:\", mci)\n",
    "print(\"Prefrail + MCI:\", prefrail_mci)\n",
    "print(\"Prefrail:\", prefrail)\n",
    "print(\"Robust:\", robust)"
   ]
  },
  {
   "cell_type": "code",
   "execution_count": 232,
   "id": "retired-museum",
   "metadata": {},
   "outputs": [
    {
     "data": {
      "text/html": [
       "<div>\n",
       "<style scoped>\n",
       "    .dataframe tbody tr th:only-of-type {\n",
       "        vertical-align: middle;\n",
       "    }\n",
       "\n",
       "    .dataframe tbody tr th {\n",
       "        vertical-align: top;\n",
       "    }\n",
       "\n",
       "    .dataframe thead th {\n",
       "        text-align: right;\n",
       "    }\n",
       "</style>\n",
       "<table border=\"1\" class=\"dataframe\">\n",
       "  <thead>\n",
       "    <tr style=\"text-align: right;\">\n",
       "      <th></th>\n",
       "      <th>mtag</th>\n",
       "      <th>condition</th>\n",
       "      <th>A1_1</th>\n",
       "      <th>A2_1</th>\n",
       "      <th>A3_1</th>\n",
       "      <th>B1_a</th>\n",
       "      <th>B1_a1</th>\n",
       "      <th>B1_a2</th>\n",
       "      <th>B1_a3</th>\n",
       "      <th>B1_a4</th>\n",
       "      <th>...</th>\n",
       "      <th>B2_d6</th>\n",
       "      <th>B2_d7</th>\n",
       "      <th>B2_d8</th>\n",
       "      <th>B2_d9</th>\n",
       "      <th>B3</th>\n",
       "      <th>B4_a2</th>\n",
       "      <th>B4_a5</th>\n",
       "      <th>B5_a2</th>\n",
       "      <th>B5_a3</th>\n",
       "      <th>B6</th>\n",
       "    </tr>\n",
       "  </thead>\n",
       "  <tbody>\n",
       "    <tr>\n",
       "      <th>0</th>\n",
       "      <td>ME02646</td>\n",
       "      <td>frail</td>\n",
       "      <td>196</td>\n",
       "      <td>24</td>\n",
       "      <td>46.5</td>\n",
       "      <td>121</td>\n",
       "      <td>3.93</td>\n",
       "      <td>0.37</td>\n",
       "      <td>95</td>\n",
       "      <td>31</td>\n",
       "      <td>...</td>\n",
       "      <td>7</td>\n",
       "      <td>12</td>\n",
       "      <td>13</td>\n",
       "      <td>6</td>\n",
       "      <td>0.2</td>\n",
       "      <td>6.0</td>\n",
       "      <td>1.011</td>\n",
       "      <td>1.14</td>\n",
       "      <td>4.1</td>\n",
       "      <td>5.9</td>\n",
       "    </tr>\n",
       "    <tr>\n",
       "      <th>1</th>\n",
       "      <td>ME03109</td>\n",
       "      <td>frail</td>\n",
       "      <td>200</td>\n",
       "      <td>23</td>\n",
       "      <td>55.6</td>\n",
       "      <td>142</td>\n",
       "      <td>4.82</td>\n",
       "      <td>0.42</td>\n",
       "      <td>87</td>\n",
       "      <td>30</td>\n",
       "      <td>...</td>\n",
       "      <td>7</td>\n",
       "      <td>20</td>\n",
       "      <td>17</td>\n",
       "      <td>26</td>\n",
       "      <td>3.1</td>\n",
       "      <td>5.0</td>\n",
       "      <td>1.011</td>\n",
       "      <td>3.25</td>\n",
       "      <td>4.6</td>\n",
       "      <td>8.5</td>\n",
       "    </tr>\n",
       "    <tr>\n",
       "      <th>2</th>\n",
       "      <td>ME06997</td>\n",
       "      <td>frail</td>\n",
       "      <td>441</td>\n",
       "      <td>20</td>\n",
       "      <td>76.8</td>\n",
       "      <td>105</td>\n",
       "      <td>4.54</td>\n",
       "      <td>0.41</td>\n",
       "      <td>90</td>\n",
       "      <td>30</td>\n",
       "      <td>...</td>\n",
       "      <td>5</td>\n",
       "      <td>16</td>\n",
       "      <td>19</td>\n",
       "      <td>15</td>\n",
       "      <td>1.4</td>\n",
       "      <td>7.0</td>\n",
       "      <td>1.023</td>\n",
       "      <td>2.14</td>\n",
       "      <td>4.0</td>\n",
       "      <td>6.4</td>\n",
       "    </tr>\n",
       "    <tr>\n",
       "      <th>3</th>\n",
       "      <td>ME07149</td>\n",
       "      <td>frail</td>\n",
       "      <td>265</td>\n",
       "      <td>16</td>\n",
       "      <td>47.2</td>\n",
       "      <td>122</td>\n",
       "      <td>4.53</td>\n",
       "      <td>0.39</td>\n",
       "      <td>86</td>\n",
       "      <td>27</td>\n",
       "      <td>...</td>\n",
       "      <td>8</td>\n",
       "      <td>24</td>\n",
       "      <td>19</td>\n",
       "      <td>21</td>\n",
       "      <td>2.1</td>\n",
       "      <td>5.5</td>\n",
       "      <td>1.012</td>\n",
       "      <td>1.06</td>\n",
       "      <td>4.7</td>\n",
       "      <td>6.1</td>\n",
       "    </tr>\n",
       "    <tr>\n",
       "      <th>4</th>\n",
       "      <td>ME07700</td>\n",
       "      <td>frail</td>\n",
       "      <td>425</td>\n",
       "      <td>14</td>\n",
       "      <td>31.3</td>\n",
       "      <td>124</td>\n",
       "      <td>4.44</td>\n",
       "      <td>0.38</td>\n",
       "      <td>85</td>\n",
       "      <td>28</td>\n",
       "      <td>...</td>\n",
       "      <td>6</td>\n",
       "      <td>20</td>\n",
       "      <td>23</td>\n",
       "      <td>23</td>\n",
       "      <td>6.0</td>\n",
       "      <td>5.5</td>\n",
       "      <td>1.013</td>\n",
       "      <td>1.95</td>\n",
       "      <td>3.8</td>\n",
       "      <td>5.8</td>\n",
       "    </tr>\n",
       "  </tbody>\n",
       "</table>\n",
       "<p>5 rows × 47 columns</p>\n",
       "</div>"
      ],
      "text/plain": [
       "      mtag condition  A1_1  A2_1  A3_1  B1_a  B1_a1  B1_a2  B1_a3  B1_a4  ...  \\\n",
       "0  ME02646     frail   196    24  46.5   121   3.93   0.37     95     31  ...   \n",
       "1  ME03109     frail   200    23  55.6   142   4.82   0.42     87     30  ...   \n",
       "2  ME06997     frail   441    20  76.8   105   4.54   0.41     90     30  ...   \n",
       "3  ME07149     frail   265    16  47.2   122   4.53   0.39     86     27  ...   \n",
       "4  ME07700     frail   425    14  31.3   124   4.44   0.38     85     28  ...   \n",
       "\n",
       "   B2_d6  B2_d7  B2_d8  B2_d9   B3  B4_a2  B4_a5  B5_a2  B5_a3   B6  \n",
       "0      7     12     13      6  0.2    6.0  1.011   1.14    4.1  5.9  \n",
       "1      7     20     17     26  3.1    5.0  1.011   3.25    4.6  8.5  \n",
       "2      5     16     19     15  1.4    7.0  1.023   2.14    4.0  6.4  \n",
       "3      8     24     19     21  2.1    5.5  1.012   1.06    4.7  6.1  \n",
       "4      6     20     23     23  6.0    5.5  1.013   1.95    3.8  5.8  \n",
       "\n",
       "[5 rows x 47 columns]"
      ]
     },
     "execution_count": 232,
     "metadata": {},
     "output_type": "execute_result"
    }
   ],
   "source": [
    "data.head()"
   ]
  },
  {
   "cell_type": "code",
   "execution_count": 233,
   "id": "conceptual-longitude",
   "metadata": {},
   "outputs": [
    {
     "data": {
      "text/plain": [
       "Index(['mtag', 'condition', 'A1_1', 'A2_1', 'A3_1', 'B1_a', 'B1_a1', 'B1_a2',\n",
       "       'B1_a3', 'B1_a4', 'B1_a5', 'B1_a6', 'B1_b', 'B1_b1', 'B1_b2', 'B1_b3',\n",
       "       'B1_c', 'B1_d', 'B2_a1', 'B2_a2', 'B2_a3', 'B2_a4', 'B2_a5', 'B2_b1',\n",
       "       'B2_b2', 'B2_b3', 'B2_c1', 'B2_c2', 'B2_c4', 'B2_c5', 'B2_c6', 'B2_c7',\n",
       "       'B2_d1', 'B2_d2', 'B2_d3', 'B2_d4', 'B2_d5', 'B2_d6', 'B2_d7', 'B2_d8',\n",
       "       'B2_d9', 'B3', 'B4_a2', 'B4_a5', 'B5_a2', 'B5_a3', 'B6'],\n",
       "      dtype='object')"
      ]
     },
     "execution_count": 233,
     "metadata": {},
     "output_type": "execute_result"
    }
   ],
   "source": [
    "data.columns"
   ]
  },
  {
   "cell_type": "code",
   "execution_count": 234,
   "id": "plain-simulation",
   "metadata": {},
   "outputs": [
    {
     "data": {
      "text/plain": [
       "robust          339\n",
       "prefrail_mci    231\n",
       "prefrail        221\n",
       "mci             133\n",
       "frail_mci        76\n",
       "frail             7\n",
       "Name: condition, dtype: int64"
      ]
     },
     "execution_count": 234,
     "metadata": {},
     "output_type": "execute_result"
    }
   ],
   "source": [
    "c = data['condition'].value_counts()\n",
    "condition = c.index\n",
    "c"
   ]
  },
  {
   "cell_type": "code",
   "execution_count": 235,
   "id": "charged-support",
   "metadata": {},
   "outputs": [
    {
     "data": {
      "text/html": [
       "<div>\n",
       "<style scoped>\n",
       "    .dataframe tbody tr th:only-of-type {\n",
       "        vertical-align: middle;\n",
       "    }\n",
       "\n",
       "    .dataframe tbody tr th {\n",
       "        vertical-align: top;\n",
       "    }\n",
       "\n",
       "    .dataframe thead th {\n",
       "        text-align: right;\n",
       "    }\n",
       "</style>\n",
       "<table border=\"1\" class=\"dataframe\">\n",
       "  <thead>\n",
       "    <tr style=\"text-align: right;\">\n",
       "      <th></th>\n",
       "      <th>mtag</th>\n",
       "      <th>condition</th>\n",
       "      <th>A1_1</th>\n",
       "      <th>A2_1</th>\n",
       "      <th>A3_1</th>\n",
       "      <th>B1_a</th>\n",
       "      <th>B1_a1</th>\n",
       "      <th>B1_a2</th>\n",
       "      <th>B1_a3</th>\n",
       "      <th>B1_a4</th>\n",
       "      <th>...</th>\n",
       "      <th>B2_d6</th>\n",
       "      <th>B2_d7</th>\n",
       "      <th>B2_d8</th>\n",
       "      <th>B2_d9</th>\n",
       "      <th>B3</th>\n",
       "      <th>B4_a2</th>\n",
       "      <th>B4_a5</th>\n",
       "      <th>B5_a2</th>\n",
       "      <th>B5_a3</th>\n",
       "      <th>B6</th>\n",
       "    </tr>\n",
       "  </thead>\n",
       "  <tbody>\n",
       "    <tr>\n",
       "      <th>0</th>\n",
       "      <td>ME02646</td>\n",
       "      <td>5</td>\n",
       "      <td>196</td>\n",
       "      <td>24</td>\n",
       "      <td>46.5</td>\n",
       "      <td>121</td>\n",
       "      <td>3.93</td>\n",
       "      <td>0.37</td>\n",
       "      <td>95</td>\n",
       "      <td>31</td>\n",
       "      <td>...</td>\n",
       "      <td>7</td>\n",
       "      <td>12</td>\n",
       "      <td>13</td>\n",
       "      <td>6</td>\n",
       "      <td>0.2</td>\n",
       "      <td>6.0</td>\n",
       "      <td>1.011</td>\n",
       "      <td>1.14</td>\n",
       "      <td>4.1</td>\n",
       "      <td>5.9</td>\n",
       "    </tr>\n",
       "    <tr>\n",
       "      <th>1</th>\n",
       "      <td>ME03109</td>\n",
       "      <td>5</td>\n",
       "      <td>200</td>\n",
       "      <td>23</td>\n",
       "      <td>55.6</td>\n",
       "      <td>142</td>\n",
       "      <td>4.82</td>\n",
       "      <td>0.42</td>\n",
       "      <td>87</td>\n",
       "      <td>30</td>\n",
       "      <td>...</td>\n",
       "      <td>7</td>\n",
       "      <td>20</td>\n",
       "      <td>17</td>\n",
       "      <td>26</td>\n",
       "      <td>3.1</td>\n",
       "      <td>5.0</td>\n",
       "      <td>1.011</td>\n",
       "      <td>3.25</td>\n",
       "      <td>4.6</td>\n",
       "      <td>8.5</td>\n",
       "    </tr>\n",
       "    <tr>\n",
       "      <th>2</th>\n",
       "      <td>ME06997</td>\n",
       "      <td>5</td>\n",
       "      <td>441</td>\n",
       "      <td>20</td>\n",
       "      <td>76.8</td>\n",
       "      <td>105</td>\n",
       "      <td>4.54</td>\n",
       "      <td>0.41</td>\n",
       "      <td>90</td>\n",
       "      <td>30</td>\n",
       "      <td>...</td>\n",
       "      <td>5</td>\n",
       "      <td>16</td>\n",
       "      <td>19</td>\n",
       "      <td>15</td>\n",
       "      <td>1.4</td>\n",
       "      <td>7.0</td>\n",
       "      <td>1.023</td>\n",
       "      <td>2.14</td>\n",
       "      <td>4.0</td>\n",
       "      <td>6.4</td>\n",
       "    </tr>\n",
       "  </tbody>\n",
       "</table>\n",
       "<p>3 rows × 47 columns</p>\n",
       "</div>"
      ],
      "text/plain": [
       "      mtag  condition  A1_1  A2_1  A3_1  B1_a  B1_a1  B1_a2  B1_a3  B1_a4  \\\n",
       "0  ME02646          5   196    24  46.5   121   3.93   0.37     95     31   \n",
       "1  ME03109          5   200    23  55.6   142   4.82   0.42     87     30   \n",
       "2  ME06997          5   441    20  76.8   105   4.54   0.41     90     30   \n",
       "\n",
       "   ...  B2_d6  B2_d7  B2_d8  B2_d9   B3  B4_a2  B4_a5  B5_a2  B5_a3   B6  \n",
       "0  ...      7     12     13      6  0.2    6.0  1.011   1.14    4.1  5.9  \n",
       "1  ...      7     20     17     26  3.1    5.0  1.011   3.25    4.6  8.5  \n",
       "2  ...      5     16     19     15  1.4    7.0  1.023   2.14    4.0  6.4  \n",
       "\n",
       "[3 rows x 47 columns]"
      ]
     },
     "execution_count": 235,
     "metadata": {},
     "output_type": "execute_result"
    }
   ],
   "source": [
    "for i in range(len(condition)):\n",
    "    data['condition'].replace(condition[i], i, inplace = True)\n",
    "\n",
    "data.head(3)"
   ]
  },
  {
   "cell_type": "code",
   "execution_count": 236,
   "id": "synthetic-bones",
   "metadata": {},
   "outputs": [
    {
     "data": {
      "text/html": [
       "<div>\n",
       "<style scoped>\n",
       "    .dataframe tbody tr th:only-of-type {\n",
       "        vertical-align: middle;\n",
       "    }\n",
       "\n",
       "    .dataframe tbody tr th {\n",
       "        vertical-align: top;\n",
       "    }\n",
       "\n",
       "    .dataframe thead th {\n",
       "        text-align: right;\n",
       "    }\n",
       "</style>\n",
       "<table border=\"1\" class=\"dataframe\">\n",
       "  <thead>\n",
       "    <tr style=\"text-align: right;\">\n",
       "      <th></th>\n",
       "      <th>mtag</th>\n",
       "      <th>condition</th>\n",
       "      <th>A1_1</th>\n",
       "      <th>A2_1</th>\n",
       "      <th>A3_1</th>\n",
       "      <th>B1_a</th>\n",
       "      <th>B1_a1</th>\n",
       "      <th>B1_a2</th>\n",
       "      <th>B1_a3</th>\n",
       "      <th>B1_a4</th>\n",
       "      <th>...</th>\n",
       "      <th>B2_d6</th>\n",
       "      <th>B2_d7</th>\n",
       "      <th>B2_d8</th>\n",
       "      <th>B2_d9</th>\n",
       "      <th>B3</th>\n",
       "      <th>B4_a2</th>\n",
       "      <th>B4_a5</th>\n",
       "      <th>B5_a2</th>\n",
       "      <th>B5_a3</th>\n",
       "      <th>B6</th>\n",
       "    </tr>\n",
       "  </thead>\n",
       "  <tbody>\n",
       "    <tr>\n",
       "      <th>1002</th>\n",
       "      <td>MV00454</td>\n",
       "      <td>0</td>\n",
       "      <td>220</td>\n",
       "      <td>19</td>\n",
       "      <td>67.5</td>\n",
       "      <td>138</td>\n",
       "      <td>4.66</td>\n",
       "      <td>0.42</td>\n",
       "      <td>91</td>\n",
       "      <td>30</td>\n",
       "      <td>...</td>\n",
       "      <td>20</td>\n",
       "      <td>10</td>\n",
       "      <td>17</td>\n",
       "      <td>8</td>\n",
       "      <td>6.6</td>\n",
       "      <td>7.0</td>\n",
       "      <td>1.015</td>\n",
       "      <td>1.29</td>\n",
       "      <td>4.5</td>\n",
       "      <td>6.2</td>\n",
       "    </tr>\n",
       "    <tr>\n",
       "      <th>1003</th>\n",
       "      <td>MV00456</td>\n",
       "      <td>0</td>\n",
       "      <td>334</td>\n",
       "      <td>18</td>\n",
       "      <td>51.0</td>\n",
       "      <td>139</td>\n",
       "      <td>4.63</td>\n",
       "      <td>0.42</td>\n",
       "      <td>91</td>\n",
       "      <td>30</td>\n",
       "      <td>...</td>\n",
       "      <td>16</td>\n",
       "      <td>22</td>\n",
       "      <td>35</td>\n",
       "      <td>40</td>\n",
       "      <td>1.0</td>\n",
       "      <td>6.0</td>\n",
       "      <td>1.015</td>\n",
       "      <td>1.88</td>\n",
       "      <td>3.9</td>\n",
       "      <td>5.6</td>\n",
       "    </tr>\n",
       "    <tr>\n",
       "      <th>1004</th>\n",
       "      <td>MV00460</td>\n",
       "      <td>0</td>\n",
       "      <td>418</td>\n",
       "      <td>17</td>\n",
       "      <td>61.0</td>\n",
       "      <td>122</td>\n",
       "      <td>4.18</td>\n",
       "      <td>0.38</td>\n",
       "      <td>90</td>\n",
       "      <td>29</td>\n",
       "      <td>...</td>\n",
       "      <td>19</td>\n",
       "      <td>20</td>\n",
       "      <td>23</td>\n",
       "      <td>15</td>\n",
       "      <td>0.4</td>\n",
       "      <td>6.5</td>\n",
       "      <td>1.005</td>\n",
       "      <td>3.58</td>\n",
       "      <td>4.0</td>\n",
       "      <td>5.6</td>\n",
       "    </tr>\n",
       "    <tr>\n",
       "      <th>1005</th>\n",
       "      <td>MV00502</td>\n",
       "      <td>0</td>\n",
       "      <td>393</td>\n",
       "      <td>18</td>\n",
       "      <td>43.1</td>\n",
       "      <td>136</td>\n",
       "      <td>4.57</td>\n",
       "      <td>0.43</td>\n",
       "      <td>94</td>\n",
       "      <td>30</td>\n",
       "      <td>...</td>\n",
       "      <td>13</td>\n",
       "      <td>11</td>\n",
       "      <td>22</td>\n",
       "      <td>23</td>\n",
       "      <td>0.7</td>\n",
       "      <td>7.0</td>\n",
       "      <td>1.009</td>\n",
       "      <td>0.92</td>\n",
       "      <td>4.1</td>\n",
       "      <td>6.0</td>\n",
       "    </tr>\n",
       "    <tr>\n",
       "      <th>1006</th>\n",
       "      <td>MV00510</td>\n",
       "      <td>0</td>\n",
       "      <td>371</td>\n",
       "      <td>24</td>\n",
       "      <td>55.9</td>\n",
       "      <td>127</td>\n",
       "      <td>4.41</td>\n",
       "      <td>0.40</td>\n",
       "      <td>90</td>\n",
       "      <td>29</td>\n",
       "      <td>...</td>\n",
       "      <td>13</td>\n",
       "      <td>14</td>\n",
       "      <td>16</td>\n",
       "      <td>12</td>\n",
       "      <td>7.5</td>\n",
       "      <td>8.0</td>\n",
       "      <td>1.017</td>\n",
       "      <td>2.45</td>\n",
       "      <td>4.5</td>\n",
       "      <td>6.2</td>\n",
       "    </tr>\n",
       "  </tbody>\n",
       "</table>\n",
       "<p>5 rows × 47 columns</p>\n",
       "</div>"
      ],
      "text/plain": [
       "         mtag  condition  A1_1  A2_1  A3_1  B1_a  B1_a1  B1_a2  B1_a3  B1_a4  \\\n",
       "1002  MV00454          0   220    19  67.5   138   4.66   0.42     91     30   \n",
       "1003  MV00456          0   334    18  51.0   139   4.63   0.42     91     30   \n",
       "1004  MV00460          0   418    17  61.0   122   4.18   0.38     90     29   \n",
       "1005  MV00502          0   393    18  43.1   136   4.57   0.43     94     30   \n",
       "1006  MV00510          0   371    24  55.9   127   4.41   0.40     90     29   \n",
       "\n",
       "      ...  B2_d6  B2_d7  B2_d8  B2_d9   B3  B4_a2  B4_a5  B5_a2  B5_a3   B6  \n",
       "1002  ...     20     10     17      8  6.6    7.0  1.015   1.29    4.5  6.2  \n",
       "1003  ...     16     22     35     40  1.0    6.0  1.015   1.88    3.9  5.6  \n",
       "1004  ...     19     20     23     15  0.4    6.5  1.005   3.58    4.0  5.6  \n",
       "1005  ...     13     11     22     23  0.7    7.0  1.009   0.92    4.1  6.0  \n",
       "1006  ...     13     14     16     12  7.5    8.0  1.017   2.45    4.5  6.2  \n",
       "\n",
       "[5 rows x 47 columns]"
      ]
     },
     "execution_count": 236,
     "metadata": {},
     "output_type": "execute_result"
    }
   ],
   "source": [
    "data.tail()"
   ]
  },
  {
   "cell_type": "code",
   "execution_count": 237,
   "id": "worse-italy",
   "metadata": {},
   "outputs": [
    {
     "data": {
      "text/plain": [
       "Index(['mtag', 'condition', 'A1_1', 'A2_1', 'A3_1', 'B1_a', 'B1_a1', 'B1_a2',\n",
       "       'B1_a3', 'B1_a4', 'B1_a5', 'B1_a6', 'B1_b', 'B1_b1', 'B1_b2', 'B1_b3',\n",
       "       'B1_c', 'B1_d', 'B2_a1', 'B2_a2', 'B2_a3', 'B2_a4', 'B2_a5', 'B2_b1',\n",
       "       'B2_b2', 'B2_b3', 'B2_c1', 'B2_c2', 'B2_c4', 'B2_c5', 'B2_c6', 'B2_c7',\n",
       "       'B2_d1', 'B2_d2', 'B2_d3', 'B2_d4', 'B2_d5', 'B2_d6', 'B2_d7', 'B2_d8',\n",
       "       'B2_d9', 'B3', 'B4_a2', 'B4_a5', 'B5_a2', 'B5_a3', 'B6'],\n",
       "      dtype='object')"
      ]
     },
     "execution_count": 237,
     "metadata": {},
     "output_type": "execute_result"
    }
   ],
   "source": [
    "data.columns"
   ]
  },
  {
   "cell_type": "code",
   "execution_count": 238,
   "id": "heavy-element",
   "metadata": {},
   "outputs": [],
   "source": [
    "y = data['condition']\n",
    "\n",
    "features = ['A1_1', 'A2_1', 'A3_1', 'B1_a', 'B1_a1', 'B1_a2',\n",
    "       'B1_a3', 'B1_a4', 'B1_a5', 'B1_a6', 'B1_b', 'B1_b1', 'B1_b2', 'B1_b3',\n",
    "       'B1_c', 'B1_d', 'B2_a1', 'B2_a2', 'B2_a3', 'B2_a4', 'B2_a5', 'B2_b1',\n",
    "       'B2_b2', 'B2_b3', 'B2_c1', 'B2_c2', 'B2_c4', 'B2_c5', 'B2_c6', 'B2_c7',\n",
    "       'B2_d1', 'B2_d2', 'B2_d3', 'B2_d4', 'B2_d5', 'B2_d6', 'B2_d7', 'B2_d8',\n",
    "       'B2_d9', 'B3', 'B4_a2', 'B4_a5', 'B5_a2', 'B5_a3', 'B6']\n",
    "X_old = data[features]"
   ]
  },
  {
   "cell_type": "code",
   "execution_count": 239,
   "id": "single-disney",
   "metadata": {},
   "outputs": [],
   "source": [
    "X = X_old\n",
    "# X = StandardScaler().fit_transform(X_old)\n",
    "# X = MinMaxScaler().fit_transform(X_old)"
   ]
  },
  {
   "cell_type": "code",
   "execution_count": 240,
   "id": "british-roman",
   "metadata": {},
   "outputs": [
    {
     "name": "stdout",
     "output_type": "stream",
     "text": [
      "Counter({0: 339, 1: 231, 2: 221, 3: 133, 4: 76, 5: 7})\n"
     ]
    }
   ],
   "source": [
    "# Summarise the new class distribution\n",
    "counter = Counter(y)\n",
    "print(counter)"
   ]
  },
  {
   "cell_type": "code",
   "execution_count": 241,
   "id": "statistical-piece",
   "metadata": {},
   "outputs": [],
   "source": [
    "# Transform the dataset using SMOTE\n",
    "oversample = SMOTE()\n",
    "X, y = oversample.fit_resample(X, y)"
   ]
  },
  {
   "cell_type": "code",
   "execution_count": 242,
   "id": "filled-powder",
   "metadata": {},
   "outputs": [
    {
     "name": "stdout",
     "output_type": "stream",
     "text": [
      "Counter({5: 339, 4: 339, 3: 339, 1: 339, 2: 339, 0: 339})\n"
     ]
    }
   ],
   "source": [
    "# Summarise the new class distribution\n",
    "counter = Counter(y)\n",
    "print(counter)"
   ]
  },
  {
   "cell_type": "code",
   "execution_count": 243,
   "id": "scheduled-technical",
   "metadata": {},
   "outputs": [
    {
     "data": {
      "text/plain": [
       "(2034,)"
      ]
     },
     "execution_count": 243,
     "metadata": {},
     "output_type": "execute_result"
    }
   ],
   "source": [
    "y.shape"
   ]
  },
  {
   "cell_type": "code",
   "execution_count": 244,
   "id": "liquid-motel",
   "metadata": {},
   "outputs": [
    {
     "data": {
      "text/plain": [
       "(2034, 45)"
      ]
     },
     "execution_count": 244,
     "metadata": {},
     "output_type": "execute_result"
    }
   ],
   "source": [
    "X.shape"
   ]
  },
  {
   "cell_type": "code",
   "execution_count": 245,
   "id": "controlling-seating",
   "metadata": {},
   "outputs": [],
   "source": [
    "X_train, X_test, y_train, y_test = train_test_split(X, y, test_size = 0.2, random_state = 1)"
   ]
  },
  {
   "cell_type": "code",
   "execution_count": 246,
   "id": "explicit-chaos",
   "metadata": {},
   "outputs": [],
   "source": [
    "# y_train.value_counts()"
   ]
  },
  {
   "cell_type": "code",
   "execution_count": 247,
   "id": "attached-driving",
   "metadata": {},
   "outputs": [],
   "source": [
    "# oversample = SMOTE(k_neighbors=2)\n",
    "# X_train, y_train = oversample.fit_resample(X_train, y_train)"
   ]
  },
  {
   "cell_type": "code",
   "execution_count": 248,
   "id": "promising-battle",
   "metadata": {},
   "outputs": [],
   "source": [
    "# y_train.value_counts()"
   ]
  },
  {
   "cell_type": "code",
   "execution_count": 249,
   "id": "little-chambers",
   "metadata": {},
   "outputs": [
    {
     "name": "stdout",
     "output_type": "stream",
     "text": [
      "Random Forest Classifier: 0.678\n"
     ]
    }
   ],
   "source": [
    "rfc_model = RandomForestClassifier()\n",
    "rfc_model.fit(X_train, y_train)\n",
    "print(\"Random Forest Classifier:\", rfc_model.score(X_test, y_test).round(3))"
   ]
  },
  {
   "cell_type": "code",
   "execution_count": 250,
   "id": "alternative-melbourne",
   "metadata": {},
   "outputs": [],
   "source": [
    "oversample = SMOTE()\n",
    "X, y = oversample.fit_resample(X, y)"
   ]
  },
  {
   "cell_type": "code",
   "execution_count": 251,
   "id": "smart-smoke",
   "metadata": {},
   "outputs": [
    {
     "data": {
      "text/plain": [
       "(2034, 45)"
      ]
     },
     "execution_count": 251,
     "metadata": {},
     "output_type": "execute_result"
    }
   ],
   "source": [
    "X.shape"
   ]
  },
  {
   "cell_type": "code",
   "execution_count": 252,
   "id": "charitable-raise",
   "metadata": {},
   "outputs": [
    {
     "data": {
      "text/plain": [
       "(2034,)"
      ]
     },
     "execution_count": 252,
     "metadata": {},
     "output_type": "execute_result"
    }
   ],
   "source": [
    "y.shape"
   ]
  },
  {
   "cell_type": "code",
   "execution_count": 253,
   "id": "young-consciousness",
   "metadata": {},
   "outputs": [
    {
     "data": {
      "text/plain": [
       "0    339\n",
       "1    339\n",
       "2    339\n",
       "3    339\n",
       "4    339\n",
       "5    339\n",
       "Name: condition, dtype: int64"
      ]
     },
     "execution_count": 253,
     "metadata": {},
     "output_type": "execute_result"
    }
   ],
   "source": [
    "y.value_counts()"
   ]
  },
  {
   "cell_type": "code",
   "execution_count": 254,
   "id": "forty-venezuela",
   "metadata": {},
   "outputs": [
    {
     "name": "stdout",
     "output_type": "stream",
     "text": [
      "Random Forest Classifier: 0.77 accuracy with a standard deviation of 0.07\n"
     ]
    }
   ],
   "source": [
    "scores = cross_val_score(rfc_model, X, y, cv=10)\n",
    "# scores = cross_val_score(rfc_model, X, y, cv=7)\n",
    "print(\"Random Forest Classifier: %0.2f accuracy with a standard deviation of %0.2f\" % (scores.mean(), scores.std()))"
   ]
  },
  {
   "cell_type": "code",
   "execution_count": 255,
   "id": "wrapped-region",
   "metadata": {},
   "outputs": [
    {
     "name": "stdout",
     "output_type": "stream",
     "text": [
      "              precision    recall  f1-score   support\n",
      "\n",
      "           0       0.42      0.65      0.51        34\n",
      "           1       0.56      0.53      0.55        34\n",
      "           2       0.50      0.41      0.45        34\n",
      "           3       0.81      0.62      0.70        34\n",
      "           4       0.94      0.91      0.93        34\n",
      "           5       1.00      0.97      0.99        34\n",
      "\n",
      "    accuracy                           0.68       204\n",
      "   macro avg       0.71      0.68      0.69       204\n",
      "weighted avg       0.71      0.68      0.69       204\n",
      "\n",
      "              precision    recall  f1-score   support\n",
      "\n",
      "           0       0.44      0.47      0.46        34\n",
      "           1       0.55      0.50      0.52        34\n",
      "           2       0.44      0.44      0.44        34\n",
      "           3       0.71      0.65      0.68        34\n",
      "           4       0.82      0.91      0.86        34\n",
      "           5       1.00      1.00      1.00        34\n",
      "\n",
      "    accuracy                           0.66       204\n",
      "   macro avg       0.66      0.66      0.66       204\n",
      "weighted avg       0.66      0.66      0.66       204\n",
      "\n",
      "              precision    recall  f1-score   support\n",
      "\n",
      "           0       0.49      0.59      0.53        34\n",
      "           1       0.47      0.47      0.47        34\n",
      "           2       0.65      0.50      0.57        34\n",
      "           3       0.76      0.74      0.75        34\n",
      "           4       0.89      0.94      0.91        34\n",
      "           5       1.00      1.00      1.00        34\n",
      "\n",
      "    accuracy                           0.71       204\n",
      "   macro avg       0.71      0.71      0.71       204\n",
      "weighted avg       0.71      0.71      0.71       204\n",
      "\n",
      "              precision    recall  f1-score   support\n",
      "\n",
      "           0       0.47      0.44      0.45        34\n",
      "           1       0.51      0.56      0.54        34\n",
      "           2       0.61      0.50      0.55        34\n",
      "           3       0.77      0.79      0.78        34\n",
      "           4       0.86      0.91      0.89        34\n",
      "           5       0.94      1.00      0.97        34\n",
      "\n",
      "    accuracy                           0.70       204\n",
      "   macro avg       0.69      0.70      0.70       204\n",
      "weighted avg       0.69      0.70      0.70       204\n",
      "\n",
      "              precision    recall  f1-score   support\n",
      "\n",
      "           0       0.48      0.42      0.45        33\n",
      "           1       0.68      0.56      0.61        34\n",
      "           2       0.57      0.47      0.52        34\n",
      "           3       0.77      0.88      0.82        34\n",
      "           4       0.73      0.97      0.84        34\n",
      "           5       1.00      1.00      1.00        34\n",
      "\n",
      "    accuracy                           0.72       203\n",
      "   macro avg       0.71      0.72      0.71       203\n",
      "weighted avg       0.71      0.72      0.71       203\n",
      "\n",
      "              precision    recall  f1-score   support\n",
      "\n",
      "           0       0.56      0.41      0.47        34\n",
      "           1       0.63      0.50      0.56        34\n",
      "           2       0.56      0.67      0.61        33\n",
      "           3       0.78      0.94      0.85        34\n",
      "           4       0.92      1.00      0.96        34\n",
      "           5       1.00      1.00      1.00        34\n",
      "\n",
      "    accuracy                           0.75       203\n",
      "   macro avg       0.74      0.75      0.74       203\n",
      "weighted avg       0.74      0.75      0.74       203\n",
      "\n",
      "              precision    recall  f1-score   support\n",
      "\n",
      "           0       0.56      0.65      0.60        34\n",
      "           1       0.68      0.52      0.59        33\n",
      "           2       0.84      0.76      0.80        34\n",
      "           3       0.84      0.94      0.89        34\n",
      "           4       0.94      1.00      0.97        34\n",
      "           5       1.00      1.00      1.00        34\n",
      "\n",
      "    accuracy                           0.81       203\n",
      "   macro avg       0.81      0.81      0.81       203\n",
      "weighted avg       0.81      0.81      0.81       203\n",
      "\n",
      "              precision    recall  f1-score   support\n",
      "\n",
      "           0       0.78      0.62      0.69        34\n",
      "           1       0.83      0.85      0.84        34\n",
      "           2       0.91      0.85      0.88        34\n",
      "           3       0.79      0.91      0.85        33\n",
      "           4       0.86      0.94      0.90        34\n",
      "           5       1.00      1.00      1.00        34\n",
      "\n",
      "    accuracy                           0.86       203\n",
      "   macro avg       0.86      0.86      0.86       203\n",
      "weighted avg       0.86      0.86      0.86       203\n",
      "\n",
      "              precision    recall  f1-score   support\n",
      "\n",
      "           0       0.81      0.38      0.52        34\n",
      "           1       0.79      0.91      0.85        34\n",
      "           2       0.76      0.94      0.84        34\n",
      "           3       0.84      0.91      0.87        34\n",
      "           4       0.94      0.94      0.94        33\n",
      "           5       0.94      1.00      0.97        34\n",
      "\n",
      "    accuracy                           0.85       203\n",
      "   macro avg       0.85      0.85      0.83       203\n",
      "weighted avg       0.85      0.85      0.83       203\n",
      "\n",
      "              precision    recall  f1-score   support\n",
      "\n",
      "           0       0.76      0.47      0.58        34\n",
      "           1       0.79      0.91      0.85        34\n",
      "           2       0.79      0.91      0.85        34\n",
      "           3       0.91      0.91      0.91        34\n",
      "           4       0.92      1.00      0.96        34\n",
      "           5       1.00      1.00      1.00        33\n",
      "\n",
      "    accuracy                           0.87       203\n",
      "   macro avg       0.86      0.87      0.86       203\n",
      "weighted avg       0.86      0.87      0.86       203\n",
      "\n",
      "[0.68137255 0.66176471 0.70588235 0.70098039 0.71921182 0.75369458\n",
      " 0.81280788 0.86206897 0.84729064 0.86699507]\n"
     ]
    }
   ],
   "source": [
    "# Random Forest Classifier\n",
    "scoresExtra = cross_val_score(rfc_model, X, y, cv=10, scoring=make_scorer(classification_report_with_accuracy_score))\n",
    "# scoresExtra = cross_val_score(rfc_model, X, y, cv=7, scoring=make_scorer(classification_report_with_accuracy_score))\n",
    "print(scoresExtra)"
   ]
  },
  {
   "cell_type": "code",
   "execution_count": 256,
   "id": "short-fundamentals",
   "metadata": {},
   "outputs": [
    {
     "name": "stdout",
     "output_type": "stream",
     "text": [
      "Accuracy Metrics for RFC:\n",
      "\n",
      "0.67813 \n",
      "\n",
      "[[31 11 19  6  0  0]\n",
      " [17 37 10  4  6  0]\n",
      " [20  5 31  5  4  0]\n",
      " [ 5  2  2 57  0  2]\n",
      " [ 2  6  4  0 60  1]\n",
      " [ 0  0  0  0  0 60]] \n",
      "\n",
      "              precision    recall  f1-score   support\n",
      "\n",
      "           0       0.41      0.46      0.44        67\n",
      "           1       0.61      0.50      0.55        74\n",
      "           2       0.47      0.48      0.47        65\n",
      "           3       0.79      0.84      0.81        68\n",
      "           4       0.86      0.82      0.84        73\n",
      "           5       0.95      1.00      0.98        60\n",
      "\n",
      "    accuracy                           0.68       407\n",
      "   macro avg       0.68      0.68      0.68       407\n",
      "weighted avg       0.68      0.68      0.68       407\n",
      "\n"
     ]
    }
   ],
   "source": [
    "# Calculating accuracy metrics for RFC\n",
    "rfc_pred = rfc_model.predict(X_test)\n",
    "\n",
    "print('Accuracy Metrics for RFC:\\n')\n",
    "print(accuracy_score(y_test, rfc_pred).round(5), '\\n')\n",
    "print(confusion_matrix(y_test, rfc_pred), '\\n')\n",
    "print(classification_report(y_test, rfc_pred))"
   ]
  },
  {
   "cell_type": "code",
   "execution_count": null,
   "id": "shared-reconstruction",
   "metadata": {},
   "outputs": [],
   "source": []
  }
 ],
 "metadata": {
  "kernelspec": {
   "display_name": "Python 3",
   "language": "python",
   "name": "python3"
  },
  "language_info": {
   "codemirror_mode": {
    "name": "ipython",
    "version": 3
   },
   "file_extension": ".py",
   "mimetype": "text/x-python",
   "name": "python",
   "nbconvert_exporter": "python",
   "pygments_lexer": "ipython3",
   "version": "3.7.9"
  }
 },
 "nbformat": 4,
 "nbformat_minor": 5
}
